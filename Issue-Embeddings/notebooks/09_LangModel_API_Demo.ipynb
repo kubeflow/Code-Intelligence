{
 "cells": [
  {
   "cell_type": "markdown",
   "metadata": {},
   "source": [
    "This notebook shows you how ping the microservice that allows you to retrieve features given an issue title and body. "
   ]
  },
  {
   "cell_type": "code",
   "execution_count": 183,
   "metadata": {},
   "outputs": [],
   "source": [
    "import requests\n",
    "import json\n",
    "import numpy as np\n",
    "from passlib.apps import custom_app_context as pwd_context\n",
    "API_ENDPOINT = 'http://gh-issue-labeler.com/text'\n",
    "API_KEY = 'YOUR_API_KEY' # Hamel can give you this"
   ]
  },
  {
   "cell_type": "code",
   "execution_count": 189,
   "metadata": {},
   "outputs": [],
   "source": [
    "data = {'title': 'Fix the issue', \n",
    "        'body': 'I am encountering an error\\n when trying to push the button.'}\n",
    "\n",
    "# sending post request and saving response as response object \n",
    "r = requests.post(url=API_ENDPOINT,\n",
    "                  headers={'Token':pwd_context.hash(API_KEY)},\n",
    "                  json=data)"
   ]
  },
  {
   "cell_type": "code",
   "execution_count": 190,
   "metadata": {},
   "outputs": [
    {
     "data": {
      "text/plain": [
       "array([-0.00552384,  0.07269634,  0.01958341, ...,  0.19486058,\n",
       "       -0.08276526, -0.02112966], dtype=float32)"
      ]
     },
     "execution_count": 190,
     "metadata": {},
     "output_type": "execute_result"
    }
   ],
   "source": [
    "np.frombuffer(r.content, dtype='<f4')"
   ]
  }
 ],
 "metadata": {
  "kernelspec": {
   "display_name": "issue-features-api",
   "language": "python",
   "name": "issue-features-api"
  },
  "language_info": {
   "codemirror_mode": {
    "name": "ipython",
    "version": 3
   },
   "file_extension": ".py",
   "mimetype": "text/x-python",
   "name": "python",
   "nbconvert_exporter": "python",
   "pygments_lexer": "ipython3",
   "version": "3.7.3"
  }
 },
 "nbformat": 4,
 "nbformat_minor": 2
}
