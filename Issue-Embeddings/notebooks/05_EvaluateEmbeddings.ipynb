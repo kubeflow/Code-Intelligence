{
 "cells": [
  {
   "cell_type": "markdown",
   "metadata": {},
   "source": [
    "## Background\n",
    "\n",
    "Unlike [Issue-Label Bot](https://github.com/marketplace/issue-label-bot) which predicts generic `bug`, `feature-request` and `question` labels, we are attempting to build the capability to predict repo-specific labels.  One of the primary challenges of doing this is a dearth of labeled examples for a particular repo.  Therefore, we attempt to generate features via transfer learning from a language model trained over a large corpus of GitHub issues.  These features are then fed downstream to a classifier with the goal of enabling the classifier to predict personalized issue labels based upon existing hand-labeled issues present in a repository.  \n",
    "\n",
    "As an initial test, we will evaluate the ability to predict `sig/` labels on the [Kubernetes/Kubernetes](https://github.com/kubernetes/kubernetes) repo.  \n",
    "\n",
    "In order to measure the efficacy of these embeddings, we will use [DataRobot](https://www.datarobot.com/) as a benchmark to see if adding embeddings from transfer learning improves model performance relative to TFIDF n-gram techniques featurization of text.  "
   ]
  },
  {
   "cell_type": "markdown",
   "metadata": {},
   "source": [
    "#### SQL Query In [BigQuery](https://console.cloud.google.com/bigquery?sq=1073071082706:e0106dd7b95a4acaabe5ee94d8bffdf9)\n",
    "\n",
    "```sql\n",
    "\n",
    "#standardSQL\n",
    "\n",
    "SELECT *\n",
    "FROM (\n",
    "  SELECT\n",
    "    updated_at\n",
    "    , MAX(updated_at) OVER (PARTITION BY url) as last_time\n",
    "    , FORMAT(\"%T\", ARRAY_CONCAT_AGG(labels)) as labels\n",
    "    , repo, url, title, body, len_labels\n",
    "  FROM(\n",
    "      SELECT\n",
    "          TIMESTAMP(REGEXP_REPLACE(JSON_EXTRACT(payload, '$.issue.updated_at'), \"\\\"\", \"\")) as updated_at\n",
    "        , REGEXP_EXTRACT(JSON_EXTRACT(payload, '$.issue.url'), r'https://api.github.com/repos/(.*)/issues') as repo\n",
    "        , JSON_EXTRACT(payload, '$.issue.url') as url\n",
    "          -- extract the title and body removing parentheses, brackets, and quotes\n",
    "        , LOWER(TRIM(REGEXP_REPLACE(JSON_EXTRACT(payload, '$.issue.title'), r\"\\\\n|\\(|\\)|\\[|\\]|#|\\*|`|\\\"\", ' '))) as title\n",
    "        , LOWER(TRIM(REGEXP_REPLACE(JSON_EXTRACT(payload, '$.issue.body'), r\"\\\\n|\\(|\\)|\\[|\\]|#|\\*|`|\\\"\", ' '))) as body\n",
    "        , REGEXP_EXTRACT_ALL(JSON_EXTRACT(payload, \"$.issue.labels\"), ',\"name\\\":\"(.+?)\",\"color') as labels\n",
    "        , ARRAY_LENGTH(REGEXP_EXTRACT_ALL(JSON_EXTRACT(payload, \"$.issue.labels\"), ',\"name\\\":\"(.+?)\",\"color')) as len_labels\n",
    "      FROM `githubarchive.month.20*`\n",
    "      WHERE \n",
    "          _TABLE_SUFFIX BETWEEN '1601' and '1912'\n",
    "          and type=\"IssuesEvent\"\n",
    "  )\n",
    "  WHERE \n",
    "    repo = 'kubernetes/kubernetes'\n",
    "  GROUP BY updated_at, repo, url, title, body, len_labels\n",
    ")\n",
    "WHERE last_time = updated_at and len_labels >= 1\n",
    "```"
   ]
  },
  {
   "cell_type": "markdown",
   "metadata": {},
   "source": [
    "#### The results of the above query can be downloaded as a csv file from this link: \n",
    "\n",
    "https://storage.googleapis.com/issue_label_bot/k8s_issues/000000000000.csv"
   ]
  },
  {
   "cell_type": "code",
   "execution_count": 35,
   "metadata": {},
   "outputs": [],
   "source": [
    "import pandas as pd\n",
    "import numpy as np\n",
    "from random import randint\n",
    "from matplotlib import pyplot as plt\n",
    "import re\n",
    "pd.set_option('max_colwidth', 1000)"
   ]
  },
  {
   "cell_type": "code",
   "execution_count": 36,
   "metadata": {
    "scrolled": true
   },
   "outputs": [
    {
     "data": {
      "text/html": [
       "<div>\n",
       "<style scoped>\n",
       "    .dataframe tbody tr th:only-of-type {\n",
       "        vertical-align: middle;\n",
       "    }\n",
       "\n",
       "    .dataframe tbody tr th {\n",
       "        vertical-align: top;\n",
       "    }\n",
       "\n",
       "    .dataframe thead th {\n",
       "        text-align: right;\n",
       "    }\n",
       "</style>\n",
       "<table border=\"1\" class=\"dataframe\">\n",
       "  <thead>\n",
       "    <tr style=\"text-align: right;\">\n",
       "      <th></th>\n",
       "      <th>updated_at</th>\n",
       "      <th>last_time</th>\n",
       "      <th>labels</th>\n",
       "      <th>repo</th>\n",
       "      <th>url</th>\n",
       "      <th>title</th>\n",
       "      <th>body</th>\n",
       "      <th>len_labels</th>\n",
       "    </tr>\n",
       "  </thead>\n",
       "  <tbody>\n",
       "    <tr>\n",
       "      <th>0</th>\n",
       "      <td>2018-02-24 15:09:51 UTC</td>\n",
       "      <td>2018-02-24 15:09:51 UTC</td>\n",
       "      <td>[lifecycle/rotten, priority/backlog, sig/cluster-lifecycle, sig/node]</td>\n",
       "      <td>kubernetes/kubernetes</td>\n",
       "      <td>\"https://api.github.com/repos/kubernetes/kubernetes/issues/16512\"</td>\n",
       "      <td>minions ip does not follow --hostname-override when set to a hostname</td>\n",
       "      <td>according to  9267, the kubelet should register a node with the  --hostname-override   cluster from scratch . this does not work if set to an actual hostname  even one that resolves correctly . working with the ip:      sh $ /opt/bin/kubelet --hostname-override=172.16.25.131 --address=172.16.25.131 ... $ kubectl describe node minion-2 name:           minion-2 ... addresses:  172.16.25.131      and when the override is set to a hostname  which resolves to the 172 ip :      $ /opt/bin/kubelet --hostname-override=my-server.com --address=172.16.25.131 ... $ kubectl describe node minion-2 name:           minion-2 ... addresses:  2a01:4f8:110:4085::2</td>\n",
       "      <td>4</td>\n",
       "    </tr>\n",
       "    <tr>\n",
       "      <th>1</th>\n",
       "      <td>2016-03-01 00:30:05 UTC</td>\n",
       "      <td>2016-03-01 00:30:05 UTC</td>\n",
       "      <td>[kind/flake, priority/P1, team/control-plane, kind/flake, priority/P1, team/control-plane]</td>\n",
       "      <td>kubernetes/kubernetes</td>\n",
       "      <td>\"https://api.github.com/repos/kubernetes/kubernetes/issues/16623\"</td>\n",
       "      <td>e2e flake: daemon set should run and stop complex daemon</td>\n",
       "      <td>this has been flaking pretty often lately - in 5 out of the last 11 runs of kubernetes-e2e-gce-flaky, to be specific. i've copied the output of one such failure run below.\\r \\r sorry if there's already an issue tracking this, i couldn't find anything other than  14072, which is for a different test.\\r \\r @mikedanese \\r \\r    \\r 14:35:47 daemon set \\r 14:35:47   should run and stop complex daemon\\r 14:35:47   /go/src/k8s.io/kubernetes/_output/dockerized/go/src/k8s.io/kubernetes/test/e2e/daemon_set.go:181\\r 14:35:47  beforeeach  daemon set\\r 14:35:47   /go/src/k8s.io/kubernetes/_output/dockerized/go/src/k8s.io/kubernetes/test/e2e/framework.go:51\\r 14:35:47 step: creating a kubernetes client\\r 14:35:47 &gt;&gt;&gt; testcontext.kubeconfig: /var/lib/jenkins/jobs/kubernetes-e2e-gce-flaky/workspace/.kube/config\\r 14:35:47 step: building a namespace api object\\r 14:35:47 oct 30 14:35:47.266: info: waiting up to 2m0s for service account default to be provisioned in ns e2e-tests-daemonsets-40nfz\\r 14...</td>\n",
       "      <td>3</td>\n",
       "    </tr>\n",
       "    <tr>\n",
       "      <th>2</th>\n",
       "      <td>2016-02-19 18:55:16 UTC</td>\n",
       "      <td>2016-02-19 18:55:16 UTC</td>\n",
       "      <td>[area/usability, component/kubectl, kind/enhancement, priority/P2, team/ux]</td>\n",
       "      <td>kubernetes/kubernetes</td>\n",
       "      <td>\"https://api.github.com/repos/kubernetes/kubernetes/issues/20078\"</td>\n",
       "      <td>can't abort kubectl edit</td>\n",
       "      <td>i am running  kubectl edit  against an object.  i make a mistake, and it reopens  nice  with comments  nice .  i decide i don't want to edit, after all.  how do i abort?  in most scenarios, exiting without save or deleting all contents would trigger the process to abort.  not so in kubectl.</td>\n",
       "      <td>5</td>\n",
       "    </tr>\n",
       "    <tr>\n",
       "      <th>3</th>\n",
       "      <td>2016-02-25 00:27:07 UTC</td>\n",
       "      <td>2016-02-25 00:27:07 UTC</td>\n",
       "      <td>[area/test, kind/flake, priority/P1, team/control-plane]</td>\n",
       "      <td>kubernetes/kubernetes</td>\n",
       "      <td>\"https://api.github.com/repos/kubernetes/kubernetes/issues/21234\"</td>\n",
       "      <td>e2e flake: limitrange  it  should create a limitrange with defaults and ensure pod has those defaults applied.</td>\n",
       "      <td>limitrange e2e flake:\\r \\r    \\r failure  7.616 seconds \\r limitrange\\r /go/src/k8s.io/kubernetes/_output/dockerized/go/src/k8s.io/kubernetes/test/e2e/limit_range.go:95\\r   should create a limitrange with defaults and ensure pod has those defaults applied.  it \\r   /go/src/k8s.io/kubernetes/_output/dockerized/go/src/k8s.io/kubernetes/test/e2e/limit_range.go:93\\r \\r   expected error:\\r       &lt; errors.errorstring | 0xc20853e960&gt;: {\\r           s: \\ resource cpu expected 100m actual 0\\ ,\\r       }\\r       resource cpu expected 100m actual 0\\r   not to have occurred\\r \\r   /go/src/k8s.io/kubernetes/_output/dockerized/go/src/k8s.io/kubernetes/test/e2e/limit_range.go:64\\r ------------------------------\\r    \\r \\r https://console.developers.google.com/storage/browser/kubernetes-jenkins/pr-logs/pull/20114/kubernetes-pull-build-test-e2e-gce/28527/</td>\n",
       "      <td>4</td>\n",
       "    </tr>\n",
       "    <tr>\n",
       "      <th>4</th>\n",
       "      <td>2016-06-14 04:14:18 UTC</td>\n",
       "      <td>2016-06-14 04:14:18 UTC</td>\n",
       "      <td>[]</td>\n",
       "      <td>kubernetes/kubernetes</td>\n",
       "      <td>\"https://api.github.com/repos/kubernetes/kubernetes/issues/27240\"</td>\n",
       "      <td>unable to deploy kubernetes on local ubuntu machine  so one node</td>\n",
       "      <td>below is my error trace. i am not sure if the following lines from the error trace below is the reason why i wasn't able to deploy kube-up.sh\\r \\r   error: 100: key not found  /coreos.com   1 \\r {\\ network\\ :\\ 172.16.0.0/16\\ , \\ backend\\ : {\\ type\\ : \\ vxlan\\ }}\\r {\\ network\\ :\\ 172.16.0.0/16\\ , \\ backend\\ : {\\ type\\ : \\ vxlan\\ }}  \\r \\r ---------------------------------------------------------------------------------\\r error trace\\r \\r  kubernetes_provider=ubuntu ./kube-up.sh\\r ... starting cluster using provider: ubuntu\\r ... calling verify-prereqs\\r ... calling kube-up\\r ~/kubernetes/cluster/ubuntu ~/kubernetes/cluster\\r prepare flannel 0.5.0 release ...\\r   % total    % received % xferd  average speed   time    time     time  current\\r                                  dload  upload   total   spent    left  speed\\r 100   608    0   608    0     0    102      0 --:--:--  0:00:05 --:--:--   138\\r 100 2757k  100 2757k    0     0   194k      0  0:00:14  0:00:14 --:--:--  739k\\r prep...</td>\n",
       "      <td>0</td>\n",
       "    </tr>\n",
       "  </tbody>\n",
       "</table>\n",
       "</div>"
      ],
      "text/plain": [
       "                updated_at                last_time  \\\n",
       "0  2018-02-24 15:09:51 UTC  2018-02-24 15:09:51 UTC   \n",
       "1  2016-03-01 00:30:05 UTC  2016-03-01 00:30:05 UTC   \n",
       "2  2016-02-19 18:55:16 UTC  2016-02-19 18:55:16 UTC   \n",
       "3  2016-02-25 00:27:07 UTC  2016-02-25 00:27:07 UTC   \n",
       "4  2016-06-14 04:14:18 UTC  2016-06-14 04:14:18 UTC   \n",
       "\n",
       "                                                                                       labels  \\\n",
       "0                       [lifecycle/rotten, priority/backlog, sig/cluster-lifecycle, sig/node]   \n",
       "1  [kind/flake, priority/P1, team/control-plane, kind/flake, priority/P1, team/control-plane]   \n",
       "2                 [area/usability, component/kubectl, kind/enhancement, priority/P2, team/ux]   \n",
       "3                                    [area/test, kind/flake, priority/P1, team/control-plane]   \n",
       "4                                                                                          []   \n",
       "\n",
       "                    repo  \\\n",
       "0  kubernetes/kubernetes   \n",
       "1  kubernetes/kubernetes   \n",
       "2  kubernetes/kubernetes   \n",
       "3  kubernetes/kubernetes   \n",
       "4  kubernetes/kubernetes   \n",
       "\n",
       "                                                                 url  \\\n",
       "0  \"https://api.github.com/repos/kubernetes/kubernetes/issues/16512\"   \n",
       "1  \"https://api.github.com/repos/kubernetes/kubernetes/issues/16623\"   \n",
       "2  \"https://api.github.com/repos/kubernetes/kubernetes/issues/20078\"   \n",
       "3  \"https://api.github.com/repos/kubernetes/kubernetes/issues/21234\"   \n",
       "4  \"https://api.github.com/repos/kubernetes/kubernetes/issues/27240\"   \n",
       "\n",
       "                                                                                                            title  \\\n",
       "0                                           minions ip does not follow --hostname-override when set to a hostname   \n",
       "1                                                        e2e flake: daemon set should run and stop complex daemon   \n",
       "2                                                                                        can't abort kubectl edit   \n",
       "3  e2e flake: limitrange  it  should create a limitrange with defaults and ensure pod has those defaults applied.   \n",
       "4                                                unable to deploy kubernetes on local ubuntu machine  so one node   \n",
       "\n",
       "                                                                                                                                                                                                                                                                                                                                                                                                                                                                                                                                                                                                                                                                                                                                                                                                                                                                                                                                                                                                                                      body  \\\n",
       "0                                                                                                                                                                                                                                                                                                                                                             according to  9267, the kubelet should register a node with the  --hostname-override   cluster from scratch . this does not work if set to an actual hostname  even one that resolves correctly . working with the ip:      sh $ /opt/bin/kubelet --hostname-override=172.16.25.131 --address=172.16.25.131 ... $ kubectl describe node minion-2 name:           minion-2 ... addresses:  172.16.25.131      and when the override is set to a hostname  which resolves to the 172 ip :      $ /opt/bin/kubelet --hostname-override=my-server.com --address=172.16.25.131 ... $ kubectl describe node minion-2 name:           minion-2 ... addresses:  2a01:4f8:110:4085::2   \n",
       "1  this has been flaking pretty often lately - in 5 out of the last 11 runs of kubernetes-e2e-gce-flaky, to be specific. i've copied the output of one such failure run below.\\r \\r sorry if there's already an issue tracking this, i couldn't find anything other than  14072, which is for a different test.\\r \\r @mikedanese \\r \\r    \\r 14:35:47 daemon set \\r 14:35:47   should run and stop complex daemon\\r 14:35:47   /go/src/k8s.io/kubernetes/_output/dockerized/go/src/k8s.io/kubernetes/test/e2e/daemon_set.go:181\\r 14:35:47  beforeeach  daemon set\\r 14:35:47   /go/src/k8s.io/kubernetes/_output/dockerized/go/src/k8s.io/kubernetes/test/e2e/framework.go:51\\r 14:35:47 step: creating a kubernetes client\\r 14:35:47 >>> testcontext.kubeconfig: /var/lib/jenkins/jobs/kubernetes-e2e-gce-flaky/workspace/.kube/config\\r 14:35:47 step: building a namespace api object\\r 14:35:47 oct 30 14:35:47.266: info: waiting up to 2m0s for service account default to be provisioned in ns e2e-tests-daemonsets-40nfz\\r 14...   \n",
       "2                                                                                                                                                                                                                                                                                                                                                                                                                                                                                                                                                                                                                                                                                                                                      i am running  kubectl edit  against an object.  i make a mistake, and it reopens  nice  with comments  nice .  i decide i don't want to edit, after all.  how do i abort?  in most scenarios, exiting without save or deleting all contents would trigger the process to abort.  not so in kubectl.   \n",
       "3                                                                                                                                                       limitrange e2e flake:\\r \\r    \\r failure  7.616 seconds \\r limitrange\\r /go/src/k8s.io/kubernetes/_output/dockerized/go/src/k8s.io/kubernetes/test/e2e/limit_range.go:95\\r   should create a limitrange with defaults and ensure pod has those defaults applied.  it \\r   /go/src/k8s.io/kubernetes/_output/dockerized/go/src/k8s.io/kubernetes/test/e2e/limit_range.go:93\\r \\r   expected error:\\r       < errors.errorstring | 0xc20853e960>: {\\r           s: \\ resource cpu expected 100m actual 0\\ ,\\r       }\\r       resource cpu expected 100m actual 0\\r   not to have occurred\\r \\r   /go/src/k8s.io/kubernetes/_output/dockerized/go/src/k8s.io/kubernetes/test/e2e/limit_range.go:64\\r ------------------------------\\r    \\r \\r https://console.developers.google.com/storage/browser/kubernetes-jenkins/pr-logs/pull/20114/kubernetes-pull-build-test-e2e-gce/28527/   \n",
       "4  below is my error trace. i am not sure if the following lines from the error trace below is the reason why i wasn't able to deploy kube-up.sh\\r \\r   error: 100: key not found  /coreos.com   1 \\r {\\ network\\ :\\ 172.16.0.0/16\\ , \\ backend\\ : {\\ type\\ : \\ vxlan\\ }}\\r {\\ network\\ :\\ 172.16.0.0/16\\ , \\ backend\\ : {\\ type\\ : \\ vxlan\\ }}  \\r \\r ---------------------------------------------------------------------------------\\r error trace\\r \\r  kubernetes_provider=ubuntu ./kube-up.sh\\r ... starting cluster using provider: ubuntu\\r ... calling verify-prereqs\\r ... calling kube-up\\r ~/kubernetes/cluster/ubuntu ~/kubernetes/cluster\\r prepare flannel 0.5.0 release ...\\r   % total    % received % xferd  average speed   time    time     time  current\\r                                  dload  upload   total   spent    left  speed\\r 100   608    0   608    0     0    102      0 --:--:--  0:00:05 --:--:--   138\\r 100 2757k  100 2757k    0     0   194k      0  0:00:14  0:00:14 --:--:--  739k\\r prep...   \n",
       "\n",
       "   len_labels  \n",
       "0           4  \n",
       "1           3  \n",
       "2           5  \n",
       "3           4  \n",
       "4           0  "
      ]
     },
     "execution_count": 36,
     "metadata": {},
     "output_type": "execute_result"
    }
   ],
   "source": [
    "df = pd.read_csv('https://storage.googleapis.com/issue_label_bot/k8s_issues/000000000000.csv')\n",
    "df.labels = df.labels.apply(lambda x: eval(x))\n",
    "df.head()"
   ]
  },
  {
   "cell_type": "code",
   "execution_count": 37,
   "metadata": {
    "scrolled": true
   },
   "outputs": [],
   "source": [
    "#remove target leakage from kubernetes which are the bot commands\n",
    "df['body'] = df.body.apply(lambda x: re.sub('(/sig|/kind|/status/triage/|priority) \\S+', '', str(x)))"
   ]
  },
  {
   "cell_type": "markdown",
   "metadata": {},
   "source": [
    "# Explore The Data"
   ]
  },
  {
   "cell_type": "markdown",
   "metadata": {},
   "source": [
    "### Question from @cblecker\n",
    "\n",
    "`@Hamel Husain that's how often a PR/issue has two different sig labels on it?`"
   ]
  },
  {
   "cell_type": "code",
   "execution_count": 38,
   "metadata": {},
   "outputs": [],
   "source": [
    "def count_sig(l):\n",
    "    return(sum(['sig/' in x for x in l]))"
   ]
  },
  {
   "cell_type": "code",
   "execution_count": 39,
   "metadata": {},
   "outputs": [
    {
     "data": {
      "image/png": "[encoded data removed]",
      "text/plain": [
       "<Figure size 432x288 with 1 Axes>"
      ]
     },
     "metadata": {
      "needs_background": "light"
     },
     "output_type": "display_data"
    }
   ],
   "source": [
    "from matplotlib.ticker import PercentFormatter\n",
    "sig_counts = df.labels.apply(lambda x: count_sig(x))\n",
    "\n",
    "plt.hist(sig_counts, weights=np.ones(len(sig_counts)) / len(sig_counts))\n",
    "plt.gca().yaxis.set_major_formatter(PercentFormatter(1))\n",
    "plt.title(f'Distribution of # of sig/ labels for kubernetes/kubernetes\\n {len(sig_counts):,} issues pulled from GHArchive.')\n",
    "plt.show()"
   ]
  },
  {
   "cell_type": "markdown",
   "metadata": {},
   "source": [
    "### Count Labels"
   ]
  },
  {
   "cell_type": "code",
   "execution_count": 40,
   "metadata": {},
   "outputs": [],
   "source": [
    "from collections import Counter\n",
    "c = Counter()\n",
    "\n",
    "for row in df.labels:\n",
    "    c.update(row)"
   ]
  },
  {
   "cell_type": "code",
   "execution_count": 41,
   "metadata": {},
   "outputs": [
    {
     "name": "stdout",
     "output_type": "stream",
     "text": [
      "There are 280 unique labels in kubernetes/kubernetes\n",
      "number of sig labels: 34\n"
     ]
    }
   ],
   "source": [
    "print(f'There are {len(c.keys())} unique labels in kubernetes/kubernetes')\n",
    "nsig = sum(['sig/' in x for x in list(c.keys())])\n",
    "print(f\"number of sig labels: {nsig}\")"
   ]
  },
  {
   "cell_type": "markdown",
   "metadata": {},
   "source": [
    "#### Top 50 Labels"
   ]
  },
  {
   "cell_type": "code",
   "execution_count": 74,
   "metadata": {},
   "outputs": [
    {
     "data": {
      "text/plain": [
       "[('kind/bug', 6107),\n",
       " ('lifecycle/rotten', 4352),\n",
       " ('kind/flake', 3294),\n",
       " ('sig/node', 2738),\n",
       " ('sig/api-machinery', 2228),\n",
       " ('kind/feature', 2051),\n",
       " ('sig/network', 1829),\n",
       " ('priority/P2', 1821),\n",
       " ('sig/storage', 1596),\n",
       " ('priority/backlog', 1588),\n",
       " ('priority/P1', 1418),\n",
       " ('priority/important-soon', 1222),\n",
       " ('needs-sig', 1188),\n",
       " ('team/test-infra', 1158),\n",
       " ('sig/cli', 1109),\n",
       " ('sig/cluster-lifecycle', 950),\n",
       " ('team/cluster', 915),\n",
       " ('priority/P0', 903),\n",
       " ('sig/apps', 844),\n",
       " ('team/node', 836),\n",
       " ('team/control-plane', 810),\n",
       " ('sig/scheduling', 798),\n",
       " ('lifecycle/stale', 784),\n",
       " ('area/test', 783),\n",
       " ('team/ux', 733),\n",
       " ('sig/testing', 715),\n",
       " ('team/cluster (deprecated - do not use)', 706),\n",
       " ('area/kubectl', 678),\n",
       " ('sig/auth', 600),\n",
       " ('component/kubectl', 563),\n",
       " ('priority/critical-urgent', 553),\n",
       " ('sig/scalability', 511),\n",
       " ('kind/documentation', 483),\n",
       " ('team/control-plane (deprecated - do not use)', 451),\n",
       " ('kind/cleanup', 438),\n",
       " ('sig/aws', 438),\n",
       " ('team/CSI-API Machinery SIG', 430),\n",
       " ('priority/failing-test', 402),\n",
       " ('area/platform/aws', 402),\n",
       " ('priority/awaiting-more-evidence', 383),\n",
       " ('area/kubelet', 348),\n",
       " ('sig/release', 330),\n",
       " ('area/test-infra', 324),\n",
       " ('team/ux (deprecated - do not use)', 322),\n",
       " ('sig/azure', 302),\n",
       " ('kind/failing-test', 294),\n",
       " ('triage/support', 288),\n",
       " ('priority/P3', 284),\n",
       " ('kind/support', 282),\n",
       " ('status/approved-for-milestone', 262)]"
      ]
     },
     "execution_count": 74,
     "metadata": {},
     "output_type": "execute_result"
    }
   ],
   "source": [
    "c.most_common(50)"
   ]
  },
  {
   "cell_type": "code",
   "execution_count": 79,
   "metadata": {},
   "outputs": [
    {
     "data": {
      "text/plain": [
       "98"
      ]
     },
     "execution_count": 79,
     "metadata": {},
     "output_type": "execute_result"
    }
   ],
   "source": [
    "len([(k, c[k]) for k in c if c[k] >= 100])"
   ]
  },
  {
   "cell_type": "markdown",
   "metadata": {},
   "source": [
    "#### Sig/ Labels"
   ]
  },
  {
   "cell_type": "code",
   "execution_count": 43,
   "metadata": {},
   "outputs": [
    {
     "name": "stdout",
     "output_type": "stream",
     "text": [
      "sig/cluster-lifecycle: 950\n",
      "sig/node: 2738\n",
      "sig/api-machinery: 2228\n",
      "sig/scalability: 511\n",
      "sig/cli: 1109\n",
      "sig/autoscaling: 210\n",
      "sig/network: 1829\n",
      "sig/cloud-provider: 54\n",
      "sig/storage: 1596\n",
      "sig/scheduling: 798\n",
      "sig/apps: 844\n",
      "sig/windows: 185\n",
      "sig/auth: 600\n",
      "sig/docs: 205\n",
      "sig/testing: 715\n",
      "sig/federation: 170\n",
      "sig/gcp: 203\n",
      "sig/release: 330\n",
      "sig/azure: 302\n",
      "sig/aws: 438\n",
      "sig/cluster-ops: 63\n",
      "sig/multicluster: 175\n",
      "sig/instrumentation: 253\n",
      "sig/openstack: 151\n",
      "sig/contributor-experience: 152\n",
      "sig/architecture: 99\n",
      "sig/vmware: 39\n",
      "sig/rktnetes: 14\n",
      "sig/service-catalog: 33\n",
      "sig/onprem: 23\n",
      "sig/ui: 25\n",
      "sig/big-data: 7\n",
      "sig/contrib-ex: 1\n",
      "sig/ibmcloud: 1\n"
     ]
    }
   ],
   "source": [
    "sig_labels = [x for x in list(c.keys()) if 'sig/' in x]\n",
    "for l in sig_labels:\n",
    "    print(f'{l}: {c[l]}')"
   ]
  },
  {
   "cell_type": "markdown",
   "metadata": {},
   "source": [
    "#### See correlation among labels "
   ]
  },
  {
   "cell_type": "code",
   "execution_count": 10,
   "metadata": {},
   "outputs": [],
   "source": [
    "min_freq = 30\n",
    "\n",
    "def contains_sig(l):\n",
    "    if not l:\n",
    "        return False\n",
    "    else:\n",
    "        # make sure there are at least 10 issues labeled with that value\n",
    "        return max(['sig/' in x and c[x] >=min_freq for x in l])"
   ]
  },
  {
   "cell_type": "code",
   "execution_count": 11,
   "metadata": {},
   "outputs": [
    {
     "name": "stdout",
     "output_type": "stream",
     "text": [
      "14,390 issues have sig/ labels\n"
     ]
    }
   ],
   "source": [
    "sig_df = df[df.labels.apply(lambda x: contains_sig(x))]\n",
    "print(f'{sig_df.shape[0]:,} issues have sig/ labels')"
   ]
  },
  {
   "cell_type": "code",
   "execution_count": 12,
   "metadata": {
    "scrolled": false
   },
   "outputs": [
    {
     "name": "stdout",
     "output_type": "stream",
     "text": [
      "28 sig labels that have at least 30 issues\n"
     ]
    }
   ],
   "source": [
    "sig_labels = [k for k in c.keys() if c[k] >= min_freq and 'sig/' in k]\n",
    "print(f'{len(sig_labels)} sig labels that have at least {min_freq} issues')"
   ]
  },
  {
   "cell_type": "code",
   "execution_count": 13,
   "metadata": {},
   "outputs": [],
   "source": [
    "# build an indicator matrix\n",
    "\n",
    "indicator = []\n",
    "\n",
    "for l in sig_df.labels.values:\n",
    "    zer = np.zeros(len(sig_labels))\n",
    "    mask = [sig_labels.index(x) for x in l if x in sig_labels]\n",
    "    zer[mask] = 1\n",
    "    indicator.append(zer[None, :])\n",
    "    \n",
    "indicator_matrix = pd.DataFrame(np.concatenate(indicator, axis=0), columns=sig_labels).astype(int)\n",
    "corr_grid = indicator_matrix.T.dot(indicator_matrix)"
   ]
  },
  {
   "cell_type": "code",
   "execution_count": 14,
   "metadata": {},
   "outputs": [],
   "source": [
    "for i, x in enumerate(corr_grid):\n",
    "    corr_grid.iloc[i][i:] = 0"
   ]
  },
  {
   "cell_type": "code",
   "execution_count": 15,
   "metadata": {},
   "outputs": [],
   "source": [
    "import seaborn as sns\n",
    "import matplotlib.pyplot as plt\n",
    "#cmap = sns.diverging_palette(220, 10, as_cmap=True)"
   ]
  },
  {
   "cell_type": "code",
   "execution_count": 16,
   "metadata": {},
   "outputs": [],
   "source": [
    "#normalize correlation grid\n",
    "for label in corr_grid:\n",
    "    corr_grid.loc[label] = corr_grid.loc[label] / c[label]"
   ]
  },
  {
   "cell_type": "code",
   "execution_count": 17,
   "metadata": {},
   "outputs": [
    {
     "data": {
      "text/plain": [
       "<matplotlib.axes._subplots.AxesSubplot at 0x7f0b2e529e80>"
      ]
     },
     "execution_count": 17,
     "metadata": {},
     "output_type": "execute_result"
    },
    {
     "data": {
      "image/png": "[encoded data removed]",
      "text/plain": [
       "<Figure size 1152x1008 with 2 Axes>"
      ]
     },
     "metadata": {
      "needs_background": "light"
     },
     "output_type": "display_data"
    }
   ],
   "source": [
    "plt.figure(figsize=(16, 14))\n",
    "plt.title('Co-Occurence Matrix')\n",
    "sns.heatmap(corr_grid, square=True, vmin=0, vmax=.4, mask=corr_grid<=0.05)"
   ]
  },
  {
   "cell_type": "markdown",
   "metadata": {},
   "source": [
    "## Obtain Baseline With Automated Machine Learning"
   ]
  },
  {
   "cell_type": "code",
   "execution_count": 18,
   "metadata": {},
   "outputs": [],
   "source": [
    "def part_assign():\n",
    "    i = randint(1, 10)\n",
    "    if i <=5:\n",
    "        return i\n",
    "    else:\n",
    "        return 6\n",
    "\n",
    "combined_sig_df = pd.concat([sig_df.reset_index(), indicator_matrix.reset_index()], axis=1)\n",
    "combined_sig_df['part'] = combined_sig_df.repo.apply(lambda x: part_assign())\n",
    "combined_sig_df.to_pickle('combined_sig_df.pkl')"
   ]
  },
  {
   "cell_type": "code",
   "execution_count": 19,
   "metadata": {},
   "outputs": [],
   "source": [
    "combined_sig_df = pd.read_pickle('combined_sig_df.pkl')"
   ]
  },
  {
   "cell_type": "code",
   "execution_count": 20,
   "metadata": {},
   "outputs": [],
   "source": [
    "#! pip install datarobot"
   ]
  },
  {
   "cell_type": "code",
   "execution_count": 21,
   "metadata": {},
   "outputs": [
    {
     "data": {
      "text/plain": [
       "<datarobot.rest.RESTClientObject at 0x7f0b177045f8>"
      ]
     },
     "execution_count": 21,
     "metadata": {},
     "output_type": "execute_result"
    }
   ],
   "source": [
    "import datarobot as dr\n",
    "from datarobot import UserCV\n",
    "from fastai.core import parallel\n",
    "from datarobot import Blueprint\n",
    "\n",
    "ucv = UserCV(user_partition_col='part', cv_holdout_level=6, seed=123)\n",
    "dr.Client(token='something-something', endpoint='https://app.datarobot.com/api/v2')"
   ]
  },
  {
   "cell_type": "code",
   "execution_count": 22,
   "metadata": {},
   "outputs": [],
   "source": [
    "def create_dr_proj(label):\n",
    "    temp_df = combined_sig_df[['title', 'body', 'part', label]]\n",
    "    proj = dr.Project.create(sourcedata=temp_df,\n",
    "                             project_name=label,\n",
    "                            )\n",
    "    proj.set_target(label, \n",
    "                positive_class=1,\n",
    "                partitioning_method=ucv,\n",
    "                target_type='Binary',\n",
    "                mode=dr.AUTOPILOT_MODE.MANUAL,\n",
    "                worker_count=9,\n",
    "                max_wait=600000)\n",
    "    \n",
    "    bps = proj.get_blueprints()\n",
    "    bp = [b for b in bps if 'Nystroem' in str(b)][0]\n",
    "    proj.train(bp, sample_pct=49.8)\n",
    "    proj.unlock_holdout()\n",
    "    \n",
    "    return proj"
   ]
  },
  {
   "cell_type": "code",
   "execution_count": 23,
   "metadata": {},
   "outputs": [
    {
     "name": "stdout",
     "output_type": "stream",
     "text": [
      "creating project 0: sig/cluster-lifecycle\n",
      "creating project 1: sig/node\n"
     ]
    }
   ],
   "source": [
    "proj_list = []\n",
    "\n",
    "for i, label in enumerate(sig_labels):\n",
    "    try:\n",
    "        print(f'creating project {i}: {label}')\n",
    "        proj = create_dr_proj(label)\n",
    "        proj_list.append(proj)\n",
    "    except:\n",
    "        pass"
   ]
  },
  {
   "cell_type": "code",
   "execution_count": 264,
   "metadata": {},
   "outputs": [
    {
     "name": "stdout",
     "output_type": "stream",
     "text": [
      "getting predictions for holdout set for Project(sig/cluster-lifecycle)\n",
      "getting predictions for holdout set for Project(sig/node)\n",
      "getting predictions for holdout set for Project(sig/api-machinery)\n",
      "getting predictions for holdout set for Project(sig/scalability)\n",
      "getting predictions for holdout set for Project(sig/cli)\n",
      "getting predictions for holdout set for Project(sig/autoscaling)\n",
      "getting predictions for holdout set for Project(sig/network)\n",
      "getting predictions for holdout set for Project(sig/cloud-provider)\n",
      "getting predictions for holdout set for Project(sig/storage)\n",
      "getting predictions for holdout set for Project(sig/scheduling)\n",
      "getting predictions for holdout set for Project(sig/windows)\n",
      "getting predictions for holdout set for Project(sig/auth)\n",
      "getting predictions for holdout set for Project(sig/docs)\n",
      "getting predictions for holdout set for Project(sig/testing)\n",
      "getting predictions for holdout set for Project(sig/federation)\n",
      "getting predictions for holdout set for Project(sig/gcp)\n",
      "getting predictions for holdout set for Project(sig/release)\n",
      "getting predictions for holdout set for Project(sig/azure)\n",
      "getting predictions for holdout set for Project(sig/aws)\n",
      "getting predictions for holdout set for Project(sig/cluster-ops)\n",
      "getting predictions for holdout set for Project(sig/multicluster)\n",
      "getting predictions for holdout set for Project(sig/instrumentation)\n",
      "getting predictions for holdout set for Project(sig/openstack)\n",
      "getting predictions for holdout set for Project(sig/contributor-experience)\n",
      "getting predictions for holdout set for Project(sig/architecture)\n",
      "getting predictions for holdout set for Project(sig/vmware)\n",
      "getting predictions for holdout set for Project(sig/service-catalog)\n"
     ]
    }
   ],
   "source": [
    "predictions = []\n",
    "for proj in proj_list:\n",
    "    print(f'getting predictions for holdout set for {str(proj)}')\n",
    "    label = proj.target.replace('_', '-')\n",
    "    temp_df = combined_sig_df[['title', 'body', 'part', label]]\n",
    "    temp_df = temp_df[temp_df.part == 6]\n",
    "    ds = proj.upload_dataset(temp_df)\n",
    "    m = proj.get_models()[0]\n",
    "    predict_job = m.request_predictions(ds.id)\n",
    "    yhat = predict_job.get_result_when_complete()\n",
    "    predictions.append({label: yhat['positive_probability']})"
   ]
  },
  {
   "cell_type": "code",
   "execution_count": 287,
   "metadata": {},
   "outputs": [],
   "source": [
    "result = {}\n",
    "for d in predictions:\n",
    "    result.update(d)\n",
    "\n",
    "baseline_holdout_predictions_df = pd.DataFrame(result)\n",
    "baseline_holdout_predictions_df.columns = ['p_'+x for x in baseline_holdout_predictions_df.columns]"
   ]
  },
  {
   "cell_type": "code",
   "execution_count": 282,
   "metadata": {},
   "outputs": [],
   "source": [
    "assert len(baseline_holdout_predictions_df) == len(combined_sig_df[combined_sig_df.part == 6])"
   ]
  },
  {
   "cell_type": "code",
   "execution_count": 298,
   "metadata": {},
   "outputs": [],
   "source": [
    "predictions_df = pd.concat([combined_sig_df[combined_sig_df.part == 6].reset_index(drop=True), \n",
    "                               baseline_holdout_predictions_df.reset_index(drop=True)], axis=1)\n",
    "predictions_df['version'] = 'baseline'"
   ]
  },
  {
   "cell_type": "code",
   "execution_count": 299,
   "metadata": {},
   "outputs": [],
   "source": [
    "predictions_df.to_pickle('prediction_baseline_df.pkl')"
   ]
  },
  {
   "cell_type": "markdown",
   "metadata": {},
   "source": [
    "# Get Embeddings and Repeat"
   ]
  },
  {
   "cell_type": "code",
   "execution_count": 81,
   "metadata": {},
   "outputs": [],
   "source": [
    "import pandas as pd\n",
    "from inference import InferenceWrapper, pass_through\n",
    "import os\n",
    "import torch\n",
    "from torch.cuda import empty_cache\n",
    "os.environ[\"CUDA_DEVICE_ORDER\"]=\"PCI_BUS_ID\"\n",
    "os.environ[\"CUDA_VISIBLE_DEVICES\"]=\"0\"\n",
    "\n",
    "wrapper = InferenceWrapper(model_path='/ds/lang_model/models_uxgcl1e1/',\n",
    "                           model_file_name='trained_model_uxgcl1e1.pkl')\n",
    "\n",
    "empty_cache()"
   ]
  },
  {
   "cell_type": "code",
   "execution_count": 2,
   "metadata": {},
   "outputs": [
    {
     "name": "stderr",
     "output_type": "stream",
     "text": [
      "/ds/notebooks/inference.py:62: UserWarning: DataFrame columns are not unique, some columns will be omitted.\n",
      "  for d in tqdm(dataframe.to_dict(orient='rows')):\n"
     ]
    },
    {
     "data": {
      "application/vnd.jupyter.widget-view+json": {
       "model_id": "fe529a1394b3478ebbc20e492ec66bf3",
       "version_major": 2,
       "version_minor": 0
      },
      "text/plain": [
       "HBox(children=(IntProgress(value=0, max=14390), HTML(value='')))"
      ]
     },
     "metadata": {},
     "output_type": "display_data"
    },
    {
     "name": "stdout",
     "output_type": "stream",
     "text": [
      "\n"
     ]
    }
   ],
   "source": [
    "combined_sig_df = pd.read_pickle('combined_sig_df.pkl')\n",
    "# text = wrapper.process_df(combined_sig_df)\n",
    "# text.to_pickle('textlm_df.pkl')"
   ]
  },
  {
   "cell_type": "code",
   "execution_count": 4,
   "metadata": {},
   "outputs": [],
   "source": [
    "text = pd.read_pickle('textlm_df.pkl')\n",
    "assert text['text'].isna().sum() == 0"
   ]
  },
  {
   "cell_type": "code",
   "execution_count": 5,
   "metadata": {},
   "outputs": [],
   "source": [
    "features = []"
   ]
  },
  {
   "cell_type": "code",
   "execution_count": 6,
   "metadata": {},
   "outputs": [
    {
     "data": {
      "application/vnd.jupyter.widget-view+json": {
       "model_id": "8712f94a93f44f28a8afd3abeabc9fc0",
       "version_major": 2,
       "version_minor": 0
      },
      "text/plain": [
       "HBox(children=(IntProgress(value=0, max=14390), HTML(value='')))"
      ]
     },
     "metadata": {},
     "output_type": "display_data"
    },
    {
     "name": "stdout",
     "output_type": "stream",
     "text": [
      "\n"
     ]
    }
   ],
   "source": [
    "from tqdm.auto import tqdm\n",
    "\n",
    "with torch.no_grad():\n",
    "    for t in tqdm(text['text'].values):\n",
    "        feat = wrapper.get_pooled_features(t).cpu()\n",
    "        features.append(feat)\n",
    "        empty_cache()"
   ]
  },
  {
   "cell_type": "code",
   "execution_count": 7,
   "metadata": {},
   "outputs": [],
   "source": [
    "feat_matrix = torch.cat(features, dim=0).numpy()"
   ]
  },
  {
   "cell_type": "code",
   "execution_count": 26,
   "metadata": {},
   "outputs": [],
   "source": [
    "feat_matrix = feat_matrix[:, :1600]"
   ]
  },
  {
   "cell_type": "code",
   "execution_count": 27,
   "metadata": {},
   "outputs": [],
   "source": [
    "feat_df = pd.DataFrame(feat_matrix)\n",
    "feat_df.columns = ['f_' + str(x) for x in feat_df.columns]\n",
    "feat_df.to_csv('feat_df.csv', index=False)"
   ]
  },
  {
   "cell_type": "code",
   "execution_count": 28,
   "metadata": {},
   "outputs": [],
   "source": [
    "feat_df = pd.read_csv('feat_df.csv')"
   ]
  },
  {
   "cell_type": "code",
   "execution_count": 29,
   "metadata": {},
   "outputs": [],
   "source": [
    "lm_combined_df = pd.concat([combined_sig_df.reset_index(drop=True), \n",
    "                            feat_df.reset_index(drop=True)], axis=1)"
   ]
  },
  {
   "cell_type": "code",
   "execution_count": 30,
   "metadata": {},
   "outputs": [],
   "source": [
    "import datarobot as dr\n",
    "from datarobot import UserCV\n",
    "ucv = UserCV(user_partition_col='part', cv_holdout_level=6, seed=123)\n",
    "dr.Client(token='something', endpoint='https://app.datarobot.com/api/v2')\n",
    "\n",
    "def create_dr_proj(label):\n",
    "    temp_df = lm_combined_df[['title', 'body', 'part', label] + list(feat_df.columns)]\n",
    "    proj = dr.Project.create(sourcedata=temp_df,\n",
    "                             project_name='lm_'+label,\n",
    "                            )\n",
    "    proj.set_target(label, \n",
    "                    positive_class=1,\n",
    "                    partitioning_method=ucv,\n",
    "                    target_type='Binary',\n",
    "                    mode=dr.AUTOPILOT_MODE.QUICK,\n",
    "                    worker_count=9,\n",
    "                    max_wait=600000)\n",
    "    \n",
    "    proj.unlock_holdout()\n",
    "    \n",
    "    return proj"
   ]
  },
  {
   "cell_type": "code",
   "execution_count": 31,
   "metadata": {},
   "outputs": [
    {
     "name": "stdout",
     "output_type": "stream",
     "text": [
      "creating project 0: lm_sig/cluster-lifecycle\n",
      "creating project 1: lm_sig/node\n",
      "creating project 2: lm_sig/api-machinery\n",
      "creating project 3: lm_sig/scalability\n",
      "creating project 4: lm_sig/cli\n",
      "creating project 5: lm_sig/autoscaling\n",
      "creating project 6: lm_sig/network\n",
      "creating project 7: lm_sig/cloud-provider\n",
      "creating project 8: lm_sig/storage\n",
      "creating project 9: lm_sig/scheduling\n",
      "creating project 10: lm_sig/apps\n",
      "creating project 11: lm_sig/windows\n",
      "creating project 12: lm_sig/auth\n",
      "creating project 13: lm_sig/docs\n",
      "creating project 14: lm_sig/testing\n",
      "creating project 15: lm_sig/federation\n",
      "creating project 16: lm_sig/gcp\n",
      "creating project 17: lm_sig/release\n",
      "creating project 18: lm_sig/azure\n",
      "creating project 19: lm_sig/aws\n",
      "creating project 20: lm_sig/cluster-ops\n",
      "creating project 21: lm_sig/multicluster\n",
      "creating project 22: lm_sig/instrumentation\n",
      "creating project 23: lm_sig/openstack\n",
      "creating project 24: lm_sig/contributor-experience\n",
      "creating project 25: lm_sig/architecture\n",
      "creating project 26: lm_sig/vmware\n",
      "creating project 27: lm_sig/rktnetes\n",
      "creating project 28: lm_sig/service-catalog\n",
      "creating project 29: lm_sig/onprem\n",
      "creating project 30: lm_sig/ui\n",
      "creating project 31: lm_sig/big-data\n",
      "creating project 32: lm_sig/contrib-ex\n",
      "creating project 33: lm_sig/ibmcloud\n"
     ]
    }
   ],
   "source": [
    "proj_list_lm = []\n",
    "\n",
    "for i, label in enumerate(sig_labels):\n",
    "    try:\n",
    "        print(f'creating project {i}: lm_{label}')\n",
    "        proj = create_dr_proj(label)\n",
    "        proj_list_lm.append(proj)\n",
    "    except:\n",
    "        pass"
   ]
  },
  {
   "cell_type": "markdown",
   "metadata": {},
   "source": [
    "# Compare Transfer Learning vs. Regular Methods "
   ]
  },
  {
   "cell_type": "code",
   "execution_count": 1,
   "metadata": {},
   "outputs": [],
   "source": [
    "import datarobot as dr\n",
    "from datarobot import UserCV\n",
    "dr.Client(token='something-something', endpoint='https://app.datarobot.com/api/v2')\n",
    "\n",
    "def get_metrics(modelobj):\n",
    "    return modelobj.metrics['AUC']['holdout']"
   ]
  },
  {
   "cell_type": "code",
   "execution_count": 2,
   "metadata": {},
   "outputs": [],
   "source": [
    "projects = [p for p in dr.Project.list() if p.project_name.startswith('lm_')]"
   ]
  },
  {
   "cell_type": "code",
   "execution_count": 44,
   "metadata": {},
   "outputs": [
    {
     "data": {
      "text/plain": [
       "'hggel'"
      ]
     },
     "execution_count": 44,
     "metadata": {},
     "output_type": "execute_result"
    }
   ],
   "source": [
    "'hamel'.replace('am', 'gg')"
   ]
  },
  {
   "cell_type": "code",
   "execution_count": 45,
   "metadata": {},
   "outputs": [
    {
     "name": "stdout",
     "output_type": "stream",
     "text": [
      "getting metrics for lm_sig/vmware\n",
      "getting metrics for lm_sig/architecture\n",
      "getting metrics for lm_sig/contributor-experience\n",
      "getting metrics for lm_sig/openstack\n",
      "getting metrics for lm_sig/instrumentation\n",
      "getting metrics for lm_sig/multicluster\n",
      "getting metrics for lm_sig/cluster-ops\n",
      "getting metrics for lm_sig/aws\n",
      "getting metrics for lm_sig/azure\n",
      "getting metrics for lm_sig/release\n",
      "getting metrics for lm_sig/gcp\n",
      "getting metrics for lm_sig/federation\n",
      "getting metrics for lm_sig/testing\n",
      "getting metrics for lm_sig/docs\n",
      "getting metrics for lm_sig/auth\n",
      "getting metrics for lm_sig/windows\n",
      "getting metrics for lm_sig/apps\n",
      "getting metrics for lm_sig/scheduling\n",
      "getting metrics for lm_sig/storage\n",
      "getting metrics for lm_sig/cloud-provider\n",
      "getting metrics for lm_sig/network\n",
      "getting metrics for lm_sig/autoscaling\n",
      "getting metrics for lm_sig/cli\n",
      "getting metrics for lm_sig/scalability\n",
      "getting metrics for lm_sig/api-machinery\n",
      "getting metrics for lm_sig/node\n",
      "getting metrics for lm_sig/cluster-lifecycle\n"
     ]
    }
   ],
   "source": [
    "label = []\n",
    "category = []\n",
    "auc = []\n",
    "\n",
    "for proj in projects:\n",
    "    print(f'getting metrics for {proj.project_name}')\n",
    "    models = [m for m in proj.get_models() if m.sample_pct > 45]\n",
    "    baseline_model = sorted([m for m in models if m.featurelist_name == 'text only'], key=get_metrics, reverse=True)[0]\n",
    "    deep_model = sorted([m for m in models if m.featurelist_name != 'text only'], key=get_metrics, reverse=True)[0]\n",
    "    baseline_auc = get_metrics(baseline_model)\n",
    "    deep_auc = get_metrics(deep_model)\n",
    "    label.extend([proj.project_name.replace('lm_', '')] * 2)\n",
    "    category.extend(['baseline', 'deep'])\n",
    "    auc.extend([baseline_auc, deep_auc])"
   ]
  },
  {
   "cell_type": "code",
   "execution_count": 46,
   "metadata": {},
   "outputs": [],
   "source": [
    "import pandas as pd\n",
    "compare_df = pd.DataFrame({'label': label, \n",
    "                          'category': category,\n",
    "                          'auc': auc})"
   ]
  },
  {
   "cell_type": "code",
   "execution_count": 73,
   "metadata": {},
   "outputs": [
    {
     "data": {
      "text/html": [
       "<div>\n",
       "<style scoped>\n",
       "    .dataframe tbody tr th:only-of-type {\n",
       "        vertical-align: middle;\n",
       "    }\n",
       "\n",
       "    .dataframe tbody tr th {\n",
       "        vertical-align: top;\n",
       "    }\n",
       "\n",
       "    .dataframe thead th {\n",
       "        text-align: right;\n",
       "    }\n",
       "</style>\n",
       "<table border=\"1\" class=\"dataframe\">\n",
       "  <thead>\n",
       "    <tr style=\"text-align: right;\">\n",
       "      <th>category</th>\n",
       "      <th>baseline</th>\n",
       "      <th>deep</th>\n",
       "      <th>winner</th>\n",
       "      <th>abs diff</th>\n",
       "      <th>label count</th>\n",
       "    </tr>\n",
       "    <tr>\n",
       "      <th>label</th>\n",
       "      <th></th>\n",
       "      <th></th>\n",
       "      <th></th>\n",
       "      <th></th>\n",
       "      <th></th>\n",
       "    </tr>\n",
       "  </thead>\n",
       "  <tbody>\n",
       "    <tr>\n",
       "      <th>sig/node</th>\n",
       "      <td>0.91357</td>\n",
       "      <td>0.91581</td>\n",
       "      <td>deep</td>\n",
       "      <td>0.00224</td>\n",
       "      <td>2738</td>\n",
       "    </tr>\n",
       "    <tr>\n",
       "      <th>sig/api-machinery</th>\n",
       "      <td>0.91833</td>\n",
       "      <td>0.92121</td>\n",
       "      <td>deep</td>\n",
       "      <td>0.00288</td>\n",
       "      <td>2228</td>\n",
       "    </tr>\n",
       "    <tr>\n",
       "      <th>sig/network</th>\n",
       "      <td>0.95846</td>\n",
       "      <td>0.96263</td>\n",
       "      <td>deep</td>\n",
       "      <td>0.00417</td>\n",
       "      <td>1829</td>\n",
       "    </tr>\n",
       "    <tr>\n",
       "      <th>sig/storage</th>\n",
       "      <td>0.97308</td>\n",
       "      <td>0.97626</td>\n",
       "      <td>deep</td>\n",
       "      <td>0.00318</td>\n",
       "      <td>1596</td>\n",
       "    </tr>\n",
       "    <tr>\n",
       "      <th>sig/cli</th>\n",
       "      <td>0.95712</td>\n",
       "      <td>0.95872</td>\n",
       "      <td>deep</td>\n",
       "      <td>0.00160</td>\n",
       "      <td>1109</td>\n",
       "    </tr>\n",
       "    <tr>\n",
       "      <th>sig/cluster-lifecycle</th>\n",
       "      <td>0.90756</td>\n",
       "      <td>0.90328</td>\n",
       "      <td>baseline</td>\n",
       "      <td>0.00428</td>\n",
       "      <td>950</td>\n",
       "    </tr>\n",
       "    <tr>\n",
       "      <th>sig/apps</th>\n",
       "      <td>0.93730</td>\n",
       "      <td>0.93157</td>\n",
       "      <td>baseline</td>\n",
       "      <td>0.00573</td>\n",
       "      <td>844</td>\n",
       "    </tr>\n",
       "    <tr>\n",
       "      <th>sig/scheduling</th>\n",
       "      <td>0.94497</td>\n",
       "      <td>0.94750</td>\n",
       "      <td>deep</td>\n",
       "      <td>0.00253</td>\n",
       "      <td>798</td>\n",
       "    </tr>\n",
       "    <tr>\n",
       "      <th>sig/testing</th>\n",
       "      <td>0.92759</td>\n",
       "      <td>0.92639</td>\n",
       "      <td>baseline</td>\n",
       "      <td>0.00120</td>\n",
       "      <td>715</td>\n",
       "    </tr>\n",
       "    <tr>\n",
       "      <th>sig/auth</th>\n",
       "      <td>0.96020</td>\n",
       "      <td>0.96989</td>\n",
       "      <td>deep</td>\n",
       "      <td>0.00969</td>\n",
       "      <td>600</td>\n",
       "    </tr>\n",
       "    <tr>\n",
       "      <th>sig/scalability</th>\n",
       "      <td>0.92717</td>\n",
       "      <td>0.92195</td>\n",
       "      <td>baseline</td>\n",
       "      <td>0.00522</td>\n",
       "      <td>511</td>\n",
       "    </tr>\n",
       "    <tr>\n",
       "      <th>sig/aws</th>\n",
       "      <td>0.96803</td>\n",
       "      <td>0.96946</td>\n",
       "      <td>deep</td>\n",
       "      <td>0.00143</td>\n",
       "      <td>438</td>\n",
       "    </tr>\n",
       "    <tr>\n",
       "      <th>sig/release</th>\n",
       "      <td>0.93532</td>\n",
       "      <td>0.94492</td>\n",
       "      <td>deep</td>\n",
       "      <td>0.00960</td>\n",
       "      <td>330</td>\n",
       "    </tr>\n",
       "    <tr>\n",
       "      <th>sig/azure</th>\n",
       "      <td>0.98287</td>\n",
       "      <td>0.97849</td>\n",
       "      <td>baseline</td>\n",
       "      <td>0.00438</td>\n",
       "      <td>302</td>\n",
       "    </tr>\n",
       "    <tr>\n",
       "      <th>sig/instrumentation</th>\n",
       "      <td>0.94775</td>\n",
       "      <td>0.92543</td>\n",
       "      <td>baseline</td>\n",
       "      <td>0.02232</td>\n",
       "      <td>253</td>\n",
       "    </tr>\n",
       "    <tr>\n",
       "      <th>sig/autoscaling</th>\n",
       "      <td>0.98215</td>\n",
       "      <td>0.97122</td>\n",
       "      <td>baseline</td>\n",
       "      <td>0.01093</td>\n",
       "      <td>210</td>\n",
       "    </tr>\n",
       "    <tr>\n",
       "      <th>sig/docs</th>\n",
       "      <td>0.95432</td>\n",
       "      <td>0.96787</td>\n",
       "      <td>deep</td>\n",
       "      <td>0.01355</td>\n",
       "      <td>205</td>\n",
       "    </tr>\n",
       "    <tr>\n",
       "      <th>sig/gcp</th>\n",
       "      <td>0.91767</td>\n",
       "      <td>0.89395</td>\n",
       "      <td>baseline</td>\n",
       "      <td>0.02372</td>\n",
       "      <td>203</td>\n",
       "    </tr>\n",
       "    <tr>\n",
       "      <th>sig/windows</th>\n",
       "      <td>0.99501</td>\n",
       "      <td>0.98935</td>\n",
       "      <td>baseline</td>\n",
       "      <td>0.00566</td>\n",
       "      <td>185</td>\n",
       "    </tr>\n",
       "    <tr>\n",
       "      <th>sig/multicluster</th>\n",
       "      <td>0.97841</td>\n",
       "      <td>0.98127</td>\n",
       "      <td>deep</td>\n",
       "      <td>0.00286</td>\n",
       "      <td>175</td>\n",
       "    </tr>\n",
       "    <tr>\n",
       "      <th>sig/federation</th>\n",
       "      <td>0.98487</td>\n",
       "      <td>0.98119</td>\n",
       "      <td>baseline</td>\n",
       "      <td>0.00368</td>\n",
       "      <td>170</td>\n",
       "    </tr>\n",
       "    <tr>\n",
       "      <th>sig/contributor-experience</th>\n",
       "      <td>0.89864</td>\n",
       "      <td>0.90015</td>\n",
       "      <td>deep</td>\n",
       "      <td>0.00151</td>\n",
       "      <td>152</td>\n",
       "    </tr>\n",
       "    <tr>\n",
       "      <th>sig/openstack</th>\n",
       "      <td>0.99888</td>\n",
       "      <td>0.99562</td>\n",
       "      <td>baseline</td>\n",
       "      <td>0.00326</td>\n",
       "      <td>151</td>\n",
       "    </tr>\n",
       "    <tr>\n",
       "      <th>sig/architecture</th>\n",
       "      <td>0.77077</td>\n",
       "      <td>0.79016</td>\n",
       "      <td>deep</td>\n",
       "      <td>0.01939</td>\n",
       "      <td>99</td>\n",
       "    </tr>\n",
       "    <tr>\n",
       "      <th>sig/cluster-ops</th>\n",
       "      <td>0.80334</td>\n",
       "      <td>0.81560</td>\n",
       "      <td>deep</td>\n",
       "      <td>0.01226</td>\n",
       "      <td>63</td>\n",
       "    </tr>\n",
       "    <tr>\n",
       "      <th>sig/cloud-provider</th>\n",
       "      <td>0.94083</td>\n",
       "      <td>0.83947</td>\n",
       "      <td>baseline</td>\n",
       "      <td>0.10136</td>\n",
       "      <td>54</td>\n",
       "    </tr>\n",
       "    <tr>\n",
       "      <th>sig/vmware</th>\n",
       "      <td>0.94991</td>\n",
       "      <td>0.83250</td>\n",
       "      <td>baseline</td>\n",
       "      <td>0.11741</td>\n",
       "      <td>39</td>\n",
       "    </tr>\n",
       "  </tbody>\n",
       "</table>\n",
       "</div>"
      ],
      "text/plain": [
       "category                    baseline     deep    winner  abs diff  label count\n",
       "label                                                                         \n",
       "sig/node                     0.91357  0.91581      deep   0.00224         2738\n",
       "sig/api-machinery            0.91833  0.92121      deep   0.00288         2228\n",
       "sig/network                  0.95846  0.96263      deep   0.00417         1829\n",
       "sig/storage                  0.97308  0.97626      deep   0.00318         1596\n",
       "sig/cli                      0.95712  0.95872      deep   0.00160         1109\n",
       "sig/cluster-lifecycle        0.90756  0.90328  baseline   0.00428          950\n",
       "sig/apps                     0.93730  0.93157  baseline   0.00573          844\n",
       "sig/scheduling               0.94497  0.94750      deep   0.00253          798\n",
       "sig/testing                  0.92759  0.92639  baseline   0.00120          715\n",
       "sig/auth                     0.96020  0.96989      deep   0.00969          600\n",
       "sig/scalability              0.92717  0.92195  baseline   0.00522          511\n",
       "sig/aws                      0.96803  0.96946      deep   0.00143          438\n",
       "sig/release                  0.93532  0.94492      deep   0.00960          330\n",
       "sig/azure                    0.98287  0.97849  baseline   0.00438          302\n",
       "sig/instrumentation          0.94775  0.92543  baseline   0.02232          253\n",
       "sig/autoscaling              0.98215  0.97122  baseline   0.01093          210\n",
       "sig/docs                     0.95432  0.96787      deep   0.01355          205\n",
       "sig/gcp                      0.91767  0.89395  baseline   0.02372          203\n",
       "sig/windows                  0.99501  0.98935  baseline   0.00566          185\n",
       "sig/multicluster             0.97841  0.98127      deep   0.00286          175\n",
       "sig/federation               0.98487  0.98119  baseline   0.00368          170\n",
       "sig/contributor-experience   0.89864  0.90015      deep   0.00151          152\n",
       "sig/openstack                0.99888  0.99562  baseline   0.00326          151\n",
       "sig/architecture             0.77077  0.79016      deep   0.01939           99\n",
       "sig/cluster-ops              0.80334  0.81560      deep   0.01226           63\n",
       "sig/cloud-provider           0.94083  0.83947  baseline   0.10136           54\n",
       "sig/vmware                   0.94991  0.83250  baseline   0.11741           39"
      ]
     },
     "execution_count": 73,
     "metadata": {},
     "output_type": "execute_result"
    }
   ],
   "source": [
    "pivot = compare_df.pivot(index='label', columns='category', values='auc')\n",
    "pivot['winner'] = pivot.apply(lambda x: 'deep' if x.deep > x.baseline else 'baseline', axis=1)\n",
    "pivot['abs diff'] = pivot.apply(lambda x: abs(x.deep - x.baseline), axis=1)\n",
    "pivot['label count'] = [c[x] for x in pivot.index.values]\n",
    "pivot.sort_values(by=['label count'], ascending=False)"
   ]
  },
  {
   "cell_type": "code",
   "execution_count": 80,
   "metadata": {},
   "outputs": [
    {
     "ename": "NameError",
     "evalue": "name 'wrapper' is not defined",
     "output_type": "error",
     "traceback": [
      "\u001b[0;31m---------------------------------------------------------------------------\u001b[0m",
      "\u001b[0;31mNameError\u001b[0m                                 Traceback (most recent call last)",
      "\u001b[0;32m<ipython-input-80-91b30af63627>\u001b[0m in \u001b[0;36m<module>\u001b[0;34m\u001b[0m\n\u001b[0;32m----> 1\u001b[0;31m \u001b[0mwrapper\u001b[0m\u001b[0;34m\u001b[0m\u001b[0;34m\u001b[0m\u001b[0m\n\u001b[0m",
      "\u001b[0;31mNameError\u001b[0m: name 'wrapper' is not defined"
     ]
    }
   ],
   "source": [
    "wrapper"
   ]
  },
  {
   "cell_type": "code",
   "execution_count": 99,
   "metadata": {},
   "outputs": [
    {
     "data": {
      "text/plain": [
       "60000"
      ]
     },
     "execution_count": 99,
     "metadata": {},
     "output_type": "execute_result"
    }
   ],
   "source": [
    "len(wrapper.learn.data.vocab.itos)"
   ]
  },
  {
   "cell_type": "code",
   "execution_count": 100,
   "metadata": {},
   "outputs": [
    {
     "data": {
      "text/html": [
       "<div>\n",
       "<style scoped>\n",
       "    .dataframe tbody tr th:only-of-type {\n",
       "        vertical-align: middle;\n",
       "    }\n",
       "\n",
       "    .dataframe tbody tr th {\n",
       "        vertical-align: top;\n",
       "    }\n",
       "\n",
       "    .dataframe thead th {\n",
       "        text-align: right;\n",
       "    }\n",
       "</style>\n",
       "<table border=\"1\" class=\"dataframe\">\n",
       "  <thead>\n",
       "    <tr style=\"text-align: right;\">\n",
       "      <th>category</th>\n",
       "      <th>baseline</th>\n",
       "      <th>deep</th>\n",
       "      <th>winner</th>\n",
       "      <th>abs diff</th>\n",
       "      <th>label count</th>\n",
       "    </tr>\n",
       "    <tr>\n",
       "      <th>label</th>\n",
       "      <th></th>\n",
       "      <th></th>\n",
       "      <th></th>\n",
       "      <th></th>\n",
       "      <th></th>\n",
       "    </tr>\n",
       "  </thead>\n",
       "  <tbody>\n",
       "    <tr>\n",
       "      <th>sig/api-machinery</th>\n",
       "      <td>0.91833</td>\n",
       "      <td>0.92121</td>\n",
       "      <td>deep</td>\n",
       "      <td>0.00288</td>\n",
       "      <td>2228</td>\n",
       "    </tr>\n",
       "    <tr>\n",
       "      <th>sig/apps</th>\n",
       "      <td>0.93730</td>\n",
       "      <td>0.93157</td>\n",
       "      <td>baseline</td>\n",
       "      <td>0.00573</td>\n",
       "      <td>844</td>\n",
       "    </tr>\n",
       "    <tr>\n",
       "      <th>sig/architecture</th>\n",
       "      <td>0.77077</td>\n",
       "      <td>0.79016</td>\n",
       "      <td>deep</td>\n",
       "      <td>0.01939</td>\n",
       "      <td>99</td>\n",
       "    </tr>\n",
       "    <tr>\n",
       "      <th>sig/auth</th>\n",
       "      <td>0.96020</td>\n",
       "      <td>0.96989</td>\n",
       "      <td>deep</td>\n",
       "      <td>0.00969</td>\n",
       "      <td>600</td>\n",
       "    </tr>\n",
       "    <tr>\n",
       "      <th>sig/autoscaling</th>\n",
       "      <td>0.98215</td>\n",
       "      <td>0.97122</td>\n",
       "      <td>baseline</td>\n",
       "      <td>0.01093</td>\n",
       "      <td>210</td>\n",
       "    </tr>\n",
       "    <tr>\n",
       "      <th>sig/aws</th>\n",
       "      <td>0.96803</td>\n",
       "      <td>0.96946</td>\n",
       "      <td>deep</td>\n",
       "      <td>0.00143</td>\n",
       "      <td>438</td>\n",
       "    </tr>\n",
       "    <tr>\n",
       "      <th>sig/azure</th>\n",
       "      <td>0.98287</td>\n",
       "      <td>0.97849</td>\n",
       "      <td>baseline</td>\n",
       "      <td>0.00438</td>\n",
       "      <td>302</td>\n",
       "    </tr>\n",
       "    <tr>\n",
       "      <th>sig/cli</th>\n",
       "      <td>0.95712</td>\n",
       "      <td>0.95872</td>\n",
       "      <td>deep</td>\n",
       "      <td>0.00160</td>\n",
       "      <td>1109</td>\n",
       "    </tr>\n",
       "    <tr>\n",
       "      <th>sig/cloud-provider</th>\n",
       "      <td>0.94083</td>\n",
       "      <td>0.83947</td>\n",
       "      <td>baseline</td>\n",
       "      <td>0.10136</td>\n",
       "      <td>54</td>\n",
       "    </tr>\n",
       "    <tr>\n",
       "      <th>sig/cluster-lifecycle</th>\n",
       "      <td>0.90756</td>\n",
       "      <td>0.90328</td>\n",
       "      <td>baseline</td>\n",
       "      <td>0.00428</td>\n",
       "      <td>950</td>\n",
       "    </tr>\n",
       "    <tr>\n",
       "      <th>sig/cluster-ops</th>\n",
       "      <td>0.80334</td>\n",
       "      <td>0.81560</td>\n",
       "      <td>deep</td>\n",
       "      <td>0.01226</td>\n",
       "      <td>63</td>\n",
       "    </tr>\n",
       "    <tr>\n",
       "      <th>sig/contributor-experience</th>\n",
       "      <td>0.89864</td>\n",
       "      <td>0.90015</td>\n",
       "      <td>deep</td>\n",
       "      <td>0.00151</td>\n",
       "      <td>152</td>\n",
       "    </tr>\n",
       "    <tr>\n",
       "      <th>sig/docs</th>\n",
       "      <td>0.95432</td>\n",
       "      <td>0.96787</td>\n",
       "      <td>deep</td>\n",
       "      <td>0.01355</td>\n",
       "      <td>205</td>\n",
       "    </tr>\n",
       "    <tr>\n",
       "      <th>sig/federation</th>\n",
       "      <td>0.98487</td>\n",
       "      <td>0.98119</td>\n",
       "      <td>baseline</td>\n",
       "      <td>0.00368</td>\n",
       "      <td>170</td>\n",
       "    </tr>\n",
       "    <tr>\n",
       "      <th>sig/gcp</th>\n",
       "      <td>0.91767</td>\n",
       "      <td>0.89395</td>\n",
       "      <td>baseline</td>\n",
       "      <td>0.02372</td>\n",
       "      <td>203</td>\n",
       "    </tr>\n",
       "    <tr>\n",
       "      <th>sig/instrumentation</th>\n",
       "      <td>0.94775</td>\n",
       "      <td>0.92543</td>\n",
       "      <td>baseline</td>\n",
       "      <td>0.02232</td>\n",
       "      <td>253</td>\n",
       "    </tr>\n",
       "    <tr>\n",
       "      <th>sig/multicluster</th>\n",
       "      <td>0.97841</td>\n",
       "      <td>0.98127</td>\n",
       "      <td>deep</td>\n",
       "      <td>0.00286</td>\n",
       "      <td>175</td>\n",
       "    </tr>\n",
       "    <tr>\n",
       "      <th>sig/network</th>\n",
       "      <td>0.95846</td>\n",
       "      <td>0.96263</td>\n",
       "      <td>deep</td>\n",
       "      <td>0.00417</td>\n",
       "      <td>1829</td>\n",
       "    </tr>\n",
       "    <tr>\n",
       "      <th>sig/node</th>\n",
       "      <td>0.91357</td>\n",
       "      <td>0.91581</td>\n",
       "      <td>deep</td>\n",
       "      <td>0.00224</td>\n",
       "      <td>2738</td>\n",
       "    </tr>\n",
       "    <tr>\n",
       "      <th>sig/openstack</th>\n",
       "      <td>0.99888</td>\n",
       "      <td>0.99562</td>\n",
       "      <td>baseline</td>\n",
       "      <td>0.00326</td>\n",
       "      <td>151</td>\n",
       "    </tr>\n",
       "    <tr>\n",
       "      <th>sig/release</th>\n",
       "      <td>0.93532</td>\n",
       "      <td>0.94492</td>\n",
       "      <td>deep</td>\n",
       "      <td>0.00960</td>\n",
       "      <td>330</td>\n",
       "    </tr>\n",
       "    <tr>\n",
       "      <th>sig/scalability</th>\n",
       "      <td>0.92717</td>\n",
       "      <td>0.92195</td>\n",
       "      <td>baseline</td>\n",
       "      <td>0.00522</td>\n",
       "      <td>511</td>\n",
       "    </tr>\n",
       "    <tr>\n",
       "      <th>sig/scheduling</th>\n",
       "      <td>0.94497</td>\n",
       "      <td>0.94750</td>\n",
       "      <td>deep</td>\n",
       "      <td>0.00253</td>\n",
       "      <td>798</td>\n",
       "    </tr>\n",
       "    <tr>\n",
       "      <th>sig/storage</th>\n",
       "      <td>0.97308</td>\n",
       "      <td>0.97626</td>\n",
       "      <td>deep</td>\n",
       "      <td>0.00318</td>\n",
       "      <td>1596</td>\n",
       "    </tr>\n",
       "    <tr>\n",
       "      <th>sig/testing</th>\n",
       "      <td>0.92759</td>\n",
       "      <td>0.92639</td>\n",
       "      <td>baseline</td>\n",
       "      <td>0.00120</td>\n",
       "      <td>715</td>\n",
       "    </tr>\n",
       "    <tr>\n",
       "      <th>sig/vmware</th>\n",
       "      <td>0.94991</td>\n",
       "      <td>0.83250</td>\n",
       "      <td>baseline</td>\n",
       "      <td>0.11741</td>\n",
       "      <td>39</td>\n",
       "    </tr>\n",
       "    <tr>\n",
       "      <th>sig/windows</th>\n",
       "      <td>0.99501</td>\n",
       "      <td>0.98935</td>\n",
       "      <td>baseline</td>\n",
       "      <td>0.00566</td>\n",
       "      <td>185</td>\n",
       "    </tr>\n",
       "  </tbody>\n",
       "</table>\n",
       "</div>"
      ],
      "text/plain": [
       "category                    baseline     deep    winner  abs diff  label count\n",
       "label                                                                         \n",
       "sig/api-machinery            0.91833  0.92121      deep   0.00288         2228\n",
       "sig/apps                     0.93730  0.93157  baseline   0.00573          844\n",
       "sig/architecture             0.77077  0.79016      deep   0.01939           99\n",
       "sig/auth                     0.96020  0.96989      deep   0.00969          600\n",
       "sig/autoscaling              0.98215  0.97122  baseline   0.01093          210\n",
       "sig/aws                      0.96803  0.96946      deep   0.00143          438\n",
       "sig/azure                    0.98287  0.97849  baseline   0.00438          302\n",
       "sig/cli                      0.95712  0.95872      deep   0.00160         1109\n",
       "sig/cloud-provider           0.94083  0.83947  baseline   0.10136           54\n",
       "sig/cluster-lifecycle        0.90756  0.90328  baseline   0.00428          950\n",
       "sig/cluster-ops              0.80334  0.81560      deep   0.01226           63\n",
       "sig/contributor-experience   0.89864  0.90015      deep   0.00151          152\n",
       "sig/docs                     0.95432  0.96787      deep   0.01355          205\n",
       "sig/federation               0.98487  0.98119  baseline   0.00368          170\n",
       "sig/gcp                      0.91767  0.89395  baseline   0.02372          203\n",
       "sig/instrumentation          0.94775  0.92543  baseline   0.02232          253\n",
       "sig/multicluster             0.97841  0.98127      deep   0.00286          175\n",
       "sig/network                  0.95846  0.96263      deep   0.00417         1829\n",
       "sig/node                     0.91357  0.91581      deep   0.00224         2738\n",
       "sig/openstack                0.99888  0.99562  baseline   0.00326          151\n",
       "sig/release                  0.93532  0.94492      deep   0.00960          330\n",
       "sig/scalability              0.92717  0.92195  baseline   0.00522          511\n",
       "sig/scheduling               0.94497  0.94750      deep   0.00253          798\n",
       "sig/storage                  0.97308  0.97626      deep   0.00318         1596\n",
       "sig/testing                  0.92759  0.92639  baseline   0.00120          715\n",
       "sig/vmware                   0.94991  0.83250  baseline   0.11741           39\n",
       "sig/windows                  0.99501  0.98935  baseline   0.00566          185"
      ]
     },
     "execution_count": 100,
     "metadata": {},
     "output_type": "execute_result"
    }
   ],
   "source": [
    "pivot.to_picklei('pivot_df.pkl')"
   ]
  },
  {
   "cell_type": "code",
   "execution_count": 103,
   "metadata": {},
   "outputs": [],
   "source": [
    "import pandas as pd"
   ]
  },
  {
   "cell_type": "code",
   "execution_count": 116,
   "metadata": {},
   "outputs": [],
   "source": [
    "score_df = pd.read_pickle('score_df.pkl')"
   ]
  },
  {
   "cell_type": "code",
   "execution_count": 117,
   "metadata": {},
   "outputs": [],
   "source": [
    "score_df.set_index('label', inplace=True)"
   ]
  },
  {
   "cell_type": "code",
   "execution_count": 118,
   "metadata": {},
   "outputs": [],
   "source": [
    "score_df.columns = ['deep2']"
   ]
  },
  {
   "cell_type": "code",
   "execution_count": 119,
   "metadata": {},
   "outputs": [],
   "source": [
    "new_pivot = pivot.join(score_df, how='left')[['baseline', 'deep', 'deep2', 'label count']]"
   ]
  },
  {
   "cell_type": "code",
   "execution_count": 121,
   "metadata": {},
   "outputs": [],
   "source": [
    "def winner(x):\n",
    "    if x.baseline > x.deep and x.baseline > x.deep2:\n",
    "        return 'baseline'\n",
    "    elif x.deep > x.deep2:\n",
    "        return 'deep'\n",
    "    elif x.deep2 > x.deep:\n",
    "        return 'deep2'"
   ]
  },
  {
   "cell_type": "code",
   "execution_count": 124,
   "metadata": {},
   "outputs": [],
   "source": [
    "new_pivot.dropna(inplace=True)"
   ]
  },
  {
   "cell_type": "code",
   "execution_count": 125,
   "metadata": {},
   "outputs": [],
   "source": [
    "new_pivot['winner'] = new_pivot.apply(lambda x: winner(x), axis=1)"
   ]
  },
  {
   "cell_type": "code",
   "execution_count": 130,
   "metadata": {},
   "outputs": [],
   "source": [
    "new_pivot['baseline minus best deep'] = new_pivot.apply(lambda x: x.baseline - max(x.deep, x.deep2), axis=1)"
   ]
  },
  {
   "cell_type": "code",
   "execution_count": 135,
   "metadata": {},
   "outputs": [],
   "source": [
    "new_pivot['abs diff'] = new_pivot.apply(lambda x: abs(x['baseline minus best deep']), axis=1)"
   ]
  },
  {
   "cell_type": "code",
   "execution_count": 136,
   "metadata": {},
   "outputs": [
    {
     "data": {
      "text/html": [
       "<div>\n",
       "<style scoped>\n",
       "    .dataframe tbody tr th:only-of-type {\n",
       "        vertical-align: middle;\n",
       "    }\n",
       "\n",
       "    .dataframe tbody tr th {\n",
       "        vertical-align: top;\n",
       "    }\n",
       "\n",
       "    .dataframe thead th {\n",
       "        text-align: right;\n",
       "    }\n",
       "</style>\n",
       "<table border=\"1\" class=\"dataframe\">\n",
       "  <thead>\n",
       "    <tr style=\"text-align: right;\">\n",
       "      <th></th>\n",
       "      <th>baseline</th>\n",
       "      <th>deep</th>\n",
       "      <th>deep2</th>\n",
       "      <th>label count</th>\n",
       "      <th>winner</th>\n",
       "      <th>baseline minus best deep</th>\n",
       "      <th>abs diff</th>\n",
       "    </tr>\n",
       "    <tr>\n",
       "      <th>label</th>\n",
       "      <th></th>\n",
       "      <th></th>\n",
       "      <th></th>\n",
       "      <th></th>\n",
       "      <th></th>\n",
       "      <th></th>\n",
       "      <th></th>\n",
       "    </tr>\n",
       "  </thead>\n",
       "  <tbody>\n",
       "    <tr>\n",
       "      <th>sig/node</th>\n",
       "      <td>0.91357</td>\n",
       "      <td>0.91581</td>\n",
       "      <td>0.858869</td>\n",
       "      <td>2738</td>\n",
       "      <td>deep</td>\n",
       "      <td>-0.002240</td>\n",
       "      <td>0.002240</td>\n",
       "    </tr>\n",
       "    <tr>\n",
       "      <th>sig/api-machinery</th>\n",
       "      <td>0.91833</td>\n",
       "      <td>0.92121</td>\n",
       "      <td>0.885092</td>\n",
       "      <td>2228</td>\n",
       "      <td>deep</td>\n",
       "      <td>-0.002880</td>\n",
       "      <td>0.002880</td>\n",
       "    </tr>\n",
       "    <tr>\n",
       "      <th>sig/network</th>\n",
       "      <td>0.95846</td>\n",
       "      <td>0.96263</td>\n",
       "      <td>0.923890</td>\n",
       "      <td>1829</td>\n",
       "      <td>deep</td>\n",
       "      <td>-0.004170</td>\n",
       "      <td>0.004170</td>\n",
       "    </tr>\n",
       "    <tr>\n",
       "      <th>sig/storage</th>\n",
       "      <td>0.97308</td>\n",
       "      <td>0.97626</td>\n",
       "      <td>0.950718</td>\n",
       "      <td>1596</td>\n",
       "      <td>deep</td>\n",
       "      <td>-0.003180</td>\n",
       "      <td>0.003180</td>\n",
       "    </tr>\n",
       "    <tr>\n",
       "      <th>sig/cli</th>\n",
       "      <td>0.95712</td>\n",
       "      <td>0.95872</td>\n",
       "      <td>0.931973</td>\n",
       "      <td>1109</td>\n",
       "      <td>deep</td>\n",
       "      <td>-0.001600</td>\n",
       "      <td>0.001600</td>\n",
       "    </tr>\n",
       "    <tr>\n",
       "      <th>sig/cluster-lifecycle</th>\n",
       "      <td>0.90756</td>\n",
       "      <td>0.90328</td>\n",
       "      <td>0.839113</td>\n",
       "      <td>950</td>\n",
       "      <td>baseline</td>\n",
       "      <td>0.004280</td>\n",
       "      <td>0.004280</td>\n",
       "    </tr>\n",
       "    <tr>\n",
       "      <th>sig/apps</th>\n",
       "      <td>0.93730</td>\n",
       "      <td>0.93157</td>\n",
       "      <td>0.870553</td>\n",
       "      <td>844</td>\n",
       "      <td>baseline</td>\n",
       "      <td>0.005730</td>\n",
       "      <td>0.005730</td>\n",
       "    </tr>\n",
       "    <tr>\n",
       "      <th>sig/scheduling</th>\n",
       "      <td>0.94497</td>\n",
       "      <td>0.94750</td>\n",
       "      <td>0.919081</td>\n",
       "      <td>798</td>\n",
       "      <td>deep</td>\n",
       "      <td>-0.002530</td>\n",
       "      <td>0.002530</td>\n",
       "    </tr>\n",
       "    <tr>\n",
       "      <th>sig/testing</th>\n",
       "      <td>0.92759</td>\n",
       "      <td>0.92639</td>\n",
       "      <td>0.891095</td>\n",
       "      <td>715</td>\n",
       "      <td>baseline</td>\n",
       "      <td>0.001200</td>\n",
       "      <td>0.001200</td>\n",
       "    </tr>\n",
       "    <tr>\n",
       "      <th>sig/auth</th>\n",
       "      <td>0.96020</td>\n",
       "      <td>0.96989</td>\n",
       "      <td>0.955708</td>\n",
       "      <td>600</td>\n",
       "      <td>deep</td>\n",
       "      <td>-0.009690</td>\n",
       "      <td>0.009690</td>\n",
       "    </tr>\n",
       "    <tr>\n",
       "      <th>sig/scalability</th>\n",
       "      <td>0.92717</td>\n",
       "      <td>0.92195</td>\n",
       "      <td>0.904515</td>\n",
       "      <td>511</td>\n",
       "      <td>baseline</td>\n",
       "      <td>0.005220</td>\n",
       "      <td>0.005220</td>\n",
       "    </tr>\n",
       "    <tr>\n",
       "      <th>sig/aws</th>\n",
       "      <td>0.96803</td>\n",
       "      <td>0.96946</td>\n",
       "      <td>0.914334</td>\n",
       "      <td>438</td>\n",
       "      <td>deep</td>\n",
       "      <td>-0.001430</td>\n",
       "      <td>0.001430</td>\n",
       "    </tr>\n",
       "    <tr>\n",
       "      <th>sig/release</th>\n",
       "      <td>0.93532</td>\n",
       "      <td>0.94492</td>\n",
       "      <td>0.962541</td>\n",
       "      <td>330</td>\n",
       "      <td>deep2</td>\n",
       "      <td>-0.027221</td>\n",
       "      <td>0.027221</td>\n",
       "    </tr>\n",
       "    <tr>\n",
       "      <th>sig/azure</th>\n",
       "      <td>0.98287</td>\n",
       "      <td>0.97849</td>\n",
       "      <td>0.945328</td>\n",
       "      <td>302</td>\n",
       "      <td>baseline</td>\n",
       "      <td>0.004380</td>\n",
       "      <td>0.004380</td>\n",
       "    </tr>\n",
       "    <tr>\n",
       "      <th>sig/instrumentation</th>\n",
       "      <td>0.94775</td>\n",
       "      <td>0.92543</td>\n",
       "      <td>0.924874</td>\n",
       "      <td>253</td>\n",
       "      <td>baseline</td>\n",
       "      <td>0.022320</td>\n",
       "      <td>0.022320</td>\n",
       "    </tr>\n",
       "    <tr>\n",
       "      <th>sig/autoscaling</th>\n",
       "      <td>0.98215</td>\n",
       "      <td>0.97122</td>\n",
       "      <td>0.966609</td>\n",
       "      <td>210</td>\n",
       "      <td>baseline</td>\n",
       "      <td>0.010930</td>\n",
       "      <td>0.010930</td>\n",
       "    </tr>\n",
       "    <tr>\n",
       "      <th>sig/docs</th>\n",
       "      <td>0.95432</td>\n",
       "      <td>0.96787</td>\n",
       "      <td>0.952235</td>\n",
       "      <td>205</td>\n",
       "      <td>deep</td>\n",
       "      <td>-0.013550</td>\n",
       "      <td>0.013550</td>\n",
       "    </tr>\n",
       "    <tr>\n",
       "      <th>sig/gcp</th>\n",
       "      <td>0.91767</td>\n",
       "      <td>0.89395</td>\n",
       "      <td>0.905793</td>\n",
       "      <td>203</td>\n",
       "      <td>baseline</td>\n",
       "      <td>0.011877</td>\n",
       "      <td>0.011877</td>\n",
       "    </tr>\n",
       "    <tr>\n",
       "      <th>sig/windows</th>\n",
       "      <td>0.99501</td>\n",
       "      <td>0.98935</td>\n",
       "      <td>0.963734</td>\n",
       "      <td>185</td>\n",
       "      <td>baseline</td>\n",
       "      <td>0.005660</td>\n",
       "      <td>0.005660</td>\n",
       "    </tr>\n",
       "    <tr>\n",
       "      <th>sig/multicluster</th>\n",
       "      <td>0.97841</td>\n",
       "      <td>0.98127</td>\n",
       "      <td>0.957589</td>\n",
       "      <td>175</td>\n",
       "      <td>deep</td>\n",
       "      <td>-0.002860</td>\n",
       "      <td>0.002860</td>\n",
       "    </tr>\n",
       "    <tr>\n",
       "      <th>sig/contributor-experience</th>\n",
       "      <td>0.89864</td>\n",
       "      <td>0.90015</td>\n",
       "      <td>0.950883</td>\n",
       "      <td>152</td>\n",
       "      <td>deep2</td>\n",
       "      <td>-0.052243</td>\n",
       "      <td>0.052243</td>\n",
       "    </tr>\n",
       "    <tr>\n",
       "      <th>sig/openstack</th>\n",
       "      <td>0.99888</td>\n",
       "      <td>0.99562</td>\n",
       "      <td>0.967683</td>\n",
       "      <td>151</td>\n",
       "      <td>baseline</td>\n",
       "      <td>0.003260</td>\n",
       "      <td>0.003260</td>\n",
       "    </tr>\n",
       "    <tr>\n",
       "      <th>sig/architecture</th>\n",
       "      <td>0.77077</td>\n",
       "      <td>0.79016</td>\n",
       "      <td>0.791988</td>\n",
       "      <td>99</td>\n",
       "      <td>deep2</td>\n",
       "      <td>-0.021218</td>\n",
       "      <td>0.021218</td>\n",
       "    </tr>\n",
       "    <tr>\n",
       "      <th>sig/cloud-provider</th>\n",
       "      <td>0.94083</td>\n",
       "      <td>0.83947</td>\n",
       "      <td>0.909944</td>\n",
       "      <td>54</td>\n",
       "      <td>baseline</td>\n",
       "      <td>0.030886</td>\n",
       "      <td>0.030886</td>\n",
       "    </tr>\n",
       "  </tbody>\n",
       "</table>\n",
       "</div>"
      ],
      "text/plain": [
       "                            baseline     deep     deep2  label count  \\\n",
       "label                                                                  \n",
       "sig/node                     0.91357  0.91581  0.858869         2738   \n",
       "sig/api-machinery            0.91833  0.92121  0.885092         2228   \n",
       "sig/network                  0.95846  0.96263  0.923890         1829   \n",
       "sig/storage                  0.97308  0.97626  0.950718         1596   \n",
       "sig/cli                      0.95712  0.95872  0.931973         1109   \n",
       "sig/cluster-lifecycle        0.90756  0.90328  0.839113          950   \n",
       "sig/apps                     0.93730  0.93157  0.870553          844   \n",
       "sig/scheduling               0.94497  0.94750  0.919081          798   \n",
       "sig/testing                  0.92759  0.92639  0.891095          715   \n",
       "sig/auth                     0.96020  0.96989  0.955708          600   \n",
       "sig/scalability              0.92717  0.92195  0.904515          511   \n",
       "sig/aws                      0.96803  0.96946  0.914334          438   \n",
       "sig/release                  0.93532  0.94492  0.962541          330   \n",
       "sig/azure                    0.98287  0.97849  0.945328          302   \n",
       "sig/instrumentation          0.94775  0.92543  0.924874          253   \n",
       "sig/autoscaling              0.98215  0.97122  0.966609          210   \n",
       "sig/docs                     0.95432  0.96787  0.952235          205   \n",
       "sig/gcp                      0.91767  0.89395  0.905793          203   \n",
       "sig/windows                  0.99501  0.98935  0.963734          185   \n",
       "sig/multicluster             0.97841  0.98127  0.957589          175   \n",
       "sig/contributor-experience   0.89864  0.90015  0.950883          152   \n",
       "sig/openstack                0.99888  0.99562  0.967683          151   \n",
       "sig/architecture             0.77077  0.79016  0.791988           99   \n",
       "sig/cloud-provider           0.94083  0.83947  0.909944           54   \n",
       "\n",
       "                              winner  baseline minus best deep  abs diff  \n",
       "label                                                                     \n",
       "sig/node                        deep                 -0.002240  0.002240  \n",
       "sig/api-machinery               deep                 -0.002880  0.002880  \n",
       "sig/network                     deep                 -0.004170  0.004170  \n",
       "sig/storage                     deep                 -0.003180  0.003180  \n",
       "sig/cli                         deep                 -0.001600  0.001600  \n",
       "sig/cluster-lifecycle       baseline                  0.004280  0.004280  \n",
       "sig/apps                    baseline                  0.005730  0.005730  \n",
       "sig/scheduling                  deep                 -0.002530  0.002530  \n",
       "sig/testing                 baseline                  0.001200  0.001200  \n",
       "sig/auth                        deep                 -0.009690  0.009690  \n",
       "sig/scalability             baseline                  0.005220  0.005220  \n",
       "sig/aws                         deep                 -0.001430  0.001430  \n",
       "sig/release                    deep2                 -0.027221  0.027221  \n",
       "sig/azure                   baseline                  0.004380  0.004380  \n",
       "sig/instrumentation         baseline                  0.022320  0.022320  \n",
       "sig/autoscaling             baseline                  0.010930  0.010930  \n",
       "sig/docs                        deep                 -0.013550  0.013550  \n",
       "sig/gcp                     baseline                  0.011877  0.011877  \n",
       "sig/windows                 baseline                  0.005660  0.005660  \n",
       "sig/multicluster                deep                 -0.002860  0.002860  \n",
       "sig/contributor-experience     deep2                 -0.052243  0.052243  \n",
       "sig/openstack               baseline                  0.003260  0.003260  \n",
       "sig/architecture               deep2                 -0.021218  0.021218  \n",
       "sig/cloud-provider          baseline                  0.030886  0.030886  "
      ]
     },
     "execution_count": 136,
     "metadata": {},
     "output_type": "execute_result"
    }
   ],
   "source": [
    "new_pivot.sort_values('label count', ascending=False)"
   ]
  },
  {
   "cell_type": "code",
   "execution_count": 132,
   "metadata": {},
   "outputs": [
    {
     "data": {
      "text/plain": [
       "baseline                      0.941500\n",
       "deep                          0.936774\n",
       "deep2                         0.918506\n",
       "label count                 694.791667\n",
       "baseline minus best deep     -0.001628\n",
       "dtype: float64"
      ]
     },
     "execution_count": 132,
     "metadata": {},
     "output_type": "execute_result"
    }
   ],
   "source": [
    "new_pivot.mean()"
   ]
  },
  {
   "cell_type": "code",
   "execution_count": null,
   "metadata": {},
   "outputs": [],
   "source": []
  }
 ],
 "metadata": {
  "kernelspec": {
   "display_name": "Python 3",
   "language": "python",
   "name": "python3"
  },
  "language_info": {
   "codemirror_mode": {
    "name": "ipython",
    "version": 3
   },
   "file_extension": ".py",
   "mimetype": "text/x-python",
   "name": "python",
   "nbconvert_exporter": "python",
   "pygments_lexer": "ipython3",
   "version": "3.6.7"
  }
 },
 "nbformat": 4,
 "nbformat_minor": 2
}
