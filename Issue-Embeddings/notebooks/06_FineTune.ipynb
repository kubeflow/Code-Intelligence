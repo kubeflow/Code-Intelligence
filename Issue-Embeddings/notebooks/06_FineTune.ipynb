{
 "cells": [
  {
   "cell_type": "markdown",
   "metadata": {},
   "source": [
    "## Fine Tune Language Model\n",
    "\n"
   ]
  },
  {
   "cell_type": "markdown",
   "metadata": {},
   "source": [
    "#### The results of the above query can be downloaded as a csv file from this link: \n",
    "\n",
    "https://storage.googleapis.com/issue_label_bot/k8s_issues/000000000000.csv"
   ]
  },
  {
   "cell_type": "code",
   "execution_count": 1,
   "metadata": {},
   "outputs": [],
   "source": [
    "import os\n",
    "import torch\n",
    "from torch.cuda import empty_cache\n",
    "os.environ[\"CUDA_DEVICE_ORDER\"]=\"PCI_BUS_ID\"\n",
    "os.environ[\"CUDA_VISIBLE_DEVICES\"]=\"3\"\n",
    "\n",
    "import pandas as pd\n",
    "import numpy as np\n",
    "import re\n",
    "pd.set_option('max_colwidth', 1000)"
   ]
  },
  {
   "cell_type": "code",
   "execution_count": 2,
   "metadata": {
    "scrolled": true
   },
   "outputs": [],
   "source": [
    "df = pd.read_csv('https://storage.googleapis.com/issue_label_bot/k8s_issues/000000000000.csv')\n",
    "df.labels = df.labels.apply(lambda x: eval(x))\n",
    "#remove target leakage from kubernetes which are the bot commands\n",
    "df['body'] = df.body.apply(lambda x: re.sub('(/sig|/kind|/status/triage/|priority) \\S+', '', str(x)))\n",
    "df['last_time'] = pd.to_datetime(df.last_time)"
   ]
  },
  {
   "cell_type": "markdown",
   "metadata": {},
   "source": [
    "### Filter Labels By YAML File\n"
   ]
  },
  {
   "cell_type": "code",
   "execution_count": 3,
   "metadata": {},
   "outputs": [],
   "source": [
    "import base64\n",
    "import requests\n",
    "import yaml\n",
    "\n",
    "def get_current_labels(url=\"https://raw.githubusercontent.com/kubernetes/test-infra/master/label_sync/labels.yaml\"):\n",
    "    \"\"\"\n",
    "    Get list of valid issue labels (b/c labels get deprecated over time).\n",
    "    See: https://kubernetes.slack.com/archives/C1TU9EB9S/p1561570627363100\n",
    "    \"\"\"\n",
    "    req = requests.get(url)\n",
    "    yml = yaml.safe_load(req.content)\n",
    "    return [x['name'] for x in yml['default']['labels']]"
   ]
  },
  {
   "cell_type": "code",
   "execution_count": 4,
   "metadata": {},
   "outputs": [
    {
     "name": "stdout",
     "output_type": "stream",
     "text": [
      "Number of labeled issues after filtering: 19,564\n"
     ]
    }
   ],
   "source": [
    "current_labels = get_current_labels()\n",
    "# remove deprecated labels\n",
    "df.labels = df.labels.apply(lambda x: [l for l in x if l in current_labels])\n",
    "# filter out issues without any labels\n",
    "df = df[df.labels.apply(lambda x: x != [])]\n",
    "print(f'Number of labeled issues after filtering: {df.shape[0]:,}')"
   ]
  },
  {
   "cell_type": "code",
   "execution_count": 5,
   "metadata": {},
   "outputs": [
    {
     "data": {
      "text/html": [
       "<div>\n",
       "<style scoped>\n",
       "    .dataframe tbody tr th:only-of-type {\n",
       "        vertical-align: middle;\n",
       "    }\n",
       "\n",
       "    .dataframe tbody tr th {\n",
       "        vertical-align: top;\n",
       "    }\n",
       "\n",
       "    .dataframe thead th {\n",
       "        text-align: right;\n",
       "    }\n",
       "</style>\n",
       "<table border=\"1\" class=\"dataframe\">\n",
       "  <thead>\n",
       "    <tr style=\"text-align: right;\">\n",
       "      <th></th>\n",
       "      <th>updated_at</th>\n",
       "      <th>last_time</th>\n",
       "      <th>labels</th>\n",
       "      <th>repo</th>\n",
       "      <th>url</th>\n",
       "      <th>title</th>\n",
       "      <th>body</th>\n",
       "      <th>len_labels</th>\n",
       "    </tr>\n",
       "  </thead>\n",
       "  <tbody>\n",
       "    <tr>\n",
       "      <th>0</th>\n",
       "      <td>2018-02-24 15:09:51 UTC</td>\n",
       "      <td>2018-02-24 15:09:51+00:00</td>\n",
       "      <td>[lifecycle/rotten, priority/backlog, sig/cluster-lifecycle, sig/node]</td>\n",
       "      <td>kubernetes/kubernetes</td>\n",
       "      <td>\"https://api.github.com/repos/kubernetes/kubernetes/issues/16512\"</td>\n",
       "      <td>minions ip does not follow --hostname-override when set to a hostname</td>\n",
       "      <td>according to  9267, the kubelet should register a node with the  --hostname-override   cluster from scratch . this does not work if set to an actual hostname  even one that resolves correctly . working with the ip:      sh $ /opt/bin/kubelet --hostname-override=172.16.25.131 --address=172.16.25.131 ... $ kubectl describe node minion-2 name:           minion-2 ... addresses:  172.16.25.131      and when the override is set to a hostname  which resolves to the 172 ip :      $ /opt/bin/kubelet --hostname-override=my-server.com --address=172.16.25.131 ... $ kubectl describe node minion-2 name:           minion-2 ... addresses:  2a01:4f8:110:4085::2</td>\n",
       "      <td>4</td>\n",
       "    </tr>\n",
       "  </tbody>\n",
       "</table>\n",
       "</div>"
      ],
      "text/plain": [
       "                updated_at                 last_time  \\\n",
       "0  2018-02-24 15:09:51 UTC 2018-02-24 15:09:51+00:00   \n",
       "\n",
       "                                                                  labels  \\\n",
       "0  [lifecycle/rotten, priority/backlog, sig/cluster-lifecycle, sig/node]   \n",
       "\n",
       "                    repo  \\\n",
       "0  kubernetes/kubernetes   \n",
       "\n",
       "                                                                 url  \\\n",
       "0  \"https://api.github.com/repos/kubernetes/kubernetes/issues/16512\"   \n",
       "\n",
       "                                                                   title  \\\n",
       "0  minions ip does not follow --hostname-override when set to a hostname   \n",
       "\n",
       "                                                                                                                                                                                                                                                                                                                                                                                                                                                                                                                                                                                                                                                                           body  \\\n",
       "0  according to  9267, the kubelet should register a node with the  --hostname-override   cluster from scratch . this does not work if set to an actual hostname  even one that resolves correctly . working with the ip:      sh $ /opt/bin/kubelet --hostname-override=172.16.25.131 --address=172.16.25.131 ... $ kubectl describe node minion-2 name:           minion-2 ... addresses:  172.16.25.131      and when the override is set to a hostname  which resolves to the 172 ip :      $ /opt/bin/kubelet --hostname-override=my-server.com --address=172.16.25.131 ... $ kubectl describe node minion-2 name:           minion-2 ... addresses:  2a01:4f8:110:4085::2   \n",
       "\n",
       "   len_labels  \n",
       "0           4  "
      ]
     },
     "execution_count": 5,
     "metadata": {},
     "output_type": "execute_result"
    }
   ],
   "source": [
    "df.head(1)"
   ]
  },
  {
   "cell_type": "markdown",
   "metadata": {},
   "source": [
    "# Explore The Data"
   ]
  },
  {
   "cell_type": "markdown",
   "metadata": {},
   "source": [
    "### Count Labels"
   ]
  },
  {
   "cell_type": "markdown",
   "metadata": {},
   "source": [
    "### Filter Issues Again To Remove Those w/o Labels occuring at least 50 times"
   ]
  },
  {
   "cell_type": "code",
   "execution_count": 6,
   "metadata": {},
   "outputs": [],
   "source": [
    "from collections import Counter\n",
    "c = Counter()\n",
    "\n",
    "for row in df.labels:\n",
    "    c.update(row)"
   ]
  },
  {
   "cell_type": "code",
   "execution_count": 7,
   "metadata": {},
   "outputs": [
    {
     "name": "stdout",
     "output_type": "stream",
     "text": [
      "44 labels that occur at least 50 times.\n"
     ]
    }
   ],
   "source": [
    "min_threshold = 50\n",
    "min_threshold_labels = [k for k in c if c[k] >= min_threshold]\n",
    "\n",
    "print(f'{len(min_threshold_labels)} labels that occur at least {min_threshold} times.')"
   ]
  },
  {
   "cell_type": "code",
   "execution_count": 8,
   "metadata": {},
   "outputs": [
    {
     "name": "stdout",
     "output_type": "stream",
     "text": [
      "Number of labeled issues after filtering again: 19,549\n"
     ]
    }
   ],
   "source": [
    "df['labels'] = df.labels.apply(lambda x: [l for l in x if l in min_threshold_labels])\n",
    "df = df[df.labels.apply(lambda x: x != [])]\n",
    "print(f'Number of labeled issues after filtering again: {df.shape[0]:,}')"
   ]
  },
  {
   "cell_type": "markdown",
   "metadata": {},
   "source": [
    "Remaining Issues"
   ]
  },
  {
   "cell_type": "code",
   "execution_count": 9,
   "metadata": {},
   "outputs": [
    {
     "name": "stdout",
     "output_type": "stream",
     "text": [
      "lifecycle/rotten: 4352\n",
      "priority/backlog: 1588\n",
      "sig/cluster-lifecycle: 950\n",
      "sig/node: 2738\n",
      "kind/flake: 3294\n",
      "lifecycle/stale: 784\n",
      "help wanted: 132\n",
      "kind/feature: 2051\n",
      "sig/api-machinery: 2228\n",
      "sig/scalability: 511\n",
      "sig/cli: 1109\n",
      "kind/bug: 6107\n",
      "needs-sig: 1188\n",
      "sig/autoscaling: 210\n",
      "sig/network: 1829\n",
      "sig/cloud-provider: 54\n",
      "kind/failing-test: 294\n",
      "priority/important-longterm: 166\n",
      "sig/storage: 1596\n",
      "sig/scheduling: 798\n",
      "sig/apps: 844\n",
      "priority/awaiting-more-evidence: 383\n",
      "priority/important-soon: 1222\n",
      "priority/critical-urgent: 553\n",
      "sig/windows: 185\n",
      "kind/documentation: 483\n",
      "sig/auth: 600\n",
      "triage/support: 288\n",
      "sig/docs: 205\n",
      "sig/testing: 715\n",
      "sig/gcp: 203\n",
      "sig/release: 330\n",
      "kind/cleanup: 438\n",
      "lifecycle/frozen: 131\n",
      "sig/azure: 302\n",
      "sig/aws: 438\n",
      "sig/multicluster: 175\n",
      "sig/instrumentation: 253\n",
      "sig/openstack: 151\n",
      "kind/design: 130\n",
      "kind/api-change: 57\n",
      "sig/contributor-experience: 152\n",
      "sig/architecture: 99\n",
      "triage/unresolved: 147\n"
     ]
    }
   ],
   "source": [
    "for l in min_threshold_labels:\n",
    "    print(f'{l}: {c[l]}')"
   ]
  },
  {
   "cell_type": "markdown",
   "metadata": {},
   "source": [
    "### Number of Issues By Time (after filtering)\n",
    "\n",
    "(Issues were filtered out in previous years due to having deprecated issue labels)"
   ]
  },
  {
   "cell_type": "code",
   "execution_count": 10,
   "metadata": {},
   "outputs": [
    {
     "data": {
      "text/plain": [
       "year\n",
       "2016    2714\n",
       "2017    6311\n",
       "2018    7238\n",
       "2019    3286\n",
       "Name: body, dtype: int64"
      ]
     },
     "execution_count": 10,
     "metadata": {},
     "output_type": "execute_result"
    }
   ],
   "source": [
    "df['year'] = df.last_time.apply(lambda x: x.year)\n",
    "df.groupby('year')['body'].count()"
   ]
  },
  {
   "cell_type": "markdown",
   "metadata": {},
   "source": [
    "#### Sig/ Labels"
   ]
  },
  {
   "cell_type": "markdown",
   "metadata": {},
   "source": [
    "## Parse Issue Bodies"
   ]
  },
  {
   "cell_type": "code",
   "execution_count": 11,
   "metadata": {},
   "outputs": [],
   "source": [
    "from inference import InferenceWrapper, pass_through\n",
    "from sklearn.model_selection import train_test_split"
   ]
  },
  {
   "cell_type": "code",
   "execution_count": 12,
   "metadata": {},
   "outputs": [
    {
     "data": {
      "application/vnd.jupyter.widget-view+json": {
       "model_id": "33d555968284471795e2bb4b8415097f",
       "version_major": 2,
       "version_minor": 0
      },
      "text/plain": [
       "HBox(children=(IntProgress(value=0, max=19549), HTML(value='')))"
      ]
     },
     "metadata": {},
     "output_type": "display_data"
    },
    {
     "name": "stdout",
     "output_type": "stream",
     "text": [
      "\n"
     ]
    }
   ],
   "source": [
    "parsed_df = InferenceWrapper.process_df(df)"
   ]
  },
  {
   "cell_type": "markdown",
   "metadata": {},
   "source": [
    "Join the labels back onto the parsed text"
   ]
  },
  {
   "cell_type": "code",
   "execution_count": 13,
   "metadata": {},
   "outputs": [],
   "source": [
    "assert parsed_df.shape[0] == df.shape[0]\n",
    "ml_df = pd.concat([df.reset_index(drop=True), parsed_df], axis=1)[['text', 'labels']]\n",
    "# must delimit the labels by something (here using space) for fastai\n",
    "ml_df['labels'] = ml_df.labels.apply(lambda x: ' '.join(x))\n",
    "assert len(ml_df) == len(parsed_df) == len(df)"
   ]
  },
  {
   "cell_type": "code",
   "execution_count": 14,
   "metadata": {},
   "outputs": [
    {
     "data": {
      "text/html": [
       "<div>\n",
       "<style scoped>\n",
       "    .dataframe tbody tr th:only-of-type {\n",
       "        vertical-align: middle;\n",
       "    }\n",
       "\n",
       "    .dataframe tbody tr th {\n",
       "        vertical-align: top;\n",
       "    }\n",
       "\n",
       "    .dataframe thead th {\n",
       "        text-align: right;\n",
       "    }\n",
       "</style>\n",
       "<table border=\"1\" class=\"dataframe\">\n",
       "  <thead>\n",
       "    <tr style=\"text-align: right;\">\n",
       "      <th></th>\n",
       "      <th>text</th>\n",
       "      <th>labels</th>\n",
       "    </tr>\n",
       "  </thead>\n",
       "  <tbody>\n",
       "    <tr>\n",
       "      <th>0</th>\n",
       "      <td>xxxfldtitle minions ip does not follow --hostname-override when set to a hostname xxxfldbody according to 9267, the kubelet should register a node with the --hostname-override cluster from scratch . this does not work if set to an actual hostname even one that resolves correctly . working with the ip: sh $ xxxfilepath --hostname-override=xxunk --address=xxunk ... $ kubectl describe node minion-2 name: minion-2 ... addresses: xxunk and when the override is set to a hostname which resolves to the 172 ip : $ xxxfilepath xxunk --address=xxunk ... $ kubectl describe node minion-2 name: minion-2 ... addresses: 2a01:4f8:110:4085::2</td>\n",
       "      <td>lifecycle/rotten priority/backlog sig/cluster-lifecycle sig/node</td>\n",
       "    </tr>\n",
       "    <tr>\n",
       "      <th>1</th>\n",
       "      <td>xxxfldtitle e2e flake: daemon set should run and stop complex daemon xxxfldbody this has been flaking pretty often lately - in 5 out of the last 11 runs of kubernetes-e2e-gce-flaky, to be specific. i've copied the output of one such failure run below. \\ r \\ r sorry if there's already an issue tracking this, i couldn't find anything other than 14072, which is for a different test. \\ r \\ r xxxatmention \\ r \\ r \\ r 14:35:47 daemon set \\ r 14:35:47 should run and stop complex daemon \\ r 14:35:47 xxxfilepath 14:35:47 beforeeach daemon set \\ r 14:35:47 xxxfilepath 14:35:47 step: creating a kubernetes client \\ r 14:35:47 &gt;&gt;&gt; testcontext.kubeconfig: xxxfilepath 14:35:47 step: building a namespace api object \\ r 14:35:47 oct 30 14:35:47.266: info: waiting up to 2m0s for service account default to be provisioned in ns e2e-tests-daemonsets-40nfz \\ r 14:35:47 oct 30 14:35:47.268: info: get service account default in ns e2e-tests-daemonsets-40nfz failed, ignoring for 2s: serviceaccounts \\ defau...</td>\n",
       "      <td>kind/flake kind/flake</td>\n",
       "    </tr>\n",
       "  </tbody>\n",
       "</table>\n",
       "</div>"
      ],
      "text/plain": [
       "                                                                                                                                                                                                                                                                                                                                                                                                                                                                                                                                                                                                                                                                                                                                                                                                                                                                                                                                                                                                                                      text  \\\n",
       "0                                                                                                                                                                                                                                                                                                                                                                                 xxxfldtitle minions ip does not follow --hostname-override when set to a hostname xxxfldbody according to 9267, the kubelet should register a node with the --hostname-override cluster from scratch . this does not work if set to an actual hostname even one that resolves correctly . working with the ip: sh $ xxxfilepath --hostname-override=xxunk --address=xxunk ... $ kubectl describe node minion-2 name: minion-2 ... addresses: xxunk and when the override is set to a hostname which resolves to the 172 ip : $ xxxfilepath xxunk --address=xxunk ... $ kubectl describe node minion-2 name: minion-2 ... addresses: 2a01:4f8:110:4085::2   \n",
       "1  xxxfldtitle e2e flake: daemon set should run and stop complex daemon xxxfldbody this has been flaking pretty often lately - in 5 out of the last 11 runs of kubernetes-e2e-gce-flaky, to be specific. i've copied the output of one such failure run below. \\ r \\ r sorry if there's already an issue tracking this, i couldn't find anything other than 14072, which is for a different test. \\ r \\ r xxxatmention \\ r \\ r \\ r 14:35:47 daemon set \\ r 14:35:47 should run and stop complex daemon \\ r 14:35:47 xxxfilepath 14:35:47 beforeeach daemon set \\ r 14:35:47 xxxfilepath 14:35:47 step: creating a kubernetes client \\ r 14:35:47 >>> testcontext.kubeconfig: xxxfilepath 14:35:47 step: building a namespace api object \\ r 14:35:47 oct 30 14:35:47.266: info: waiting up to 2m0s for service account default to be provisioned in ns e2e-tests-daemonsets-40nfz \\ r 14:35:47 oct 30 14:35:47.268: info: get service account default in ns e2e-tests-daemonsets-40nfz failed, ignoring for 2s: serviceaccounts \\ defau...   \n",
       "\n",
       "                                                             labels  \n",
       "0  lifecycle/rotten priority/backlog sig/cluster-lifecycle sig/node  \n",
       "1                                             kind/flake kind/flake  "
      ]
     },
     "execution_count": 14,
     "metadata": {},
     "output_type": "execute_result"
    }
   ],
   "source": [
    "ml_df.head(2)"
   ]
  },
  {
   "cell_type": "code",
   "execution_count": 30,
   "metadata": {},
   "outputs": [],
   "source": [
    "ml_df.to_pickle('ml_df.pkl')"
   ]
  },
  {
   "cell_type": "markdown",
   "metadata": {},
   "source": [
    "# Create Classifier w/ Pre-trained Encoder"
   ]
  },
  {
   "cell_type": "markdown",
   "metadata": {},
   "source": [
    "The pretrained Encoder comes from the language model"
   ]
  },
  {
   "cell_type": "code",
   "execution_count": 2,
   "metadata": {},
   "outputs": [],
   "source": [
    "from fastai.text.data import TextClasDataBunch\n",
    "from inference import InferenceWrapper, pass_through\n",
    "from fastai.text import text_classifier_learner\n",
    "from sklearn.model_selection import train_test_split\n",
    "\n",
    "ml_df = pd.read_pickle('ml_df.pkl')"
   ]
  },
  {
   "cell_type": "code",
   "execution_count": 3,
   "metadata": {},
   "outputs": [
    {
     "name": "stderr",
     "output_type": "stream",
     "text": [
      "/usr/local/lib/python3.6/dist-packages/sklearn/model_selection/_split.py:2179: FutureWarning: From version 0.21, test_size will always complement train_size unless both are specified.\n",
      "  FutureWarning)\n"
     ]
    }
   ],
   "source": [
    "train_df, val_df = train_test_split(ml_df, train_size=.8, random_state=1234)"
   ]
  },
  {
   "cell_type": "code",
   "execution_count": 4,
   "metadata": {},
   "outputs": [
    {
     "name": "stdout",
     "output_type": "stream",
     "text": [
      " # of training rows: 15,639\n",
      " # of validation rows: 3,910\n"
     ]
    }
   ],
   "source": [
    "print(f' # of training rows: {len(train_df):,}\\n # of validation rows: {len(val_df):,}')"
   ]
  },
  {
   "cell_type": "code",
   "execution_count": 5,
   "metadata": {},
   "outputs": [],
   "source": [
    "train_label_set = set()\n",
    "for labels in train_df.labels:\n",
    "    train_label_set.update(labels)\n",
    "    \n",
    "val_label_set = set()\n",
    "for labels in val_df.labels:\n",
    "    val_label_set.update(labels)"
   ]
  },
  {
   "cell_type": "code",
   "execution_count": 6,
   "metadata": {},
   "outputs": [],
   "source": [
    "# make sure labels are not unique in either the val or the training set\n",
    "diff_set = train_label_set ^ val_label_set\n",
    "assert not diff_set"
   ]
  },
  {
   "cell_type": "code",
   "execution_count": 7,
   "metadata": {},
   "outputs": [],
   "source": [
    "from fastai.text.transform import Tokenizer\n",
    "tokenizer = Tokenizer(pre_rules=[pass_through], n_cpus=31)"
   ]
  },
  {
   "cell_type": "code",
   "execution_count": 8,
   "metadata": {},
   "outputs": [],
   "source": [
    "from fastai.basic_train import load_learner\n",
    "\n",
    "model_path='/ds/lang_model/models_22zkdqlr/'\n",
    "model_file_name='trained_model_22zkdqlr.pkl'\n",
    "\n",
    "learn = load_learner(path=model_path, file=model_file_name)"
   ]
  },
  {
   "cell_type": "code",
   "execution_count": 9,
   "metadata": {},
   "outputs": [],
   "source": [
    "data_multi_label = TextClasDataBunch.from_df(path='/ds/multi_class_model/',\n",
    "                                             train_df=train_df,\n",
    "                                             valid_df=val_df,\n",
    "                                             tokenizer=tokenizer,\n",
    "                                             text_cols='text',\n",
    "                                             label_cols='labels',\n",
    "                                             label_delim=' ',\n",
    "                                             vocab=learn.data.vocab,\n",
    "                                             bs=32)"
   ]
  },
  {
   "cell_type": "code",
   "execution_count": 24,
   "metadata": {},
   "outputs": [],
   "source": [
    "data_multi_label.save()"
   ]
  },
  {
   "cell_type": "code",
   "execution_count": 10,
   "metadata": {},
   "outputs": [],
   "source": [
    "from fastai.text.models import AWD_LSTM, awd_lstm_lm_config\n",
    "\n",
    "emb_sz=800\n",
    "qrnn=False\n",
    "bidir=False\n",
    "n_layers=4\n",
    "n_hid=2400\n",
    "\n",
    "awd_lstm_lm_config.update(dict(emb_sz=emb_sz, qrnn=qrnn, bidir=bidir, n_layers=n_layers, n_hid=n_hid))\n",
    "awd_lstm_lm_config.pop('tie_weights', None)\n",
    "awd_lstm_lm_config.pop('out_bias', None)\n",
    "\n",
    "\n",
    "tcl = text_classifier_learner(data=data_multi_label,\n",
    "                              pretrained=False,\n",
    "                              arch=AWD_LSTM,\n",
    "                              config=awd_lstm_lm_config)"
   ]
  },
  {
   "cell_type": "code",
   "execution_count": 11,
   "metadata": {},
   "outputs": [],
   "source": [
    "tcl.load_encoder('trained_model_encoder_22zkdqlr')"
   ]
  },
  {
   "cell_type": "code",
   "execution_count": 12,
   "metadata": {},
   "outputs": [],
   "source": [
    "tcl.freeze()"
   ]
  },
  {
   "cell_type": "code",
   "execution_count": 17,
   "metadata": {},
   "outputs": [
    {
     "data": {
      "text/html": [],
      "text/plain": [
       "<IPython.core.display.HTML object>"
      ]
     },
     "metadata": {},
     "output_type": "display_data"
    },
    {
     "name": "stdout",
     "output_type": "stream",
     "text": [
      "LR Finder is complete, type {learner_name}.recorder.plot() to see the graph.\n"
     ]
    }
   ],
   "source": [
    "tcl.lr_find()"
   ]
  },
  {
   "cell_type": "code",
   "execution_count": 18,
   "metadata": {},
   "outputs": [
    {
     "data": {
      "image/png": "[encoded data removed]",
      "text/plain": [
       "<Figure size 432x288 with 1 Axes>"
      ]
     },
     "metadata": {
      "needs_background": "light"
     },
     "output_type": "display_data"
    }
   ],
   "source": [
    "tcl.recorder.plot()"
   ]
  },
  {
   "cell_type": "code",
   "execution_count": 13,
   "metadata": {},
   "outputs": [],
   "source": [
    "from torch.cuda import empty_cache\n",
    "empty_cache()"
   ]
  },
  {
   "cell_type": "code",
   "execution_count": 13,
   "metadata": {},
   "outputs": [
    {
     "data": {
      "text/html": [
       "<table border=\"1\" class=\"dataframe\">\n",
       "  <thead>\n",
       "    <tr style=\"text-align: left;\">\n",
       "      <th>epoch</th>\n",
       "      <th>train_loss</th>\n",
       "      <th>valid_loss</th>\n",
       "      <th>time</th>\n",
       "    </tr>\n",
       "  </thead>\n",
       "  <tbody>\n",
       "    <tr>\n",
       "      <td>0</td>\n",
       "      <td>0.131534</td>\n",
       "      <td>0.127683</td>\n",
       "      <td>10:48</td>\n",
       "    </tr>\n",
       "    <tr>\n",
       "      <td>1</td>\n",
       "      <td>0.117968</td>\n",
       "      <td>0.135518</td>\n",
       "      <td>13:55</td>\n",
       "    </tr>\n",
       "    <tr>\n",
       "      <td>2</td>\n",
       "      <td>0.107607</td>\n",
       "      <td>0.134197</td>\n",
       "      <td>11:01</td>\n",
       "    </tr>\n",
       "  </tbody>\n",
       "</table>"
      ],
      "text/plain": [
       "<IPython.core.display.HTML object>"
      ]
     },
     "metadata": {},
     "output_type": "display_data"
    }
   ],
   "source": [
    "tcl.fit_one_cycle(3, max_lr=.1)"
   ]
  },
  {
   "cell_type": "markdown",
   "metadata": {},
   "source": [
    "Manual Learning Rate Annealing"
   ]
  },
  {
   "cell_type": "code",
   "execution_count": 16,
   "metadata": {},
   "outputs": [
    {
     "data": {
      "text/html": [
       "<table border=\"1\" class=\"dataframe\">\n",
       "  <thead>\n",
       "    <tr style=\"text-align: left;\">\n",
       "      <th>epoch</th>\n",
       "      <th>train_loss</th>\n",
       "      <th>valid_loss</th>\n",
       "      <th>time</th>\n",
       "    </tr>\n",
       "  </thead>\n",
       "  <tbody>\n",
       "    <tr>\n",
       "      <td>0</td>\n",
       "      <td>0.104590</td>\n",
       "      <td>0.118472</td>\n",
       "      <td>07:26</td>\n",
       "    </tr>\n",
       "  </tbody>\n",
       "</table>"
      ],
      "text/plain": [
       "<IPython.core.display.HTML object>"
      ]
     },
     "metadata": {},
     "output_type": "display_data"
    }
   ],
   "source": [
    "tcl.fit(epochs=1, lr=slice(.0004))"
   ]
  },
  {
   "cell_type": "markdown",
   "metadata": {},
   "source": [
    "Unfreeze and keep training"
   ]
  },
  {
   "cell_type": "code",
   "execution_count": 17,
   "metadata": {},
   "outputs": [],
   "source": [
    "tcl.freeze_to(-2)"
   ]
  },
  {
   "cell_type": "code",
   "execution_count": 20,
   "metadata": {},
   "outputs": [
    {
     "data": {
      "text/html": [
       "<table border=\"1\" class=\"dataframe\">\n",
       "  <thead>\n",
       "    <tr style=\"text-align: left;\">\n",
       "      <th>epoch</th>\n",
       "      <th>train_loss</th>\n",
       "      <th>valid_loss</th>\n",
       "      <th>time</th>\n",
       "    </tr>\n",
       "  </thead>\n",
       "  <tbody>\n",
       "    <tr>\n",
       "      <td>0</td>\n",
       "      <td>0.102634</td>\n",
       "      <td>0.129381</td>\n",
       "      <td>08:30</td>\n",
       "    </tr>\n",
       "  </tbody>\n",
       "</table>"
      ],
      "text/plain": [
       "<IPython.core.display.HTML object>"
      ]
     },
     "metadata": {},
     "output_type": "display_data"
    }
   ],
   "source": [
    "tcl.fit(epochs=1, lr=slice(.0001))"
   ]
  },
  {
   "cell_type": "code",
   "execution_count": 21,
   "metadata": {},
   "outputs": [
    {
     "data": {
      "text/html": [
       "<table border=\"1\" class=\"dataframe\">\n",
       "  <thead>\n",
       "    <tr style=\"text-align: left;\">\n",
       "      <th>epoch</th>\n",
       "      <th>train_loss</th>\n",
       "      <th>valid_loss</th>\n",
       "      <th>time</th>\n",
       "    </tr>\n",
       "  </thead>\n",
       "  <tbody>\n",
       "    <tr>\n",
       "      <td>0</td>\n",
       "      <td>0.103204</td>\n",
       "      <td>0.107321</td>\n",
       "      <td>08:09</td>\n",
       "    </tr>\n",
       "  </tbody>\n",
       "</table>"
      ],
      "text/plain": [
       "<IPython.core.display.HTML object>"
      ]
     },
     "metadata": {},
     "output_type": "display_data"
    }
   ],
   "source": [
    "tcl.fit(epochs=1, lr=slice(.0004))"
   ]
  },
  {
   "cell_type": "code",
   "execution_count": 25,
   "metadata": {},
   "outputs": [],
   "source": [
    "classifier_model_path = tcl.save(file='classifier_best_model',\n",
    "                                 return_path=True)"
   ]
  },
  {
   "cell_type": "code",
   "execution_count": 26,
   "metadata": {},
   "outputs": [
    {
     "data": {
      "text/plain": [
       "PosixPath('/ds/multi_class_model/models/classifier_best_model.pth')"
      ]
     },
     "execution_count": 26,
     "metadata": {},
     "output_type": "execute_result"
    }
   ],
   "source": [
    "classifier_model_path"
   ]
  },
  {
   "cell_type": "markdown",
   "metadata": {},
   "source": [
    "# Measure Performance on Validation Set"
   ]
  },
  {
   "cell_type": "code",
   "execution_count": 55,
   "metadata": {},
   "outputs": [],
   "source": [
    "val_preds = tcl.get_preds()"
   ]
  },
  {
   "cell_type": "code",
   "execution_count": 61,
   "metadata": {},
   "outputs": [],
   "source": [
    "val_preds2 = val_df.text.apply(lambda x: tcl.predict(x)[2].cpu().numpy())"
   ]
  },
  {
   "cell_type": "code",
   "execution_count": 73,
   "metadata": {},
   "outputs": [],
   "source": [
    "val_preds2_matrix = np.stack(val_preds2.values)"
   ]
  },
  {
   "cell_type": "code",
   "execution_count": 32,
   "metadata": {},
   "outputs": [
    {
     "data": {
      "text/plain": [
       "(3910, 45)"
      ]
     },
     "execution_count": 32,
     "metadata": {},
     "output_type": "execute_result"
    }
   ],
   "source": [
    "val_proba = val_preds[0].cpu().numpy()\n",
    "val_proba.shape"
   ]
  },
  {
   "cell_type": "code",
   "execution_count": 54,
   "metadata": {},
   "outputs": [
    {
     "data": {
      "text/html": [
       "<div>\n",
       "<style scoped>\n",
       "    .dataframe tbody tr th:only-of-type {\n",
       "        vertical-align: middle;\n",
       "    }\n",
       "\n",
       "    .dataframe tbody tr th {\n",
       "        vertical-align: top;\n",
       "    }\n",
       "\n",
       "    .dataframe thead th {\n",
       "        text-align: right;\n",
       "    }\n",
       "</style>\n",
       "<table border=\"1\" class=\"dataframe\">\n",
       "  <thead>\n",
       "    <tr style=\"text-align: right;\">\n",
       "      <th></th>\n",
       "      <th>text</th>\n",
       "      <th>labels</th>\n",
       "    </tr>\n",
       "  </thead>\n",
       "  <tbody>\n",
       "    <tr>\n",
       "      <th>9849</th>\n",
       "      <td>xxxfldtitle networking should function for intra-pod communication conformance xxxjson xxxfldbody https: xxxfilepath xxxlnkhb k8s-gubernator.appspot.com xxxlnkhe failed: networking should function for intra-pod communication conformance xxxjson xxxfilepath expected error: &lt; errors.errorstring | 0xcxxunkd10&gt;: xxxjson gave up waiting for pod 'nettest-dx1d3' to be 'running' after 5m0s not to have occurred</td>\n",
       "      <td>kind/flake</td>\n",
       "    </tr>\n",
       "    <tr>\n",
       "      <th>14320</th>\n",
       "      <td>xxxfldtitle enable log rotate for container xxxfldbody  \\ r \\ r is this a bug report or feature request? : \\ r \\ r &gt; uncomment only one, leave it on its own line: \\ r &gt; \\ r &gt; \\ r \\ r what happened : \\ r the logs in container cannot be rotated, docker already support this, it is better add this feature to kubernetes. \\ r \\ r \\ r $ docker run -it --log-opt max-size=10m --log-opt max-file=3 busybox xxxfilepath -c 'i=0; while true; do echo \\ $i: $ date \\ ; i=$ i+1 ; sleep 0.001; done' \\ r \\ r \\ r more detail refer to: \\ r \\ r https: xxxfilepath xxxlnkhb docs.docker.com xxxlnkhe \\ r what you expected to happen : \\ r \\ r how to reproduce it as minimally and precisely as possible : \\ r \\ r \\ r anything else we need to know? : \\ r \\ r environment : \\ r - kubernetes version use kubectl version : \\ r - cloud provider or hardware configuration : \\ r - os e.g. from xxxfilepath : \\ r - kernel e.g. uname -a : \\ r - install tools: \\ r - others: \\ r</td>\n",
       "      <td>kind/feature sig/apps</td>\n",
       "    </tr>\n",
       "    <tr>\n",
       "      <th>6680</th>\n",
       "      <td>xxxfldtitle kubernetes audit log not generated xxxfldbody xxxqb \\ r xxxfilepath remains empty even with new pods / deployments generated. \\ r \\ r i've setup my own cluster in two vms using kubeadm with the following config: \\ r \\ r \\ r apiversion: kubeadm.k8s.io / v1alpha2 \\ r api: \\ r advertiseaddress: xxunk \\ r bindport: 6443 \\ r networking: \\ r podsubnet: \\ xxunk / 16 \\ \\ r auditpolicy: \\ r logdir: xxxfilepath logmaxage: 2 \\ r path: \\ \\ \\ r \\ r \\ r xxxfilepath exists and has 777 permissions. \\ r \\ r \\ r \\ r kubectl version \\ r client version: version.info xxxjson \\ r the connection to the server localhost:8080 was refused - did you specify the right host or port? \\ r \\n xxxqe</td>\n",
       "      <td>needs-sig</td>\n",
       "    </tr>\n",
       "    <tr>\n",
       "      <th>9714</th>\n",
       "      <td>xxxfldtitle unset kube_user causes startup to fail in gce scripts xxxfldbody the gce scripts assume that the basic-auth authenticator will always be enabled, so they assume that kube_user and kube_password will be set.</td>\n",
       "      <td>needs-sig</td>\n",
       "    </tr>\n",
       "    <tr>\n",
       "      <th>3277</th>\n",
       "      <td>xxxfldtitle kubeadm fails to generate self-signed signature xxxfldbody xxunk \\ r having trouble getting kubeadm to work properly for my raspberry pi cluster, i'm seeing: \\ r \\ r \\ r root@node-1: xxxfilepath kubeadm join xxunk xxunk \\ r running pre-flight checks \\ r xxxhtml validating provided token \\ r xxxhtml created cluster info discovery client, requesting info from \\ http: xxxfilepath xxxlnkhb xxunk xxxlnkhe \\ r xxxhtml cluster info object received, verifying signature using given token \\ r xxxhtml cluster info signature and contents are valid, will use api endpoints https: / / xxunk:6443 xxxlnkhb xxunk xxxlnkhe \\ r xxxhtml trying to connect to endpoint https: / / xxunk:6443 \\ r xxxhtml detected server version v1.4.4 \\ r xxxhtml successfully established connection with endpoint https: / / xxunk:6443 \\ r xxxhtml created api client to obtain unique certificate for this node, generating keys and certificate signing request \\ r \\ r kubeadm: i am an alpha version, my authors welcome...</td>\n",
       "      <td>sig/auth</td>\n",
       "    </tr>\n",
       "  </tbody>\n",
       "</table>\n",
       "</div>"
      ],
      "text/plain": [
       "                                                                                                                                                                                                                                                                                                                                                                                                                                                                                                                                                                                                                                                                                                                                                                                                                                                                                                                                                                                                                                          text  \\\n",
       "9849                                                                                                                                                                                                                                                                                                                                                                                                                                                                                                                                                                                                                     xxxfldtitle networking should function for intra-pod communication conformance xxxjson xxxfldbody https: xxxfilepath xxxlnkhb k8s-gubernator.appspot.com xxxlnkhe failed: networking should function for intra-pod communication conformance xxxjson xxxfilepath expected error: < errors.errorstring | 0xcxxunkd10>: xxxjson gave up waiting for pod 'nettest-dx1d3' to be 'running' after 5m0s not to have occurred   \n",
       "14320                                                      xxxfldtitle enable log rotate for container xxxfldbody  \\ r \\ r is this a bug report or feature request? : \\ r \\ r > uncomment only one, leave it on its own line: \\ r > \\ r > \\ r \\ r what happened : \\ r the logs in container cannot be rotated, docker already support this, it is better add this feature to kubernetes. \\ r \\ r \\ r $ docker run -it --log-opt max-size=10m --log-opt max-file=3 busybox xxxfilepath -c 'i=0; while true; do echo \\ $i: $ date \\ ; i=$ i+1 ; sleep 0.001; done' \\ r \\ r \\ r more detail refer to: \\ r \\ r https: xxxfilepath xxxlnkhb docs.docker.com xxxlnkhe \\ r what you expected to happen : \\ r \\ r how to reproduce it as minimally and precisely as possible : \\ r \\ r \\ r anything else we need to know? : \\ r \\ r environment : \\ r - kubernetes version use kubectl version : \\ r - cloud provider or hardware configuration : \\ r - os e.g. from xxxfilepath : \\ r - kernel e.g. uname -a : \\ r - install tools: \\ r - others: \\ r   \n",
       "6680                                                                                                                                                                                                                                                                                                                           xxxfldtitle kubernetes audit log not generated xxxfldbody xxxqb \\ r xxxfilepath remains empty even with new pods / deployments generated. \\ r \\ r i've setup my own cluster in two vms using kubeadm with the following config: \\ r \\ r \\ r apiversion: kubeadm.k8s.io / v1alpha2 \\ r api: \\ r advertiseaddress: xxunk \\ r bindport: 6443 \\ r networking: \\ r podsubnet: \\ xxunk / 16 \\ \\ r auditpolicy: \\ r logdir: xxxfilepath logmaxage: 2 \\ r path: \\ \\ \\ r \\ r \\ r xxxfilepath exists and has 777 permissions. \\ r \\ r \\ r \\ r kubectl version \\ r client version: version.info xxxjson \\ r the connection to the server localhost:8080 was refused - did you specify the right host or port? \\ r \\n xxxqe   \n",
       "9714                                                                                                                                                                                                                                                                                                                                                                                                                                                                                                                                                                                                                                                                                                                                                                                                                xxxfldtitle unset kube_user causes startup to fail in gce scripts xxxfldbody the gce scripts assume that the basic-auth authenticator will always be enabled, so they assume that kube_user and kube_password will be set.   \n",
       "3277   xxxfldtitle kubeadm fails to generate self-signed signature xxxfldbody xxunk \\ r having trouble getting kubeadm to work properly for my raspberry pi cluster, i'm seeing: \\ r \\ r \\ r root@node-1: xxxfilepath kubeadm join xxunk xxunk \\ r running pre-flight checks \\ r xxxhtml validating provided token \\ r xxxhtml created cluster info discovery client, requesting info from \\ http: xxxfilepath xxxlnkhb xxunk xxxlnkhe \\ r xxxhtml cluster info object received, verifying signature using given token \\ r xxxhtml cluster info signature and contents are valid, will use api endpoints https: / / xxunk:6443 xxxlnkhb xxunk xxxlnkhe \\ r xxxhtml trying to connect to endpoint https: / / xxunk:6443 \\ r xxxhtml detected server version v1.4.4 \\ r xxxhtml successfully established connection with endpoint https: / / xxunk:6443 \\ r xxxhtml created api client to obtain unique certificate for this node, generating keys and certificate signing request \\ r \\ r kubeadm: i am an alpha version, my authors welcome...   \n",
       "\n",
       "                      labels  \n",
       "9849              kind/flake  \n",
       "14320  kind/feature sig/apps  \n",
       "6680               needs-sig  \n",
       "9714               needs-sig  \n",
       "3277                sig/auth  "
      ]
     },
     "execution_count": 54,
     "metadata": {},
     "output_type": "execute_result"
    }
   ],
   "source": [
    "val_df.head()"
   ]
  },
  {
   "cell_type": "code",
   "execution_count": 86,
   "metadata": {},
   "outputs": [
    {
     "name": "stdout",
     "output_type": "stream",
     "text": [
      "lifecycle/rotten\n",
      "ground truth: text      xxxfldtitle kubernetes audit log not generated xxxfldbody xxxqb \\ r xxxfilepath remains empty even with new pods / deployments generated. \\ r \\ r i've setup my own cluster in two vms using kubeadm with the following config: \\ r \\ r \\ r apiversion: kubeadm.k8s.io / v1alpha2 \\ r api: \\ r advertiseaddress: xxunk \\ r bindport: 6443 \\ r networking: \\ r podsubnet: \\ xxunk / 16 \\ \\ r auditpolicy: \\ r logdir: xxxfilepath logmaxage: 2 \\ r path: \\ \\ \\ r \\ r \\ r xxxfilepath exists and has 777 permissions. \\ r \\ r \\ r \\ r kubectl version \\ r client version: version.info xxxjson \\ r the connection to the server localhost:8080 was refused - did you specify the right host or port? \\ r \\n xxxqe\n",
      "labels                                                                                                                                                                                                                                                                                                                                                                                                                                                                                                                                                                                                                                                                                                          needs-sig\n",
      "Name: 6680, dtype: object\n"
     ]
    }
   ],
   "source": [
    "i = 10\n",
    "idx = np.argmax(val_preds2_matrix[i, :])\n",
    "print(f'{class_list[i]}')\n",
    "print(f'ground truth: {val_df.iloc[idx]}')"
   ]
  },
  {
   "cell_type": "code",
   "execution_count": 87,
   "metadata": {},
   "outputs": [],
   "source": [
    "class_list = tcl.data.classes\n",
    "assert len(class_list) == val_proba.shape[1]"
   ]
  },
  {
   "cell_type": "code",
   "execution_count": 88,
   "metadata": {},
   "outputs": [],
   "source": [
    "val_scores = {}\n",
    "for i, lbl in enumerate(class_list):\n",
    "    ground_truth = val_df.labels.apply(lambda x: lbl in x).values\n",
    "    predicted_probs = val_preds2_matrix[:, i]\n",
    "    val_scores[lbl] = {'yhat': predicted_probs, 'y': ground_truth}"
   ]
  },
  {
   "cell_type": "code",
   "execution_count": 89,
   "metadata": {},
   "outputs": [],
   "source": [
    "from sklearn.metrics import roc_auc_score as auc"
   ]
  },
  {
   "cell_type": "code",
   "execution_count": 90,
   "metadata": {},
   "outputs": [],
   "source": [
    "auc_scores = []\n",
    "labels = []\n",
    "\n",
    "for lbl in val_scores:\n",
    "    auc_scores.append(auc(val_scores[lbl]['y'], val_scores[lbl]['yhat']))\n",
    "    labels.append(lbl)"
   ]
  },
  {
   "cell_type": "code",
   "execution_count": 92,
   "metadata": {},
   "outputs": [],
   "source": [
    "assert len(auc_scores) == len(labels)"
   ]
  },
  {
   "cell_type": "code",
   "execution_count": 93,
   "metadata": {},
   "outputs": [
    {
     "data": {
      "text/html": [
       "<div>\n",
       "<style scoped>\n",
       "    .dataframe tbody tr th:only-of-type {\n",
       "        vertical-align: middle;\n",
       "    }\n",
       "\n",
       "    .dataframe tbody tr th {\n",
       "        vertical-align: top;\n",
       "    }\n",
       "\n",
       "    .dataframe thead th {\n",
       "        text-align: right;\n",
       "    }\n",
       "</style>\n",
       "<table border=\"1\" class=\"dataframe\">\n",
       "  <thead>\n",
       "    <tr style=\"text-align: right;\">\n",
       "      <th></th>\n",
       "      <th>label</th>\n",
       "      <th>auc</th>\n",
       "    </tr>\n",
       "  </thead>\n",
       "  <tbody>\n",
       "    <tr>\n",
       "      <th>0</th>\n",
       "      <td>help</td>\n",
       "      <td>0.810217</td>\n",
       "    </tr>\n",
       "    <tr>\n",
       "      <th>1</th>\n",
       "      <td>kind/api-change</td>\n",
       "      <td>0.898669</td>\n",
       "    </tr>\n",
       "    <tr>\n",
       "      <th>2</th>\n",
       "      <td>kind/bug</td>\n",
       "      <td>0.903294</td>\n",
       "    </tr>\n",
       "    <tr>\n",
       "      <th>3</th>\n",
       "      <td>kind/cleanup</td>\n",
       "      <td>0.916457</td>\n",
       "    </tr>\n",
       "    <tr>\n",
       "      <th>4</th>\n",
       "      <td>kind/design</td>\n",
       "      <td>0.910580</td>\n",
       "    </tr>\n",
       "    <tr>\n",
       "      <th>5</th>\n",
       "      <td>kind/documentation</td>\n",
       "      <td>0.938305</td>\n",
       "    </tr>\n",
       "    <tr>\n",
       "      <th>6</th>\n",
       "      <td>kind/failing-test</td>\n",
       "      <td>0.953468</td>\n",
       "    </tr>\n",
       "    <tr>\n",
       "      <th>7</th>\n",
       "      <td>kind/feature</td>\n",
       "      <td>0.917767</td>\n",
       "    </tr>\n",
       "    <tr>\n",
       "      <th>8</th>\n",
       "      <td>kind/flake</td>\n",
       "      <td>0.989418</td>\n",
       "    </tr>\n",
       "    <tr>\n",
       "      <th>9</th>\n",
       "      <td>lifecycle/frozen</td>\n",
       "      <td>0.789269</td>\n",
       "    </tr>\n",
       "    <tr>\n",
       "      <th>10</th>\n",
       "      <td>lifecycle/rotten</td>\n",
       "      <td>0.723486</td>\n",
       "    </tr>\n",
       "    <tr>\n",
       "      <th>11</th>\n",
       "      <td>lifecycle/stale</td>\n",
       "      <td>0.695533</td>\n",
       "    </tr>\n",
       "    <tr>\n",
       "      <th>12</th>\n",
       "      <td>needs-sig</td>\n",
       "      <td>0.840115</td>\n",
       "    </tr>\n",
       "    <tr>\n",
       "      <th>13</th>\n",
       "      <td>priority/awaiting-more-evidence</td>\n",
       "      <td>0.913214</td>\n",
       "    </tr>\n",
       "    <tr>\n",
       "      <th>14</th>\n",
       "      <td>priority/backlog</td>\n",
       "      <td>0.880117</td>\n",
       "    </tr>\n",
       "    <tr>\n",
       "      <th>15</th>\n",
       "      <td>priority/critical-urgent</td>\n",
       "      <td>0.862109</td>\n",
       "    </tr>\n",
       "    <tr>\n",
       "      <th>16</th>\n",
       "      <td>priority/important-longterm</td>\n",
       "      <td>0.831313</td>\n",
       "    </tr>\n",
       "    <tr>\n",
       "      <th>17</th>\n",
       "      <td>priority/important-soon</td>\n",
       "      <td>0.778752</td>\n",
       "    </tr>\n",
       "    <tr>\n",
       "      <th>18</th>\n",
       "      <td>sig/api-machinery</td>\n",
       "      <td>0.885092</td>\n",
       "    </tr>\n",
       "    <tr>\n",
       "      <th>19</th>\n",
       "      <td>sig/apps</td>\n",
       "      <td>0.870553</td>\n",
       "    </tr>\n",
       "    <tr>\n",
       "      <th>20</th>\n",
       "      <td>sig/architecture</td>\n",
       "      <td>0.791988</td>\n",
       "    </tr>\n",
       "    <tr>\n",
       "      <th>21</th>\n",
       "      <td>sig/auth</td>\n",
       "      <td>0.955708</td>\n",
       "    </tr>\n",
       "    <tr>\n",
       "      <th>22</th>\n",
       "      <td>sig/autoscaling</td>\n",
       "      <td>0.966609</td>\n",
       "    </tr>\n",
       "    <tr>\n",
       "      <th>23</th>\n",
       "      <td>sig/aws</td>\n",
       "      <td>0.914334</td>\n",
       "    </tr>\n",
       "    <tr>\n",
       "      <th>24</th>\n",
       "      <td>sig/azure</td>\n",
       "      <td>0.945328</td>\n",
       "    </tr>\n",
       "    <tr>\n",
       "      <th>25</th>\n",
       "      <td>sig/cli</td>\n",
       "      <td>0.931973</td>\n",
       "    </tr>\n",
       "    <tr>\n",
       "      <th>26</th>\n",
       "      <td>sig/cloud-provider</td>\n",
       "      <td>0.909944</td>\n",
       "    </tr>\n",
       "    <tr>\n",
       "      <th>27</th>\n",
       "      <td>sig/cluster-lifecycle</td>\n",
       "      <td>0.839113</td>\n",
       "    </tr>\n",
       "    <tr>\n",
       "      <th>28</th>\n",
       "      <td>sig/contributor-experience</td>\n",
       "      <td>0.950883</td>\n",
       "    </tr>\n",
       "    <tr>\n",
       "      <th>29</th>\n",
       "      <td>sig/docs</td>\n",
       "      <td>0.952235</td>\n",
       "    </tr>\n",
       "    <tr>\n",
       "      <th>30</th>\n",
       "      <td>sig/gcp</td>\n",
       "      <td>0.905793</td>\n",
       "    </tr>\n",
       "    <tr>\n",
       "      <th>31</th>\n",
       "      <td>sig/instrumentation</td>\n",
       "      <td>0.924874</td>\n",
       "    </tr>\n",
       "    <tr>\n",
       "      <th>32</th>\n",
       "      <td>sig/multicluster</td>\n",
       "      <td>0.957589</td>\n",
       "    </tr>\n",
       "    <tr>\n",
       "      <th>33</th>\n",
       "      <td>sig/network</td>\n",
       "      <td>0.923890</td>\n",
       "    </tr>\n",
       "    <tr>\n",
       "      <th>34</th>\n",
       "      <td>sig/node</td>\n",
       "      <td>0.858869</td>\n",
       "    </tr>\n",
       "    <tr>\n",
       "      <th>35</th>\n",
       "      <td>sig/openstack</td>\n",
       "      <td>0.967683</td>\n",
       "    </tr>\n",
       "    <tr>\n",
       "      <th>36</th>\n",
       "      <td>sig/release</td>\n",
       "      <td>0.962541</td>\n",
       "    </tr>\n",
       "    <tr>\n",
       "      <th>37</th>\n",
       "      <td>sig/scalability</td>\n",
       "      <td>0.904515</td>\n",
       "    </tr>\n",
       "    <tr>\n",
       "      <th>38</th>\n",
       "      <td>sig/scheduling</td>\n",
       "      <td>0.919081</td>\n",
       "    </tr>\n",
       "    <tr>\n",
       "      <th>39</th>\n",
       "      <td>sig/storage</td>\n",
       "      <td>0.950718</td>\n",
       "    </tr>\n",
       "    <tr>\n",
       "      <th>40</th>\n",
       "      <td>sig/testing</td>\n",
       "      <td>0.891095</td>\n",
       "    </tr>\n",
       "    <tr>\n",
       "      <th>41</th>\n",
       "      <td>sig/windows</td>\n",
       "      <td>0.963734</td>\n",
       "    </tr>\n",
       "    <tr>\n",
       "      <th>42</th>\n",
       "      <td>triage/support</td>\n",
       "      <td>0.893885</td>\n",
       "    </tr>\n",
       "    <tr>\n",
       "      <th>43</th>\n",
       "      <td>triage/unresolved</td>\n",
       "      <td>0.917413</td>\n",
       "    </tr>\n",
       "    <tr>\n",
       "      <th>44</th>\n",
       "      <td>wanted</td>\n",
       "      <td>0.810663</td>\n",
       "    </tr>\n",
       "  </tbody>\n",
       "</table>\n",
       "</div>"
      ],
      "text/plain": [
       "                              label       auc\n",
       "0                              help  0.810217\n",
       "1                   kind/api-change  0.898669\n",
       "2                          kind/bug  0.903294\n",
       "3                      kind/cleanup  0.916457\n",
       "4                       kind/design  0.910580\n",
       "5                kind/documentation  0.938305\n",
       "6                 kind/failing-test  0.953468\n",
       "7                      kind/feature  0.917767\n",
       "8                        kind/flake  0.989418\n",
       "9                  lifecycle/frozen  0.789269\n",
       "10                 lifecycle/rotten  0.723486\n",
       "11                  lifecycle/stale  0.695533\n",
       "12                        needs-sig  0.840115\n",
       "13  priority/awaiting-more-evidence  0.913214\n",
       "14                 priority/backlog  0.880117\n",
       "15         priority/critical-urgent  0.862109\n",
       "16      priority/important-longterm  0.831313\n",
       "17          priority/important-soon  0.778752\n",
       "18                sig/api-machinery  0.885092\n",
       "19                         sig/apps  0.870553\n",
       "20                 sig/architecture  0.791988\n",
       "21                         sig/auth  0.955708\n",
       "22                  sig/autoscaling  0.966609\n",
       "23                          sig/aws  0.914334\n",
       "24                        sig/azure  0.945328\n",
       "25                          sig/cli  0.931973\n",
       "26               sig/cloud-provider  0.909944\n",
       "27            sig/cluster-lifecycle  0.839113\n",
       "28       sig/contributor-experience  0.950883\n",
       "29                         sig/docs  0.952235\n",
       "30                          sig/gcp  0.905793\n",
       "31              sig/instrumentation  0.924874\n",
       "32                 sig/multicluster  0.957589\n",
       "33                      sig/network  0.923890\n",
       "34                         sig/node  0.858869\n",
       "35                    sig/openstack  0.967683\n",
       "36                      sig/release  0.962541\n",
       "37                  sig/scalability  0.904515\n",
       "38                   sig/scheduling  0.919081\n",
       "39                      sig/storage  0.950718\n",
       "40                      sig/testing  0.891095\n",
       "41                      sig/windows  0.963734\n",
       "42                   triage/support  0.893885\n",
       "43                triage/unresolved  0.917413\n",
       "44                           wanted  0.810663"
      ]
     },
     "execution_count": 93,
     "metadata": {},
     "output_type": "execute_result"
    }
   ],
   "source": [
    "score_df = pd.DataFrame({'label':labels, 'auc': auc_scores})\n",
    "score_df"
   ]
  },
  {
   "cell_type": "code",
   "execution_count": 94,
   "metadata": {},
   "outputs": [],
   "source": [
    "score_df.to_pickle('score_df.pkl')"
   ]
  },
  {
   "cell_type": "code",
   "execution_count": null,
   "metadata": {},
   "outputs": [],
   "source": [
    "score_df = pd.DataFrame({'label'f'] = pivot.apply(lambda x: abs(x.deep - x.baseline), axis=1)\n",
    "pivot['label c: labels, \n",
    "                         'auc': auc_scores})"
   ]
  },
  {
   "cell_type": "code",
   "execution_count": 73,
   "metadata": {},
   "outputs": [
    {
     "data": {
      "text/html": [
       "<div>\n",
       "<style scoped>\n",
       "    .dataframe tbody tr th:only-of-type {\n",
       "        vertical-align: middle;\n",
       "    }\n",
       "\n",
       "    .dataframe tbody tr th {\n",
       "        vertical-align: top;\n",
       "    }\n",
       "\n",
       "    .dataframe thead th {\n",
       "        text-align: right;\n",
       "    }\n",
       "</style>\n",
       "<table border=\"1\" class=\"dataframe\">\n",
       "  <thead>\n",
       "    <tr style=\"text-align: right;\">\n",
       "      <th>category</th>\n",
       "      <th>baseline</th>\n",
       "      <th>deep</th>\n",
       "      <th>winner</th>\n",
       "      <th>abs diff</th>\n",
       "      <th>label count</th>\n",
       "    </tr>\n",
       "    <tr>\n",
       "      <th>label</th>\n",
       "      <th></th>\n",
       "      <th></th>\n",
       "      <th></th>\n",
       "      <th></th>\n",
       "      <th></th>\n",
       "    </tr>\n",
       "  </thead>\n",
       "  <tbody>\n",
       "    <tr>\n",
       "      <th>sig/node</th>\n",
       "      <td>0.91357</td>\n",
       "      <td>0.91581</td>\n",
       "      <td>deep</td>\n",
       "      <td>0.00224</td>\n",
       "      <td>2738</td>\n",
       "    </tr>\n",
       "    <tr>\n",
       "      <th>sig/api-machinery</th>\n",
       "      <td>0.91833</td>\n",
       "      <td>0.92121</td>\n",
       "      <td>deep</td>\n",
       "      <td>0.00288</td>\n",
       "      <td>2228</td>\n",
       "    </tr>\n",
       "    <tr>\n",
       "      <th>sig/network</th>\n",
       "      <td>0.95846</td>\n",
       "      <td>0.96263</td>\n",
       "      <td>deep</td>\n",
       "      <td>0.00417</td>\n",
       "      <td>1829</td>\n",
       "    </tr>\n",
       "    <tr>\n",
       "      <th>sig/storage</th>\n",
       "      <td>0.97308</td>\n",
       "      <td>0.97626</td>\n",
       "      <td>deep</td>\n",
       "      <td>0.00318</td>\n",
       "      <td>1596</td>\n",
       "    </tr>\n",
       "    <tr>\n",
       "      <th>sig/cli</th>\n",
       "      <td>0.95712</td>\n",
       "      <td>0.95872</td>\n",
       "      <td>deep</td>\n",
       "      <td>0.00160</td>\n",
       "      <td>1109</td>\n",
       "    </tr>\n",
       "    <tr>\n",
       "      <th>sig/cluster-lifecycle</th>\n",
       "      <td>0.90756</td>\n",
       "      <td>0.90328</td>\n",
       "      <td>baseline</td>\n",
       "      <td>0.00428</td>\n",
       "      <td>950</td>\n",
       "    </tr>\n",
       "    <tr>\n",
       "      <th>sig/apps</th>\n",
       "      <td>0.93730</td>\n",
       "      <td>0.93157</td>\n",
       "      <td>baseline</td>\n",
       "      <td>0.00573</td>\n",
       "      <td>844</td>\n",
       "    </tr>\n",
       "    <tr>\n",
       "      <th>sig/scheduling</th>\n",
       "      <td>0.94497</td>\n",
       "      <td>0.94750</td>\n",
       "      <td>deep</td>\n",
       "      <td>0.00253</td>\n",
       "      <td>798</td>\n",
       "    </tr>\n",
       "    <tr>\n",
       "      <th>sig/testing</th>\n",
       "      <td>0.92759</td>\n",
       "      <td>0.92639</td>\n",
       "      <td>baseline</td>\n",
       "      <td>0.00120</td>\n",
       "      <td>715</td>\n",
       "    </tr>\n",
       "    <tr>\n",
       "      <th>sig/auth</th>\n",
       "      <td>0.96020</td>\n",
       "      <td>0.96989</td>\n",
       "      <td>deep</td>\n",
       "      <td>0.00969</td>\n",
       "      <td>600</td>\n",
       "    </tr>\n",
       "    <tr>\n",
       "      <th>sig/scalability</th>\n",
       "      <td>0.92717</td>\n",
       "      <td>0.92195</td>\n",
       "      <td>baseline</td>\n",
       "      <td>0.00522</td>\n",
       "      <td>511</td>\n",
       "    </tr>\n",
       "    <tr>\n",
       "      <th>sig/aws</th>\n",
       "      <td>0.96803</td>\n",
       "      <td>0.96946</td>\n",
       "      <td>deep</td>\n",
       "      <td>0.00143</td>\n",
       "      <td>438</td>\n",
       "    </tr>\n",
       "    <tr>\n",
       "      <th>sig/release</th>\n",
       "      <td>0.93532</td>\n",
       "      <td>0.94492</td>\n",
       "      <td>deep</td>\n",
       "      <td>0.00960</td>\n",
       "      <td>330</td>\n",
       "    </tr>\n",
       "    <tr>\n",
       "      <th>sig/azure</th>\n",
       "      <td>0.98287</td>\n",
       "      <td>0.97849</td>\n",
       "      <td>baseline</td>\n",
       "      <td>0.00438</td>\n",
       "      <td>302</td>\n",
       "    </tr>\n",
       "    <tr>\n",
       "      <th>sig/instrumentation</th>\n",
       "      <td>0.94775</td>\n",
       "      <td>0.92543</td>\n",
       "      <td>baseline</td>\n",
       "      <td>0.02232</td>\n",
       "      <td>253</td>\n",
       "    </tr>\n",
       "    <tr>\n",
       "      <th>sig/autoscaling</th>\n",
       "      <td>0.98215</td>\n",
       "      <td>0.97122</td>\n",
       "      <td>baseline</td>\n",
       "      <td>0.01093</td>\n",
       "      <td>210</td>\n",
       "    </tr>\n",
       "    <tr>\n",
       "      <th>sig/docs</th>\n",
       "      <td>0.95432</td>\n",
       "      <td>0.96787</td>\n",
       "      <td>deep</td>\n",
       "      <td>0.01355</td>\n",
       "      <td>205</td>\n",
       "    </tr>\n",
       "    <tr>\n",
       "      <th>sig/gcp</th>\n",
       "      <td>0.91767</td>\n",
       "      <td>0.89395</td>\n",
       "      <td>baseline</td>\n",
       "      <td>0.02372</td>\n",
       "      <td>203</td>\n",
       "    </tr>\n",
       "    <tr>\n",
       "      <th>sig/windows</th>\n",
       "      <td>0.99501</td>\n",
       "      <td>0.98935</td>\n",
       "      <td>baseline</td>\n",
       "      <td>0.00566</td>\n",
       "      <td>185</td>\n",
       "    </tr>\n",
       "    <tr>\n",
       "      <th>sig/multicluster</th>\n",
       "      <td>0.97841</td>\n",
       "      <td>0.98127</td>\n",
       "      <td>deep</td>\n",
       "      <td>0.00286</td>\n",
       "      <td>175</td>\n",
       "    </tr>\n",
       "    <tr>\n",
       "      <th>sig/federation</th>\n",
       "      <td>0.98487</td>\n",
       "      <td>0.98119</td>\n",
       "      <td>baseline</td>\n",
       "      <td>0.00368</td>\n",
       "      <td>170</td>\n",
       "    </tr>\n",
       "    <tr>\n",
       "      <th>sig/contributor-experience</th>\n",
       "      <td>0.89864</td>\n",
       "      <td>0.90015</td>\n",
       "      <td>deep</td>\n",
       "      <td>0.00151</td>\n",
       "      <td>152</td>\n",
       "    </tr>\n",
       "    <tr>\n",
       "      <th>sig/openstack</th>\n",
       "      <td>0.99888</td>\n",
       "      <td>0.99562</td>\n",
       "      <td>baseline</td>\n",
       "      <td>0.00326</td>\n",
       "      <td>151</td>\n",
       "    </tr>\n",
       "    <tr>\n",
       "      <th>sig/architecture</th>\n",
       "      <td>0.77077</td>\n",
       "      <td>0.79016</td>\n",
       "      <td>deep</td>\n",
       "      <td>0.01939</td>\n",
       "      <td>99</td>\n",
       "    </tr>\n",
       "    <tr>\n",
       "      <th>sig/cluster-ops</th>\n",
       "      <td>0.80334</td>\n",
       "      <td>0.81560</td>\n",
       "      <td>deep</td>\n",
       "      <td>0.01226</td>\n",
       "      <td>63</td>\n",
       "    </tr>\n",
       "    <tr>\n",
       "      <th>sig/cloud-provider</th>\n",
       "      <td>0.94083</td>\n",
       "      <td>0.83947</td>\n",
       "      <td>baseline</td>\n",
       "      <td>0.10136</td>\n",
       "      <td>54</td>\n",
       "    </tr>\n",
       "    <tr>\n",
       "      <th>sig/vmware</th>\n",
       "      <td>0.94991</td>\n",
       "      <td>0.83250</td>\n",
       "      <td>baseline</td>\n",
       "      <td>0.11741</td>\n",
       "      <td>39</td>\n",
       "    </tr>\n",
       "  </tbody>\n",
       "</table>\n",
       "</div>"
      ],
      "text/plain": [
       "category                    baseline     deep    winner  abs diff  label count\n",
       "label                                                                         \n",
       "sig/node                     0.91357  0.91581      deep   0.00224         2738\n",
       "sig/api-machinery            0.91833  0.92121      deep   0.00288         2228\n",
       "sig/network                  0.95846  0.96263      deep   0.00417         1829\n",
       "sig/storage                  0.97308  0.97626      deep   0.00318         1596\n",
       "sig/cli                      0.95712  0.95872      deep   0.00160         1109\n",
       "sig/cluster-lifecycle        0.90756  0.90328  baseline   0.00428          950\n",
       "sig/apps                     0.93730  0.93157  baseline   0.00573          844\n",
       "sig/scheduling               0.94497  0.94750      deep   0.00253          798\n",
       "sig/testing                  0.92759  0.92639  baseline   0.00120          715\n",
       "sig/auth                     0.96020  0.96989      deep   0.00969          600\n",
       "sig/scalability              0.92717  0.92195  baseline   0.00522          511\n",
       "sig/aws                      0.96803  0.96946      deep   0.00143          438\n",
       "sig/release                  0.93532  0.94492      deep   0.00960          330\n",
       "sig/azure                    0.98287  0.97849  baseline   0.00438          302\n",
       "sig/instrumentation          0.94775  0.92543  baseline   0.02232          253\n",
       "sig/autoscaling              0.98215  0.97122  baseline   0.01093          210\n",
       "sig/docs                     0.95432  0.96787      deep   0.01355          205\n",
       "sig/gcp                      0.91767  0.89395  baseline   0.02372          203\n",
       "sig/windows                  0.99501  0.98935  baseline   0.00566          185\n",
       "sig/multicluster             0.97841  0.98127      deep   0.00286          175\n",
       "sig/federation               0.98487  0.98119  baseline   0.00368          170\n",
       "sig/contributor-experience   0.89864  0.90015      deep   0.00151          152\n",
       "sig/openstack                0.99888  0.99562  baseline   0.00326          151\n",
       "sig/architecture             0.77077  0.79016      deep   0.01939           99\n",
       "sig/cluster-ops              0.80334  0.81560      deep   0.01226           63\n",
       "sig/cloud-provider           0.94083  0.83947  baseline   0.10136           54\n",
       "sig/vmware                   0.94991  0.83250  baseline   0.11741           39"
      ]
     },
     "execution_count": 73,
     "metadata": {},
     "output_type": "execute_result"
    }
   ],
   "source": [
    "pivot = compare_df.pivot(index='label', columns='category', values='auc')\n",
    "pivot['winner'] = pivot.apply(lambda x: 'deep' if x.deep > x.baseline else 'baseline', axis=1)\n",
    "pivot['abs diff'] = pivot.apply(lambda x: abs(x.deep - x.baseline), axis=1)\n",
    "pivot['label count'] = [c[x] for x in pivot.index.values]\n",
    "pivot.sort_values(by=['label count'], ascending=False)"
   ]
  },
  {
   "cell_type": "markdown",
   "metadata": {},
   "source": [
    "## Notes: How To Do Model Inference"
   ]
  },
  {
   "cell_type": "code",
   "execution_count": 96,
   "metadata": {},
   "outputs": [
    {
     "data": {
      "text/plain": [
       "(MultiCategory kind/bug;sig/storage,\n",
       " tensor([0., 0., 1., 0., 0., 0., 0., 0., 0., 0., 0., 0., 0., 0., 0., 0., 0., 0.,\n",
       "         0., 0., 0., 0., 0., 0., 0., 0., 0., 0., 0., 0., 0., 0., 0., 0., 0., 0.,\n",
       "         0., 0., 0., 1., 0., 0., 0., 0., 0.]),\n",
       " tensor([6.5999e-03, 1.4249e-03, 9.4289e-01, 1.4714e-02, 2.0936e-03, 4.2133e-04,\n",
       "         3.5251e-03, 1.5203e-01, 5.5862e-04, 6.8666e-03, 3.3344e-01, 3.0993e-02,\n",
       "         5.2516e-03, 4.0183e-03, 6.1540e-03, 4.1284e-02, 1.2610e-02, 5.7161e-02,\n",
       "         3.4535e-02, 7.1595e-03, 1.6362e-03, 4.7670e-03, 6.8910e-04, 6.9218e-03,\n",
       "         1.5391e-03, 7.6105e-03, 1.1268e-03, 7.3561e-03, 1.1026e-04, 3.1895e-04,\n",
       "         1.1466e-02, 9.8176e-03, 1.7623e-04, 9.7702e-03, 2.4318e-01, 5.0895e-03,\n",
       "         6.7916e-04, 5.8392e-03, 2.1515e-02, 8.9768e-01, 2.5650e-02, 4.0036e-03,\n",
       "         6.3843e-04, 8.8857e-04, 6.6078e-03]))"
      ]
     },
     "execution_count": 96,
     "metadata": {},
     "output_type": "execute_result"
    }
   ],
   "source": [
    "pred = tcl.predict(val_df.text.iloc[1])\n",
    "pred"
   ]
  },
  {
   "cell_type": "code",
   "execution_count": 97,
   "metadata": {},
   "outputs": [
    {
     "data": {
      "text/plain": [
       "'kind/bug sig/storage'"
      ]
     },
     "execution_count": 97,
     "metadata": {},
     "output_type": "execute_result"
    }
   ],
   "source": [
    "val_df.labels.iloc[1]"
   ]
  },
  {
   "cell_type": "code",
   "execution_count": 98,
   "metadata": {},
   "outputs": [
    {
     "data": {
      "text/plain": [
       "'sig/storage'"
      ]
     },
     "execution_count": 98,
     "metadata": {},
     "output_type": "execute_result"
    }
   ],
   "source": [
    "tcl.data.classes[torch.argmax(pred[1]).item()]"
   ]
  },
  {
   "cell_type": "code",
   "execution_count": null,
   "metadata": {},
   "outputs": [],
   "source": []
  },
  {
   "cell_type": "code",
   "execution_count": 100,
   "metadata": {},
   "outputs": [
    {
     "data": {
      "text/plain": [
       "[(0.942894697189331, 'kind/bug'),\n",
       " (0.8976842761039734, 'sig/storage'),\n",
       " (0.3334384262561798, 'lifecycle/rotten'),\n",
       " (0.24317985773086548, 'sig/node'),\n",
       " (0.15203484892845154, 'kind/feature'),\n",
       " (0.05716130509972572, 'priority/important-soon'),\n",
       " (0.04128386080265045, 'priority/critical-urgent'),\n",
       " (0.034535009413957596, 'sig/api-machinery'),\n",
       " (0.03099348396062851, 'lifecycle/stale'),\n",
       " (0.02564980834722519, 'sig/testing'),\n",
       " (0.021514995023608208, 'sig/scheduling'),\n",
       " (0.014714262448251247, 'kind/cleanup'),\n",
       " (0.01260975282639265, 'priority/important-longterm'),\n",
       " (0.011466153897345066, 'sig/gcp'),\n",
       " (0.009817550890147686, 'sig/instrumentation'),\n",
       " (0.009770188480615616, 'sig/network'),\n",
       " (0.007610503118485212, 'sig/cli'),\n",
       " (0.007356122136116028, 'sig/cluster-lifecycle'),\n",
       " (0.007159530185163021, 'sig/apps'),\n",
       " (0.006921829655766487, 'sig/aws'),\n",
       " (0.006866577081382275, 'lifecycle/frozen'),\n",
       " (0.0066078477539122105, 'wanted'),\n",
       " (0.006599870976060629, 'help'),\n",
       " (0.006153956986963749, 'priority/backlog'),\n",
       " (0.005839177407324314, 'sig/scalability'),\n",
       " (0.00525159016251564, 'needs-sig'),\n",
       " (0.005089464131742716, 'sig/openstack'),\n",
       " (0.004767025820910931, 'sig/auth'),\n",
       " (0.004018325358629227, 'priority/awaiting-more-evidence'),\n",
       " (0.004003609996289015, 'sig/windows'),\n",
       " (0.0035250529181212187, 'kind/failing-test'),\n",
       " (0.0020935633219778538, 'kind/design'),\n",
       " (0.0016361814923584461, 'sig/architecture'),\n",
       " (0.0015391024062409997, 'sig/azure'),\n",
       " (0.001424873247742653, 'kind/api-change'),\n",
       " (0.0011267816880717874, 'sig/cloud-provider'),\n",
       " (0.0008885691058821976, 'triage/unresolved'),\n",
       " (0.0006890965159982443, 'sig/autoscaling'),\n",
       " (0.0006791600026190281, 'sig/release'),\n",
       " (0.00063842732924968, 'triage/support'),\n",
       " (0.0005586210172623396, 'kind/flake'),\n",
       " (0.0004213346401229501, 'kind/documentation'),\n",
       " (0.0003189468407072127, 'sig/docs'),\n",
       " (0.00017623389430809766, 'sig/multicluster'),\n",
       " (0.00011025639832951128, 'sig/contributor-experience')]"
      ]
     },
     "execution_count": 100,
     "metadata": {},
     "output_type": "execute_result"
    }
   ],
   "source": [
    "pred_proba = [(v,k) for k, v in zip(tcl.data.classes, pred[2].data.tolist())]\n",
    "pred_proba.sort(reverse=True)\n",
    "pred_proba"
   ]
  },
  {
   "cell_type": "code",
   "execution_count": null,
   "metadata": {},
   "outputs": [],
   "source": []
  }
 ],
 "metadata": {
  "kernelspec": {
   "display_name": "Python 3",
   "language": "python",
   "name": "python3"
  },
  "language_info": {
   "codemirror_mode": {
    "name": "ipython",
    "version": 3
   },
   "file_extension": ".py",
   "mimetype": "text/x-python",
   "name": "python",
   "nbconvert_exporter": "python",
   "pygments_lexer": "ipython3",
   "version": "3.6.7"
  }
 },
 "nbformat": 4,
 "nbformat_minor": 2
}
