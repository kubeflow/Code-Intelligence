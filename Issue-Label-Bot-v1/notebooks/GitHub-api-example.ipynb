{
 "cells": [
  {
   "cell_type": "markdown",
   "metadata": {},
   "source": [
    "# This notebook shows you how you can use a python client to interact with GitHub as an app\n",
    "\n",
    "`mlapp` is a wrapper (located in `/flask_app/mlapp.py`) around the github3.py library for the purposes of interacting with GitHub issues."
   ]
  },
  {
   "cell_type": "markdown",
   "metadata": {},
   "source": [
    "## Get the app installation"
   ]
  },
  {
   "cell_type": "code",
   "execution_count": 49,
   "metadata": {},
   "outputs": [],
   "source": [
    "from mlapp import GitHubApp\n",
    "app_id = 12345 # you get your app id during setup\n",
    "key_file_path = '/path/to/your/file'\n",
    "\n",
    "# instantiate the app object\n",
    "ghapp = GitHubApp(pem_path=key_file_path, \n",
    "                  app_id=app_id)\n",
    "\n",
    "# get the installation id\n",
    "installation_id = ghapp.get_installation_id(owner='hamelsmu', \n",
    "                                            repo='simple_flask_app')\n",
    "\n",
    "# get the app installation object that will allow you to perform actions\n",
    "install = ghapp.get_installation(installation_id)"
   ]
  },
  {
   "cell_type": "markdown",
   "metadata": {},
   "source": [
    "## Interact With Issues"
   ]
  },
  {
   "cell_type": "markdown",
   "metadata": {},
   "source": [
    "#### Create a new issue"
   ]
  },
  {
   "cell_type": "code",
   "execution_count": 50,
   "metadata": {},
   "outputs": [],
   "source": [
    "issue = install.create_issue(owner='hamelsmu',\n",
    "                           repository='simple_flask_app',\n",
    "                           title='Opening a test issue ', \n",
    "                           body='demonstrating the python client')"
   ]
  },
  {
   "cell_type": "markdown",
   "metadata": {},
   "source": [
    "#### Comment on an issue"
   ]
  },
  {
   "cell_type": "code",
   "execution_count": 42,
   "metadata": {},
   "outputs": [],
   "source": [
    "comment = issue.create_comment('Wooo!  Its time to do some machine learning!')"
   ]
  },
  {
   "cell_type": "markdown",
   "metadata": {},
   "source": [
    "#### Add a label to an issue"
   ]
  },
  {
   "cell_type": "code",
   "execution_count": 44,
   "metadata": {},
   "outputs": [
    {
     "data": {
      "text/plain": [
       "[<ShortLabel [AI-is-taking-over]>]"
      ]
     },
     "execution_count": 44,
     "metadata": {},
     "output_type": "execute_result"
    }
   ],
   "source": [
    "issue.add_labels('AI-is-taking-over')"
   ]
  },
  {
   "cell_type": "markdown",
   "metadata": {},
   "source": [
    "#### See the issue here"
   ]
  },
  {
   "cell_type": "code",
   "execution_count": 45,
   "metadata": {},
   "outputs": [
    {
     "name": "stdout",
     "output_type": "stream",
     "text": [
      "https://github.com/hamelsmu/simple_flask_app/issues/1\n"
     ]
    }
   ],
   "source": [
    "print(issue.html_url)"
   ]
  },
  {
   "cell_type": "markdown",
   "metadata": {},
   "source": [
    "# Appendix"
   ]
  },
  {
   "cell_type": "markdown",
   "metadata": {},
   "source": [
    "## Extract Data\n",
    "\n",
    "All issues from `kubeflow/kubeflow`"
   ]
  },
  {
   "cell_type": "markdown",
   "metadata": {},
   "source": [
    "Get a list of issues which you can use to train models"
   ]
  },
  {
   "cell_type": "code",
   "execution_count": 8,
   "metadata": {},
   "outputs": [
    {
     "name": "stderr",
     "output_type": "stream",
     "text": [
      "100%|██████████| 489/489 [02:20<00:00,  2.85it/s]\n"
     ]
    }
   ],
   "source": [
    "issues = GitHubApp.unpack_issues(client=install, \n",
    "                                 owner='kubeflow',\n",
    "                                 repo='kubeflow')"
   ]
  },
  {
   "cell_type": "code",
   "execution_count": 9,
   "metadata": {
    "scrolled": false
   },
   "outputs": [
    {
     "name": "stdout",
     "output_type": "stream",
     "text": [
      "there are 372 issues with labels\n"
     ]
    }
   ],
   "source": [
    "print(f'there are {len(issues)} issues with labels')"
   ]
  },
  {
   "cell_type": "markdown",
   "metadata": {},
   "source": [
    "## Get random app installation\n",
    "\n",
    "The test installation automatically fetches the first installation the app is found on.  This is useful for testing purposes "
   ]
  },
  {
   "cell_type": "code",
   "execution_count": null,
   "metadata": {},
   "outputs": [],
   "source": [
    "install = ghapp.get_test_installation()"
   ]
  }
 ],
 "metadata": {
  "kernelspec": {
   "display_name": "MLapp",
   "language": "python",
   "name": "mlapp"
  },
  "language_info": {
   "codemirror_mode": {
    "name": "ipython",
    "version": 3
   },
   "file_extension": ".py",
   "mimetype": "text/x-python",
   "name": "python",
   "nbconvert_exporter": "python",
   "pygments_lexer": "ipython3",
   "version": "3.6.7"
  }
 },
 "nbformat": 4,
 "nbformat_minor": 2
}
