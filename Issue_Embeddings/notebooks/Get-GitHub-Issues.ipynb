{
 "cells": [
  {
   "cell_type": "markdown",
   "metadata": {},
   "source": [
    "# Fetch GitHub Issues and Compute Embeddings\n",
    "\n",
    "* This notebook downloads GitHub Issues and then computes the embeddings using a trained model\n",
    "* [issues_loader.ipynb](../Label_Microservice/notebooks/issues_loader.ipynb) is a very similar notebook\n",
    "\n",
    "   * That notebook however just uses the IssuesLoader class as way of hard coding some paths."
   ]
  },
  {
   "cell_type": "markdown",
   "metadata": {},
   "source": [
    "## Running this Notebook\n",
    "\n",
    "This notebook is run in the container: [hamelsmu/ml-gpu-issue-lang-model](https://github.com/machine-learning-apps/IssuesLanguageModel/blob/master/gpu.Dockerfile)\n",
    "\n",
    "This container is publicly available [on Dockerhub](https://cloud.docker.com/u/hamelsmu/repository/docker/hamelsmu/ml-gpu-issue-lang-model)\n",
    "\n",
    "#### Compute: This notebook was run on a [p3.8xlarge](https://aws.amazon.com/ec2/instance-types/p3/) on AWS\n",
    "Tesla V100 GPU, 32 vCPUs 244GB of Memory"
   ]
  },
  {
   "cell_type": "code",
   "execution_count": 1,
   "metadata": {},
   "outputs": [
    {
     "name": "stderr",
     "output_type": "stream",
     "text": [
      "Adding /home/jovyan/git_kubeflow-code-intelligence/py to python path\n"
     ]
    }
   ],
   "source": [
    "import logging\n",
    "import os\n",
    "from pathlib import Path\n",
    "import sys\n",
    "\n",
    "logging.basicConfig(format='%(message)s')\n",
    "logging.getLogger().setLevel(logging.INFO)\n",
    "\n",
    "home = str(Path.home())\n",
    "\n",
    "# Installing the python packages locally doesn't appear to have them automatically\n",
    "# added the path so we need to manually add the directory\n",
    "local_py_path = os.path.join(home, \".local/lib/python3.6/site-packages\")\n",
    "\n",
    "for p in [local_py_path, os.path.abspath(\"../../py\")]:\n",
    "    if p not in sys.path:\n",
    "      logging.info(\"Adding %s to python path\", p)\n",
    "      # Insert at front because we want to override any installed packages\n",
    "      sys.path.insert(0, p)\n"
   ]
  },
  {
   "cell_type": "code",
   "execution_count": 72,
   "metadata": {},
   "outputs": [
    {
     "name": "stdout",
     "output_type": "stream",
     "text": [
      "Requirement already satisfied: appnope==0.1.0 in /home/jovyan/.local/lib/python3.6/site-packages (from -r ../requirements.txt (line 2)) (0.1.0)\n",
      "Requirement already satisfied: attrs==19.1.0 in /home/jovyan/.local/lib/python3.6/site-packages (from -r ../requirements.txt (line 3)) (19.1.0)\n",
      "Requirement already satisfied: backcall==0.1.0 in /usr/local/lib/python3.6/dist-packages (from -r ../requirements.txt (line 4)) (0.1.0)\n",
      "Requirement already satisfied: beautifulsoup4==4.7.1 in /home/jovyan/.local/lib/python3.6/site-packages (from -r ../requirements.txt (line 5)) (4.7.1)\n",
      "Requirement already satisfied: bleach==3.1.0 in /usr/local/lib/python3.6/dist-packages (from -r ../requirements.txt (line 6)) (3.1.0)\n",
      "Requirement already satisfied: blis==0.2.4 in /home/jovyan/.local/lib/python3.6/site-packages (from -r ../requirements.txt (line 7)) (0.2.4)\n",
      "Requirement already satisfied: bottleneck==1.2.1 in /home/jovyan/.local/lib/python3.6/site-packages (from -r ../requirements.txt (line 8)) (1.2.1)\n",
      "Requirement already satisfied: bs4==0.0.1 in /home/jovyan/.local/lib/python3.6/site-packages (from -r ../requirements.txt (line 9)) (0.0.1)\n",
      "Requirement already satisfied: cachetools==3.1.1 in /home/jovyan/.local/lib/python3.6/site-packages (from -r ../requirements.txt (line 10)) (3.1.1)\n",
      "Requirement already satisfied: certifi==2019.3.9 in /home/jovyan/.local/lib/python3.6/site-packages (from -r ../requirements.txt (line 11)) (2019.3.9)\n",
      "Requirement already satisfied: cffi==1.12.3 in /home/jovyan/.local/lib/python3.6/site-packages (from -r ../requirements.txt (line 12)) (1.12.3)\n",
      "Requirement already satisfied: chardet==3.0.4 in /usr/local/lib/python3.6/dist-packages (from -r ../requirements.txt (line 13)) (3.0.4)\n",
      "Requirement already satisfied: click==7.0 in /home/jovyan/.local/lib/python3.6/site-packages (from -r ../requirements.txt (line 14)) (7.0)\n",
      "Requirement already satisfied: cycler==0.10.0 in /usr/local/lib/python3.6/dist-packages (from -r ../requirements.txt (line 15)) (0.10.0)\n",
      "Requirement already satisfied: cymem==2.0.2 in /home/jovyan/.local/lib/python3.6/site-packages (from -r ../requirements.txt (line 16)) (2.0.2)\n",
      "Requirement already satisfied: cytoolz==0.9.0.1 in /home/jovyan/.local/lib/python3.6/site-packages (from -r ../requirements.txt (line 17)) (0.9.0.1)\n",
      "Requirement already satisfied: decorator==4.4.0 in /home/jovyan/.local/lib/python3.6/site-packages (from -r ../requirements.txt (line 18)) (4.4.0)\n",
      "Requirement already satisfied: defusedxml==0.6.0 in /usr/local/lib/python3.6/dist-packages (from -r ../requirements.txt (line 19)) (0.6.0)\n",
      "Requirement already satisfied: dill==0.3.0 in /home/jovyan/.local/lib/python3.6/site-packages (from -r ../requirements.txt (line 20)) (0.3.0)\n",
      "Requirement already satisfied: entrypoints==0.3 in /usr/local/lib/python3.6/dist-packages (from -r ../requirements.txt (line 21)) (0.3)\n",
      "Requirement already satisfied: fastai==1.0.53.post3 in /home/jovyan/.local/lib/python3.6/site-packages (from -r ../requirements.txt (line 22)) (1.0.53.post3)\n",
      "Requirement already satisfied: fastprogress==0.1.21 in /home/jovyan/.local/lib/python3.6/site-packages (from -r ../requirements.txt (line 23)) (0.1.21)\n",
      "Requirement already satisfied: flask-session==0.3.1 in /home/jovyan/.local/lib/python3.6/site-packages (from -r ../requirements.txt (line 24)) (0.3.1)\n",
      "Requirement already satisfied: flask==1.0.2 in /home/jovyan/.local/lib/python3.6/site-packages (from -r ../requirements.txt (line 25)) (1.0.2)\n",
      "Requirement already satisfied: ftfy==4.4.3 in /home/jovyan/.local/lib/python3.6/site-packages (from -r ../requirements.txt (line 26)) (4.4.3)\n",
      "Requirement already satisfied: gcsfs==0.2.1 in /home/jovyan/.local/lib/python3.6/site-packages (from -r ../requirements.txt (line 27)) (0.2.1)\n",
      "Requirement already satisfied: github3.py>=1.3.0 in /home/jovyan/.local/lib/python3.6/site-packages (from -r ../requirements.txt (line 28)) (1.3.0)\n",
      "Requirement already satisfied: google-auth-oauthlib==0.3.0 in /home/jovyan/.local/lib/python3.6/site-packages (from -r ../requirements.txt (line 29)) (0.3.0)\n",
      "Requirement already satisfied: google-auth==1.6.3 in /home/jovyan/.local/lib/python3.6/site-packages (from -r ../requirements.txt (line 30)) (1.6.3)\n",
      "Requirement already satisfied: gunicorn==19.9.0 in /home/jovyan/.local/lib/python3.6/site-packages (from -r ../requirements.txt (line 31)) (19.9.0)\n",
      "Requirement already satisfied: html5lib==1.0.1 in /home/jovyan/.local/lib/python3.6/site-packages (from -r ../requirements.txt (line 32)) (1.0.1)\n",
      "Requirement already satisfied: idna==2.8 in /home/jovyan/.local/lib/python3.6/site-packages (from -r ../requirements.txt (line 33)) (2.8)\n",
      "Requirement already satisfied: ijson==2.3 in /home/jovyan/.local/lib/python3.6/site-packages (from -r ../requirements.txt (line 34)) (2.3)\n",
      "Requirement already satisfied: ipdb==0.12 in /home/jovyan/.local/lib/python3.6/site-packages (from -r ../requirements.txt (line 35)) (0.12)\n",
      "Requirement already satisfied: ipykernel==5.1.0 in /home/jovyan/.local/lib/python3.6/site-packages (from -r ../requirements.txt (line 36)) (5.1.0)\n",
      "Requirement already satisfied: ipython-genutils==0.2.0 in /usr/local/lib/python3.6/dist-packages (from -r ../requirements.txt (line 37)) (0.2.0)\n",
      "Requirement already satisfied: ipython==7.5.0 in /home/jovyan/.local/lib/python3.6/site-packages (from -r ../requirements.txt (line 38)) (7.5.0)\n",
      "Requirement already satisfied: ipywidgets==7.4.2 in /home/jovyan/.local/lib/python3.6/site-packages (from -r ../requirements.txt (line 39)) (7.4.2)\n",
      "Requirement already satisfied: itsdangerous==1.1.0 in /home/jovyan/.local/lib/python3.6/site-packages (from -r ../requirements.txt (line 40)) (1.1.0)\n",
      "Requirement already satisfied: jedi==0.13.3 in /home/jovyan/.local/lib/python3.6/site-packages (from -r ../requirements.txt (line 41)) (0.13.3)\n",
      "Requirement already satisfied: jinja2==2.10.1 in /home/jovyan/.local/lib/python3.6/site-packages (from -r ../requirements.txt (line 42)) (2.10.1)\n",
      "Requirement already satisfied: joblib==0.13.2 in /home/jovyan/.local/lib/python3.6/site-packages (from -r ../requirements.txt (line 43)) (0.13.2)\n",
      "Requirement already satisfied: jsonschema==3.0.1 in /home/jovyan/.local/lib/python3.6/site-packages (from -r ../requirements.txt (line 44)) (3.0.1)\n",
      "Requirement already satisfied: JSON-log-formatter==0.2.0 in /home/jovyan/.local/lib/python3.6/site-packages (from -r ../requirements.txt (line 45)) (0.2.0)\n",
      "Requirement already satisfied: jupyter-client==5.2.4 in /home/jovyan/.local/lib/python3.6/site-packages (from -r ../requirements.txt (line 46)) (5.2.4)\n",
      "Requirement already satisfied: jupyter-core==4.4.0 in /home/jovyan/.local/lib/python3.6/site-packages (from -r ../requirements.txt (line 47)) (4.4.0)\n",
      "Requirement already satisfied: kiwisolver==1.1.0 in /usr/local/lib/python3.6/dist-packages (from -r ../requirements.txt (line 48)) (1.1.0)\n",
      "Requirement already satisfied: markupsafe==1.1.1 in /usr/local/lib/python3.6/dist-packages (from -r ../requirements.txt (line 49)) (1.1.1)\n",
      "Requirement already satisfied: matplotlib==3.0.3 in /home/jovyan/.local/lib/python3.6/site-packages (from -r ../requirements.txt (line 50)) (3.0.3)\n",
      "Requirement already satisfied: mdparse==0.13 in /home/jovyan/.local/lib/python3.6/site-packages (from -r ../requirements.txt (line 51)) (0.13)\n",
      "Requirement already satisfied: mistune==0.8.4 in /usr/local/lib/python3.6/dist-packages (from -r ../requirements.txt (line 52)) (0.8.4)\n",
      "Requirement already satisfied: more-itertools==8.2.0 in /home/jovyan/.local/lib/python3.6/site-packages (from -r ../requirements.txt (line 53)) (8.2.0)\n",
      "Requirement already satisfied: murmurhash==1.0.2 in /home/jovyan/.local/lib/python3.6/site-packages (from -r ../requirements.txt (line 54)) (1.0.2)\n",
      "Requirement already satisfied: mwparserfromhell==0.5.3 in /home/jovyan/.local/lib/python3.6/site-packages (from -r ../requirements.txt (line 55)) (0.5.3)\n",
      "Requirement already satisfied: nbconvert==5.5.0 in /home/jovyan/.local/lib/python3.6/site-packages (from -r ../requirements.txt (line 56)) (5.5.0)\n",
      "Requirement already satisfied: nbformat==4.4.0 in /home/jovyan/.local/lib/python3.6/site-packages (from -r ../requirements.txt (line 57)) (4.4.0)\n",
      "Requirement already satisfied: networkx==2.3 in /home/jovyan/.local/lib/python3.6/site-packages (from -r ../requirements.txt (line 58)) (2.3)\n",
      "Requirement already satisfied: notebook==5.7.8 in /home/jovyan/.local/lib/python3.6/site-packages (from -r ../requirements.txt (line 59)) (5.7.8)\n",
      "Requirement already satisfied: numexpr==2.6.9 in /home/jovyan/.local/lib/python3.6/site-packages (from -r ../requirements.txt (line 60)) (2.6.9)\n",
      "Requirement already satisfied: numpy==1.16.4 in /home/jovyan/.local/lib/python3.6/site-packages (from -r ../requirements.txt (line 61)) (1.16.4)\n",
      "Requirement already satisfied: oauthlib==3.0.1 in /home/jovyan/.local/lib/python3.6/site-packages (from -r ../requirements.txt (line 62)) (3.0.1)\n",
      "Requirement already satisfied: packaging==19.0 in /home/jovyan/.local/lib/python3.6/site-packages (from -r ../requirements.txt (line 63)) (19.0)\n",
      "Requirement already satisfied: pandas==0.24.2 in /home/jovyan/.local/lib/python3.6/site-packages (from -r ../requirements.txt (line 64)) (0.24.2)\n",
      "Requirement already satisfied: pandocfilters==1.4.2 in /usr/local/lib/python3.6/dist-packages (from -r ../requirements.txt (line 65)) (1.4.2)\n",
      "Requirement already satisfied: parso==0.4.0 in /home/jovyan/.local/lib/python3.6/site-packages (from -r ../requirements.txt (line 66)) (0.4.0)\n",
      "Requirement already satisfied: passlib==1.7.1 in /home/jovyan/.local/lib/python3.6/site-packages (from -r ../requirements.txt (line 67)) (1.7.1)\n",
      "Requirement already satisfied: pexpect==4.7.0 in /home/jovyan/.local/lib/python3.6/site-packages (from -r ../requirements.txt (line 68)) (4.7.0)\n",
      "Requirement already satisfied: pickleshare==0.7.5 in /usr/local/lib/python3.6/dist-packages (from -r ../requirements.txt (line 69)) (0.7.5)\n",
      "Requirement already satisfied: pillow==6.0.0 in /home/jovyan/.local/lib/python3.6/site-packages (from -r ../requirements.txt (line 70)) (6.0.0)\n",
      "Requirement already satisfied: plac==0.9.6 in /home/jovyan/.local/lib/python3.6/site-packages (from -r ../requirements.txt (line 71)) (0.9.6)\n",
      "Requirement already satisfied: preshed==2.0.1 in /home/jovyan/.local/lib/python3.6/site-packages (from -r ../requirements.txt (line 72)) (2.0.1)\n",
      "Requirement already satisfied: prometheus-client==0.6.0 in /home/jovyan/.local/lib/python3.6/site-packages (from -r ../requirements.txt (line 73)) (0.6.0)\n",
      "Requirement already satisfied: prompt-toolkit==2.0.9 in /home/jovyan/.local/lib/python3.6/site-packages (from -r ../requirements.txt (line 74)) (2.0.9)\n",
      "Requirement already satisfied: ptyprocess==0.6.0 in /usr/local/lib/python3.6/dist-packages (from -r ../requirements.txt (line 75)) (0.6.0)\n",
      "Requirement already satisfied: pyasn1-modules==0.2.5 in /home/jovyan/.local/lib/python3.6/site-packages (from -r ../requirements.txt (line 76)) (0.2.5)\n",
      "Requirement already satisfied: pyasn1==0.4.5 in /home/jovyan/.local/lib/python3.6/site-packages (from -r ../requirements.txt (line 77)) (0.4.5)\n",
      "Requirement already satisfied: pycparser==2.19 in /home/jovyan/.local/lib/python3.6/site-packages (from -r ../requirements.txt (line 78)) (2.19)\n",
      "Requirement already satisfied: pyemd==0.5.1 in /home/jovyan/.local/lib/python3.6/site-packages (from -r ../requirements.txt (line 79)) (0.5.1)\n",
      "Requirement already satisfied: pygments==2.4.2 in /home/jovyan/.local/lib/python3.6/site-packages (from -r ../requirements.txt (line 80)) (2.4.2)\n",
      "Requirement already satisfied: pyparsing==2.4.0 in /home/jovyan/.local/lib/python3.6/site-packages (from -r ../requirements.txt (line 81)) (2.4.0)\n",
      "Requirement already satisfied: pyphen==0.9.5 in /home/jovyan/.local/lib/python3.6/site-packages (from -r ../requirements.txt (line 82)) (0.9.5)\n",
      "Requirement already satisfied: pyrsistent==0.15.2 in /home/jovyan/.local/lib/python3.6/site-packages (from -r ../requirements.txt (line 83)) (0.15.2)\n",
      "Requirement already satisfied: python-dateutil==2.8.0 in /home/jovyan/.local/lib/python3.6/site-packages (from -r ../requirements.txt (line 84)) (2.8.0)\n",
      "Requirement already satisfied: python-levenshtein==0.12.0 in /home/jovyan/.local/lib/python3.6/site-packages (from -r ../requirements.txt (line 85)) (0.12.0)\n",
      "Requirement already satisfied: pytz==2019.1 in /home/jovyan/.local/lib/python3.6/site-packages (from -r ../requirements.txt (line 86)) (2019.1)\n",
      "Requirement already satisfied: pyyaml==5.1 in /home/jovyan/.local/lib/python3.6/site-packages (from -r ../requirements.txt (line 87)) (5.1)\n",
      "Requirement already satisfied: pyzmq==18.0.1 in /home/jovyan/.local/lib/python3.6/site-packages (from -r ../requirements.txt (line 88)) (18.0.1)\n",
      "Requirement already satisfied: regex==2019.6.8 in /home/jovyan/.local/lib/python3.6/site-packages (from -r ../requirements.txt (line 89)) (2019.6.8)\n",
      "Requirement already satisfied: requests-oauthlib==1.2.0 in /home/jovyan/.local/lib/python3.6/site-packages (from -r ../requirements.txt (line 90)) (1.2.0)\n",
      "Requirement already satisfied: requests==2.22.0 in /usr/local/lib/python3.6/dist-packages (from -r ../requirements.txt (line 91)) (2.22.0)\n",
      "Requirement already satisfied: rsa==4.0 in /usr/local/lib/python3.6/dist-packages (from -r ../requirements.txt (line 92)) (4.0)\n",
      "Requirement already satisfied: scikit-learn==0.20.3 in /home/jovyan/.local/lib/python3.6/site-packages (from -r ../requirements.txt (line 93)) (0.20.3)\n",
      "Requirement already satisfied: scipy==1.2.1 in /home/jovyan/.local/lib/python3.6/site-packages (from -r ../requirements.txt (line 94)) (1.2.1)\n",
      "Requirement already satisfied: send2trash==1.5.0 in /usr/local/lib/python3.6/dist-packages (from -r ../requirements.txt (line 95)) (1.5.0)\n",
      "Requirement already satisfied: six==1.12.0 in /home/jovyan/.local/lib/python3.6/site-packages (from -r ../requirements.txt (line 96)) (1.12.0)\n",
      "Requirement already satisfied: soupsieve==1.9.1 in /home/jovyan/.local/lib/python3.6/site-packages (from -r ../requirements.txt (line 97)) (1.9.1)\n",
      "Requirement already satisfied: spacy==2.1.4 in /home/jovyan/.local/lib/python3.6/site-packages (from -r ../requirements.txt (line 98)) (2.1.4)\n",
      "Requirement already satisfied: srsly==0.0.7 in /home/jovyan/.local/lib/python3.6/site-packages (from -r ../requirements.txt (line 99)) (0.0.7)\n",
      "Requirement already satisfied: terminado==0.8.2 in /home/jovyan/.local/lib/python3.6/site-packages (from -r ../requirements.txt (line 100)) (0.8.2)\n",
      "Requirement already satisfied: testpath==0.4.2 in /home/jovyan/.local/lib/python3.6/site-packages (from -r ../requirements.txt (line 101)) (0.4.2)\n",
      "Requirement already satisfied: textacy==0.7.1 in /home/jovyan/.local/lib/python3.6/site-packages (from -r ../requirements.txt (line 102)) (0.7.1)\n",
      "Requirement already satisfied: thinc==7.0.4 in /home/jovyan/.local/lib/python3.6/site-packages (from -r ../requirements.txt (line 103)) (7.0.4)\n",
      "Requirement already satisfied: timeout-decorator==0.4.1 in /home/jovyan/.local/lib/python3.6/site-packages (from -r ../requirements.txt (line 104)) (0.4.1)\n",
      "Requirement already satisfied: toolz==0.9.0 in /home/jovyan/.local/lib/python3.6/site-packages (from -r ../requirements.txt (line 105)) (0.9.0)\n",
      "Requirement already satisfied: tornado==6.0.2 in /home/jovyan/.local/lib/python3.6/site-packages (from -r ../requirements.txt (line 106)) (6.0.2)\n",
      "Requirement already satisfied: torch==1.1.0 in /home/jovyan/.local/lib/python3.6/site-packages (from -r ../requirements.txt (line 107)) (1.1.0)\n",
      "Requirement already satisfied: tqdm==4.32.2 in /home/jovyan/.local/lib/python3.6/site-packages (from -r ../requirements.txt (line 108)) (4.32.2)\n",
      "Requirement already satisfied: traitlets==4.3.2 in /home/jovyan/.local/lib/python3.6/site-packages (from -r ../requirements.txt (line 109)) (4.3.2)\n",
      "Requirement already satisfied: typing==3.6.6 in /home/jovyan/.local/lib/python3.6/site-packages (from -r ../requirements.txt (line 110)) (3.6.6)\n",
      "Requirement already satisfied: urllib3==1.24.3 in /home/jovyan/.local/lib/python3.6/site-packages (from -r ../requirements.txt (line 111)) (1.24.3)\n",
      "Requirement already satisfied: wasabi==0.2.2 in /home/jovyan/.local/lib/python3.6/site-packages (from -r ../requirements.txt (line 112)) (0.2.2)\n",
      "Requirement already satisfied: wcwidth==0.1.7 in /home/jovyan/.local/lib/python3.6/site-packages (from -r ../requirements.txt (line 113)) (0.1.7)\n",
      "Requirement already satisfied: webencodings==0.5.1 in /usr/local/lib/python3.6/dist-packages (from -r ../requirements.txt (line 114)) (0.5.1)\n",
      "Requirement already satisfied: werkzeug==0.15.2 in /home/jovyan/.local/lib/python3.6/site-packages (from -r ../requirements.txt (line 115)) (0.15.2)\n",
      "Requirement already satisfied: widgetsnbextension==3.4.2 in /home/jovyan/.local/lib/python3.6/site-packages (from -r ../requirements.txt (line 116)) (3.4.2)\n",
      "Requirement already satisfied: nvidia-ml-py3 in /home/jovyan/.local/lib/python3.6/site-packages (from fastai==1.0.53.post3->-r ../requirements.txt (line 22)) (7.352.0)\n",
      "Requirement already satisfied: torchvision in /home/jovyan/.local/lib/python3.6/site-packages (from fastai==1.0.53.post3->-r ../requirements.txt (line 22)) (0.5.0)\n",
      "Requirement already satisfied: dataclasses; python_version < \"3.7\" in /home/jovyan/.local/lib/python3.6/site-packages (from fastai==1.0.53.post3->-r ../requirements.txt (line 22)) (0.7)\n",
      "Requirement already satisfied: jwcrypto>=0.5.0 in /home/jovyan/.local/lib/python3.6/site-packages (from github3.py>=1.3.0->-r ../requirements.txt (line 28)) (0.7)\n",
      "Requirement already satisfied: uritemplate>=3.0.0 in /usr/local/lib/python3.6/dist-packages (from github3.py>=1.3.0->-r ../requirements.txt (line 28)) (3.0.1)\n",
      "Requirement already satisfied: setuptools in /usr/local/lib/python3.6/dist-packages (from ipdb==0.12->-r ../requirements.txt (line 35)) (42.0.2)\n",
      "Requirement already satisfied: cryptography>=1.5 in /usr/lib/python3/dist-packages (from jwcrypto>=0.5.0->github3.py>=1.3.0->-r ../requirements.txt (line 28)) (2.1.4)\n",
      "\u001b[33mWARNING: You are using pip version 19.3.1; however, version 20.0.2 is available.\n",
      "You should consider upgrading via the 'pip install --upgrade pip' command.\u001b[0m\n"
     ]
    }
   ],
   "source": [
    "!pip3 install --user -r ../requirements.txt"
   ]
  },
  {
   "cell_type": "code",
   "execution_count": 2,
   "metadata": {},
   "outputs": [],
   "source": [
    "from bs4 import BeautifulSoup\n",
    "import requests\n",
    "from fastai.core import parallel, partial\n",
    "\n",
    "from collections import Counter\n",
    "from tqdm import tqdm_notebook\n",
    "import torch\n",
    "from code_intelligence import embeddings\n",
    "from code_intelligence import graphql\n",
    "from code_intelligence import gcs_util\n",
    "from google.cloud import storage"
   ]
  },
  {
   "cell_type": "markdown",
   "metadata": {},
   "source": [
    "## Get a list of Kubeflow REPOs\n",
    "\n",
    "* You will need to either set a GitHub token or use a GitHub App in order to call the API"
   ]
  },
  {
   "cell_type": "code",
   "execution_count": 55,
   "metadata": {},
   "outputs": [
    {
     "name": "stderr",
     "output_type": "stream",
     "text": [
      "GraphQLClient is defaulting to FixedAccessTokenGenerator based on environment variables. This is deprecated. Caller should explicitly pass in a instance via header_generator. Traceback:\n",
      "<function extract_stack at 0x7f91e275f6a8>\n"
     ]
    },
    {
     "name": "stdout",
     "output_type": "stream",
     "text": [
      "['arena', 'batch-predict', 'caffe2-operator', 'chainer-operator', 'code-intelligence', 'common', 'community', 'crd-validation', 'example-seldon', 'examples', 'fairing', 'features', 'frontend', 'homebrew-cask', 'homebrew-core', 'internal-acls', 'katib', 'kfctl', 'kfp-tekton', 'kfserving', 'kubebench', 'kubeflow', 'manifests', 'marketing-materials', 'metadata', 'mpi-operator', 'mxnet-operator', 'pipelines', 'pytorch-operator', 'reporting', 'testing', 'tf-operator', 'triage-issues', 'website', 'xgboost-operator']\n"
     ]
    }
   ],
   "source": [
    "if not os.getenv(\"GITHUB_TOKEN\"):\n",
    "    logging.warning(f\"No GitHub token set defaulting to hardcode list of Kubeflow repositories\")\n",
    "    \n",
    "    # The list of repos can be updated using the else block\n",
    "    repo_names = ['arena', 'batch-predict', 'caffe2-operator', 'chainer-operator', 'code-intelligence', 'common', 'community', 'crd-validation', 'example-seldon', 'examples', 'fairing', 'features', 'frontend', 'homebrew-cask', 'homebrew-core', 'internal-acls', 'katib', 'kfctl', 'kfp-tekton', 'kfserving', 'kubebench', 'kubeflow', 'manifests', 'marketing-materials', 'metadata', 'mpi-operator', 'mxnet-operator', 'pipelines', 'pytorch-operator', 'reporting', 'testing', 'tf-operator', 'triage-issues', 'website', 'xgboost-operator']\n",
    "else:\n",
    "    gh_client = graphql.GraphQLClient()\n",
    "        \n",
    "    repo_query=\"\"\"query repoQuery($org: String!) {\n",
    "       organization(login: $org) {\n",
    "        repositories(first:100) {\n",
    "          totalCount \n",
    "          edges {\n",
    "            node {\n",
    "              name\n",
    "            }\n",
    "          }\n",
    "        }\n",
    "      }\n",
    "    }\n",
    "    \"\"\"\n",
    "    variables = {\n",
    "        \"org\": \"kubeflow\",\n",
    "    }\n",
    "    results = gh_client.run_query(repo_query, variables)\n",
    "    repo_nodes = graphql.unpack_and_split_nodes(results, [\"data\", \"organization\", \"repositories\", \"edges\"])\n",
    "    repo_names = [n[\"name\"] for n in repo_nodes]\n",
    "\n",
    "    \",\".join([f\"'{n}'\" for n in sorted(repo_names)])\n",
    "    names_str = \", \".join([f\"'{n}'\" for n in sorted(repo_names)])\n",
    "    print(f\"[{names_str}]\")"
   ]
  },
  {
   "cell_type": "markdown",
   "metadata": {},
   "source": [
    "## Get The Data"
   ]
  },
  {
   "cell_type": "code",
   "execution_count": 3,
   "metadata": {},
   "outputs": [],
   "source": [
    "%load_ext autoreload\n",
    "%autoreload 2\n",
    "import pandas as pd\n",
    "from inference import InferenceWrapper"
   ]
  },
  {
   "cell_type": "markdown",
   "metadata": {},
   "source": [
    "## Load Model Artifacts (Download from GC if not on local)\n",
    "\n",
    "* We need to load the model used to compute embeddings"
   ]
  },
  {
   "cell_type": "code",
   "execution_count": 4,
   "metadata": {},
   "outputs": [],
   "source": [
    "from pathlib import Path\n",
    "from urllib import request as request_url\n",
    "\n",
    "def pass_through(x):\n",
    "    return x\n",
    "\n",
    "model_url = 'https://storage.googleapis.com/issue_label_bot/model/lang_model/models_22zkdqlr/trained_model_22zkdqlr.pkl'\n",
    "inference_wrapper = embeddings.load_model_artifact(model_url)"
   ]
  },
  {
   "cell_type": "markdown",
   "metadata": {},
   "source": [
    "#### Warning: The below cell benefits tremendously from parallelism, the more cores your machine has the better\n",
    "\n",
    "* The code will fail if you aren't running with a GPU"
   ]
  },
  {
   "cell_type": "markdown",
   "metadata": {},
   "source": [
    "## Load Data Using BigQuery\n",
    "\n",
    "* TODO(jlewi): Does the preprocessing match what we do for inference?"
   ]
  },
  {
   "cell_type": "code",
   "execution_count": 9,
   "metadata": {},
   "outputs": [
    {
     "name": "stdout",
     "output_type": "stream",
     "text": [
      "Collecting pandas-gbq\n",
      "  Using cached https://files.pythonhosted.org/packages/c3/74/126408f6bdb7b2cb1dcb8c6e4bd69a511a7f85792d686d1237d9825e6194/pandas_gbq-0.13.1-py3-none-any.whl\n",
      "Collecting google-cloud-bigquery\n",
      "  Using cached https://files.pythonhosted.org/packages/8f/f7/b6f55e144da37f38a79552a06103f2df4a9569e2dfc6d741a7e2a63d3592/google_cloud_bigquery-1.24.0-py2.py3-none-any.whl\n",
      "Collecting pydata-google-auth\n",
      "  Using cached https://files.pythonhosted.org/packages/87/ed/9c9f410c032645632de787b8c285a78496bd89590c777385b921eb89433d/pydata_google_auth-0.3.0-py2.py3-none-any.whl\n",
      "Collecting google-auth-oauthlib\n",
      "  Using cached https://files.pythonhosted.org/packages/7b/b8/88def36e74bee9fce511c9519571f4e485e890093ab7442284f4ffaef60b/google_auth_oauthlib-0.4.1-py2.py3-none-any.whl\n",
      "Collecting setuptools\n",
      "\u001b[?25l  Downloading https://files.pythonhosted.org/packages/a0/df/635cdb901ee4a8a42ec68e480c49f85f4c59e8816effbf57d9e6ee8b3588/setuptools-46.1.3-py3-none-any.whl (582kB)\n",
      "\u001b[K     |████████████████████████████████| 583kB 2.7MB/s eta 0:00:01\n",
      "\u001b[?25hCollecting google-auth\n",
      "\u001b[?25l  Downloading https://files.pythonhosted.org/packages/dc/1a/c3c2f3aa4190d8154a146ad33aa5479c8d193cc6211abe5c535921d93389/google_auth-1.13.1-py2.py3-none-any.whl (87kB)\n",
      "\u001b[K     |████████████████████████████████| 92kB 9.7MB/s  eta 0:00:01\n",
      "\u001b[?25hCollecting pandas>=0.19.0\n",
      "\u001b[?25l  Downloading https://files.pythonhosted.org/packages/bb/71/8f53bdbcbc67c912b888b40def255767e475402e9df64050019149b1a943/pandas-1.0.3-cp36-cp36m-manylinux1_x86_64.whl (10.0MB)\n",
      "\u001b[K     |████████████████████████████████| 10.0MB 15.2MB/s eta 0:00:01    |████████████████▏               | 5.1MB 15.2MB/s eta 0:00:01\n",
      "\u001b[?25hCollecting google-resumable-media<0.6dev,>=0.5.0\n",
      "  Downloading https://files.pythonhosted.org/packages/35/9e/f73325d0466ce5bdc36333f1aeb2892ead7b76e79bdb5c8b0493961fa098/google_resumable_media-0.5.0-py2.py3-none-any.whl\n",
      "Collecting protobuf>=3.6.0\n",
      "\u001b[?25l  Downloading https://files.pythonhosted.org/packages/57/02/5432412c162989260fab61fa65e0a490c1872739eb91a659896e4d554b26/protobuf-3.11.3-cp36-cp36m-manylinux1_x86_64.whl (1.3MB)\n",
      "\u001b[K     |████████████████████████████████| 1.3MB 31.4MB/s eta 0:00:01    |██                              | 81kB 30.6MB/s eta 0:00:01\n",
      "\u001b[?25hCollecting google-cloud-core<2.0dev,>=1.1.0\n",
      "  Downloading https://files.pythonhosted.org/packages/89/3c/8a7531839028c9690e6d14c650521f3bbaf26e53baaeb2784b8c3eb2fb97/google_cloud_core-1.3.0-py2.py3-none-any.whl\n",
      "Collecting google-api-core<2.0dev,>=1.15.0\n",
      "\u001b[?25l  Downloading https://files.pythonhosted.org/packages/63/7e/a523169b0cc9ce62d56e07571db927286a94b1a5f51ac220bd97db825c77/google_api_core-1.16.0-py2.py3-none-any.whl (70kB)\n",
      "\u001b[K     |████████████████████████████████| 71kB 11.2MB/s eta 0:00:01\n",
      "\u001b[?25hCollecting six<2.0.0dev,>=1.13.0\n",
      "  Using cached https://files.pythonhosted.org/packages/65/eb/1f97cb97bfc2390a276969c6fae16075da282f5058082d4cb10c6c5c1dba/six-1.14.0-py2.py3-none-any.whl\n",
      "Collecting requests-oauthlib>=0.7.0\n",
      "  Downloading https://files.pythonhosted.org/packages/a3/12/b92740d845ab62ea4edf04d2f4164d82532b5a0b03836d4d4e71c6f3d379/requests_oauthlib-1.3.0-py2.py3-none-any.whl\n",
      "Collecting pyasn1-modules>=0.2.1\n",
      "\u001b[?25l  Downloading https://files.pythonhosted.org/packages/95/de/214830a981892a3e286c3794f41ae67a4495df1108c3da8a9f62159b9a9d/pyasn1_modules-0.2.8-py2.py3-none-any.whl (155kB)\n",
      "\u001b[K     |████████████████████████████████| 163kB 51.1MB/s eta 0:00:01\n",
      "\u001b[?25hCollecting cachetools<5.0,>=2.0.0\n",
      "  Downloading https://files.pythonhosted.org/packages/b3/59/524ffb454d05001e2be74c14745b485681c6ed5f2e625f71d135704c0909/cachetools-4.1.0-py3-none-any.whl\n",
      "Collecting rsa<4.1,>=3.1.4\n",
      "  Downloading https://files.pythonhosted.org/packages/02/e5/38518af393f7c214357079ce67a317307936896e961e35450b70fad2a9cf/rsa-4.0-py2.py3-none-any.whl\n",
      "Collecting python-dateutil>=2.6.1\n",
      "\u001b[?25l  Downloading https://files.pythonhosted.org/packages/d4/70/d60450c3dd48ef87586924207ae8907090de0b306af2bce5d134d78615cb/python_dateutil-2.8.1-py2.py3-none-any.whl (227kB)\n",
      "\u001b[K     |████████████████████████████████| 235kB 45.4MB/s eta 0:00:01\n",
      "\u001b[?25hCollecting pytz>=2017.2\n",
      "\u001b[?25l  Downloading https://files.pythonhosted.org/packages/e7/f9/f0b53f88060247251bf481fa6ea62cd0d25bf1b11a87888e53ce5b7c8ad2/pytz-2019.3-py2.py3-none-any.whl (509kB)\n",
      "\u001b[K     |████████████████████████████████| 512kB 43.3MB/s eta 0:00:01\n",
      "\u001b[?25hCollecting numpy>=1.13.3\n",
      "\u001b[?25l  Downloading https://files.pythonhosted.org/packages/07/08/a549ba8b061005bb629b76adc000f3caaaf881028b963c2e18f811c6edc1/numpy-1.18.2-cp36-cp36m-manylinux1_x86_64.whl (20.2MB)\n",
      "\u001b[K     |████████████████████████████████| 20.2MB 48.2MB/s eta 0:00:01\n",
      "\u001b[?25hCollecting googleapis-common-protos<2.0dev,>=1.6.0\n",
      "  Downloading https://files.pythonhosted.org/packages/05/46/168fd780f594a4d61122f7f3dc0561686084319ad73b4febbf02ae8b32cf/googleapis-common-protos-1.51.0.tar.gz\n",
      "Collecting requests<3.0.0dev,>=2.18.0\n",
      "\u001b[?25l  Downloading https://files.pythonhosted.org/packages/1a/70/1935c770cb3be6e3a8b78ced23d7e0f3b187f5cbfab4749523ed65d7c9b1/requests-2.23.0-py2.py3-none-any.whl (58kB)\n",
      "\u001b[K     |████████████████████████████████| 61kB 10.1MB/s eta 0:00:01\n",
      "\u001b[?25hCollecting oauthlib>=3.0.0\n",
      "\u001b[?25l  Downloading https://files.pythonhosted.org/packages/05/57/ce2e7a8fa7c0afb54a0581b14a65b56e62b5759dbc98e80627142b8a3704/oauthlib-3.1.0-py2.py3-none-any.whl (147kB)\n",
      "\u001b[K     |████████████████████████████████| 153kB 49.5MB/s eta 0:00:01\n",
      "\u001b[?25hCollecting pyasn1<0.5.0,>=0.4.6\n",
      "\u001b[?25l  Downloading https://files.pythonhosted.org/packages/62/1e/a94a8d635fa3ce4cfc7f506003548d0a2447ae76fd5ca53932970fe3053f/pyasn1-0.4.8-py2.py3-none-any.whl (77kB)\n",
      "\u001b[K     |████████████████████████████████| 81kB 11.6MB/s eta 0:00:01\n",
      "\u001b[?25hCollecting idna<3,>=2.5\n",
      "\u001b[?25l  Downloading https://files.pythonhosted.org/packages/89/e3/afebe61c546d18fb1709a61bee788254b40e736cff7271c7de5de2dc4128/idna-2.9-py2.py3-none-any.whl (58kB)\n",
      "\u001b[K     |████████████████████████████████| 61kB 10.5MB/s eta 0:00:01\n",
      "\u001b[?25hCollecting urllib3!=1.25.0,!=1.25.1,<1.26,>=1.21.1\n",
      "\u001b[?25l  Downloading https://files.pythonhosted.org/packages/e8/74/6e4f91745020f967d09332bb2b8b9b10090957334692eb88ea4afe91b77f/urllib3-1.25.8-py2.py3-none-any.whl (125kB)\n",
      "\u001b[K     |████████████████████████████████| 133kB 40.9MB/s eta 0:00:01\n",
      "\u001b[?25hCollecting chardet<4,>=3.0.2\n",
      "\u001b[?25l  Downloading https://files.pythonhosted.org/packages/bc/a9/01ffebfb562e4274b6487b4bb1ddec7ca55ec7510b22e4c51f14098443b8/chardet-3.0.4-py2.py3-none-any.whl (133kB)\n",
      "\u001b[K     |████████████████████████████████| 143kB 52.3MB/s eta 0:00:01\n",
      "\u001b[?25hCollecting certifi>=2017.4.17\n",
      "\u001b[?25l  Downloading https://files.pythonhosted.org/packages/57/2b/26e37a4b034800c960a00c4e1b3d9ca5d7014e983e6e729e33ea2f36426c/certifi-2020.4.5.1-py2.py3-none-any.whl (157kB)\n",
      "\u001b[K     |████████████████████████████████| 163kB 52.4MB/s eta 0:00:01\n",
      "\u001b[?25hBuilding wheels for collected packages: googleapis-common-protos\n",
      "  Building wheel for googleapis-common-protos (setup.py) ... \u001b[?25ldone\n",
      "\u001b[?25h  Created wheel for googleapis-common-protos: filename=googleapis_common_protos-1.51.0-cp36-none-any.whl size=74529 sha256=c6dafbfac4ab17191cecd08f2b6ab754fe28fa2e24652c9f52ab653e4f10697f\n",
      "  Stored in directory: /home/jovyan/.cache/pip/wheels/2c/f9/7f/6eb87e636072bf467e25348bbeb96849333e6a080dca78f706\n",
      "Successfully built googleapis-common-protos\n",
      "\u001b[31mERROR: torchvision 0.5.0 has requirement torch==1.4.0, but you'll have torch 1.1.0 which is incompatible.\u001b[0m\n",
      "\u001b[31mERROR: kubeflow-fairing 0.7.0.1 has requirement python-dateutil<=2.8.0,>=2.1, but you'll have python-dateutil 2.8.1 which is incompatible.\u001b[0m\n",
      "\u001b[31mERROR: kubeflow-fairing 0.7.0.1 has requirement urllib3==1.24.2, but you'll have urllib3 1.25.8 which is incompatible.\u001b[0m\n",
      "\u001b[31mERROR: jupyterlab 1.2.6 has requirement tornado!=6.0.0,!=6.0.1,!=6.0.2, but you'll have tornado 6.0.2 which is incompatible.\u001b[0m\n",
      "\u001b[31mERROR: fairing 0.5 has requirement tornado<6.0.0,>=5.1.1, but you'll have tornado 6.0.2 which is incompatible.\u001b[0m\n",
      "Installing collected packages: idna, urllib3, chardet, certifi, requests, oauthlib, requests-oauthlib, setuptools, pyasn1, pyasn1-modules, six, cachetools, rsa, google-auth, google-auth-oauthlib, pydata-google-auth, google-resumable-media, protobuf, googleapis-common-protos, pytz, google-api-core, google-cloud-core, google-cloud-bigquery, python-dateutil, numpy, pandas, pandas-gbq\n",
      "  Found existing installation: idna 2.8\n",
      "    Uninstalling idna-2.8:\n",
      "      Successfully uninstalled idna-2.8\n",
      "  Found existing installation: urllib3 1.24.3\n",
      "    Uninstalling urllib3-1.24.3:\n",
      "      Successfully uninstalled urllib3-1.24.3\n",
      "\u001b[33m  WARNING: The script chardetect is installed in '/home/jovyan/.local/bin' which is not on PATH.\n",
      "  Consider adding this directory to PATH or, if you prefer to suppress this warning, use --no-warn-script-location.\u001b[0m\n",
      "  Found existing installation: certifi 2019.3.9\n",
      "    Uninstalling certifi-2019.3.9:\n",
      "      Successfully uninstalled certifi-2019.3.9\n",
      "  Found existing installation: oauthlib 3.0.1\n",
      "    Uninstalling oauthlib-3.0.1:\n",
      "      Successfully uninstalled oauthlib-3.0.1\n",
      "  Found existing installation: requests-oauthlib 1.2.0\n",
      "    Uninstalling requests-oauthlib-1.2.0:\n",
      "      Successfully uninstalled requests-oauthlib-1.2.0\n",
      "\u001b[33m  WARNING: The scripts easy_install and easy_install-3.6 are installed in '/home/jovyan/.local/bin' which is not on PATH.\n",
      "  Consider adding this directory to PATH or, if you prefer to suppress this warning, use --no-warn-script-location.\u001b[0m\n",
      "  Found existing installation: pyasn1 0.4.5\n",
      "    Uninstalling pyasn1-0.4.5:\n",
      "      Successfully uninstalled pyasn1-0.4.5\n",
      "  Found existing installation: pyasn1-modules 0.2.5\n",
      "    Uninstalling pyasn1-modules-0.2.5:\n",
      "      Successfully uninstalled pyasn1-modules-0.2.5\n",
      "  Found existing installation: six 1.14.0\n",
      "    Uninstalling six-1.14.0:\n",
      "      Successfully uninstalled six-1.14.0\n",
      "  Found existing installation: cachetools 3.1.1\n",
      "    Uninstalling cachetools-3.1.1:\n",
      "      Successfully uninstalled cachetools-3.1.1\n",
      "\u001b[33m  WARNING: The scripts pyrsa-decrypt, pyrsa-encrypt, pyrsa-keygen, pyrsa-priv2pub, pyrsa-sign and pyrsa-verify are installed in '/home/jovyan/.local/bin' which is not on PATH.\n",
      "  Consider adding this directory to PATH or, if you prefer to suppress this warning, use --no-warn-script-location.\u001b[0m\n",
      "  Found existing installation: google-auth 1.6.3\n",
      "    Uninstalling google-auth-1.6.3:\n",
      "      Successfully uninstalled google-auth-1.6.3\n",
      "  Found existing installation: google-auth-oauthlib 0.3.0\n",
      "    Uninstalling google-auth-oauthlib-0.3.0:\n",
      "      Successfully uninstalled google-auth-oauthlib-0.3.0\n",
      "\u001b[33m  WARNING: The script google-oauthlib-tool is installed in '/home/jovyan/.local/bin' which is not on PATH.\n",
      "  Consider adding this directory to PATH or, if you prefer to suppress this warning, use --no-warn-script-location.\u001b[0m\n",
      "  Found existing installation: pydata-google-auth 0.3.0\n",
      "    Uninstalling pydata-google-auth-0.3.0:\n",
      "      Successfully uninstalled pydata-google-auth-0.3.0\n",
      "  Found existing installation: pytz 2019.1\n",
      "    Uninstalling pytz-2019.1:\n",
      "      Successfully uninstalled pytz-2019.1\n",
      "  Found existing installation: google-cloud-bigquery 1.24.0\n",
      "    Uninstalling google-cloud-bigquery-1.24.0:\n",
      "      Successfully uninstalled google-cloud-bigquery-1.24.0\n",
      "  Found existing installation: python-dateutil 2.8.0\n",
      "    Uninstalling python-dateutil-2.8.0:\n",
      "      Successfully uninstalled python-dateutil-2.8.0\n",
      "  Found existing installation: numpy 1.16.4\n",
      "    Uninstalling numpy-1.16.4:\n",
      "      Successfully uninstalled numpy-1.16.4\n",
      "\u001b[33m  WARNING: The scripts f2py, f2py3 and f2py3.6 are installed in '/home/jovyan/.local/bin' which is not on PATH.\n",
      "  Consider adding this directory to PATH or, if you prefer to suppress this warning, use --no-warn-script-location.\u001b[0m\n",
      "  Found existing installation: pandas 0.24.2\n",
      "    Uninstalling pandas-0.24.2:\n",
      "      Successfully uninstalled pandas-0.24.2\n",
      "  Found existing installation: pandas-gbq 0.13.1\n",
      "    Uninstalling pandas-gbq-0.13.1:\n",
      "      Successfully uninstalled pandas-gbq-0.13.1\n",
      "Successfully installed cachetools-4.1.0 certifi-2020.4.5.1 chardet-3.0.4 google-api-core-1.16.0 google-auth-1.13.1 google-auth-oauthlib-0.4.1 google-cloud-bigquery-1.24.0 google-cloud-core-1.3.0 google-resumable-media-0.5.0 googleapis-common-protos-1.51.0 idna-2.9 numpy-1.18.2 oauthlib-3.1.0 pandas-1.0.3 pandas-gbq-0.13.1 protobuf-3.11.3 pyasn1-0.4.8 pyasn1-modules-0.2.8 pydata-google-auth-0.3.0 python-dateutil-2.8.1 pytz-2019.3 requests-2.23.0 requests-oauthlib-1.3.0 rsa-4.0 setuptools-46.1.3 six-1.14.0 urllib3-1.25.8\n",
      "\u001b[33mWARNING: You are using pip version 19.3.1; however, version 20.0.2 is available.\n",
      "You should consider upgrading via the 'pip install --upgrade pip' command.\u001b[0m\n"
     ]
    }
   ],
   "source": [
    "# TODO(jlewi): I was encountering all kind of version mismatches; doing a force upgrade seemed to fix issues with bigquery\n",
    "# may have broken pytorch; not sure.\n",
    "!pip install --user --force --upgrade pandas-gbq google-cloud-bigquery"
   ]
  },
  {
   "cell_type": "markdown",
   "metadata": {},
   "source": [
    "## Get the Data Using BigQuery\n",
    "\n",
    "* We can use BigQuery to fetch the data from the GitHub Archive\n",
    "* Here is a list of [GitHub Event Types](https://developer.github.com/v3/activity/events/types/)\n",
    "  * We need to consider both [IssuesEvent](https://developer.github.com/v3/activity/events/types/#issuesevent) and [IssueCommentEvent](https://developer.github.com/v3/activity/events/types/#issuecommentevent)\n",
    "* At the time of this writing 2020/04/08 there are approximately 137K events in Kubeflow and it takes O(30) seconds to fetch all of them."
   ]
  },
  {
   "cell_type": "code",
   "execution_count": 1,
   "metadata": {},
   "outputs": [],
   "source": [
    "from pandas.io import gbq\n",
    "import subprocess \n",
    "# TODO(jlewi): Get the project using fairing?\n",
    "PROJECT = subprocess.check_output([\"gcloud\", \"config\", \"get-value\", \"project\"]).strip().decode()"
   ]
  },
  {
   "cell_type": "code",
   "execution_count": 2,
   "metadata": {},
   "outputs": [
    {
     "name": "stderr",
     "output_type": "stream",
     "text": [
      "Downloading: 100%|██████████| 137061/137061 [00:34<00:00, 3985.16rows/s]\n"
     ]
    }
   ],
   "source": [
    "# TODO(jlewi): Was GBQ prodding me for an oauth token? It should be using workload identity? Is this because\n",
    "# metadata server is unavailable?\n",
    "query = '''SELECT *\n",
    "FROM (\n",
    "  SELECT\n",
    "    updated_at\n",
    "    , MAX(updated_at) OVER (PARTITION BY url) as last_time\n",
    "    , FORMAT(\"%T\", ARRAY_CONCAT_AGG(labels)) as labels\n",
    "    , repo, url, title, body, len_labels\n",
    "  FROM(\n",
    "      SELECT\n",
    "          TIMESTAMP(REGEXP_REPLACE(JSON_EXTRACT(payload, '$.issue.updated_at'), \"\\\"\", \"\")) as updated_at\n",
    "        , REGEXP_EXTRACT(JSON_EXTRACT(payload, '$.issue.url'), r'https://api.github.com/repos/(.*)/issues') as repo\n",
    "        , JSON_EXTRACT(payload, '$.issue.url') as url\n",
    "          -- extract the title and body removing parentheses, brackets, and quotes\n",
    "        , LOWER(TRIM(REGEXP_REPLACE(JSON_EXTRACT(payload, '$.issue.title'), r\"\\\\n|\\(|\\)|\\[|\\]|#|\\*|`|\\\"\", ' '))) as title\n",
    "        , LOWER(TRIM(REGEXP_REPLACE(JSON_EXTRACT(payload, '$.issue.body'), r\"\\\\n|\\(|\\)|\\[|\\]|#|\\*|`|\\\"\", ' '))) as body\n",
    "        , REGEXP_EXTRACT_ALL(JSON_EXTRACT(payload, \"$.issue.labels\"), ',\"name\\\":\"(.+?)\",\"color') as labels\n",
    "        , ARRAY_LENGTH(REGEXP_EXTRACT_ALL(JSON_EXTRACT(payload, \"$.issue.labels\"), ',\"name\\\":\"(.+?)\",\"color')) as len_labels\n",
    "      FROM `githubarchive.month.20*`\n",
    "      WHERE \n",
    "         type=\"IssuesEvent\"\n",
    "  )\n",
    "  WHERE \n",
    "    repo = 'kubeflow/kubeflow'\n",
    "  GROUP BY updated_at, repo, url, title, body, len_labels\n",
    ")\n",
    "WHERE last_time = updated_at and len_labels >= 1\n",
    "'''\n",
    "\n",
    "query = \"\"\"SELECT          \n",
    "          JSON_EXTRACT(payload, '$.issue.html_url') as html_url,\n",
    "          JSON_EXTRACT(payload, '$.issue.title') as title,\n",
    "          JSON_EXTRACT(payload, '$.issue.body') as body,\n",
    "          JSON_EXTRACT(payload, \"$.issue.labels\") as labels,\n",
    "          JSON_EXTRACT(payload, \"$.issue.updated_at\") as updated_at,\n",
    "          org.login,\n",
    "          type,\n",
    "      FROM `githubarchive.month.20*`\n",
    "      WHERE  (type=\"IssuesEvent\" or type=\"IssueCommentEvent\") and org.login = 'kubeflow'\"\"\"\n",
    "issues_and_pulls=gbq.read_gbq(query, dialect='standard', project_id=PROJECT)"
   ]
  },
  {
   "cell_type": "markdown",
   "metadata": {},
   "source": [
    "* Pull request comments also get included so we need to filter those out"
   ]
  },
  {
   "cell_type": "code",
   "execution_count": 5,
   "metadata": {},
   "outputs": [],
   "source": [
    "import re\n",
    "pattern = re.compile(\".*issues/[\\d]+\")\n",
    "issues_index = issues_and_pulls[\"html_url\"].apply(lambda x: pattern.match(x) is not None)\n",
    "issues=issues_and_pulls[issues_index]"
   ]
  },
  {
   "cell_type": "markdown",
   "metadata": {},
   "source": [
    "* We need to group the events by issue and then select the most recent event for each issue as that should have\n",
    "  the most up to date labels for each issue\n",
    "* TODO(jlewi): We should look for the most recent event in the dataset and then have some alert if the age exceeds some\n",
    "  limit as that indicates the data isn't up to date."
   ]
  },
  {
   "cell_type": "code",
   "execution_count": 7,
   "metadata": {},
   "outputs": [],
   "source": [
    "latest_issues = issues.groupby(\"html_url\", as_index=False).apply(lambda x: x.sort_values([\"updated_at\"]).iloc[-1])"
   ]
  },
  {
   "cell_type": "code",
   "execution_count": 12,
   "metadata": {},
   "outputs": [
    {
     "data": {
      "text/html": [
       "<div>\n",
       "<style scoped>\n",
       "    .dataframe tbody tr th:only-of-type {\n",
       "        vertical-align: middle;\n",
       "    }\n",
       "\n",
       "    .dataframe tbody tr th {\n",
       "        vertical-align: top;\n",
       "    }\n",
       "\n",
       "    .dataframe thead th {\n",
       "        text-align: right;\n",
       "    }\n",
       "</style>\n",
       "<table border=\"1\" class=\"dataframe\">\n",
       "  <thead>\n",
       "    <tr style=\"text-align: right;\">\n",
       "      <th></th>\n",
       "      <th>html_url</th>\n",
       "      <th>title</th>\n",
       "      <th>body</th>\n",
       "      <th>labels</th>\n",
       "      <th>updated_at</th>\n",
       "      <th>login</th>\n",
       "      <th>type</th>\n",
       "    </tr>\n",
       "  </thead>\n",
       "  <tbody>\n",
       "    <tr>\n",
       "      <th>4299</th>\n",
       "      <td>\"https://github.com/kubeflow/kubeflow/issues/4...</td>\n",
       "      <td>\"Open Data Hub &amp; Kubeflow relationship\"</td>\n",
       "      <td>\"/kind question\\r\\n\\r\\nHi all,\\r\\n\\r\\nAs some ...</td>\n",
       "      <td>[{\"id\":1182962369,\"node_id\":\"MDU6TGFiZWwxMTgyO...</td>\n",
       "      <td>\"2020-04-04T23:48:44Z\"</td>\n",
       "      <td>kubeflow</td>\n",
       "      <td>IssueCommentEvent</td>\n",
       "    </tr>\n",
       "  </tbody>\n",
       "</table>\n",
       "</div>"
      ],
      "text/plain": [
       "                                               html_url  \\\n",
       "4299  \"https://github.com/kubeflow/kubeflow/issues/4...   \n",
       "\n",
       "                                        title  \\\n",
       "4299  \"Open Data Hub & Kubeflow relationship\"   \n",
       "\n",
       "                                                   body  \\\n",
       "4299  \"/kind question\\r\\n\\r\\nHi all,\\r\\n\\r\\nAs some ...   \n",
       "\n",
       "                                                 labels  \\\n",
       "4299  [{\"id\":1182962369,\"node_id\":\"MDU6TGFiZWwxMTgyO...   \n",
       "\n",
       "                  updated_at     login               type  \n",
       "4299  \"2020-04-04T23:48:44Z\"  kubeflow  IssueCommentEvent  "
      ]
     },
     "execution_count": 12,
     "metadata": {},
     "output_type": "execute_result"
    }
   ],
   "source": [
    "# Example of fetching a specific issue\n",
    "# This allows easy spot checking of the data\n",
    "some_issue = \"https://github.com/kubeflow/kubeflow/issues/4916\"\n",
    "test_issue = latest_issues.loc[latest_issues[\"html_url\"]==f'\"{some_issue}\"']\n",
    "test_issue"
   ]
  },
  {
   "cell_type": "code",
   "execution_count": 13,
   "metadata": {},
   "outputs": [
    {
     "data": {
      "text/plain": [
       "4299    [{\"id\":1182962369,\"node_id\":\"MDU6TGFiZWwxMTgyO...\n",
       "Name: labels, dtype: object"
      ]
     },
     "execution_count": 13,
     "metadata": {},
     "output_type": "execute_result"
    }
   ],
   "source": [
    "test_issue[\"labels\"][]"
   ]
  },
  {
   "cell_type": "code",
   "execution_count": 64,
   "metadata": {},
   "outputs": [
    {
     "name": "stderr",
     "output_type": "stream",
     "text": [
      "Downloading: 100%|██████████| 6/6 [00:00<00:00, 30.18rows/s]\n"
     ]
    }
   ],
   "source": [
    "query = \"\"\"SELECT          \n",
    "          JSON_EXTRACT(payload, '$.issue.html_url') as html_url,\n",
    "          JSON_EXTRACT(payload, '$.issue.title') as title,\n",
    "          JSON_EXTRACT(payload, '$.issue.body') as body,\n",
    "          JSON_EXTRACT(payload, \"$.issue.labels\") as labels,\n",
    "          JSON_EXTRACT(payload, \"$.issue.updated_at\") as updated_at, \n",
    "          type,\n",
    "      FROM `githubarchive.month.20*`\n",
    "      WHERE  org.login='kubeflow' and JSON_EXTRACT(payload, '$.issue.html_url') = '\"https://github.com/kubeflow/kubeflow/issues/4916\"' \"\"\"\n",
    "issue_rows=gbq.read_gbq(query, dialect='standard', project_id=PROJECT)"
   ]
  },
  {
   "cell_type": "code",
   "execution_count": 65,
   "metadata": {},
   "outputs": [
    {
     "data": {
      "text/html": [
       "<div>\n",
       "<style scoped>\n",
       "    .dataframe tbody tr th:only-of-type {\n",
       "        vertical-align: middle;\n",
       "    }\n",
       "\n",
       "    .dataframe tbody tr th {\n",
       "        vertical-align: top;\n",
       "    }\n",
       "\n",
       "    .dataframe thead th {\n",
       "        text-align: right;\n",
       "    }\n",
       "</style>\n",
       "<table border=\"1\" class=\"dataframe\">\n",
       "  <thead>\n",
       "    <tr style=\"text-align: right;\">\n",
       "      <th></th>\n",
       "      <th>html_url</th>\n",
       "      <th>title</th>\n",
       "      <th>body</th>\n",
       "      <th>labels</th>\n",
       "      <th>updated_at</th>\n",
       "      <th>type</th>\n",
       "    </tr>\n",
       "  </thead>\n",
       "  <tbody>\n",
       "    <tr>\n",
       "      <th>0</th>\n",
       "      <td>\"https://github.com/kubeflow/kubeflow/issues/4...</td>\n",
       "      <td>\"Open Data Hub &amp; Kubeflow relationship\"</td>\n",
       "      <td>\"/kind question\\r\\n\\r\\nHi all,\\r\\n\\r\\nAs some ...</td>\n",
       "      <td>[{\"id\":1182962369,\"node_id\":\"MDU6TGFiZWwxMTgyO...</td>\n",
       "      <td>\"2020-04-04T23:48:44Z\"</td>\n",
       "      <td>IssueCommentEvent</td>\n",
       "    </tr>\n",
       "    <tr>\n",
       "      <th>1</th>\n",
       "      <td>\"https://github.com/kubeflow/kubeflow/issues/4...</td>\n",
       "      <td>\"Open Data Hub &amp; Kubeflow relationship\"</td>\n",
       "      <td>\"/kind question\\r\\n\\r\\nHi all,\\r\\n\\r\\nAs some ...</td>\n",
       "      <td>[{\"id\":765839028,\"node_id\":\"MDU6TGFiZWw3NjU4Mz...</td>\n",
       "      <td>\"2020-04-03T15:08:46Z\"</td>\n",
       "      <td>IssueCommentEvent</td>\n",
       "    </tr>\n",
       "    <tr>\n",
       "      <th>2</th>\n",
       "      <td>\"https://github.com/kubeflow/kubeflow/issues/4...</td>\n",
       "      <td>\"Open Data Hub &amp; Kubeflow relationship\"</td>\n",
       "      <td>\"/kind question\\r\\n\\r\\nHi all,\\r\\n\\r\\nAs some ...</td>\n",
       "      <td>[]</td>\n",
       "      <td>\"2020-04-03T14:20:36Z\"</td>\n",
       "      <td>IssuesEvent</td>\n",
       "    </tr>\n",
       "    <tr>\n",
       "      <th>3</th>\n",
       "      <td>\"https://github.com/kubeflow/kubeflow/issues/4...</td>\n",
       "      <td>\"Open Data Hub &amp; Kubeflow relationship\"</td>\n",
       "      <td>\"/kind question\\r\\n\\r\\nHi all,\\r\\n\\r\\nAs some ...</td>\n",
       "      <td>[{\"id\":765839028,\"node_id\":\"MDU6TGFiZWw3NjU4Mz...</td>\n",
       "      <td>\"2020-04-04T02:56:24Z\"</td>\n",
       "      <td>IssueCommentEvent</td>\n",
       "    </tr>\n",
       "    <tr>\n",
       "      <th>4</th>\n",
       "      <td>\"https://github.com/kubeflow/kubeflow/issues/4...</td>\n",
       "      <td>\"Open Data Hub &amp; Kubeflow relationship\"</td>\n",
       "      <td>\"/kind question\\r\\n\\r\\nHi all,\\r\\n\\r\\nAs some ...</td>\n",
       "      <td>[{\"id\":765839028,\"node_id\":\"MDU6TGFiZWw3NjU4Mz...</td>\n",
       "      <td>\"2020-04-03T14:20:53Z\"</td>\n",
       "      <td>IssueCommentEvent</td>\n",
       "    </tr>\n",
       "    <tr>\n",
       "      <th>5</th>\n",
       "      <td>\"https://github.com/kubeflow/kubeflow/issues/4...</td>\n",
       "      <td>\"Open Data Hub &amp; Kubeflow relationship\"</td>\n",
       "      <td>\"/kind question\\r\\n\\r\\nHi all,\\r\\n\\r\\nAs some ...</td>\n",
       "      <td>[{\"id\":765839028,\"node_id\":\"MDU6TGFiZWw3NjU4Mz...</td>\n",
       "      <td>\"2020-04-03T15:40:27Z\"</td>\n",
       "      <td>IssueCommentEvent</td>\n",
       "    </tr>\n",
       "  </tbody>\n",
       "</table>\n",
       "</div>"
      ],
      "text/plain": [
       "                                            html_url  \\\n",
       "0  \"https://github.com/kubeflow/kubeflow/issues/4...   \n",
       "1  \"https://github.com/kubeflow/kubeflow/issues/4...   \n",
       "2  \"https://github.com/kubeflow/kubeflow/issues/4...   \n",
       "3  \"https://github.com/kubeflow/kubeflow/issues/4...   \n",
       "4  \"https://github.com/kubeflow/kubeflow/issues/4...   \n",
       "5  \"https://github.com/kubeflow/kubeflow/issues/4...   \n",
       "\n",
       "                                     title  \\\n",
       "0  \"Open Data Hub & Kubeflow relationship\"   \n",
       "1  \"Open Data Hub & Kubeflow relationship\"   \n",
       "2  \"Open Data Hub & Kubeflow relationship\"   \n",
       "3  \"Open Data Hub & Kubeflow relationship\"   \n",
       "4  \"Open Data Hub & Kubeflow relationship\"   \n",
       "5  \"Open Data Hub & Kubeflow relationship\"   \n",
       "\n",
       "                                                body  \\\n",
       "0  \"/kind question\\r\\n\\r\\nHi all,\\r\\n\\r\\nAs some ...   \n",
       "1  \"/kind question\\r\\n\\r\\nHi all,\\r\\n\\r\\nAs some ...   \n",
       "2  \"/kind question\\r\\n\\r\\nHi all,\\r\\n\\r\\nAs some ...   \n",
       "3  \"/kind question\\r\\n\\r\\nHi all,\\r\\n\\r\\nAs some ...   \n",
       "4  \"/kind question\\r\\n\\r\\nHi all,\\r\\n\\r\\nAs some ...   \n",
       "5  \"/kind question\\r\\n\\r\\nHi all,\\r\\n\\r\\nAs some ...   \n",
       "\n",
       "                                              labels              updated_at  \\\n",
       "0  [{\"id\":1182962369,\"node_id\":\"MDU6TGFiZWwxMTgyO...  \"2020-04-04T23:48:44Z\"   \n",
       "1  [{\"id\":765839028,\"node_id\":\"MDU6TGFiZWw3NjU4Mz...  \"2020-04-03T15:08:46Z\"   \n",
       "2                                                 []  \"2020-04-03T14:20:36Z\"   \n",
       "3  [{\"id\":765839028,\"node_id\":\"MDU6TGFiZWw3NjU4Mz...  \"2020-04-04T02:56:24Z\"   \n",
       "4  [{\"id\":765839028,\"node_id\":\"MDU6TGFiZWw3NjU4Mz...  \"2020-04-03T14:20:53Z\"   \n",
       "5  [{\"id\":765839028,\"node_id\":\"MDU6TGFiZWw3NjU4Mz...  \"2020-04-03T15:40:27Z\"   \n",
       "\n",
       "                type  \n",
       "0  IssueCommentEvent  \n",
       "1  IssueCommentEvent  \n",
       "2        IssuesEvent  \n",
       "3  IssueCommentEvent  \n",
       "4  IssueCommentEvent  \n",
       "5  IssueCommentEvent  "
      ]
     },
     "execution_count": 65,
     "metadata": {},
     "output_type": "execute_result"
    }
   ],
   "source": [
    "issue_rows"
   ]
  },
  {
   "cell_type": "code",
   "execution_count": 32,
   "metadata": {},
   "outputs": [
    {
     "data": {
      "text/plain": [
       "[{'id': 892266354,\n",
       "  'node_id': 'MDU6TGFiZWw4OTIyNjYzNTQ=',\n",
       "  'url': 'https://api.github.com/repos/kubeflow/website/labels/improvement/enhancement',\n",
       "  'name': 'improvement/enhancement',\n",
       "  'color': '00daff',\n",
       "  'default': False}]"
      ]
     },
     "execution_count": 32,
     "metadata": {},
     "output_type": "execute_result"
    }
   ],
   "source": [
    "\n",
    "import json\n",
    "json.loads(issues.loc[8][\"labels\"])"
   ]
  },
  {
   "cell_type": "markdown",
   "metadata": {},
   "source": [
    "## Compute Embeddings\n",
    "\n",
    "* For each repo compute the embeddings and save to GCS\n",
    "* TODO(jlewi): Can we use the metadata storage to keep track of artifacts?"
   ]
  },
  {
   "cell_type": "code",
   "execution_count": 87,
   "metadata": {},
   "outputs": [],
   "source": [
    "embeddings_dir = \"gs://repo-embeddings/kubeflow/20200427\""
   ]
  },
  {
   "cell_type": "code",
   "execution_count": 103,
   "metadata": {},
   "outputs": [
    {
     "name": "stderr",
     "output_type": "stream",
     "text": [
      "Skipping repo arena; File gs://repo-embeddings/kubeflow/20200427/arena.pkl exists\n",
      "Skipping repo batch-predict; File gs://repo-embeddings/kubeflow/20200427/batch-predict.pkl exists\n",
      "Skipping repo caffe2-operator; File gs://repo-embeddings/kubeflow/20200427/caffe2-operator.pkl exists\n",
      "Skipping repo chainer-operator; File gs://repo-embeddings/kubeflow/20200427/chainer-operator.pkl exists\n",
      "Skipping repo code-intelligence; File gs://repo-embeddings/kubeflow/20200427/code-intelligence.pkl exists\n",
      "Skipping repo common; File gs://repo-embeddings/kubeflow/20200427/common.pkl exists\n",
      "Procesing issues for repo community\n"
     ]
    },
    {
     "ename": "HTTPError",
     "evalue": "429 Client Error: too many requests for url: https://github.com/kubeflow/community/issues",
     "output_type": "error",
     "traceback": [
      "\u001b[0;31m---------------------------------------------------------------------------\u001b[0m",
      "\u001b[0;31mHTTPError\u001b[0m                                 Traceback (most recent call last)",
      "\u001b[0;32m<timed exec>\u001b[0m in \u001b[0;36m<module>\u001b[0;34m\u001b[0m\n",
      "\u001b[0;32m~/git_kubeflow-code-intelligence/py/code_intelligence/embeddings.py\u001b[0m in \u001b[0;36mget_all_issue_text\u001b[0;34m(owner, repo, inf_wrapper, workers)\u001b[0m\n\u001b[1;32m     84\u001b[0m     \"\"\"\n\u001b[1;32m     85\u001b[0m     \u001b[0;31m# prepare list of issue nums\u001b[0m\u001b[0;34m\u001b[0m\u001b[0;34m\u001b[0m\u001b[0;34m\u001b[0m\u001b[0m\n\u001b[0;32m---> 86\u001b[0;31m     \u001b[0mmax_num\u001b[0m \u001b[0;34m=\u001b[0m \u001b[0mfind_max_issue_num\u001b[0m\u001b[0;34m(\u001b[0m\u001b[0mowner\u001b[0m\u001b[0;34m,\u001b[0m \u001b[0mrepo\u001b[0m\u001b[0;34m)\u001b[0m\u001b[0;34m\u001b[0m\u001b[0;34m\u001b[0m\u001b[0m\n\u001b[0m\u001b[1;32m     87\u001b[0m \u001b[0;34m\u001b[0m\u001b[0m\n\u001b[1;32m     88\u001b[0m     \u001b[0mget\u001b[0m \u001b[0;34m=\u001b[0m \u001b[0mpartial\u001b[0m\u001b[0;34m(\u001b[0m\u001b[0mget_issue_text\u001b[0m\u001b[0;34m,\u001b[0m \u001b[0mowner\u001b[0m\u001b[0;34m=\u001b[0m\u001b[0mowner\u001b[0m\u001b[0;34m,\u001b[0m \u001b[0mrepo\u001b[0m\u001b[0;34m=\u001b[0m\u001b[0mrepo\u001b[0m\u001b[0;34m,\u001b[0m \u001b[0mskip_issue\u001b[0m\u001b[0;34m=\u001b[0m\u001b[0;32mTrue\u001b[0m\u001b[0;34m)\u001b[0m\u001b[0;34m\u001b[0m\u001b[0;34m\u001b[0m\u001b[0m\n",
      "\u001b[0;32m~/git_kubeflow-code-intelligence/py/code_intelligence/embeddings.py\u001b[0m in \u001b[0;36mfind_max_issue_num\u001b[0;34m(owner, repo)\u001b[0m\n\u001b[1;32m     24\u001b[0m     \u001b[0mr\u001b[0m \u001b[0;34m=\u001b[0m \u001b[0mrequests\u001b[0m\u001b[0;34m.\u001b[0m\u001b[0mget\u001b[0m\u001b[0;34m(\u001b[0m\u001b[0murl\u001b[0m\u001b[0;34m)\u001b[0m\u001b[0;34m\u001b[0m\u001b[0;34m\u001b[0m\u001b[0m\n\u001b[1;32m     25\u001b[0m     \u001b[0;32mif\u001b[0m \u001b[0;32mnot\u001b[0m \u001b[0mr\u001b[0m\u001b[0;34m.\u001b[0m\u001b[0mok\u001b[0m\u001b[0;34m:\u001b[0m\u001b[0;34m\u001b[0m\u001b[0;34m\u001b[0m\u001b[0m\n\u001b[0;32m---> 26\u001b[0;31m         \u001b[0mr\u001b[0m\u001b[0;34m.\u001b[0m\u001b[0mraise_for_status\u001b[0m\u001b[0;34m(\u001b[0m\u001b[0;34m)\u001b[0m\u001b[0;34m\u001b[0m\u001b[0;34m\u001b[0m\u001b[0m\n\u001b[0m\u001b[1;32m     27\u001b[0m     \u001b[0msoup\u001b[0m \u001b[0;34m=\u001b[0m \u001b[0mBeautifulSoup\u001b[0m\u001b[0;34m(\u001b[0m\u001b[0mr\u001b[0m\u001b[0;34m.\u001b[0m\u001b[0mcontent\u001b[0m\u001b[0;34m,\u001b[0m \u001b[0;34m'html.parser'\u001b[0m\u001b[0;34m)\u001b[0m\u001b[0;34m\u001b[0m\u001b[0;34m\u001b[0m\u001b[0m\n\u001b[1;32m     28\u001b[0m     \u001b[0;31m# get grey text under issue preview cards\u001b[0m\u001b[0;34m\u001b[0m\u001b[0;34m\u001b[0m\u001b[0;34m\u001b[0m\u001b[0m\n",
      "\u001b[0;32m/usr/local/lib/python3.6/dist-packages/requests/models.py\u001b[0m in \u001b[0;36mraise_for_status\u001b[0;34m(self)\u001b[0m\n\u001b[1;32m    938\u001b[0m \u001b[0;34m\u001b[0m\u001b[0m\n\u001b[1;32m    939\u001b[0m         \u001b[0;32mif\u001b[0m \u001b[0mhttp_error_msg\u001b[0m\u001b[0;34m:\u001b[0m\u001b[0;34m\u001b[0m\u001b[0;34m\u001b[0m\u001b[0m\n\u001b[0;32m--> 940\u001b[0;31m             \u001b[0;32mraise\u001b[0m \u001b[0mHTTPError\u001b[0m\u001b[0;34m(\u001b[0m\u001b[0mhttp_error_msg\u001b[0m\u001b[0;34m,\u001b[0m \u001b[0mresponse\u001b[0m\u001b[0;34m=\u001b[0m\u001b[0mself\u001b[0m\u001b[0;34m)\u001b[0m\u001b[0;34m\u001b[0m\u001b[0;34m\u001b[0m\u001b[0m\n\u001b[0m\u001b[1;32m    941\u001b[0m \u001b[0;34m\u001b[0m\u001b[0m\n\u001b[1;32m    942\u001b[0m     \u001b[0;32mdef\u001b[0m \u001b[0mclose\u001b[0m\u001b[0;34m(\u001b[0m\u001b[0mself\u001b[0m\u001b[0;34m)\u001b[0m\u001b[0;34m:\u001b[0m\u001b[0;34m\u001b[0m\u001b[0;34m\u001b[0m\u001b[0m\n",
      "\u001b[0;31mHTTPError\u001b[0m: 429 Client Error: too many requests for url: https://github.com/kubeflow/community/issues"
     ]
    }
   ],
   "source": [
    "%%time\n",
    "import dill as dpickle\n",
    "import tempfile\n",
    "\n",
    "repo_names.sort()\n",
    "for repo in repo_names:\n",
    "    # TODO(https://github.com/kubeflow/code-intelligence/issues/123): Use HDF5 files\n",
    "    embeddings_file = os.path.join(embeddings_dir, repo + \".pkl\")\n",
    "    if gcs_util.check_gcs_object(embeddings_file):\n",
    "        logging.info(f\"Skipping repo {repo}; File {embeddings_file} exists\")\n",
    "        continue\n",
    "        \n",
    "    logging.info(f\"Procesing issues for repo {repo}\")\n",
    "    try:\n",
    "        # TODO(jlewi): get_all_issue_text should be refactored. We shouldn't couple computing inference with\n",
    "        # fetching of the issues. We should decouple the calls so its easier to change how we fetch the issues.\n",
    "        # We might want to support fetching the data either via the GraphQL API and/or BigQuery.\n",
    "        # Using BigQuery might be faster for bulk pulls but might only work for public repositories.\n",
    "        # The notebook 07_Get_Repo_TrainingData_BigQuery.ipynb has code for fetching using BigQuery.\n",
    "        #\n",
    "        # There is code here: https://github.com/kubeflow/code-intelligence/blob/9bbdce34fc0d81bfb9a63493941763771d2a0746/Issue_Triage/notebooks/triage.ipynb\n",
    "        # For downloading all the issues with the GitHub API. That will likely run into API limits.\n",
    "        repo_embeddings = embeddings.get_all_issue_text(owner='kubeflow', repo=repo, inf_wrapper=inference_wrapper)\n",
    "    except TypeError as e:\n",
    "        logging.error(f\"Exception {e} occurred for repo {repo_name}\")\n",
    "    local_file = None\n",
    "    with tempfile.NamedTemporaryFile(delete=False, mode='wb') as f:\n",
    "        dpickle.dump(repo_embeddings, f)\n",
    "        local_file = f.name\n",
    "        \n",
    "    gcs_util.copy_to_gcs(local_file, embeddings_file)"
   ]
  },
  {
   "cell_type": "code",
   "execution_count": 102,
   "metadata": {},
   "outputs": [
    {
     "data": {
      "text/plain": [
       "<module 'code_intelligence.embeddings' from '/home/jovyan/git_kubeflow-code-intelligence/py/code_intelligence/embeddings.py'>"
      ]
     },
     "execution_count": 102,
     "metadata": {},
     "output_type": "execute_result"
    }
   ],
   "source": [
    "importlib.reload(embeddings)"
   ]
  },
  {
   "cell_type": "markdown",
   "metadata": {},
   "source": [
    "# Notes\n",
    "\n",
    "It takes 4min to retrieve embeddings and labels for `Kubeflow\\Kubeflow` this time can likely be brought down to 1 minute by batching the text instead of feeding the language model one by one.  "
   ]
  },
  {
   "cell_type": "code",
   "execution_count": null,
   "metadata": {},
   "outputs": [],
   "source": []
  }
 ],
 "metadata": {
  "kernelspec": {
   "display_name": "Python 3",
   "language": "python",
   "name": "python3"
  },
  "language_info": {
   "codemirror_mode": {
    "name": "ipython",
    "version": 3
   },
   "file_extension": ".py",
   "mimetype": "text/x-python",
   "name": "python",
   "nbconvert_exporter": "python",
   "pygments_lexer": "ipython3",
   "version": "3.6.9"
  }
 },
 "nbformat": 4,
 "nbformat_minor": 4
}
