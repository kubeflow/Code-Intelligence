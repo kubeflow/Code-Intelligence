{
 "cells": [
  {
   "cell_type": "markdown",
   "metadata": {},
   "source": [
    "# Fetch GitHub Issues and Compute Embeddings\n",
    "\n",
    "* This notebook downloads GitHub Issues and then computes the embeddings using a trained model\n",
    "* [issues_loader.ipynb](../Label_Microservice/notebooks/issues_loader.ipynb) is a very similar notebook\n",
    "\n",
    "   * That notebook however just uses the IssuesLoader class as way of hard coding some paths."
   ]
  },
  {
   "cell_type": "markdown",
   "metadata": {},
   "source": [
    "## Running this Notebook\n",
    "\n",
    "This notebook is run in the container: [hamelsmu/ml-gpu-issue-lang-model](https://github.com/machine-learning-apps/IssuesLanguageModel/blob/master/gpu.Dockerfile)\n",
    "\n",
    "This container is publicly available [on Dockerhub](https://cloud.docker.com/u/hamelsmu/repository/docker/hamelsmu/ml-gpu-issue-lang-model)\n",
    "\n",
    "#### Compute: This notebook was run on a [p3.8xlarge](https://aws.amazon.com/ec2/instance-types/p3/) on AWS\n",
    "Tesla V100 GPU, 32 vCPUs 244GB of Memory"
   ]
  },
  {
   "cell_type": "code",
   "execution_count": 77,
   "metadata": {},
   "outputs": [],
   "source": [
    "import logging\n",
    "import os\n",
    "from pathlib import Path\n",
    "import sys\n",
    "\n",
    "logging.basicConfig(format='%(message)s')\n",
    "logging.getLogger().setLevel(logging.INFO)\n",
    "\n",
    "home = str(Path.home())\n",
    "\n",
    "# Installing the python packages locally doesn't appear to have them automatically\n",
    "# added the path so we need to manually add the directory\n",
    "local_py_path = os.path.join(home, \".local/lib/python3.6/site-packages\")\n",
    "\n",
    "for p in [local_py_path, os.path.abspath(\"../../py\")]:\n",
    "    if p not in sys.path:\n",
    "      logging.info(\"Adding %s to python path\", p)\n",
    "      # Insert at front because we want to override any installed packages\n",
    "      sys.path.insert(0, p)\n"
   ]
  },
  {
   "cell_type": "code",
   "execution_count": 72,
   "metadata": {},
   "outputs": [
    {
     "name": "stdout",
     "output_type": "stream",
     "text": [
      "Requirement already satisfied: appnope==0.1.0 in /home/jovyan/.local/lib/python3.6/site-packages (from -r ../requirements.txt (line 2)) (0.1.0)\n",
      "Requirement already satisfied: attrs==19.1.0 in /home/jovyan/.local/lib/python3.6/site-packages (from -r ../requirements.txt (line 3)) (19.1.0)\n",
      "Requirement already satisfied: backcall==0.1.0 in /usr/local/lib/python3.6/dist-packages (from -r ../requirements.txt (line 4)) (0.1.0)\n",
      "Requirement already satisfied: beautifulsoup4==4.7.1 in /home/jovyan/.local/lib/python3.6/site-packages (from -r ../requirements.txt (line 5)) (4.7.1)\n",
      "Requirement already satisfied: bleach==3.1.0 in /usr/local/lib/python3.6/dist-packages (from -r ../requirements.txt (line 6)) (3.1.0)\n",
      "Requirement already satisfied: blis==0.2.4 in /home/jovyan/.local/lib/python3.6/site-packages (from -r ../requirements.txt (line 7)) (0.2.4)\n",
      "Requirement already satisfied: bottleneck==1.2.1 in /home/jovyan/.local/lib/python3.6/site-packages (from -r ../requirements.txt (line 8)) (1.2.1)\n",
      "Requirement already satisfied: bs4==0.0.1 in /home/jovyan/.local/lib/python3.6/site-packages (from -r ../requirements.txt (line 9)) (0.0.1)\n",
      "Requirement already satisfied: cachetools==3.1.1 in /home/jovyan/.local/lib/python3.6/site-packages (from -r ../requirements.txt (line 10)) (3.1.1)\n",
      "Requirement already satisfied: certifi==2019.3.9 in /home/jovyan/.local/lib/python3.6/site-packages (from -r ../requirements.txt (line 11)) (2019.3.9)\n",
      "Requirement already satisfied: cffi==1.12.3 in /home/jovyan/.local/lib/python3.6/site-packages (from -r ../requirements.txt (line 12)) (1.12.3)\n",
      "Requirement already satisfied: chardet==3.0.4 in /usr/local/lib/python3.6/dist-packages (from -r ../requirements.txt (line 13)) (3.0.4)\n",
      "Requirement already satisfied: click==7.0 in /home/jovyan/.local/lib/python3.6/site-packages (from -r ../requirements.txt (line 14)) (7.0)\n",
      "Requirement already satisfied: cycler==0.10.0 in /usr/local/lib/python3.6/dist-packages (from -r ../requirements.txt (line 15)) (0.10.0)\n",
      "Requirement already satisfied: cymem==2.0.2 in /home/jovyan/.local/lib/python3.6/site-packages (from -r ../requirements.txt (line 16)) (2.0.2)\n",
      "Requirement already satisfied: cytoolz==0.9.0.1 in /home/jovyan/.local/lib/python3.6/site-packages (from -r ../requirements.txt (line 17)) (0.9.0.1)\n",
      "Requirement already satisfied: decorator==4.4.0 in /home/jovyan/.local/lib/python3.6/site-packages (from -r ../requirements.txt (line 18)) (4.4.0)\n",
      "Requirement already satisfied: defusedxml==0.6.0 in /usr/local/lib/python3.6/dist-packages (from -r ../requirements.txt (line 19)) (0.6.0)\n",
      "Requirement already satisfied: dill==0.3.0 in /home/jovyan/.local/lib/python3.6/site-packages (from -r ../requirements.txt (line 20)) (0.3.0)\n",
      "Requirement already satisfied: entrypoints==0.3 in /usr/local/lib/python3.6/dist-packages (from -r ../requirements.txt (line 21)) (0.3)\n",
      "Requirement already satisfied: fastai==1.0.53.post3 in /home/jovyan/.local/lib/python3.6/site-packages (from -r ../requirements.txt (line 22)) (1.0.53.post3)\n",
      "Requirement already satisfied: fastprogress==0.1.21 in /home/jovyan/.local/lib/python3.6/site-packages (from -r ../requirements.txt (line 23)) (0.1.21)\n",
      "Requirement already satisfied: flask-session==0.3.1 in /home/jovyan/.local/lib/python3.6/site-packages (from -r ../requirements.txt (line 24)) (0.3.1)\n",
      "Requirement already satisfied: flask==1.0.2 in /home/jovyan/.local/lib/python3.6/site-packages (from -r ../requirements.txt (line 25)) (1.0.2)\n",
      "Requirement already satisfied: ftfy==4.4.3 in /home/jovyan/.local/lib/python3.6/site-packages (from -r ../requirements.txt (line 26)) (4.4.3)\n",
      "Requirement already satisfied: gcsfs==0.2.1 in /home/jovyan/.local/lib/python3.6/site-packages (from -r ../requirements.txt (line 27)) (0.2.1)\n",
      "Requirement already satisfied: github3.py>=1.3.0 in /home/jovyan/.local/lib/python3.6/site-packages (from -r ../requirements.txt (line 28)) (1.3.0)\n",
      "Requirement already satisfied: google-auth-oauthlib==0.3.0 in /home/jovyan/.local/lib/python3.6/site-packages (from -r ../requirements.txt (line 29)) (0.3.0)\n",
      "Requirement already satisfied: google-auth==1.6.3 in /home/jovyan/.local/lib/python3.6/site-packages (from -r ../requirements.txt (line 30)) (1.6.3)\n",
      "Requirement already satisfied: gunicorn==19.9.0 in /home/jovyan/.local/lib/python3.6/site-packages (from -r ../requirements.txt (line 31)) (19.9.0)\n",
      "Requirement already satisfied: html5lib==1.0.1 in /home/jovyan/.local/lib/python3.6/site-packages (from -r ../requirements.txt (line 32)) (1.0.1)\n",
      "Requirement already satisfied: idna==2.8 in /home/jovyan/.local/lib/python3.6/site-packages (from -r ../requirements.txt (line 33)) (2.8)\n",
      "Requirement already satisfied: ijson==2.3 in /home/jovyan/.local/lib/python3.6/site-packages (from -r ../requirements.txt (line 34)) (2.3)\n",
      "Requirement already satisfied: ipdb==0.12 in /home/jovyan/.local/lib/python3.6/site-packages (from -r ../requirements.txt (line 35)) (0.12)\n",
      "Requirement already satisfied: ipykernel==5.1.0 in /home/jovyan/.local/lib/python3.6/site-packages (from -r ../requirements.txt (line 36)) (5.1.0)\n",
      "Requirement already satisfied: ipython-genutils==0.2.0 in /usr/local/lib/python3.6/dist-packages (from -r ../requirements.txt (line 37)) (0.2.0)\n",
      "Requirement already satisfied: ipython==7.5.0 in /home/jovyan/.local/lib/python3.6/site-packages (from -r ../requirements.txt (line 38)) (7.5.0)\n",
      "Requirement already satisfied: ipywidgets==7.4.2 in /home/jovyan/.local/lib/python3.6/site-packages (from -r ../requirements.txt (line 39)) (7.4.2)\n",
      "Requirement already satisfied: itsdangerous==1.1.0 in /home/jovyan/.local/lib/python3.6/site-packages (from -r ../requirements.txt (line 40)) (1.1.0)\n",
      "Requirement already satisfied: jedi==0.13.3 in /home/jovyan/.local/lib/python3.6/site-packages (from -r ../requirements.txt (line 41)) (0.13.3)\n",
      "Requirement already satisfied: jinja2==2.10.1 in /home/jovyan/.local/lib/python3.6/site-packages (from -r ../requirements.txt (line 42)) (2.10.1)\n",
      "Requirement already satisfied: joblib==0.13.2 in /home/jovyan/.local/lib/python3.6/site-packages (from -r ../requirements.txt (line 43)) (0.13.2)\n",
      "Requirement already satisfied: jsonschema==3.0.1 in /home/jovyan/.local/lib/python3.6/site-packages (from -r ../requirements.txt (line 44)) (3.0.1)\n",
      "Requirement already satisfied: JSON-log-formatter==0.2.0 in /home/jovyan/.local/lib/python3.6/site-packages (from -r ../requirements.txt (line 45)) (0.2.0)\n",
      "Requirement already satisfied: jupyter-client==5.2.4 in /home/jovyan/.local/lib/python3.6/site-packages (from -r ../requirements.txt (line 46)) (5.2.4)\n",
      "Requirement already satisfied: jupyter-core==4.4.0 in /home/jovyan/.local/lib/python3.6/site-packages (from -r ../requirements.txt (line 47)) (4.4.0)\n",
      "Requirement already satisfied: kiwisolver==1.1.0 in /usr/local/lib/python3.6/dist-packages (from -r ../requirements.txt (line 48)) (1.1.0)\n",
      "Requirement already satisfied: markupsafe==1.1.1 in /usr/local/lib/python3.6/dist-packages (from -r ../requirements.txt (line 49)) (1.1.1)\n",
      "Requirement already satisfied: matplotlib==3.0.3 in /home/jovyan/.local/lib/python3.6/site-packages (from -r ../requirements.txt (line 50)) (3.0.3)\n",
      "Requirement already satisfied: mdparse==0.13 in /home/jovyan/.local/lib/python3.6/site-packages (from -r ../requirements.txt (line 51)) (0.13)\n",
      "Requirement already satisfied: mistune==0.8.4 in /usr/local/lib/python3.6/dist-packages (from -r ../requirements.txt (line 52)) (0.8.4)\n",
      "Requirement already satisfied: more-itertools==8.2.0 in /home/jovyan/.local/lib/python3.6/site-packages (from -r ../requirements.txt (line 53)) (8.2.0)\n",
      "Requirement already satisfied: murmurhash==1.0.2 in /home/jovyan/.local/lib/python3.6/site-packages (from -r ../requirements.txt (line 54)) (1.0.2)\n",
      "Requirement already satisfied: mwparserfromhell==0.5.3 in /home/jovyan/.local/lib/python3.6/site-packages (from -r ../requirements.txt (line 55)) (0.5.3)\n",
      "Requirement already satisfied: nbconvert==5.5.0 in /home/jovyan/.local/lib/python3.6/site-packages (from -r ../requirements.txt (line 56)) (5.5.0)\n",
      "Requirement already satisfied: nbformat==4.4.0 in /home/jovyan/.local/lib/python3.6/site-packages (from -r ../requirements.txt (line 57)) (4.4.0)\n",
      "Requirement already satisfied: networkx==2.3 in /home/jovyan/.local/lib/python3.6/site-packages (from -r ../requirements.txt (line 58)) (2.3)\n",
      "Requirement already satisfied: notebook==5.7.8 in /home/jovyan/.local/lib/python3.6/site-packages (from -r ../requirements.txt (line 59)) (5.7.8)\n",
      "Requirement already satisfied: numexpr==2.6.9 in /home/jovyan/.local/lib/python3.6/site-packages (from -r ../requirements.txt (line 60)) (2.6.9)\n",
      "Requirement already satisfied: numpy==1.16.4 in /home/jovyan/.local/lib/python3.6/site-packages (from -r ../requirements.txt (line 61)) (1.16.4)\n",
      "Requirement already satisfied: oauthlib==3.0.1 in /home/jovyan/.local/lib/python3.6/site-packages (from -r ../requirements.txt (line 62)) (3.0.1)\n",
      "Requirement already satisfied: packaging==19.0 in /home/jovyan/.local/lib/python3.6/site-packages (from -r ../requirements.txt (line 63)) (19.0)\n",
      "Requirement already satisfied: pandas==0.24.2 in /home/jovyan/.local/lib/python3.6/site-packages (from -r ../requirements.txt (line 64)) (0.24.2)\n",
      "Requirement already satisfied: pandocfilters==1.4.2 in /usr/local/lib/python3.6/dist-packages (from -r ../requirements.txt (line 65)) (1.4.2)\n",
      "Requirement already satisfied: parso==0.4.0 in /home/jovyan/.local/lib/python3.6/site-packages (from -r ../requirements.txt (line 66)) (0.4.0)\n",
      "Requirement already satisfied: passlib==1.7.1 in /home/jovyan/.local/lib/python3.6/site-packages (from -r ../requirements.txt (line 67)) (1.7.1)\n",
      "Requirement already satisfied: pexpect==4.7.0 in /home/jovyan/.local/lib/python3.6/site-packages (from -r ../requirements.txt (line 68)) (4.7.0)\n",
      "Requirement already satisfied: pickleshare==0.7.5 in /usr/local/lib/python3.6/dist-packages (from -r ../requirements.txt (line 69)) (0.7.5)\n",
      "Requirement already satisfied: pillow==6.0.0 in /home/jovyan/.local/lib/python3.6/site-packages (from -r ../requirements.txt (line 70)) (6.0.0)\n",
      "Requirement already satisfied: plac==0.9.6 in /home/jovyan/.local/lib/python3.6/site-packages (from -r ../requirements.txt (line 71)) (0.9.6)\n",
      "Requirement already satisfied: preshed==2.0.1 in /home/jovyan/.local/lib/python3.6/site-packages (from -r ../requirements.txt (line 72)) (2.0.1)\n",
      "Requirement already satisfied: prometheus-client==0.6.0 in /home/jovyan/.local/lib/python3.6/site-packages (from -r ../requirements.txt (line 73)) (0.6.0)\n",
      "Requirement already satisfied: prompt-toolkit==2.0.9 in /home/jovyan/.local/lib/python3.6/site-packages (from -r ../requirements.txt (line 74)) (2.0.9)\n",
      "Requirement already satisfied: ptyprocess==0.6.0 in /usr/local/lib/python3.6/dist-packages (from -r ../requirements.txt (line 75)) (0.6.0)\n",
      "Requirement already satisfied: pyasn1-modules==0.2.5 in /home/jovyan/.local/lib/python3.6/site-packages (from -r ../requirements.txt (line 76)) (0.2.5)\n",
      "Requirement already satisfied: pyasn1==0.4.5 in /home/jovyan/.local/lib/python3.6/site-packages (from -r ../requirements.txt (line 77)) (0.4.5)\n",
      "Requirement already satisfied: pycparser==2.19 in /home/jovyan/.local/lib/python3.6/site-packages (from -r ../requirements.txt (line 78)) (2.19)\n",
      "Requirement already satisfied: pyemd==0.5.1 in /home/jovyan/.local/lib/python3.6/site-packages (from -r ../requirements.txt (line 79)) (0.5.1)\n",
      "Requirement already satisfied: pygments==2.4.2 in /home/jovyan/.local/lib/python3.6/site-packages (from -r ../requirements.txt (line 80)) (2.4.2)\n",
      "Requirement already satisfied: pyparsing==2.4.0 in /home/jovyan/.local/lib/python3.6/site-packages (from -r ../requirements.txt (line 81)) (2.4.0)\n",
      "Requirement already satisfied: pyphen==0.9.5 in /home/jovyan/.local/lib/python3.6/site-packages (from -r ../requirements.txt (line 82)) (0.9.5)\n",
      "Requirement already satisfied: pyrsistent==0.15.2 in /home/jovyan/.local/lib/python3.6/site-packages (from -r ../requirements.txt (line 83)) (0.15.2)\n",
      "Requirement already satisfied: python-dateutil==2.8.0 in /home/jovyan/.local/lib/python3.6/site-packages (from -r ../requirements.txt (line 84)) (2.8.0)\n",
      "Requirement already satisfied: python-levenshtein==0.12.0 in /home/jovyan/.local/lib/python3.6/site-packages (from -r ../requirements.txt (line 85)) (0.12.0)\n",
      "Requirement already satisfied: pytz==2019.1 in /home/jovyan/.local/lib/python3.6/site-packages (from -r ../requirements.txt (line 86)) (2019.1)\n",
      "Requirement already satisfied: pyyaml==5.1 in /home/jovyan/.local/lib/python3.6/site-packages (from -r ../requirements.txt (line 87)) (5.1)\n",
      "Requirement already satisfied: pyzmq==18.0.1 in /home/jovyan/.local/lib/python3.6/site-packages (from -r ../requirements.txt (line 88)) (18.0.1)\n",
      "Requirement already satisfied: regex==2019.6.8 in /home/jovyan/.local/lib/python3.6/site-packages (from -r ../requirements.txt (line 89)) (2019.6.8)\n",
      "Requirement already satisfied: requests-oauthlib==1.2.0 in /home/jovyan/.local/lib/python3.6/site-packages (from -r ../requirements.txt (line 90)) (1.2.0)\n",
      "Requirement already satisfied: requests==2.22.0 in /usr/local/lib/python3.6/dist-packages (from -r ../requirements.txt (line 91)) (2.22.0)\n",
      "Requirement already satisfied: rsa==4.0 in /usr/local/lib/python3.6/dist-packages (from -r ../requirements.txt (line 92)) (4.0)\n",
      "Requirement already satisfied: scikit-learn==0.20.3 in /home/jovyan/.local/lib/python3.6/site-packages (from -r ../requirements.txt (line 93)) (0.20.3)\n",
      "Requirement already satisfied: scipy==1.2.1 in /home/jovyan/.local/lib/python3.6/site-packages (from -r ../requirements.txt (line 94)) (1.2.1)\n",
      "Requirement already satisfied: send2trash==1.5.0 in /usr/local/lib/python3.6/dist-packages (from -r ../requirements.txt (line 95)) (1.5.0)\n",
      "Requirement already satisfied: six==1.12.0 in /home/jovyan/.local/lib/python3.6/site-packages (from -r ../requirements.txt (line 96)) (1.12.0)\n",
      "Requirement already satisfied: soupsieve==1.9.1 in /home/jovyan/.local/lib/python3.6/site-packages (from -r ../requirements.txt (line 97)) (1.9.1)\n",
      "Requirement already satisfied: spacy==2.1.4 in /home/jovyan/.local/lib/python3.6/site-packages (from -r ../requirements.txt (line 98)) (2.1.4)\n",
      "Requirement already satisfied: srsly==0.0.7 in /home/jovyan/.local/lib/python3.6/site-packages (from -r ../requirements.txt (line 99)) (0.0.7)\n",
      "Requirement already satisfied: terminado==0.8.2 in /home/jovyan/.local/lib/python3.6/site-packages (from -r ../requirements.txt (line 100)) (0.8.2)\n",
      "Requirement already satisfied: testpath==0.4.2 in /home/jovyan/.local/lib/python3.6/site-packages (from -r ../requirements.txt (line 101)) (0.4.2)\n",
      "Requirement already satisfied: textacy==0.7.1 in /home/jovyan/.local/lib/python3.6/site-packages (from -r ../requirements.txt (line 102)) (0.7.1)\n",
      "Requirement already satisfied: thinc==7.0.4 in /home/jovyan/.local/lib/python3.6/site-packages (from -r ../requirements.txt (line 103)) (7.0.4)\n",
      "Requirement already satisfied: timeout-decorator==0.4.1 in /home/jovyan/.local/lib/python3.6/site-packages (from -r ../requirements.txt (line 104)) (0.4.1)\n",
      "Requirement already satisfied: toolz==0.9.0 in /home/jovyan/.local/lib/python3.6/site-packages (from -r ../requirements.txt (line 105)) (0.9.0)\n",
      "Requirement already satisfied: tornado==6.0.2 in /home/jovyan/.local/lib/python3.6/site-packages (from -r ../requirements.txt (line 106)) (6.0.2)\n",
      "Requirement already satisfied: torch==1.1.0 in /home/jovyan/.local/lib/python3.6/site-packages (from -r ../requirements.txt (line 107)) (1.1.0)\n",
      "Requirement already satisfied: tqdm==4.32.2 in /home/jovyan/.local/lib/python3.6/site-packages (from -r ../requirements.txt (line 108)) (4.32.2)\n",
      "Requirement already satisfied: traitlets==4.3.2 in /home/jovyan/.local/lib/python3.6/site-packages (from -r ../requirements.txt (line 109)) (4.3.2)\n",
      "Requirement already satisfied: typing==3.6.6 in /home/jovyan/.local/lib/python3.6/site-packages (from -r ../requirements.txt (line 110)) (3.6.6)\n",
      "Requirement already satisfied: urllib3==1.24.3 in /home/jovyan/.local/lib/python3.6/site-packages (from -r ../requirements.txt (line 111)) (1.24.3)\n",
      "Requirement already satisfied: wasabi==0.2.2 in /home/jovyan/.local/lib/python3.6/site-packages (from -r ../requirements.txt (line 112)) (0.2.2)\n",
      "Requirement already satisfied: wcwidth==0.1.7 in /home/jovyan/.local/lib/python3.6/site-packages (from -r ../requirements.txt (line 113)) (0.1.7)\n",
      "Requirement already satisfied: webencodings==0.5.1 in /usr/local/lib/python3.6/dist-packages (from -r ../requirements.txt (line 114)) (0.5.1)\n",
      "Requirement already satisfied: werkzeug==0.15.2 in /home/jovyan/.local/lib/python3.6/site-packages (from -r ../requirements.txt (line 115)) (0.15.2)\n",
      "Requirement already satisfied: widgetsnbextension==3.4.2 in /home/jovyan/.local/lib/python3.6/site-packages (from -r ../requirements.txt (line 116)) (3.4.2)\n",
      "Requirement already satisfied: nvidia-ml-py3 in /home/jovyan/.local/lib/python3.6/site-packages (from fastai==1.0.53.post3->-r ../requirements.txt (line 22)) (7.352.0)\n",
      "Requirement already satisfied: torchvision in /home/jovyan/.local/lib/python3.6/site-packages (from fastai==1.0.53.post3->-r ../requirements.txt (line 22)) (0.5.0)\n",
      "Requirement already satisfied: dataclasses; python_version < \"3.7\" in /home/jovyan/.local/lib/python3.6/site-packages (from fastai==1.0.53.post3->-r ../requirements.txt (line 22)) (0.7)\n",
      "Requirement already satisfied: jwcrypto>=0.5.0 in /home/jovyan/.local/lib/python3.6/site-packages (from github3.py>=1.3.0->-r ../requirements.txt (line 28)) (0.7)\n",
      "Requirement already satisfied: uritemplate>=3.0.0 in /usr/local/lib/python3.6/dist-packages (from github3.py>=1.3.0->-r ../requirements.txt (line 28)) (3.0.1)\n",
      "Requirement already satisfied: setuptools in /usr/local/lib/python3.6/dist-packages (from ipdb==0.12->-r ../requirements.txt (line 35)) (42.0.2)\n",
      "Requirement already satisfied: cryptography>=1.5 in /usr/lib/python3/dist-packages (from jwcrypto>=0.5.0->github3.py>=1.3.0->-r ../requirements.txt (line 28)) (2.1.4)\n",
      "\u001b[33mWARNING: You are using pip version 19.3.1; however, version 20.0.2 is available.\n",
      "You should consider upgrading via the 'pip install --upgrade pip' command.\u001b[0m\n"
     ]
    }
   ],
   "source": [
    "!pip3 install --user -r ../requirements.txt"
   ]
  },
  {
   "cell_type": "code",
   "execution_count": 57,
   "metadata": {},
   "outputs": [],
   "source": [
    "from bs4 import BeautifulSoup\n",
    "import requests\n",
    "from fastai.core import parallel, partial\n",
    "\n",
    "from collections import Counter\n",
    "from tqdm import tqdm_notebook\n",
    "import torch\n",
    "from code_intelligence import embeddings\n",
    "from code_intelligence import graphql\n",
    "from code_intelligence import gcs_util\n",
    "from google.cloud import storage"
   ]
  },
  {
   "cell_type": "markdown",
   "metadata": {},
   "source": [
    "## Get a list of Kubeflow REPOs\n",
    "\n",
    "* You will need to either set a GitHub token or use a GitHub App in order to call the API"
   ]
  },
  {
   "cell_type": "code",
   "execution_count": 55,
   "metadata": {},
   "outputs": [
    {
     "name": "stderr",
     "output_type": "stream",
     "text": [
      "GraphQLClient is defaulting to FixedAccessTokenGenerator based on environment variables. This is deprecated. Caller should explicitly pass in a instance via header_generator. Traceback:\n",
      "<function extract_stack at 0x7f91e275f6a8>\n"
     ]
    },
    {
     "name": "stdout",
     "output_type": "stream",
     "text": [
      "['arena', 'batch-predict', 'caffe2-operator', 'chainer-operator', 'code-intelligence', 'common', 'community', 'crd-validation', 'example-seldon', 'examples', 'fairing', 'features', 'frontend', 'homebrew-cask', 'homebrew-core', 'internal-acls', 'katib', 'kfctl', 'kfp-tekton', 'kfserving', 'kubebench', 'kubeflow', 'manifests', 'marketing-materials', 'metadata', 'mpi-operator', 'mxnet-operator', 'pipelines', 'pytorch-operator', 'reporting', 'testing', 'tf-operator', 'triage-issues', 'website', 'xgboost-operator']\n"
     ]
    }
   ],
   "source": [
    "if not os.getenv(\"GITHUB_TOKEN\"):\n",
    "    logging.warning(f\"No GitHub token set defaulting to hardcode list of Kubeflow repositories\")\n",
    "    \n",
    "    # The list of repos can be updated using the else block\n",
    "    repo_names = ['arena', 'batch-predict', 'caffe2-operator', 'chainer-operator', 'code-intelligence', 'common', 'community', 'crd-validation', 'example-seldon', 'examples', 'fairing', 'features', 'frontend', 'homebrew-cask', 'homebrew-core', 'internal-acls', 'katib', 'kfctl', 'kfp-tekton', 'kfserving', 'kubebench', 'kubeflow', 'manifests', 'marketing-materials', 'metadata', 'mpi-operator', 'mxnet-operator', 'pipelines', 'pytorch-operator', 'reporting', 'testing', 'tf-operator', 'triage-issues', 'website', 'xgboost-operator']\n",
    "else:\n",
    "    gh_client = graphql.GraphQLClient()\n",
    "        \n",
    "    repo_query=\"\"\"query repoQuery($org: String!) {\n",
    "       organization(login: $org) {\n",
    "        repositories(first:100) {\n",
    "          totalCount \n",
    "          edges {\n",
    "            node {\n",
    "              name\n",
    "            }\n",
    "          }\n",
    "        }\n",
    "      }\n",
    "    }\n",
    "    \"\"\"\n",
    "    variables = {\n",
    "        \"org\": \"kubeflow\",\n",
    "    }\n",
    "    results = gh_client.run_query(repo_query, variables)\n",
    "    repo_nodes = graphql.unpack_and_split_nodes(results, [\"data\", \"organization\", \"repositories\", \"edges\"])\n",
    "    repo_names = [n[\"name\"] for n in repo_nodes]\n",
    "\n",
    "    \",\".join([f\"'{n}'\" for n in sorted(repo_names)])\n",
    "    names_str = \", \".join([f\"'{n}'\" for n in sorted(repo_names)])\n",
    "    print(f\"[{names_str}]\")"
   ]
  },
  {
   "cell_type": "markdown",
   "metadata": {},
   "source": [
    "## Get The Data"
   ]
  },
  {
   "cell_type": "code",
   "execution_count": 3,
   "metadata": {},
   "outputs": [],
   "source": [
    "%load_ext autoreload\n",
    "%autoreload 2\n",
    "import pandas as pd\n",
    "from inference import InferenceWrapper"
   ]
  },
  {
   "cell_type": "markdown",
   "metadata": {},
   "source": [
    "## Load Model Artifacts (Download from GC if not on local)\n",
    "\n",
    "* We need to load the model used to compute embeddings"
   ]
  },
  {
   "cell_type": "code",
   "execution_count": 4,
   "metadata": {},
   "outputs": [],
   "source": [
    "from pathlib import Path\n",
    "from urllib import request as request_url\n",
    "\n",
    "def pass_through(x):\n",
    "    return x\n",
    "\n",
    "model_url = 'https://storage.googleapis.com/issue_label_bot/model/lang_model/models_22zkdqlr/trained_model_22zkdqlr.pkl'\n",
    "inference_wrapper = embeddings.load_model_artifact(model_url)"
   ]
  },
  {
   "cell_type": "markdown",
   "metadata": {},
   "source": [
    "#### Warning: The below cell benefits tremendously from parallelism, the more cores your machine has the better\n",
    "\n",
    "* The code will fail if you aren't running with a GPU"
   ]
  },
  {
   "cell_type": "markdown",
   "metadata": {},
   "source": [
    "## Compute Embeddings\n",
    "\n",
    "* For each repo compute the embeddings and save to GCS\n",
    "* TODO(jlewi): Can we use the metadata storage to keep track of artifacts?"
   ]
  },
  {
   "cell_type": "code",
   "execution_count": 87,
   "metadata": {},
   "outputs": [],
   "source": [
    "embeddings_dir = \"gs://repo-embeddings/kubeflow/20200427\""
   ]
  },
  {
   "cell_type": "code",
   "execution_count": null,
   "metadata": {},
   "outputs": [
    {
     "name": "stderr",
     "output_type": "stream",
     "text": [
      "Procesing issues for repo tf-operator\n"
     ]
    }
   ],
   "source": [
    "%%time\n",
    "import dill as dpickle\n",
    "import tempfile\n",
    "\n",
    "for repo in repo_names:\n",
    "    # TODO(https://github.com/kubeflow/code-intelligence/issues/123): Use HDF5 files\n",
    "    embeddings_file = os.path.join(embeddings_dir, repo + \".pkl\")\n",
    "    if gcs_util.check_gcs_object(embeddings_file):\n",
    "        logging.info(f\"Skipping repo {repo}; File {embeddings_file} exists\")\n",
    "        continue\n",
    "        \n",
    "    logging.info(f\"Procesing issues for repo {repo}\")\n",
    "    repo_embeddings = embeddings.get_all_issue_text(owner='kubeflow', repo=repo, inf_wrapper=inference_wrapper)\n",
    "    \n",
    "    local_file = None\n",
    "    with tempfile.NamedTemporaryFile(delete=False, mode='wb') as f:\n",
    "        dpickle.dump(repo_embeddings, f)\n",
    "        local_file = f.name\n",
    "        \n",
    "    gcs_util.copy_to_gcs(local_file, embeddings_file)"
   ]
  },
  {
   "cell_type": "code",
   "execution_count": 88,
   "metadata": {},
   "outputs": [],
   "source": [
    "embeddings_file = os.path.join(embeddings_dir, repo + \".pkl\")"
   ]
  },
  {
   "cell_type": "code",
   "execution_count": 93,
   "metadata": {},
   "outputs": [],
   "source": [
    "gcs_util.copy_to_gcs(local_file, embeddings_file)"
   ]
  },
  {
   "cell_type": "code",
   "execution_count": 82,
   "metadata": {},
   "outputs": [
    {
     "data": {
      "text/plain": [
       "<module 'code_intelligence.gcs_util' from '/home/jovyan/git_kubeflow-code-intelligence/py/code_intelligence/gcs_util.py'>"
      ]
     },
     "execution_count": 82,
     "metadata": {},
     "output_type": "execute_result"
    }
   ],
   "source": [
    "importlib.reload(gcs_util)"
   ]
  },
  {
   "cell_type": "code",
   "execution_count": null,
   "metadata": {},
   "outputs": [],
   "source": [
    "gs"
   ]
  },
  {
   "cell_type": "markdown",
   "metadata": {},
   "source": [
    "# Notes\n",
    "\n",
    "It takes 4min to retrieve embeddings and labels for `Kubeflow\\Kubeflow` this time can likely be brought down to 1 minute by batching the text instead of feeding the language model one by one.  "
   ]
  },
  {
   "cell_type": "code",
   "execution_count": null,
   "metadata": {},
   "outputs": [],
   "source": []
  }
 ],
 "metadata": {
  "kernelspec": {
   "display_name": "Python 3",
   "language": "python",
   "name": "python3"
  },
  "language_info": {
   "codemirror_mode": {
    "name": "ipython",
    "version": 3
   },
   "file_extension": ".py",
   "mimetype": "text/x-python",
   "name": "python",
   "nbconvert_exporter": "python",
   "pygments_lexer": "ipython3",
   "version": "3.6.9"
  }
 },
 "nbformat": 4,
 "nbformat_minor": 4
}
