{
 "cells": [
  {
   "cell_type": "markdown",
   "metadata": {},
   "source": [
    "# Triage Issue\n",
    "\n",
    "* This is a helper notebook to go with the triage module\n",
    "* It can be used to triage issues.\n",
    "* Issues needing Triage are added to [Needs Triage Project](https://github.com/orgs/kubeflow/projects/26)"
   ]
  },
  {
   "cell_type": "code",
   "execution_count": 63,
   "metadata": {},
   "outputs": [],
   "source": [
    "import matplotlib\n",
    "import importlib\n",
    "import logging\n",
    "import sys\n",
    "import os\n",
    "import datetime\n",
    "from dateutil import parser as dateutil_parser\n",
    "import glob\n",
    "import json\n",
    "import numpy as np\n",
    "import pandas as pd\n",
    "# A bit of a hack to set the path correctly\n",
    "sys.path = [os.path.abspath(os.path.join(os.getcwd(), \"..\"))] + sys.path\n",
    "\n",
    "logging.basicConfig(level=logging.INFO,\n",
    "                  format=('%(levelname)s|%(asctime)s'\n",
    "                        '|%(message)s|%(pathname)s|%(lineno)d|'),\n",
    "                datefmt='%Y-%m-%dT%H:%M:%S',\n",
    "                )\n",
    "logging.getLogger.setLevel(logging.INFO)"
   ]
  },
  {
   "cell_type": "code",
   "execution_count": 65,
   "metadata": {},
   "outputs": [],
   "source": [
    "%matplotlib inline"
   ]
  },
  {
   "cell_type": "code",
   "execution_count": 217,
   "metadata": {},
   "outputs": [
    {
     "data": {
      "text/plain": [
       "<module 'code_intelligence.triage' from '/home/jlewi/git_code-intelligence/py/code_intelligence/triage.py'>"
      ]
     },
     "execution_count": 217,
     "metadata": {},
     "output_type": "execute_result"
    }
   ],
   "source": [
    "import code_intelligence\n",
    "from code_intelligence import graphql\n",
    "from code_intelligence import triage\n",
    "importlib.reload(triage)"
   ]
  },
  {
   "cell_type": "code",
   "execution_count": 18,
   "metadata": {},
   "outputs": [],
   "source": [
    "client = graphql.GraphQLClient()"
   ]
  },
  {
   "cell_type": "markdown",
   "metadata": {},
   "source": [
    "## Download Issues\n",
    "\n",
    "* Download the most recent issues"
   ]
  },
  {
   "cell_type": "code",
   "execution_count": 150,
   "metadata": {},
   "outputs": [],
   "source": [
    "today = datetime.datetime.now()\n",
    "today = datetime.datetime(year=today.year, month=today.month, day=today.day)\n",
    "\n",
    "start_time = today - datetime.timedelta(weeks=24)"
   ]
  },
  {
   "cell_type": "code",
   "execution_count": 98,
   "metadata": {},
   "outputs": [],
   "source": [
    "issue_filter = {\n",
    "    \"since\": start_time.isoformat(),\n",
    "}\n",
    "start_time_day =  start_time.strftime(\"%Y%m%d\")\n",
    "repo = \"kubeflow/kubeflow\"\n",
    "issues_dir = os.path.join(os.getcwd(), \".data\", \"issues\", repo, start_time_day)\n",
    "\n",
    "if os.path.exists(issues_dir):\n",
    "    logging.info(\"Issues data already exists; not redownloading\")\n",
    "else:    \n",
    "    triager = triage.IssueTriage()\n",
    "    try:        \n",
    "        triager.download_issues(repo, issues_dir)\n",
    "    except Exception as download_error:\n",
    "        raise"
   ]
  },
  {
   "cell_type": "markdown",
   "metadata": {},
   "source": [
    "## Compute Triage Stats"
   ]
  },
  {
   "cell_type": "code",
   "execution_count": 218,
   "metadata": {},
   "outputs": [],
   "source": [
    "shard_files = glob.glob(os.path.join(issues_dir, \"*.json\"))\n",
    "\n",
    "def init_df(offset=0, size=300):\n",
    "    \"\"\"Initialize a dataframe of the specified size.\"\"\"\n",
    "    return pd.DataFrame({\n",
    "        \"time\": [datetime.datetime.now()] * size,\n",
    "        \"delta\": np.zeros(size),\n",
    "    }, index=offset + np.arange(size))\n",
    "\n",
    "\n",
    "def init_issue_df(offset=0, size=300):\n",
    "    return pd.DataFrame({\n",
    "        \"created_at\": [datetime.datetime(year=2050, month=1, day=1)] * size,\n",
    "        \"triaged_at\": [datetime.datetime(year=2050, month=1, day=1)] * size,\n",
    "        \"closed\": [bool] * size,\n",
    "        \"url\": [\"\"] * size,\n",
    "        \"needs_triage\": [bool] * size,\n",
    "    }, index=offset + np.arange(size))\n",
    "    \n",
    "    \n",
    "def grow_df(df, offset=0, size=300):\n",
    "    return pd.concat([df, init_df(offset, size)])\n",
    "\n",
    "num_issues = 0\n",
    "\n",
    "triage_stats = init_df(size=len(shard_files) * 100 * 2)\n",
    "issues_df = init_issue_df(size=len(shard_files) * 100)\n",
    "\n",
    "issues_index = 0\n",
    "\n",
    "for f in shard_files:\n",
    "    logging.info(\"Processing %s\", f)\n",
    "    with open(f) as hf:\n",
    "        issues = json.load(hf)\n",
    "\n",
    "    delta = 2 * len(issues)\n",
    "    if num_issues + delta  > triage_stats.shape[0]:\n",
    "        # Grow the dataframe\n",
    "        triage_stats = grow_df(triage_stats, offset=triage_stats.shape[0], size=delta)\n",
    "\n",
    "    \n",
    "    if issues_index + len(issues) > issues_df.shape[0]:\n",
    "        issues_df = grow_df(issues_df, offset= issues_df.shape[0], size=len(issues))    \n",
    "\n",
    "    for i in issues:        \n",
    "        info = triage.TriageInfo.from_issue(i)\n",
    "        \n",
    "        create_time = dateutil_parser.parse(info.issue[\"createdAt\"])\n",
    "        \n",
    "        issues_df[\"created_at\"].at[issues_index] = create_time\n",
    "        issues_df[\"url\"].at[issues_index] = info.issue[\"url\"]\n",
    "        issues_df[\"needs_triage\"].at[issues_index] = info.needs_triage\n",
    "        \n",
    "        if not info.needs_triage and not info.triaged_at:\n",
    "            raise ValueError(\"Issue doesn't need triage but triaged at time not set\")\n",
    "        if info.triaged_at:\n",
    "            issues_df[\"triaged_at\"].at[issues_index] = info.triaged_at            \n",
    "\n",
    "        if info.closed_at:\n",
    "            issues_df[\"closed\"].at[issues_index] = True\n",
    "        else:\n",
    "            issues_df[\"closed\"].at[issues_index] = False\n",
    "        issues_index += 1\n",
    "\n",
    "\n",
    "issues_df = issues_df[:issues_index]"
   ]
  },
  {
   "cell_type": "code",
   "execution_count": 219,
   "metadata": {},
   "outputs": [],
   "source": [
    "# Filter issues to issues created after start_time\n",
    "indexes = issues_df[\"created_at\"] > start_time\n",
    "issues_df = issues_df.iloc[indexes.values]"
   ]
  },
  {
   "cell_type": "markdown",
   "metadata": {},
   "source": [
    "* Compute a series containing the number of untriaged issues as a function of time"
   ]
  },
  {
   "cell_type": "code",
   "execution_count": 220,
   "metadata": {},
   "outputs": [],
   "source": [
    "opened = pd.Series([1]*issues_df.shape[0], index=issues_df[\"created_at\"])\n",
    "triaged_issues = issues_df.iloc[(issues_df[\"needs_triage\"] == False).values]\n",
    "triaged = pd.Series([-1]*triaged_issues.shape[0], index=triaged_issues[\"triaged_at\"])\n",
    "\n",
    "deltas = pd.concat([opened, triaged])\n",
    "deltas = deltas.sort_index()\n",
    "untriaged = deltas.cumsum()"
   ]
  },
  {
   "cell_type": "code",
   "execution_count": 221,
   "metadata": {},
   "outputs": [
    {
     "data": {
      "text/plain": [
       "2019-02-15 00:10:37      1\n",
       "2019-02-15 11:44:19      2\n",
       "2019-02-15 19:08:13      3\n",
       "2019-02-15 20:57:10      4\n",
       "2019-02-15 21:30:48      5\n",
       "                      ... \n",
       "2019-08-01 21:03:36    176\n",
       "2019-08-01 21:28:25    177\n",
       "2019-08-01 22:57:28    178\n",
       "2019-08-02 02:22:55    179\n",
       "2019-08-02 12:57:45    178\n",
       "Length: 1206, dtype: int64"
      ]
     },
     "execution_count": 221,
     "metadata": {},
     "output_type": "execute_result"
    }
   ],
   "source": [
    "untriaged"
   ]
  },
  {
   "cell_type": "code",
   "execution_count": 222,
   "metadata": {},
   "outputs": [
    {
     "data": {
      "text/plain": [
       "[<matplotlib.lines.Line2D at 0x7f903d381e10>]"
      ]
     },
     "execution_count": 222,
     "metadata": {},
     "output_type": "execute_result"
    },
    {
     "data": {
      "image/png": "[encoded data removed]",
      "text/plain": [
       "<Figure size 432x288 with 1 Axes>"
      ]
     },
     "metadata": {
      "needs_background": "light"
     },
     "output_type": "display_data"
    }
   ],
   "source": [
    "from matplotlib import pylab \n",
    "pylab.plot(untriaged.index, untriaged.values, '.-')"
   ]
  },
  {
   "cell_type": "code",
   "execution_count": 229,
   "metadata": {},
   "outputs": [
    {
     "data": {
      "text/plain": [
       "2019-02-15 00:10:37      1\n",
       "2019-02-15 11:44:19      2\n",
       "2019-02-15 19:08:13      3\n",
       "2019-02-15 20:57:10      4\n",
       "2019-02-15 21:30:48      5\n",
       "                      ... \n",
       "2019-08-01 21:03:36    176\n",
       "2019-08-01 21:28:25    177\n",
       "2019-08-01 22:57:28    178\n",
       "2019-08-02 02:22:55    179\n",
       "2019-08-02 12:57:45    178\n",
       "Length: 1206, dtype: int64"
      ]
     },
     "execution_count": 229,
     "metadata": {},
     "output_type": "execute_result"
    }
   ],
   "source": [
    "untriaged"
   ]
  },
  {
   "cell_type": "markdown",
   "metadata": {},
   "source": [
    "## Update Needs Triage Kanban board \n",
    "\n",
    "* Update the [Kanban board](https://github.com/orgs/kubeflow/projects/26) tracking "
   ]
  },
  {
   "cell_type": "code",
   "execution_count": 227,
   "metadata": {},
   "outputs": [],
   "source": [
    "importlib.reload(triage)\n",
    "triager=triage.IssueTriage()"
   ]
  },
  {
   "cell_type": "code",
   "execution_count": 228,
   "metadata": {},
   "outputs": [],
   "source": [
    "repo=\"kubeflow/kubeflow\"\n",
    "\n",
    "today = datetime.datetime.now()\n",
    "today = datetime.datetime(year=today.year, month=today.month, day=today.day)\n",
    "\n",
    "start_time = today - datetime.timedelta(weeks=24)\n",
    "\n",
    "issue_filter = {\n",
    "    \"since\": start_time.isoformat(),\n",
    "}\n",
    "triager.triage(repo, issue_filter=issue_filter)"
   ]
  },
  {
   "cell_type": "markdown",
   "metadata": {},
   "source": [
    "## Fetch Card Id\n",
    "\n",
    "* This is a snipped which is useful for getting the id of a project card.\n",
    "* We use it to fetch the card id that triage.py should add issues needing triage to."
   ]
  },
  {
   "cell_type": "code",
   "execution_count": 24,
   "metadata": {},
   "outputs": [
    {
     "data": {
      "text/plain": [
       "{'data': {'organization': {'projects': {'totalCount': 1,\n",
       "    'edges': [{'node': {'name': 'Bug Triage',\n",
       "       'url': 'https://github.com/orgs/kubeflow/projects/26',\n",
       "       'columns': {'totalCount': 4,\n",
       "        'pageInfo': {'endCursor': 'Y3Vyc29yOnYyOpIDzgBajOw=',\n",
       "         'hasNextPage': False},\n",
       "        'nodes': [{'name': 'Needs triage',\n",
       "          'id': 'MDEzOlByb2plY3RDb2x1bW41OTM0MzEz'},\n",
       "         {'name': 'High priority', 'id': 'MDEzOlByb2plY3RDb2x1bW41OTM0MzE0'},\n",
       "         {'name': 'Low priority', 'id': 'MDEzOlByb2plY3RDb2x1bW41OTM0MzE1'},\n",
       "         {'name': 'Closed', 'id': 'MDEzOlByb2plY3RDb2x1bW41OTM0MzE2'}]}}}]}}}}"
      ]
     },
     "execution_count": 24,
     "metadata": {},
     "output_type": "execute_result"
    }
   ],
   "source": [
    "project_query=\"\"\"query projectCards($org: String!, $project: String!) {\n",
    "  organization(login: $org) {\n",
    "    projects(last: 1, search: $project) {\n",
    "      totalCount\n",
    "      edges {\n",
    "        node {\n",
    "          name\n",
    "          url\n",
    "          columns(first: 20) {\n",
    "            totalCount\n",
    "            pageInfo {\n",
    "              endCursor\n",
    "              hasNextPage\n",
    "            }\n",
    "            nodes {\n",
    "              name\n",
    "              id\n",
    "            }\n",
    "          }\n",
    "        }\n",
    "      }\n",
    "    }\n",
    "  }\n",
    "}\n",
    "\n",
    "\"\"\"\n",
    "variables = {\n",
    "    \"org\": \"kubeflow\",\n",
    "    \"project\": \"Bug Triage\",\n",
    "}\n",
    "results = client.run_query(project_query, variables)\n",
    "results"
   ]
  }
 ],
 "metadata": {
  "kernelspec": {
   "display_name": "Python 3",
   "language": "python",
   "name": "python3"
  },
  "language_info": {
   "codemirror_mode": {
    "name": "ipython",
    "version": 3
   },
   "file_extension": ".py",
   "mimetype": "text/x-python",
   "name": "python",
   "nbconvert_exporter": "python",
   "pygments_lexer": "ipython3",
   "version": "3.6.6"
  }
 },
 "nbformat": 4,
 "nbformat_minor": 2
}
