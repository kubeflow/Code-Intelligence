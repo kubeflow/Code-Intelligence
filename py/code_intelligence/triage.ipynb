{
 "cells": [
  {
   "cell_type": "markdown",
   "metadata": {},
   "source": [
    "# Triage Issue\n",
    "\n",
    "* This is a helper notebook to go with the triage module\n",
    "* It can be used to triage issues.\n",
    "* Issues needing Triage are added to [Needs Triage Project](https://github.com/orgs/kubeflow/projects/26)"
   ]
  },
  {
   "cell_type": "code",
   "execution_count": 15,
   "metadata": {},
   "outputs": [],
   "source": [
    "import importlib\n",
    "import sys\n",
    "import os\n",
    "os.path.abspath(os.path.join(os.getcwd(), \"..\"))\n",
    "sys.path = [os.path.abspath(os.path.join(os.getcwd(), \"..\"))] + sys.path"
   ]
  },
  {
   "cell_type": "code",
   "execution_count": 17,
   "metadata": {},
   "outputs": [],
   "source": [
    "import code_intelligence\n",
    "from code_intelligence import graphql"
   ]
  },
  {
   "cell_type": "code",
   "execution_count": 18,
   "metadata": {},
   "outputs": [],
   "source": [
    "client = graphql.GraphQLClient()"
   ]
  },
  {
   "cell_type": "markdown",
   "metadata": {},
   "source": [
    "## Fetch Card Id\n",
    "\n",
    "* This is a snippet "
   ]
  },
  {
   "cell_type": "code",
   "execution_count": 24,
   "metadata": {},
   "outputs": [
    {
     "data": {
      "text/plain": [
       "{'data': {'organization': {'projects': {'totalCount': 1,\n",
       "    'edges': [{'node': {'name': 'Bug Triage',\n",
       "       'url': 'https://github.com/orgs/kubeflow/projects/26',\n",
       "       'columns': {'totalCount': 4,\n",
       "        'pageInfo': {'endCursor': 'Y3Vyc29yOnYyOpIDzgBajOw=',\n",
       "         'hasNextPage': False},\n",
       "        'nodes': [{'name': 'Needs triage',\n",
       "          'id': 'MDEzOlByb2plY3RDb2x1bW41OTM0MzEz'},\n",
       "         {'name': 'High priority', 'id': 'MDEzOlByb2plY3RDb2x1bW41OTM0MzE0'},\n",
       "         {'name': 'Low priority', 'id': 'MDEzOlByb2plY3RDb2x1bW41OTM0MzE1'},\n",
       "         {'name': 'Closed', 'id': 'MDEzOlByb2plY3RDb2x1bW41OTM0MzE2'}]}}}]}}}}"
      ]
     },
     "execution_count": 24,
     "metadata": {},
     "output_type": "execute_result"
    }
   ],
   "source": [
    "project_query=\"\"\"query projectCards($org: String!, $project: String!) {\n",
    "  organization(login: $org) {\n",
    "    projects(last: 1, search: $project) {\n",
    "      totalCount\n",
    "      edges {\n",
    "        node {\n",
    "          name\n",
    "          url\n",
    "          columns(first: 20) {\n",
    "            totalCount\n",
    "            pageInfo {\n",
    "              endCursor\n",
    "              hasNextPage\n",
    "            }\n",
    "            nodes {\n",
    "              name\n",
    "              id\n",
    "            }\n",
    "          }\n",
    "        }\n",
    "      }\n",
    "    }\n",
    "  }\n",
    "}\n",
    "\n",
    "\"\"\"\n",
    "variables = {\n",
    "    \"org\": \"kubeflow\",\n",
    "    \"project\": \"Bug Triage\",\n",
    "}\n",
    "results = client.run_query(project_query, variables)\n",
    "results"
   ]
  },
  {
   "cell_type": "code",
   "execution_count": null,
   "metadata": {},
   "outputs": [],
   "source": []
  }
 ],
 "metadata": {
  "kernelspec": {
   "display_name": "Python 3",
   "language": "python",
   "name": "python3"
  },
  "language_info": {
   "codemirror_mode": {
    "name": "ipython",
    "version": 3
   },
   "file_extension": ".py",
   "mimetype": "text/x-python",
   "name": "python",
   "nbconvert_exporter": "python",
   "pygments_lexer": "ipython3",
   "version": "3.6.6"
  }
 },
 "nbformat": 4,
 "nbformat_minor": 2
}
