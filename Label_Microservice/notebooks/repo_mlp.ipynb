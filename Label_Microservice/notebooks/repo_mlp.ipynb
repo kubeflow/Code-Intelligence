{
 "cells": [
  {
   "cell_type": "markdown",
   "metadata": {},
   "source": [
    "# Train a model\n",
    "\n",
    "* This notebook can be used to train a model\n",
    "* The notebook assumes you have already computted the embeddings and stored them on GCS\n",
    "  * You can use the notebook Issue_Embbeddings/notebooks/Get-GitHub-Issues.ipynb to compute the embeddings\n",
    "  \n",
    "* TODO(jlewi): I last ran this notebook in gcr.io/kubeflow-images-public/tensorflow-1.15.2-notebook-gpu:1.0.0\n",
    "  * I ran Get-GitHUb-Issues.ipynb first and thus installed all the dependencies that that notebook installs\n",
    "    in my image\n"
   ]
  },
  {
   "cell_type": "markdown",
   "metadata": {},
   "source": [
    "## Parameters"
   ]
  },
  {
   "cell_type": "code",
   "execution_count": 32,
   "metadata": {},
   "outputs": [],
   "source": [
    "# URL of the trained language model\n",
    "LANGUAGE_MODEL_URL = 'gs://issue_label_bot/model/lang_model/models_22zkdqlr/trained_model_22zkdqlr.pkl'"
   ]
  },
  {
   "cell_type": "markdown",
   "metadata": {},
   "source": [
    "## Environment setup"
   ]
  },
  {
   "cell_type": "code",
   "execution_count": 1,
   "metadata": {},
   "outputs": [
    {
     "name": "stderr",
     "output_type": "stream",
     "text": [
      "Adding /home/jovyan/git_kubeflow-code-intelligence/py to python path\n"
     ]
    }
   ],
   "source": [
    "import logging\n",
    "import os\n",
    "from pathlib import Path\n",
    "from importlib import reload\n",
    "import sys\n",
    "import notebook_setup\n",
    "\n",
    "notebook_setup.setup()"
   ]
  },
  {
   "cell_type": "code",
   "execution_count": 2,
   "metadata": {},
   "outputs": [
    {
     "name": "stdout",
     "output_type": "stream",
     "text": [
      "Collecting kfmd\n",
      "  Cloning git://github.com/kubeflow/metadata.git to /tmp/pip-install-tk7n969n/kfmd\n",
      "  Running command git clone -q git://github.com/kubeflow/metadata.git /tmp/pip-install-tk7n969n/kfmd\n",
      "\u001b[33m  WARNING: Generating metadata for package kfmd produced metadata for project name kubeflow-metadata. Fix your #egg=kfmd fragments.\u001b[0m\n",
      "Requirement already satisfied (use --upgrade to upgrade): kubeflow-metadata from git+git://github.com/kubeflow/metadata.git#egg=kfmd&subdirectory=sdk/python in /home/jovyan/.local/lib/python3.6/site-packages\n",
      "Requirement already satisfied: ml-metadata==0.21.1 in /home/jovyan/.local/lib/python3.6/site-packages (from kubeflow-metadata) (0.21.1)\n",
      "Requirement already satisfied: retrying in /home/jovyan/.local/lib/python3.6/site-packages (from kubeflow-metadata) (1.3.3)\n",
      "Requirement already satisfied: absl-py<1,>=0.7 in /usr/local/lib/python3.6/dist-packages (from ml-metadata==0.21.1->kubeflow-metadata) (0.9.0)\n",
      "Requirement already satisfied: six<2,>=1.10 in /home/jovyan/.local/lib/python3.6/site-packages (from ml-metadata==0.21.1->kubeflow-metadata) (1.14.0)\n",
      "Requirement already satisfied: protobuf<4,>=3.7 in /home/jovyan/.local/lib/python3.6/site-packages (from ml-metadata==0.21.1->kubeflow-metadata) (3.11.3)\n",
      "Requirement already satisfied: tensorflow!=2.0.*,<3,>=1.15 in /home/jovyan/.local/lib/python3.6/site-packages (from ml-metadata==0.21.1->kubeflow-metadata) (2.1.0)\n",
      "Requirement already satisfied: setuptools in /home/jovyan/.local/lib/python3.6/site-packages (from protobuf<4,>=3.7->ml-metadata==0.21.1->kubeflow-metadata) (46.1.3)\n",
      "Requirement already satisfied: keras-preprocessing>=1.1.0 in /usr/local/lib/python3.6/dist-packages (from tensorflow!=2.0.*,<3,>=1.15->ml-metadata==0.21.1->kubeflow-metadata) (1.1.0)\n",
      "Requirement already satisfied: gast==0.2.2 in /usr/local/lib/python3.6/dist-packages (from tensorflow!=2.0.*,<3,>=1.15->ml-metadata==0.21.1->kubeflow-metadata) (0.2.2)\n",
      "Requirement already satisfied: numpy<2.0,>=1.16.0 in /home/jovyan/.local/lib/python3.6/site-packages (from tensorflow!=2.0.*,<3,>=1.15->ml-metadata==0.21.1->kubeflow-metadata) (1.16.4)\n",
      "Requirement already satisfied: opt-einsum>=2.3.2 in /usr/local/lib/python3.6/dist-packages (from tensorflow!=2.0.*,<3,>=1.15->ml-metadata==0.21.1->kubeflow-metadata) (3.1.0)\n",
      "Requirement already satisfied: keras-applications>=1.0.8 in /usr/local/lib/python3.6/dist-packages (from tensorflow!=2.0.*,<3,>=1.15->ml-metadata==0.21.1->kubeflow-metadata) (1.0.8)\n",
      "Requirement already satisfied: wrapt>=1.11.1 in /usr/local/lib/python3.6/dist-packages (from tensorflow!=2.0.*,<3,>=1.15->ml-metadata==0.21.1->kubeflow-metadata) (1.11.2)\n",
      "Requirement already satisfied: termcolor>=1.1.0 in /usr/local/lib/python3.6/dist-packages (from tensorflow!=2.0.*,<3,>=1.15->ml-metadata==0.21.1->kubeflow-metadata) (1.1.0)\n",
      "Requirement already satisfied: astor>=0.6.0 in /usr/local/lib/python3.6/dist-packages (from tensorflow!=2.0.*,<3,>=1.15->ml-metadata==0.21.1->kubeflow-metadata) (0.8.1)\n",
      "Requirement already satisfied: tensorflow-estimator<2.2.0,>=2.1.0rc0 in /home/jovyan/.local/lib/python3.6/site-packages (from tensorflow!=2.0.*,<3,>=1.15->ml-metadata==0.21.1->kubeflow-metadata) (2.1.0)\n",
      "Requirement already satisfied: wheel>=0.26; python_version >= \"3\" in /usr/lib/python3/dist-packages (from tensorflow!=2.0.*,<3,>=1.15->ml-metadata==0.21.1->kubeflow-metadata) (0.30.0)\n",
      "Requirement already satisfied: grpcio>=1.8.6 in /usr/local/lib/python3.6/dist-packages (from tensorflow!=2.0.*,<3,>=1.15->ml-metadata==0.21.1->kubeflow-metadata) (1.26.0)\n",
      "Requirement already satisfied: google-pasta>=0.1.6 in /usr/local/lib/python3.6/dist-packages (from tensorflow!=2.0.*,<3,>=1.15->ml-metadata==0.21.1->kubeflow-metadata) (0.1.8)\n",
      "Requirement already satisfied: scipy==1.4.1; python_version >= \"3\" in /home/jovyan/.local/lib/python3.6/site-packages (from tensorflow!=2.0.*,<3,>=1.15->ml-metadata==0.21.1->kubeflow-metadata) (1.4.1)\n",
      "Requirement already satisfied: tensorboard<2.2.0,>=2.1.0 in /home/jovyan/.local/lib/python3.6/site-packages (from tensorflow!=2.0.*,<3,>=1.15->ml-metadata==0.21.1->kubeflow-metadata) (2.1.1)\n",
      "Requirement already satisfied: h5py in /usr/local/lib/python3.6/dist-packages (from keras-applications>=1.0.8->tensorflow!=2.0.*,<3,>=1.15->ml-metadata==0.21.1->kubeflow-metadata) (2.10.0)\n",
      "Requirement already satisfied: markdown>=2.6.8 in /usr/local/lib/python3.6/dist-packages (from tensorboard<2.2.0,>=2.1.0->tensorflow!=2.0.*,<3,>=1.15->ml-metadata==0.21.1->kubeflow-metadata) (3.1.1)\n",
      "Requirement already satisfied: google-auth-oauthlib<0.5,>=0.4.1 in /home/jovyan/.local/lib/python3.6/site-packages (from tensorboard<2.2.0,>=2.1.0->tensorflow!=2.0.*,<3,>=1.15->ml-metadata==0.21.1->kubeflow-metadata) (0.4.1)\n",
      "Requirement already satisfied: werkzeug>=0.11.15 in /home/jovyan/.local/lib/python3.6/site-packages (from tensorboard<2.2.0,>=2.1.0->tensorflow!=2.0.*,<3,>=1.15->ml-metadata==0.21.1->kubeflow-metadata) (0.15.2)\n",
      "Requirement already satisfied: google-auth<2,>=1.6.3 in /home/jovyan/.local/lib/python3.6/site-packages (from tensorboard<2.2.0,>=2.1.0->tensorflow!=2.0.*,<3,>=1.15->ml-metadata==0.21.1->kubeflow-metadata) (1.13.1)\n",
      "Requirement already satisfied: requests<3,>=2.21.0 in /home/jovyan/.local/lib/python3.6/site-packages (from tensorboard<2.2.0,>=2.1.0->tensorflow!=2.0.*,<3,>=1.15->ml-metadata==0.21.1->kubeflow-metadata) (2.22.0)\n",
      "Requirement already satisfied: requests-oauthlib>=0.7.0 in /home/jovyan/.local/lib/python3.6/site-packages (from google-auth-oauthlib<0.5,>=0.4.1->tensorboard<2.2.0,>=2.1.0->tensorflow!=2.0.*,<3,>=1.15->ml-metadata==0.21.1->kubeflow-metadata) (1.2.0)\n",
      "Requirement already satisfied: pyasn1-modules>=0.2.1 in /home/jovyan/.local/lib/python3.6/site-packages (from google-auth<2,>=1.6.3->tensorboard<2.2.0,>=2.1.0->tensorflow!=2.0.*,<3,>=1.15->ml-metadata==0.21.1->kubeflow-metadata) (0.2.5)\n",
      "Requirement already satisfied: cachetools<5.0,>=2.0.0 in /home/jovyan/.local/lib/python3.6/site-packages (from google-auth<2,>=1.6.3->tensorboard<2.2.0,>=2.1.0->tensorflow!=2.0.*,<3,>=1.15->ml-metadata==0.21.1->kubeflow-metadata) (3.1.1)\n",
      "Requirement already satisfied: rsa<4.1,>=3.1.4 in /home/jovyan/.local/lib/python3.6/site-packages (from google-auth<2,>=1.6.3->tensorboard<2.2.0,>=2.1.0->tensorflow!=2.0.*,<3,>=1.15->ml-metadata==0.21.1->kubeflow-metadata) (4.0)\n",
      "Requirement already satisfied: idna<2.9,>=2.5 in /home/jovyan/.local/lib/python3.6/site-packages (from requests<3,>=2.21.0->tensorboard<2.2.0,>=2.1.0->tensorflow!=2.0.*,<3,>=1.15->ml-metadata==0.21.1->kubeflow-metadata) (2.8)\n",
      "Requirement already satisfied: chardet<3.1.0,>=3.0.2 in /home/jovyan/.local/lib/python3.6/site-packages (from requests<3,>=2.21.0->tensorboard<2.2.0,>=2.1.0->tensorflow!=2.0.*,<3,>=1.15->ml-metadata==0.21.1->kubeflow-metadata) (3.0.4)\n",
      "Requirement already satisfied: urllib3!=1.25.0,!=1.25.1,<1.26,>=1.21.1 in /home/jovyan/.local/lib/python3.6/site-packages (from requests<3,>=2.21.0->tensorboard<2.2.0,>=2.1.0->tensorflow!=2.0.*,<3,>=1.15->ml-metadata==0.21.1->kubeflow-metadata) (1.24.3)\n",
      "Requirement already satisfied: certifi>=2017.4.17 in /home/jovyan/.local/lib/python3.6/site-packages (from requests<3,>=2.21.0->tensorboard<2.2.0,>=2.1.0->tensorflow!=2.0.*,<3,>=1.15->ml-metadata==0.21.1->kubeflow-metadata) (2019.3.9)\n",
      "Requirement already satisfied: oauthlib>=3.0.0 in /home/jovyan/.local/lib/python3.6/site-packages (from requests-oauthlib>=0.7.0->google-auth-oauthlib<0.5,>=0.4.1->tensorboard<2.2.0,>=2.1.0->tensorflow!=2.0.*,<3,>=1.15->ml-metadata==0.21.1->kubeflow-metadata) (3.0.1)\n",
      "Requirement already satisfied: pyasn1<0.5.0,>=0.4.1 in /home/jovyan/.local/lib/python3.6/site-packages (from pyasn1-modules>=0.2.1->google-auth<2,>=1.6.3->tensorboard<2.2.0,>=2.1.0->tensorflow!=2.0.*,<3,>=1.15->ml-metadata==0.21.1->kubeflow-metadata) (0.4.5)\n",
      "Building wheels for collected packages: kubeflow-metadata, kubeflow-metadata\n",
      "  Building wheel for kubeflow-metadata (setup.py) ... \u001b[?25ldone\n",
      "\u001b[?25h  Created wheel for kubeflow-metadata: filename=kubeflow_metadata-0.3.1-cp36-none-any.whl size=12520 sha256=e5c79dff8ab0b2c441c23e263792617e78447a785b9929e2aa08e9bd2f50ec30\n",
      "  Stored in directory: /tmp/pip-ephem-wheel-cache-v9xc7mlu/wheels/b0/95/87/cee3c10b4603782af6a567f97cd87528873f5df9418223abba\n",
      "  Building wheel for kubeflow-metadata (setup.py) ... \u001b[?25lerror\n",
      "\u001b[31m  ERROR: Command errored out with exit status 1:\n",
      "   command: /usr/bin/python3 -u -c 'import sys, setuptools, tokenize; sys.argv[0] = '\"'\"'/tmp/pip-install-tk7n969n/kubeflow-metadata/setup.py'\"'\"'; __file__='\"'\"'/tmp/pip-install-tk7n969n/kubeflow-metadata/setup.py'\"'\"';f=getattr(tokenize, '\"'\"'open'\"'\"', open)(__file__);code=f.read().replace('\"'\"'\\r\\n'\"'\"', '\"'\"'\\n'\"'\"');f.close();exec(compile(code, __file__, '\"'\"'exec'\"'\"'))' bdist_wheel -d /tmp/pip-wheel-qkxfzyvz --python-tag cp36\n",
      "       cwd: /tmp/pip-install-tk7n969n/kubeflow-metadata/\n",
      "  Complete output (5 lines):\n",
      "  Traceback (most recent call last):\n",
      "    File \"<string>\", line 1, in <module>\n",
      "    File \"/usr/lib/python3.6/tokenize.py\", line 452, in open\n",
      "      buffer = _builtin_open(filename, 'rb')\n",
      "  FileNotFoundError: [Errno 2] No such file or directory: '/tmp/pip-install-tk7n969n/kubeflow-metadata/setup.py'\n",
      "  ----------------------------------------\u001b[0m\n",
      "\u001b[31m  ERROR: Failed building wheel for kubeflow-metadata\u001b[0m\n",
      "\u001b[?25h  Running setup.py clean for kubeflow-metadata\n",
      "\u001b[31m  ERROR: Command errored out with exit status 1:\n",
      "   command: /usr/bin/python3 -u -c 'import sys, setuptools, tokenize; sys.argv[0] = '\"'\"'/tmp/pip-install-tk7n969n/kubeflow-metadata/setup.py'\"'\"'; __file__='\"'\"'/tmp/pip-install-tk7n969n/kubeflow-metadata/setup.py'\"'\"';f=getattr(tokenize, '\"'\"'open'\"'\"', open)(__file__);code=f.read().replace('\"'\"'\\r\\n'\"'\"', '\"'\"'\\n'\"'\"');f.close();exec(compile(code, __file__, '\"'\"'exec'\"'\"'))' clean --all\n",
      "       cwd: /tmp/pip-install-tk7n969n/kubeflow-metadata\n",
      "  Complete output (5 lines):\n",
      "  Traceback (most recent call last):\n",
      "    File \"<string>\", line 1, in <module>\n",
      "    File \"/usr/lib/python3.6/tokenize.py\", line 452, in open\n",
      "      buffer = _builtin_open(filename, 'rb')\n",
      "  FileNotFoundError: [Errno 2] No such file or directory: '/tmp/pip-install-tk7n969n/kubeflow-metadata/setup.py'\n",
      "  ----------------------------------------\u001b[0m\n",
      "\u001b[31m  ERROR: Failed cleaning build dir for kubeflow-metadata\u001b[0m\n",
      "Successfully built kubeflow-metadata\n",
      "Failed to build kubeflow-metadata\n",
      "\u001b[33mWARNING: You are using pip version 19.3.1; however, version 20.0.2 is available.\n",
      "You should consider upgrading via the 'pip install --upgrade pip' command.\u001b[0m\n"
     ]
    }
   ],
   "source": [
    "# Install mlmd sdk\n",
    "!pip install --user \"git+git://github.com/kubeflow/metadata.git#egg=kfmd&subdirectory=sdk/python\""
   ]
  },
  {
   "cell_type": "markdown",
   "metadata": {},
   "source": [
    "## Train a model"
   ]
  },
  {
   "cell_type": "code",
   "execution_count": 65,
   "metadata": {},
   "outputs": [],
   "source": [
    "# fairing:include-cell\n",
    "import sys\n",
    "from label_microservice.repo_config import RepoConfig\n",
    "from label_microservice.mlp import MLPWrapper\n",
    "from sklearn.neural_network import MLPClassifier\n",
    "import dill as dpickle\n",
    "import os\n",
    "import yaml\n",
    "from google.cloud import storage\n",
    "import requests\n",
    "import json\n",
    "import numpy as np\n",
    "from passlib.apps import custom_app_context as pwd_context\n",
    "from collections import Counter\n",
    "from kubeflow import metadata\n",
    "import  datetime\n",
    "import logging\n",
    "import pandas as pd"
   ]
  },
  {
   "cell_type": "markdown",
   "metadata": {},
   "source": [
    "## Load the training data\n",
    "\n",
    "* The data should be stored in GCS in an HDF5 file"
   ]
  },
  {
   "cell_type": "code",
   "execution_count": 6,
   "metadata": {},
   "outputs": [
    {
     "name": "stderr",
     "output_type": "stream",
     "text": [
      "File /home/jovyan/data/kubeflow_issue_embeddings_2020-04-11T17:15:10.000876-07:00.hdf5 already exists\n"
     ]
    }
   ],
   "source": [
    "from code_intelligence import gcs_util\n",
    "\n",
    "embeddings_file = \"gs://repo-embeddings/kubeflow/2020_0428/kubeflow_issue_embeddings_2020-04-11T17:15:10.000876-07:00.hdf5\"\n",
    "name = os.path.basename(embeddings_file)\n",
    "\n",
    "data_dir = os.path.join(home, \"data\")\n",
    "\n",
    "if not os.path.exists(data_dir):\n",
    "    os.makedirs(data_dir)\n",
    "    \n",
    "local_file = os.path.join(data_dir, name)\n",
    "\n",
    "if not os.path.exists(local_file):\n",
    "    gcs_util.copy_file(embeddings_file, local_file)\n",
    "else:\n",
    "    logging.info(f\"File {local_file} already exists\")"
   ]
  },
  {
   "cell_type": "code",
   "execution_count": 7,
   "metadata": {},
   "outputs": [],
   "source": [
    "import h5py\n",
    "h5_file = h5py.File(local_file, mode=\"r\")"
   ]
  },
  {
   "cell_type": "code",
   "execution_count": 8,
   "metadata": {},
   "outputs": [
    {
     "name": "stderr",
     "output_type": "stream",
     "text": [
      "/home/jovyan/.local/lib/python3.6/site-packages/ipykernel_launcher.py:1: H5pyDeprecationWarning: dataset.value has been deprecated. Use dataset[()] instead.\n",
      "  \"\"\"Entry point for launching an IPython kernel.\n"
     ]
    }
   ],
   "source": [
    "issue_embeddings = h5_file[\"issue_embeddings\"].value\n",
    "issues = pd.read_hdf(local_file, \"issues\")"
   ]
  },
  {
   "cell_type": "markdown",
   "metadata": {},
   "source": [
    "## Compute a historgram of label frequency\n"
   ]
  },
  {
   "cell_type": "code",
   "execution_count": 9,
   "metadata": {},
   "outputs": [],
   "source": [
    "label_counts = Counter()\n",
    "\n",
    "for r in range(issues.shape[0]):\n",
    "    label_counts.update(issues.iloc[r][\"parsed_labels\"])\n"
   ]
  },
  {
   "cell_type": "code",
   "execution_count": 10,
   "metadata": {},
   "outputs": [],
   "source": [
    "#label_counts_df = pd.DataFrame({\"label\": label_counts.keys(), \"count\": label_counts.values()})\n",
    "label_counts_df = pd.DataFrame(label_counts.items(), columns=[\"label\", \"count\"])"
   ]
  },
  {
   "cell_type": "code",
   "execution_count": 11,
   "metadata": {},
   "outputs": [],
   "source": [
    "label_counts_df.sort_values(\"count\", ascending=False, inplace=True)\n"
   ]
  },
  {
   "cell_type": "code",
   "execution_count": 12,
   "metadata": {},
   "outputs": [],
   "source": [
    "label_counts_df[\"index\"] = range(label_counts_df.shape[0])"
   ]
  },
  {
   "cell_type": "code",
   "execution_count": 13,
   "metadata": {
    "jupyter": {
     "source_hidden": true
    }
   },
   "outputs": [
    {
     "data": {
      "text/html": [
       "\n",
       "<div id=\"altair-viz-fa704f7b179449e6bbc9b84e2eed7f66\"></div>\n",
       "<script type=\"text/javascript\">\n",
       "  (function(spec, embedOpt){\n",
       "    const outputDiv = document.getElementById(\"altair-viz-fa704f7b179449e6bbc9b84e2eed7f66\");\n",
       "    const paths = {\n",
       "      \"vega\": \"https://cdn.jsdelivr.net/npm//vega@5?noext\",\n",
       "      \"vega-lib\": \"https://cdn.jsdelivr.net/npm//vega-lib?noext\",\n",
       "      \"vega-lite\": \"https://cdn.jsdelivr.net/npm//vega-lite@4.0.2?noext\",\n",
       "      \"vega-embed\": \"https://cdn.jsdelivr.net/npm//vega-embed@6?noext\",\n",
       "    };\n",
       "\n",
       "    function loadScript(lib) {\n",
       "      return new Promise(function(resolve, reject) {\n",
       "        var s = document.createElement('script');\n",
       "        s.src = paths[lib];\n",
       "        s.async = true;\n",
       "        s.onload = () => resolve(paths[lib]);\n",
       "        s.onerror = () => reject(`Error loading script: ${paths[lib]}`);\n",
       "        document.getElementsByTagName(\"head\")[0].appendChild(s);\n",
       "      });\n",
       "    }\n",
       "\n",
       "    function showError(err) {\n",
       "      outputDiv.innerHTML = `<div class=\"error\" style=\"color:red;\">${err}</div>`;\n",
       "      throw err;\n",
       "    }\n",
       "\n",
       "    function displayChart(vegaEmbed) {\n",
       "      vegaEmbed(outputDiv, spec, embedOpt)\n",
       "        .catch(err => showError(`Javascript Error: ${err.message}<br>This usually means there's a typo in your chart specification. See the javascript console for the full traceback.`));\n",
       "    }\n",
       "\n",
       "    if(typeof define === \"function\" && define.amd) {\n",
       "      requirejs.config({paths});\n",
       "      require([\"vega-embed\"], displayChart, err => showError(`Error loading script: ${err.message}`));\n",
       "    } else if (typeof vegaEmbed === \"function\") {\n",
       "      displayChart(vegaEmbed);\n",
       "    } else {\n",
       "      loadScript(\"vega\")\n",
       "        .then(() => loadScript(\"vega-lite\"))\n",
       "        .then(() => loadScript(\"vega-embed\"))\n",
       "        .catch(showError)\n",
       "        .then(() => displayChart(vegaEmbed));\n",
       "    }\n",
       "  })({\"config\": {\"view\": {\"continuousWidth\": 400, \"continuousHeight\": 300}}, \"data\": {\"name\": \"data-18ad698a8d7ebfdc159d0ff638c2840e\"}, \"mark\": \"bar\", \"encoding\": {\"x\": {\"type\": \"nominal\", \"field\": \"label\", \"sort\": \"-y\"}, \"y\": {\"type\": \"quantitative\", \"field\": \"count\"}}, \"selection\": {\"selector001\": {\"type\": \"interval\", \"bind\": \"scales\", \"encodings\": [\"x\", \"y\"]}}, \"$schema\": \"https://vega.github.io/schema/vega-lite/v4.0.2.json\", \"datasets\": {\"data-18ad698a8d7ebfdc159d0ff638c2840e\": [{\"label\": \"priority/p1\", \"count\": 1639, \"index\": 0}, {\"label\": \"kind/bug\", \"count\": 1598, \"index\": 1}, {\"label\": \"kind/feature\", \"count\": 1270, \"index\": 2}, {\"label\": \"priority/p2\", \"count\": 1053, \"index\": 3}, {\"label\": \"lifecycle/stale\", \"count\": 758, \"index\": 4}, {\"label\": \"priority/p0\", \"count\": 622, \"index\": 5}, {\"label\": \"area/kfctl\", \"count\": 429, \"index\": 6}, {\"label\": \"area/jupyter\", \"count\": 328, \"index\": 7}, {\"label\": \"area/docs\", \"count\": 313, \"index\": 8}, {\"label\": \"help wanted\", \"count\": 297, \"index\": 9}, {\"label\": \"area/testing\", \"count\": 286, \"index\": 10}, {\"label\": \"area/front-end\", \"count\": 277, \"index\": 11}, {\"label\": \"platform/gcp\", \"count\": 276, \"index\": 12}, {\"label\": \"kind/question\", \"count\": 258, \"index\": 13}, {\"label\": \"improvement/enhancement\", \"count\": 247, \"index\": 14}, {\"label\": \"community/question\", \"count\": 240, \"index\": 15}, {\"label\": \"area/0.4.0\", \"count\": 174, \"index\": 16}, {\"label\": \"release/0.3.0\", \"count\": 153, \"index\": 17}, {\"label\": \"status/triaged\", \"count\": 152, \"index\": 18}, {\"label\": \"good first issue\", \"count\": 138, \"index\": 19}, {\"label\": \"doc-sprint\", \"count\": 136, \"index\": 20}, {\"label\": \"area/frontend\", \"count\": 121, \"index\": 21}, {\"label\": \"area/engprod\", \"count\": 113, \"index\": 22}, {\"label\": \"area/inference\", \"count\": 101, \"index\": 23}, {\"label\": \"area/pipelines\", \"count\": 99, \"index\": 24}, {\"label\": \"area/bootstrap\", \"count\": 85, \"index\": 25}, {\"label\": \"api/v1alpha2\", \"count\": 82, \"index\": 26}, {\"label\": \"area/sdk\", \"count\": 79, \"index\": 27}, {\"label\": \"area/tfjob\", \"count\": 76, \"index\": 28}, {\"label\": \"area/backend\", \"count\": 72, \"index\": 29}, {\"label\": \"priority/p3\", \"count\": 71, \"index\": 30}, {\"label\": \"area/sdk/dsl\", \"count\": 71, \"index\": 31}, {\"label\": \"kind/process\", \"count\": 69, \"index\": 32}, {\"label\": \"area/centraldashboard\", \"count\": 68, \"index\": 33}, {\"label\": \"area/build-release\", \"count\": 67, \"index\": 34}, {\"label\": \"feature\", \"count\": 67, \"index\": 35}, {\"label\": \"area/example/code_search\", \"count\": 65, \"index\": 36}, {\"label\": \"area/operator\", \"count\": 59, \"index\": 37}, {\"label\": \"area/samples\", \"count\": 58, \"index\": 38}, {\"label\": \"area/sdk/dsl/compiler\", \"count\": 57, \"index\": 39}, {\"label\": \"area/components\", \"count\": 56, \"index\": 40}, {\"label\": \"testing\", \"count\": 56, \"index\": 41}, {\"label\": \"area/kustomize\", \"count\": 56, \"index\": 42}, {\"label\": \"area/1.0.0\", \"count\": 55, \"index\": 43}, {\"label\": \"release/0.2.0\", \"count\": 55, \"index\": 44}, {\"label\": \"area/0.5.0\", \"count\": 54, \"index\": 45}, {\"label\": \"platform/aws\", \"count\": 53, \"index\": 46}, {\"label\": \"area/katib\", \"count\": 52, \"index\": 47}, {\"label\": \"addition/feature\", \"count\": 50, \"index\": 48}, {\"label\": \"area/api\", \"count\": 48, \"index\": 49}, {\"label\": \"area/back-end\", \"count\": 47, \"index\": 50}, {\"label\": \"feature_request\", \"count\": 46, \"index\": 51}, {\"label\": \"kind/discussion\", \"count\": 42, \"index\": 52}, {\"label\": \"area/enterprise_readiness\", \"count\": 41, \"index\": 53}, {\"label\": \"kind/enhancement\", \"count\": 40, \"index\": 54}, {\"label\": \"community/discussion\", \"count\": 40, \"index\": 55}, {\"label\": \"cuj/multi-user\", \"count\": 39, \"index\": 56}, {\"label\": \"cuj/build-train-deploy\", \"count\": 36, \"index\": 57}, {\"label\": \"area/0.3.0\", \"count\": 35, \"index\": 58}, {\"label\": \"area/metadata\", \"count\": 35, \"index\": 59}, {\"label\": \"platform/minikube\", \"count\": 33, \"index\": 60}, {\"label\": \"area/sdk/client\", \"count\": 33, \"index\": 61}, {\"label\": \"area/istio\", \"count\": 32, \"index\": 62}, {\"label\": \"lifecycle/frozen\", \"count\": 31, \"index\": 63}, {\"label\": \"area/ksonnet\", \"count\": 31, \"index\": 64}, {\"label\": \"area/example/issue_summarization\", \"count\": 31, \"index\": 65}, {\"label\": \"area/sdk/components\", \"count\": 31, \"index\": 66}, {\"label\": \"problems/bug\", \"count\": 29, \"index\": 67}, {\"label\": \"area/gcp\", \"count\": 26, \"index\": 68}, {\"label\": \"inference\", \"count\": 23, \"index\": 69}, {\"label\": \"area/0.6.0\", \"count\": 23, \"index\": 70}, {\"label\": \"effort/3-days\", \"count\": 23, \"index\": 71}, {\"label\": \"platform/onprem\", \"count\": 23, \"index\": 72}, {\"label\": \"sprint/2018-06-11-to-06-22\", \"count\": 22, \"index\": 73}, {\"label\": \"release/v1.0\", \"count\": 21, \"index\": 74}, {\"label\": \"release/v0.6\", \"count\": 21, \"index\": 75}, {\"label\": \"area/example\", \"count\": 19, \"index\": 76}, {\"label\": \"area/project-health\", \"count\": 19, \"index\": 77}, {\"label\": \"sprint/2018-07-09-to-07-20\", \"count\": 19, \"index\": 78}, {\"label\": \"effort/1-days\", \"count\": 18, \"index\": 79}, {\"label\": \"platform/other\", \"count\": 18, \"index\": 80}, {\"label\": \"area/deployment\", \"count\": 18, \"index\": 81}, {\"label\": \"area/docs-ux\", \"count\": 17, \"index\": 82}, {\"label\": \"sprint/2018-05-29-to-06-08\", \"count\": 17, \"index\": 83}, {\"label\": \"platform/azure\", \"count\": 17, \"index\": 84}, {\"label\": \"improvement/optimization\", \"count\": 17, \"index\": 85}, {\"label\": \"triaged\", \"count\": 16, \"index\": 86}, {\"label\": \"area/multiuser\", \"count\": 16, \"index\": 87}, {\"label\": \"difficulty/low\", \"count\": 16, \"index\": 88}, {\"label\": \"bug\", \"count\": 16, \"index\": 89}, {\"label\": \"area/fairing\", \"count\": 16, \"index\": 90}, {\"label\": \"release/0.2.1\", \"count\": 15, \"index\": 91}, {\"label\": \"area/example/mnist\", \"count\": 15, \"index\": 92}, {\"label\": \"area/auth\", \"count\": 15, \"index\": 93}, {\"label\": \"area/samples/notebooks\", \"count\": 15, \"index\": 94}, {\"label\": \"needs investigation\", \"count\": 14, \"index\": 95}, {\"label\": \"area/pytorch\", \"count\": 14, \"index\": 96}, {\"label\": \"area/openmpi\", \"count\": 14, \"index\": 97}, {\"label\": \"kind/misc\", \"count\": 13, \"index\": 98}, {\"label\": \"area/usage\", \"count\": 13, \"index\": 99}, {\"label\": \"area/examples\", \"count\": 13, \"index\": 100}, {\"label\": \"release/v0.7\", \"count\": 13, \"index\": 101}, {\"label\": \"area/suggestion\", \"count\": 13, \"index\": 102}, {\"label\": \"area/nas\", \"count\": 13, \"index\": 103}, {\"label\": \"effort/5-days\", \"count\": 12, \"index\": 104}, {\"label\": \"sprint/2018-06-25-to-07-06\", \"count\": 12, \"index\": 105}, {\"label\": \"platform/microk8s\", \"count\": 12, \"index\": 106}, {\"label\": \"area/sdk/component_build\", \"count\": 12, \"index\": 107}, {\"label\": \"area/logging\", \"count\": 11, \"index\": 108}, {\"label\": \"difficulty/medium\", \"count\": 11, \"index\": 109}, {\"label\": \"enhancement\", \"count\": 11, \"index\": 110}, {\"label\": \"area/example/object_detection\", \"count\": 10, \"index\": 111}, {\"label\": \"starter\", \"count\": 10, \"index\": 112}, {\"label\": \"question\", \"count\": 10, \"index\": 113}, {\"label\": \"upstream_issue\", \"count\": 10, \"index\": 114}, {\"label\": \"area/gsoc\", \"count\": 9, \"index\": 115}, {\"label\": \"area/0.3.1\", \"count\": 9, \"index\": 116}, {\"label\": \"0.7.0\", \"count\": 9, \"index\": 117}, {\"label\": \"effort/2-weeks\", \"count\": 9, \"index\": 118}, {\"label\": \"area/tfx\", \"count\": 9, \"index\": 119}, {\"label\": \"area/ambassador\", \"count\": 8, \"index\": 120}, {\"label\": \"sdk/containers\", \"count\": 8, \"index\": 121}, {\"label\": \"cuj/landing-page\", \"count\": 8, \"index\": 122}, {\"label\": \"area/infrastructure-feature\", \"count\": 8, \"index\": 123}, {\"label\": \"cuj/hp-tuning\", \"count\": 8, \"index\": 124}, {\"label\": \"area/example/issue_summarization/codelab\", \"count\": 8, \"index\": 125}, {\"label\": \"area/deployment/standalone\", \"count\": 8, \"index\": 126}, {\"label\": \"area/design\", \"count\": 8, \"index\": 127}, {\"label\": \"area/sdk/components/python_container_op\", \"count\": 8, \"index\": 128}, {\"label\": \"area/deployment/kubeflow\", \"count\": 8, \"index\": 129}, {\"label\": \"api/v1alpha1\", \"count\": 8, \"index\": 130}, {\"label\": \"Feature\", \"count\": 8, \"index\": 131}, {\"label\": \"area/deployment/marketplace\", \"count\": 8, \"index\": 132}, {\"label\": \"area/wide-impact\", \"count\": 7, \"index\": 133}, {\"label\": \"area/devices\", \"count\": 7, \"index\": 134}, {\"label\": \"area/API\", \"count\": 7, \"index\": 135}, {\"label\": \"kind/api-change\", \"count\": 6, \"index\": 136}, {\"label\": \"cloud/gke\", \"count\": 6, \"index\": 137}, {\"label\": \"difficulty/hard\", \"count\": 6, \"index\": 138}, {\"label\": \"area/cli\", \"count\": 6, \"index\": 139}, {\"label\": \"area/mlmd\", \"count\": 6, \"index\": 140}, {\"label\": \"area/seldon\", \"count\": 5, \"index\": 141}, {\"label\": \"effort/1-day\", \"count\": 5, \"index\": 142}, {\"label\": \"wtd-fixit\", \"count\": 5, \"index\": 143}, {\"label\": \"area/release\", \"count\": 5, \"index\": 144}, {\"label\": \"area/0.2.0\", \"count\": 5, \"index\": 145}, {\"label\": \"area/gpu\", \"count\": 5, \"index\": 146}, {\"label\": \"area/lifecycle\", \"count\": 5, \"index\": 147}, {\"label\": \"ux-bug\", \"count\": 5, \"index\": 148}, {\"label\": \"platform/openshift\", \"count\": 5, \"index\": 149}, {\"label\": \"sprint/2018-07-23-to-08-03\", \"count\": 5, \"index\": 150}, {\"label\": \"area/flaky-test\", \"count\": 5, \"index\": 151}, {\"label\": \"kind/investigate\", \"count\": 5, \"index\": 152}, {\"label\": \"area/training\", \"count\": 4, \"index\": 153}, {\"label\": \"urgency/medium\", \"count\": 4, \"index\": 154}, {\"label\": \"urgency/high\", \"count\": 4, \"index\": 155}, {\"label\": \"size/S\", \"count\": 4, \"index\": 156}, {\"label\": \"area/labelbot\", \"count\": 4, \"index\": 157}, {\"label\": \"kind/e2e-test-failure\", \"count\": 4, \"index\": 158}, {\"label\": \"area/developer-ux\", \"count\": 4, \"index\": 159}, {\"label\": \"status/wip\", \"count\": 4, \"index\": 160}, {\"label\": \"area/security\", \"count\": 4, \"index\": 161}, {\"label\": \"area/metadata-api\", \"count\": 4, \"index\": 162}, {\"label\": \"size/XS\", \"count\": 4, \"index\": 163}, {\"label\": \"area/code-health\", \"count\": 4, \"index\": 164}, {\"label\": \"area/persist-agent\", \"count\": 4, \"index\": 165}, {\"label\": \"area/frameworks\", \"count\": 4, \"index\": 166}, {\"label\": \"area/JupyterHub\", \"count\": 4, \"index\": 167}, {\"label\": \"area/profile\", \"count\": 4, \"index\": 168}, {\"label\": \"platform/minikf\", \"count\": 4, \"index\": 169}, {\"label\": \"duplicate\", \"count\": 4, \"index\": 170}, {\"label\": \"kind/documentation\", \"count\": 4, \"index\": 171}, {\"label\": \"area/standards\", \"count\": 4, \"index\": 172}, {\"label\": \"area/0.7.0\", \"count\": 3, \"index\": 173}, {\"label\": \"area/kf\", \"count\": 3, \"index\": 174}, {\"label\": \"area/ux\", \"count\": 3, \"index\": 175}, {\"label\": \"faq\", \"count\": 3, \"index\": 176}, {\"label\": \"area/api/v1beta1\", \"count\": 3, \"index\": 177}, {\"label\": \"ux-improvements\", \"count\": 3, \"index\": 178}, {\"label\": \"area/authentication\", \"count\": 3, \"index\": 179}, {\"label\": \"area/model-management\", \"count\": 3, \"index\": 180}, {\"label\": \"area/ml-feature\", \"count\": 3, \"index\": 181}, {\"label\": \"high-impact\", \"count\": 3, \"index\": 182}, {\"label\": \"area/documentation\", \"count\": 3, \"index\": 183}, {\"label\": \"os/windows\", \"count\": 3, \"index\": 184}, {\"label\": \"area/applications\", \"count\": 3, \"index\": 185}, {\"label\": \"platform/docker\", \"count\": 3, \"index\": 186}, {\"label\": \"area/0.3.3\", \"count\": 3, \"index\": 187}, {\"label\": \"problems/k8s\", \"count\": 3, \"index\": 188}, {\"label\": \"area/example/xgboost\", \"count\": 3, \"index\": 189}, {\"label\": \"release/0.4.0\", \"count\": 3, \"index\": 190}, {\"label\": \"area/demo/yelp_demo\", \"count\": 3, \"index\": 191}, {\"label\": \"upgrade\", \"count\": 3, \"index\": 192}, {\"label\": \"platform/ibm\", \"count\": 3, \"index\": 193}, {\"label\": \"community/maintenance\", \"count\": 3, \"index\": 194}, {\"label\": \"effort/2-weeks+\", \"count\": 3, \"index\": 195}, {\"label\": \"area/manager\", \"count\": 2, \"index\": 196}, {\"label\": \"platform/power\", \"count\": 2, \"index\": 197}, {\"label\": \"area/horovod\", \"count\": 2, \"index\": 198}, {\"label\": \"area/airgapped\", \"count\": 2, \"index\": 199}, {\"label\": \"area/development\", \"count\": 2, \"index\": 200}, {\"label\": \"area/katib-v1alpha2\", \"count\": 2, \"index\": 201}, {\"label\": \"area/deployment/gpu\", \"count\": 2, \"index\": 202}, {\"label\": \"improvement/usability\", \"count\": 2, \"index\": 203}, {\"label\": \"area/performance\", \"count\": 2, \"index\": 204}, {\"label\": \"0.4.0\", \"count\": 2, \"index\": 205}, {\"label\": \"area/openvino\", \"count\": 2, \"index\": 206}, {\"label\": \"WIP\", \"count\": 2, \"index\": 207}, {\"label\": \"blocked\", \"count\": 2, \"index\": 208}, {\"label\": \"kind/code-quality\", \"count\": 2, \"index\": 209}, {\"label\": \"area/on-prem\", \"count\": 2, \"index\": 210}, {\"label\": \"approved\", \"count\": 2, \"index\": 211}, {\"label\": \"area/kfserving\", \"count\": 2, \"index\": 212}, {\"label\": \"area/crd/viewer\", \"count\": 2, \"index\": 213}, {\"label\": \"area/process\", \"count\": 2, \"index\": 214}, {\"label\": \"kind/doc\", \"count\": 2, \"index\": 215}, {\"label\": \"area/azure\", \"count\": 2, \"index\": 216}, {\"label\": \"status/duplicate\", \"count\": 2, \"index\": 217}, {\"label\": \"do-not-merge/hold\", \"count\": 2, \"index\": 218}, {\"label\": \"area/monitoring\", \"count\": 2, \"index\": 219}, {\"label\": \"area/mxnet\", \"count\": 2, \"index\": 220}, {\"label\": \"team/caicloud\", \"count\": 1, \"index\": 221}, {\"label\": \"area/example/mnist/codelab\", \"count\": 1, \"index\": 222}, {\"label\": \"ksonnt\", \"count\": 1, \"index\": 223}, {\"label\": \"area/code-generation\", \"count\": 1, \"index\": 224}, {\"label\": \"area/community\", \"count\": 1, \"index\": 225}, {\"label\": \"area/examples/from_notebook_to_kfp/codelab\", \"count\": 1, \"index\": 226}, {\"label\": \"area/c2d\", \"count\": 1, \"index\": 227}, {\"label\": \"problems/security\", \"count\": 1, \"index\": 228}, {\"label\": \"minikf\", \"count\": 1, \"index\": 229}, {\"label\": \"release/1.0.0\", \"count\": 1, \"index\": 230}, {\"label\": \"area/crd\", \"count\": 1, \"index\": 231}, {\"label\": \"area/chainer\", \"count\": 1, \"index\": 232}, {\"label\": \"area/tensorflow\", \"count\": 1, \"index\": 233}, {\"label\": \"problems/refactor\", \"count\": 1, \"index\": 234}, {\"label\": \"area/ui\", \"count\": 1, \"index\": 235}, {\"label\": \"K8s dependencies\", \"count\": 1, \"index\": 236}, {\"label\": \"area/releasing\", \"count\": 1, \"index\": 237}, {\"label\": \"no istio or dex\", \"count\": 1, \"index\": 238}, {\"label\": \"fairing\", \"count\": 1, \"index\": 239}, {\"label\": \"cloud/azure\", \"count\": 1, \"index\": 240}, {\"label\": \"area/spark\", \"count\": 1, \"index\": 241}, {\"label\": \"kind/test\", \"count\": 1, \"index\": 242}, {\"label\": \"os/ubuntu\", \"count\": 1, \"index\": 243}, {\"label\": \"wontfix\", \"count\": 1, \"index\": 244}, {\"label\": \"area/troubleshoot\", \"count\": 1, \"index\": 245}, {\"label\": \"kind/proposal\", \"count\": 1, \"index\": 246}, {\"label\": \"status/wontfix\", \"count\": 1, \"index\": 247}, {\"label\": \"area/sdk/tests\", \"count\": 1, \"index\": 248}, {\"label\": \"area/centraldashbosard\", \"count\": 1, \"index\": 249}, {\"label\": \"platform/arm\", \"count\": 1, \"index\": 250}, {\"label\": \"area/feature-store\", \"count\": 1, \"index\": 251}, {\"label\": \"status/done\", \"count\": 1, \"index\": 252}, {\"label\": \"contribution welcome\", \"count\": 1, \"index\": 253}, {\"label\": \"area/kubebench\", \"count\": 1, \"index\": 254}, {\"label\": \"platform/eks\", \"count\": 1, \"index\": 255}, {\"label\": \"area/metadata-writer\", \"count\": 1, \"index\": 256}, {\"label\": \"priority/1\", \"count\": 1, \"index\": 257}]}}, {\"mode\": \"vega-lite\"});\n",
       "</script>"
      ],
      "text/plain": [
       "alt.Chart(...)"
      ]
     },
     "execution_count": 13,
     "metadata": {},
     "output_type": "execute_result"
    }
   ],
   "source": [
    "# Create a bar chart with the x-axis sorted by the values\n",
    "import altair as alt\n",
    "bars = alt.Chart(label_counts_df).mark_bar().encode(x=alt.X(\"label\", sort=\"-y\"), y=alt.Y('count'))\n",
    "bars.interactive()"
   ]
  },
  {
   "cell_type": "markdown",
   "metadata": {},
   "source": [
    "## Compute a matrix of training labels"
   ]
  },
  {
   "cell_type": "code",
   "execution_count": null,
   "metadata": {},
   "outputs": [],
   "source": [
    "issues[\"parsed_labels\"]"
   ]
  },
  {
   "cell_type": "markdown",
   "metadata": {},
   "source": [
    "## Select the labels with a minimum number of examples to train on\n",
    "\n",
    "* Also filter out certain label prefixes we don't want to predict\n",
    "* We also need to compute the \"hot\" encoded matrix used for prediction\n",
    "  * This will be numsamples x numlabels matrix\n",
    "  * element (i,j) is 0 or 1 depending on whether that element has that label"
   ]
  },
  {
   "cell_type": "code",
   "execution_count": 14,
   "metadata": {},
   "outputs": [],
   "source": [
    "count_cutoff = 30\n",
    "target_labels = label_counts_df[label_counts_df[\"count\"] >= count_cutoff][\"label\"]\n",
    "\n",
    "exclude_prefixes = [\"lifecycle\", \"status\"]\n",
    "def keep_label(l):\n",
    "    for p in exclude_prefixes:\n",
    "        if l.startswith(p):\n",
    "            return False\n",
    "        \n",
    "    return True\n",
    "            \n",
    "target_labels = target_labels[target_labels.apply(keep_label)]\n",
    "target_labels.values.sort()"
   ]
  },
  {
   "cell_type": "code",
   "execution_count": 15,
   "metadata": {},
   "outputs": [],
   "source": [
    "label_to_index = dict(zip(target_labels.values, range(target_labels.shape[0])))"
   ]
  },
  {
   "cell_type": "code",
   "execution_count": 16,
   "metadata": {},
   "outputs": [],
   "source": [
    "import numpy as np \n",
    "num_labels = target_labels.shape[0]\n",
    "def hot_encoded(x):\n",
    "    d = np.zeros([1, num_labels])\n",
    "    \n",
    "    for l in x:\n",
    "        if not l in label_to_index:\n",
    "            continue\n",
    "        d[0, label_to_index[l]] = 1\n",
    "        \n",
    "    return d"
   ]
  },
  {
   "cell_type": "code",
   "execution_count": 17,
   "metadata": {},
   "outputs": [],
   "source": [
    "issue_hot_encoded = issues[\"parsed_labels\"].apply(hot_encoded)\n",
    "issue_hot_encoded = np.concatenate(issue_hot_encoded)"
   ]
  },
  {
   "cell_type": "markdown",
   "metadata": {},
   "source": [
    "## Train the model\n",
    "\n",
    "* We need to split the data into test and training sets"
   ]
  },
  {
   "cell_type": "code",
   "execution_count": 20,
   "metadata": {},
   "outputs": [],
   "source": [
    "from label_microservice import mlp "
   ]
  },
  {
   "cell_type": "code",
   "execution_count": 21,
   "metadata": {},
   "outputs": [],
   "source": [
    "from sklearn.neural_network import MLPClassifier\n",
    "from sklearn.model_selection import GridSearchCV\n",
    "from sklearn.model_selection import train_test_split\n",
    "\n",
    "test_size = 0.3\n",
    "X_train, X_test, y_train, y_test = train_test_split(issue_embeddings, issue_hot_encoded, test_size=test_size, random_state=1234)"
   ]
  },
  {
   "cell_type": "code",
   "execution_count": 117,
   "metadata": {},
   "outputs": [
    {
     "ename": "TypeError",
     "evalue": "__init__() got an unexpected keyword argument 'classes'",
     "output_type": "error",
     "traceback": [
      "\u001b[0;31m---------------------------------------------------------------------------\u001b[0m",
      "\u001b[0;31mTypeError\u001b[0m                                 Traceback (most recent call last)",
      "\u001b[0;32m<ipython-input-117-312e50616e20>\u001b[0m in \u001b[0;36m<module>\u001b[0;34m\u001b[0m\n\u001b[1;32m     30\u001b[0m                      \u001b[0msolver\u001b[0m\u001b[0;34m=\u001b[0m\u001b[0msolver\u001b[0m\u001b[0;34m,\u001b[0m\u001b[0;34m\u001b[0m\u001b[0;34m\u001b[0m\u001b[0m\n\u001b[1;32m     31\u001b[0m                      \u001b[0mvalidation_fraction\u001b[0m\u001b[0;34m=\u001b[0m\u001b[0mvalidation_fraction\u001b[0m\u001b[0;34m,\u001b[0m\u001b[0;34m\u001b[0m\u001b[0;34m\u001b[0m\u001b[0m\n\u001b[0;32m---> 32\u001b[0;31m                      classes=target_labels)        \n\u001b[0m",
      "\u001b[0;31mTypeError\u001b[0m: __init__() got an unexpected keyword argument 'classes'"
     ]
    }
   ],
   "source": [
    "precision_threshold=0.7,\n",
    "recall_threshold=0.5\n",
    "workspace_name='train'\n",
    "min_freq=25\n",
    "activation='relu'\n",
    "alpha=0.0001\n",
    "early_stopping=True\n",
    "epsilon=1e-08\n",
    "hidden_layer_sizes=(600,600)\n",
    "learning_rate='adaptive'\n",
    "learning_rate_init=0.001\n",
    "max_iter=3000\n",
    "momentum=0.9\n",
    "n_iter_no_change=5\n",
    "random_state=1234\n",
    "solver='adam'\n",
    "validation_fraction=0.1\n",
    "                \n",
    "clf = MLPClassifier(activation=activation,\n",
    "                     alpha=alpha,\n",
    "                     early_stopping=early_stopping,\n",
    "                     epsilon=epsilon,\n",
    "                     hidden_layer_sizes=hidden_layer_sizes,\n",
    "                     learning_rate=learning_rate,\n",
    "                     learning_rate_init=learning_rate_init,\n",
    "                     max_iter=max_iter,\n",
    "                     momentum=momentum,\n",
    "                     n_iter_no_change=n_iter_no_change,\n",
    "                     random_state=random_state,\n",
    "                     solver=solver,\n",
    "                     validation_fraction=validation_fraction)        "
   ]
  },
  {
   "cell_type": "code",
   "execution_count": 121,
   "metadata": {},
   "outputs": [],
   "source": [
    "# Set class labels\n",
    "clf.classes_ = target_labels"
   ]
  },
  {
   "cell_type": "code",
   "execution_count": 23,
   "metadata": {},
   "outputs": [
    {
     "data": {
      "text/plain": [
       "MLPClassifier(activation='relu', alpha=0.0001, batch_size='auto', beta_1=0.9,\n",
       "       beta_2=0.999, early_stopping=True, epsilon=1e-08,\n",
       "       hidden_layer_sizes=(600, 600), learning_rate='adaptive',\n",
       "       learning_rate_init=0.001, max_iter=3000, momentum=0.9,\n",
       "       n_iter_no_change=5, nesterovs_momentum=True, power_t=0.5,\n",
       "       random_state=1234, shuffle=True, solver='adam', tol=0.0001,\n",
       "       validation_fraction=0.1, verbose=False, warm_start=False)"
      ]
     },
     "execution_count": 23,
     "metadata": {},
     "output_type": "execute_result"
    }
   ],
   "source": [
    "clf.fit(X_train, y_train)"
   ]
  },
  {
   "cell_type": "markdown",
   "metadata": {},
   "source": [
    "* Compute AUC on training and test sets\n",
    "* If AUC on training >> AUC on test then we are overfitting"
   ]
  },
  {
   "cell_type": "code",
   "execution_count": 24,
   "metadata": {},
   "outputs": [
    {
     "data": {
      "text/html": [
       "<div>\n",
       "<style scoped>\n",
       "    .dataframe tbody tr th:only-of-type {\n",
       "        vertical-align: middle;\n",
       "    }\n",
       "\n",
       "    .dataframe tbody tr th {\n",
       "        vertical-align: top;\n",
       "    }\n",
       "\n",
       "    .dataframe thead th {\n",
       "        text-align: right;\n",
       "    }\n",
       "</style>\n",
       "<table border=\"1\" class=\"dataframe\">\n",
       "  <thead>\n",
       "    <tr style=\"text-align: right;\">\n",
       "      <th></th>\n",
       "      <th>label</th>\n",
       "      <th>auc</th>\n",
       "      <th>count</th>\n",
       "    </tr>\n",
       "  </thead>\n",
       "  <tbody>\n",
       "    <tr>\n",
       "      <th>1</th>\n",
       "      <td>addition/feature</td>\n",
       "      <td>0.767130</td>\n",
       "      <td>34.0</td>\n",
       "    </tr>\n",
       "    <tr>\n",
       "      <th>6</th>\n",
       "      <td>api/v1alpha2</td>\n",
       "      <td>0.873236</td>\n",
       "      <td>57.0</td>\n",
       "    </tr>\n",
       "    <tr>\n",
       "      <th>13</th>\n",
       "      <td>area/0.3.0</td>\n",
       "      <td>0.660164</td>\n",
       "      <td>17.0</td>\n",
       "    </tr>\n",
       "    <tr>\n",
       "      <th>2</th>\n",
       "      <td>area/0.4.0</td>\n",
       "      <td>0.762683</td>\n",
       "      <td>116.0</td>\n",
       "    </tr>\n",
       "    <tr>\n",
       "      <th>20</th>\n",
       "      <td>area/0.5.0</td>\n",
       "      <td>0.749123</td>\n",
       "      <td>45.0</td>\n",
       "    </tr>\n",
       "    <tr>\n",
       "      <th>36</th>\n",
       "      <td>area/1.0.0</td>\n",
       "      <td>0.725669</td>\n",
       "      <td>40.0</td>\n",
       "    </tr>\n",
       "    <tr>\n",
       "      <th>19</th>\n",
       "      <td>area/api</td>\n",
       "      <td>0.722186</td>\n",
       "      <td>30.0</td>\n",
       "    </tr>\n",
       "    <tr>\n",
       "      <th>31</th>\n",
       "      <td>area/back-end</td>\n",
       "      <td>0.652767</td>\n",
       "      <td>35.0</td>\n",
       "    </tr>\n",
       "    <tr>\n",
       "      <th>0</th>\n",
       "      <td>area/backend</td>\n",
       "      <td>0.632352</td>\n",
       "      <td>52.0</td>\n",
       "    </tr>\n",
       "    <tr>\n",
       "      <th>51</th>\n",
       "      <td>area/bootstrap</td>\n",
       "      <td>0.815521</td>\n",
       "      <td>61.0</td>\n",
       "    </tr>\n",
       "    <tr>\n",
       "      <th>34</th>\n",
       "      <td>area/build-release</td>\n",
       "      <td>0.793404</td>\n",
       "      <td>50.0</td>\n",
       "    </tr>\n",
       "    <tr>\n",
       "      <th>59</th>\n",
       "      <td>area/centraldashboard</td>\n",
       "      <td>0.884100</td>\n",
       "      <td>49.0</td>\n",
       "    </tr>\n",
       "    <tr>\n",
       "      <th>24</th>\n",
       "      <td>area/components</td>\n",
       "      <td>0.571700</td>\n",
       "      <td>34.0</td>\n",
       "    </tr>\n",
       "    <tr>\n",
       "      <th>8</th>\n",
       "      <td>area/docs</td>\n",
       "      <td>0.881929</td>\n",
       "      <td>218.0</td>\n",
       "    </tr>\n",
       "    <tr>\n",
       "      <th>3</th>\n",
       "      <td>area/engprod</td>\n",
       "      <td>0.724587</td>\n",
       "      <td>79.0</td>\n",
       "    </tr>\n",
       "    <tr>\n",
       "      <th>9</th>\n",
       "      <td>area/enterprise_readiness</td>\n",
       "      <td>0.680578</td>\n",
       "      <td>27.0</td>\n",
       "    </tr>\n",
       "    <tr>\n",
       "      <th>12</th>\n",
       "      <td>area/example/code_search</td>\n",
       "      <td>0.748904</td>\n",
       "      <td>52.0</td>\n",
       "    </tr>\n",
       "    <tr>\n",
       "      <th>5</th>\n",
       "      <td>area/example/issue_summarization</td>\n",
       "      <td>0.648000</td>\n",
       "      <td>21.0</td>\n",
       "    </tr>\n",
       "    <tr>\n",
       "      <th>33</th>\n",
       "      <td>area/front-end</td>\n",
       "      <td>0.903475</td>\n",
       "      <td>199.0</td>\n",
       "    </tr>\n",
       "    <tr>\n",
       "      <th>186</th>\n",
       "      <td>area/frontend</td>\n",
       "      <td>0.863241</td>\n",
       "      <td>80.0</td>\n",
       "    </tr>\n",
       "    <tr>\n",
       "      <th>23</th>\n",
       "      <td>area/inference</td>\n",
       "      <td>0.748020</td>\n",
       "      <td>72.0</td>\n",
       "    </tr>\n",
       "    <tr>\n",
       "      <th>10</th>\n",
       "      <td>area/istio</td>\n",
       "      <td>0.788577</td>\n",
       "      <td>21.0</td>\n",
       "    </tr>\n",
       "    <tr>\n",
       "      <th>66</th>\n",
       "      <td>area/jupyter</td>\n",
       "      <td>0.949484</td>\n",
       "      <td>218.0</td>\n",
       "    </tr>\n",
       "    <tr>\n",
       "      <th>109</th>\n",
       "      <td>area/katib</td>\n",
       "      <td>0.544324</td>\n",
       "      <td>38.0</td>\n",
       "    </tr>\n",
       "    <tr>\n",
       "      <th>243</th>\n",
       "      <td>area/kfctl</td>\n",
       "      <td>0.835448</td>\n",
       "      <td>305.0</td>\n",
       "    </tr>\n",
       "    <tr>\n",
       "      <th>156</th>\n",
       "      <td>area/ksonnet</td>\n",
       "      <td>0.705119</td>\n",
       "      <td>23.0</td>\n",
       "    </tr>\n",
       "    <tr>\n",
       "      <th>53</th>\n",
       "      <td>area/kustomize</td>\n",
       "      <td>0.671678</td>\n",
       "      <td>39.0</td>\n",
       "    </tr>\n",
       "    <tr>\n",
       "      <th>194</th>\n",
       "      <td>area/metadata</td>\n",
       "      <td>0.861941</td>\n",
       "      <td>26.0</td>\n",
       "    </tr>\n",
       "    <tr>\n",
       "      <th>65</th>\n",
       "      <td>area/operator</td>\n",
       "      <td>0.826509</td>\n",
       "      <td>47.0</td>\n",
       "    </tr>\n",
       "    <tr>\n",
       "      <th>177</th>\n",
       "      <td>area/pipelines</td>\n",
       "      <td>0.673647</td>\n",
       "      <td>74.0</td>\n",
       "    </tr>\n",
       "    <tr>\n",
       "      <th>...</th>\n",
       "      <td>...</td>\n",
       "      <td>...</td>\n",
       "      <td>...</td>\n",
       "    </tr>\n",
       "    <tr>\n",
       "      <th>40</th>\n",
       "      <td>area/sdk/dsl</td>\n",
       "      <td>0.848027</td>\n",
       "      <td>51.0</td>\n",
       "    </tr>\n",
       "    <tr>\n",
       "      <th>29</th>\n",
       "      <td>area/sdk/dsl/compiler</td>\n",
       "      <td>0.870994</td>\n",
       "      <td>41.0</td>\n",
       "    </tr>\n",
       "    <tr>\n",
       "      <th>183</th>\n",
       "      <td>area/testing</td>\n",
       "      <td>0.932066</td>\n",
       "      <td>195.0</td>\n",
       "    </tr>\n",
       "    <tr>\n",
       "      <th>192</th>\n",
       "      <td>area/tfjob</td>\n",
       "      <td>0.646274</td>\n",
       "      <td>58.0</td>\n",
       "    </tr>\n",
       "    <tr>\n",
       "      <th>182</th>\n",
       "      <td>community/discussion</td>\n",
       "      <td>0.768986</td>\n",
       "      <td>29.0</td>\n",
       "    </tr>\n",
       "    <tr>\n",
       "      <th>30</th>\n",
       "      <td>community/question</td>\n",
       "      <td>0.866500</td>\n",
       "      <td>171.0</td>\n",
       "    </tr>\n",
       "    <tr>\n",
       "      <th>146</th>\n",
       "      <td>cuj/build-train-deploy</td>\n",
       "      <td>0.862712</td>\n",
       "      <td>21.0</td>\n",
       "    </tr>\n",
       "    <tr>\n",
       "      <th>88</th>\n",
       "      <td>cuj/multi-user</td>\n",
       "      <td>0.801133</td>\n",
       "      <td>20.0</td>\n",
       "    </tr>\n",
       "    <tr>\n",
       "      <th>11</th>\n",
       "      <td>doc-sprint</td>\n",
       "      <td>0.881246</td>\n",
       "      <td>95.0</td>\n",
       "    </tr>\n",
       "    <tr>\n",
       "      <th>81</th>\n",
       "      <td>feature</td>\n",
       "      <td>0.695470</td>\n",
       "      <td>48.0</td>\n",
       "    </tr>\n",
       "    <tr>\n",
       "      <th>57</th>\n",
       "      <td>feature_request</td>\n",
       "      <td>0.713382</td>\n",
       "      <td>32.0</td>\n",
       "    </tr>\n",
       "    <tr>\n",
       "      <th>43</th>\n",
       "      <td>good first issue</td>\n",
       "      <td>0.658021</td>\n",
       "      <td>90.0</td>\n",
       "    </tr>\n",
       "    <tr>\n",
       "      <th>7</th>\n",
       "      <td>help wanted</td>\n",
       "      <td>0.680207</td>\n",
       "      <td>195.0</td>\n",
       "    </tr>\n",
       "    <tr>\n",
       "      <th>22</th>\n",
       "      <td>improvement/enhancement</td>\n",
       "      <td>0.743681</td>\n",
       "      <td>166.0</td>\n",
       "    </tr>\n",
       "    <tr>\n",
       "      <th>181</th>\n",
       "      <td>kind/bug</td>\n",
       "      <td>0.904546</td>\n",
       "      <td>1118.0</td>\n",
       "    </tr>\n",
       "    <tr>\n",
       "      <th>26</th>\n",
       "      <td>kind/discussion</td>\n",
       "      <td>0.740549</td>\n",
       "      <td>25.0</td>\n",
       "    </tr>\n",
       "    <tr>\n",
       "      <th>38</th>\n",
       "      <td>kind/enhancement</td>\n",
       "      <td>0.858680</td>\n",
       "      <td>30.0</td>\n",
       "    </tr>\n",
       "    <tr>\n",
       "      <th>108</th>\n",
       "      <td>kind/feature</td>\n",
       "      <td>0.828165</td>\n",
       "      <td>907.0</td>\n",
       "    </tr>\n",
       "    <tr>\n",
       "      <th>234</th>\n",
       "      <td>kind/process</td>\n",
       "      <td>0.815845</td>\n",
       "      <td>53.0</td>\n",
       "    </tr>\n",
       "    <tr>\n",
       "      <th>27</th>\n",
       "      <td>kind/question</td>\n",
       "      <td>0.882781</td>\n",
       "      <td>171.0</td>\n",
       "    </tr>\n",
       "    <tr>\n",
       "      <th>96</th>\n",
       "      <td>platform/aws</td>\n",
       "      <td>0.581743</td>\n",
       "      <td>34.0</td>\n",
       "    </tr>\n",
       "    <tr>\n",
       "      <th>72</th>\n",
       "      <td>platform/gcp</td>\n",
       "      <td>0.899582</td>\n",
       "      <td>191.0</td>\n",
       "    </tr>\n",
       "    <tr>\n",
       "      <th>84</th>\n",
       "      <td>platform/minikube</td>\n",
       "      <td>0.664970</td>\n",
       "      <td>21.0</td>\n",
       "    </tr>\n",
       "    <tr>\n",
       "      <th>73</th>\n",
       "      <td>priority/p0</td>\n",
       "      <td>0.733091</td>\n",
       "      <td>442.0</td>\n",
       "    </tr>\n",
       "    <tr>\n",
       "      <th>85</th>\n",
       "      <td>priority/p1</td>\n",
       "      <td>0.724888</td>\n",
       "      <td>1139.0</td>\n",
       "    </tr>\n",
       "    <tr>\n",
       "      <th>179</th>\n",
       "      <td>priority/p2</td>\n",
       "      <td>0.664800</td>\n",
       "      <td>746.0</td>\n",
       "    </tr>\n",
       "    <tr>\n",
       "      <th>148</th>\n",
       "      <td>priority/p3</td>\n",
       "      <td>0.731410</td>\n",
       "      <td>51.0</td>\n",
       "    </tr>\n",
       "    <tr>\n",
       "      <th>114</th>\n",
       "      <td>release/0.2.0</td>\n",
       "      <td>0.739689</td>\n",
       "      <td>40.0</td>\n",
       "    </tr>\n",
       "    <tr>\n",
       "      <th>45</th>\n",
       "      <td>release/0.3.0</td>\n",
       "      <td>0.729746</td>\n",
       "      <td>99.0</td>\n",
       "    </tr>\n",
       "    <tr>\n",
       "      <th>180</th>\n",
       "      <td>testing</td>\n",
       "      <td>0.952151</td>\n",
       "      <td>34.0</td>\n",
       "    </tr>\n",
       "  </tbody>\n",
       "</table>\n",
       "<p>64 rows × 3 columns</p>\n",
       "</div>"
      ],
      "text/plain": [
       "                                label       auc   count\n",
       "1                    addition/feature  0.767130    34.0\n",
       "6                        api/v1alpha2  0.873236    57.0\n",
       "13                         area/0.3.0  0.660164    17.0\n",
       "2                          area/0.4.0  0.762683   116.0\n",
       "20                         area/0.5.0  0.749123    45.0\n",
       "36                         area/1.0.0  0.725669    40.0\n",
       "19                           area/api  0.722186    30.0\n",
       "31                      area/back-end  0.652767    35.0\n",
       "0                        area/backend  0.632352    52.0\n",
       "51                     area/bootstrap  0.815521    61.0\n",
       "34                 area/build-release  0.793404    50.0\n",
       "59              area/centraldashboard  0.884100    49.0\n",
       "24                    area/components  0.571700    34.0\n",
       "8                           area/docs  0.881929   218.0\n",
       "3                        area/engprod  0.724587    79.0\n",
       "9           area/enterprise_readiness  0.680578    27.0\n",
       "12           area/example/code_search  0.748904    52.0\n",
       "5    area/example/issue_summarization  0.648000    21.0\n",
       "33                     area/front-end  0.903475   199.0\n",
       "186                     area/frontend  0.863241    80.0\n",
       "23                     area/inference  0.748020    72.0\n",
       "10                         area/istio  0.788577    21.0\n",
       "66                       area/jupyter  0.949484   218.0\n",
       "109                        area/katib  0.544324    38.0\n",
       "243                        area/kfctl  0.835448   305.0\n",
       "156                      area/ksonnet  0.705119    23.0\n",
       "53                     area/kustomize  0.671678    39.0\n",
       "194                     area/metadata  0.861941    26.0\n",
       "65                      area/operator  0.826509    47.0\n",
       "177                    area/pipelines  0.673647    74.0\n",
       "..                                ...       ...     ...\n",
       "40                       area/sdk/dsl  0.848027    51.0\n",
       "29              area/sdk/dsl/compiler  0.870994    41.0\n",
       "183                      area/testing  0.932066   195.0\n",
       "192                        area/tfjob  0.646274    58.0\n",
       "182              community/discussion  0.768986    29.0\n",
       "30                 community/question  0.866500   171.0\n",
       "146            cuj/build-train-deploy  0.862712    21.0\n",
       "88                     cuj/multi-user  0.801133    20.0\n",
       "11                         doc-sprint  0.881246    95.0\n",
       "81                            feature  0.695470    48.0\n",
       "57                    feature_request  0.713382    32.0\n",
       "43                   good first issue  0.658021    90.0\n",
       "7                         help wanted  0.680207   195.0\n",
       "22            improvement/enhancement  0.743681   166.0\n",
       "181                          kind/bug  0.904546  1118.0\n",
       "26                    kind/discussion  0.740549    25.0\n",
       "38                   kind/enhancement  0.858680    30.0\n",
       "108                      kind/feature  0.828165   907.0\n",
       "234                      kind/process  0.815845    53.0\n",
       "27                      kind/question  0.882781   171.0\n",
       "96                       platform/aws  0.581743    34.0\n",
       "72                       platform/gcp  0.899582   191.0\n",
       "84                  platform/minikube  0.664970    21.0\n",
       "73                        priority/p0  0.733091   442.0\n",
       "85                        priority/p1  0.724888  1139.0\n",
       "179                       priority/p2  0.664800   746.0\n",
       "148                       priority/p3  0.731410    51.0\n",
       "114                     release/0.2.0  0.739689    40.0\n",
       "45                      release/0.3.0  0.729746    99.0\n",
       "180                           testing  0.952151    34.0\n",
       "\n",
       "[64 rows x 3 columns]"
      ]
     },
     "metadata": {},
     "output_type": "display_data"
    },
    {
     "name": "stdout",
     "output_type": "stream",
     "text": [
      "Weighted Average AUC: 0.7931557887254959\n"
     ]
    }
   ],
   "source": [
    "mlp_predictions = clf.predict_proba(X_train)\n",
    "mlp_df, mlp_auc = mlp.calculate_auc(mlp_predictions, y_train, target_labels)"
   ]
  },
  {
   "cell_type": "code",
   "execution_count": 25,
   "metadata": {},
   "outputs": [
    {
     "data": {
      "text/html": [
       "<div>\n",
       "<style scoped>\n",
       "    .dataframe tbody tr th:only-of-type {\n",
       "        vertical-align: middle;\n",
       "    }\n",
       "\n",
       "    .dataframe tbody tr th {\n",
       "        vertical-align: top;\n",
       "    }\n",
       "\n",
       "    .dataframe thead th {\n",
       "        text-align: right;\n",
       "    }\n",
       "</style>\n",
       "<table border=\"1\" class=\"dataframe\">\n",
       "  <thead>\n",
       "    <tr style=\"text-align: right;\">\n",
       "      <th></th>\n",
       "      <th>label</th>\n",
       "      <th>auc</th>\n",
       "      <th>count</th>\n",
       "    </tr>\n",
       "  </thead>\n",
       "  <tbody>\n",
       "    <tr>\n",
       "      <th>1</th>\n",
       "      <td>addition/feature</td>\n",
       "      <td>0.721142</td>\n",
       "      <td>16.0</td>\n",
       "    </tr>\n",
       "    <tr>\n",
       "      <th>6</th>\n",
       "      <td>api/v1alpha2</td>\n",
       "      <td>0.746764</td>\n",
       "      <td>25.0</td>\n",
       "    </tr>\n",
       "    <tr>\n",
       "      <th>13</th>\n",
       "      <td>area/0.3.0</td>\n",
       "      <td>0.518209</td>\n",
       "      <td>18.0</td>\n",
       "    </tr>\n",
       "    <tr>\n",
       "      <th>2</th>\n",
       "      <td>area/0.4.0</td>\n",
       "      <td>0.687899</td>\n",
       "      <td>58.0</td>\n",
       "    </tr>\n",
       "    <tr>\n",
       "      <th>20</th>\n",
       "      <td>area/0.5.0</td>\n",
       "      <td>0.682154</td>\n",
       "      <td>9.0</td>\n",
       "    </tr>\n",
       "    <tr>\n",
       "      <th>36</th>\n",
       "      <td>area/1.0.0</td>\n",
       "      <td>0.658661</td>\n",
       "      <td>15.0</td>\n",
       "    </tr>\n",
       "    <tr>\n",
       "      <th>19</th>\n",
       "      <td>area/api</td>\n",
       "      <td>0.735178</td>\n",
       "      <td>18.0</td>\n",
       "    </tr>\n",
       "    <tr>\n",
       "      <th>31</th>\n",
       "      <td>area/back-end</td>\n",
       "      <td>0.525537</td>\n",
       "      <td>12.0</td>\n",
       "    </tr>\n",
       "    <tr>\n",
       "      <th>0</th>\n",
       "      <td>area/backend</td>\n",
       "      <td>0.520193</td>\n",
       "      <td>20.0</td>\n",
       "    </tr>\n",
       "    <tr>\n",
       "      <th>51</th>\n",
       "      <td>area/bootstrap</td>\n",
       "      <td>0.746872</td>\n",
       "      <td>24.0</td>\n",
       "    </tr>\n",
       "    <tr>\n",
       "      <th>34</th>\n",
       "      <td>area/build-release</td>\n",
       "      <td>0.809440</td>\n",
       "      <td>17.0</td>\n",
       "    </tr>\n",
       "    <tr>\n",
       "      <th>59</th>\n",
       "      <td>area/centraldashboard</td>\n",
       "      <td>0.664688</td>\n",
       "      <td>19.0</td>\n",
       "    </tr>\n",
       "    <tr>\n",
       "      <th>24</th>\n",
       "      <td>area/components</td>\n",
       "      <td>0.645988</td>\n",
       "      <td>22.0</td>\n",
       "    </tr>\n",
       "    <tr>\n",
       "      <th>8</th>\n",
       "      <td>area/docs</td>\n",
       "      <td>0.836248</td>\n",
       "      <td>95.0</td>\n",
       "    </tr>\n",
       "    <tr>\n",
       "      <th>3</th>\n",
       "      <td>area/engprod</td>\n",
       "      <td>0.586436</td>\n",
       "      <td>34.0</td>\n",
       "    </tr>\n",
       "    <tr>\n",
       "      <th>9</th>\n",
       "      <td>area/enterprise_readiness</td>\n",
       "      <td>0.708824</td>\n",
       "      <td>14.0</td>\n",
       "    </tr>\n",
       "    <tr>\n",
       "      <th>12</th>\n",
       "      <td>area/example/code_search</td>\n",
       "      <td>0.711029</td>\n",
       "      <td>13.0</td>\n",
       "    </tr>\n",
       "    <tr>\n",
       "      <th>5</th>\n",
       "      <td>area/example/issue_summarization</td>\n",
       "      <td>0.508188</td>\n",
       "      <td>10.0</td>\n",
       "    </tr>\n",
       "    <tr>\n",
       "      <th>33</th>\n",
       "      <td>area/front-end</td>\n",
       "      <td>0.873642</td>\n",
       "      <td>78.0</td>\n",
       "    </tr>\n",
       "    <tr>\n",
       "      <th>186</th>\n",
       "      <td>area/frontend</td>\n",
       "      <td>0.843582</td>\n",
       "      <td>41.0</td>\n",
       "    </tr>\n",
       "    <tr>\n",
       "      <th>23</th>\n",
       "      <td>area/inference</td>\n",
       "      <td>0.812361</td>\n",
       "      <td>29.0</td>\n",
       "    </tr>\n",
       "    <tr>\n",
       "      <th>10</th>\n",
       "      <td>area/istio</td>\n",
       "      <td>0.678056</td>\n",
       "      <td>11.0</td>\n",
       "    </tr>\n",
       "    <tr>\n",
       "      <th>66</th>\n",
       "      <td>area/jupyter</td>\n",
       "      <td>0.942235</td>\n",
       "      <td>110.0</td>\n",
       "    </tr>\n",
       "    <tr>\n",
       "      <th>109</th>\n",
       "      <td>area/katib</td>\n",
       "      <td>0.506560</td>\n",
       "      <td>14.0</td>\n",
       "    </tr>\n",
       "    <tr>\n",
       "      <th>243</th>\n",
       "      <td>area/kfctl</td>\n",
       "      <td>0.829178</td>\n",
       "      <td>124.0</td>\n",
       "    </tr>\n",
       "    <tr>\n",
       "      <th>156</th>\n",
       "      <td>area/ksonnet</td>\n",
       "      <td>0.750000</td>\n",
       "      <td>8.0</td>\n",
       "    </tr>\n",
       "    <tr>\n",
       "      <th>53</th>\n",
       "      <td>area/kustomize</td>\n",
       "      <td>0.664620</td>\n",
       "      <td>17.0</td>\n",
       "    </tr>\n",
       "    <tr>\n",
       "      <th>194</th>\n",
       "      <td>area/metadata</td>\n",
       "      <td>0.906886</td>\n",
       "      <td>9.0</td>\n",
       "    </tr>\n",
       "    <tr>\n",
       "      <th>65</th>\n",
       "      <td>area/operator</td>\n",
       "      <td>0.713259</td>\n",
       "      <td>12.0</td>\n",
       "    </tr>\n",
       "    <tr>\n",
       "      <th>177</th>\n",
       "      <td>area/pipelines</td>\n",
       "      <td>0.524112</td>\n",
       "      <td>25.0</td>\n",
       "    </tr>\n",
       "    <tr>\n",
       "      <th>...</th>\n",
       "      <td>...</td>\n",
       "      <td>...</td>\n",
       "      <td>...</td>\n",
       "    </tr>\n",
       "    <tr>\n",
       "      <th>40</th>\n",
       "      <td>area/sdk/dsl</td>\n",
       "      <td>0.734925</td>\n",
       "      <td>20.0</td>\n",
       "    </tr>\n",
       "    <tr>\n",
       "      <th>29</th>\n",
       "      <td>area/sdk/dsl/compiler</td>\n",
       "      <td>0.857899</td>\n",
       "      <td>16.0</td>\n",
       "    </tr>\n",
       "    <tr>\n",
       "      <th>183</th>\n",
       "      <td>area/testing</td>\n",
       "      <td>0.923907</td>\n",
       "      <td>91.0</td>\n",
       "    </tr>\n",
       "    <tr>\n",
       "      <th>192</th>\n",
       "      <td>area/tfjob</td>\n",
       "      <td>0.608080</td>\n",
       "      <td>18.0</td>\n",
       "    </tr>\n",
       "    <tr>\n",
       "      <th>182</th>\n",
       "      <td>community/discussion</td>\n",
       "      <td>0.797142</td>\n",
       "      <td>11.0</td>\n",
       "    </tr>\n",
       "    <tr>\n",
       "      <th>30</th>\n",
       "      <td>community/question</td>\n",
       "      <td>0.880685</td>\n",
       "      <td>69.0</td>\n",
       "    </tr>\n",
       "    <tr>\n",
       "      <th>146</th>\n",
       "      <td>cuj/build-train-deploy</td>\n",
       "      <td>0.753476</td>\n",
       "      <td>15.0</td>\n",
       "    </tr>\n",
       "    <tr>\n",
       "      <th>88</th>\n",
       "      <td>cuj/multi-user</td>\n",
       "      <td>0.600059</td>\n",
       "      <td>19.0</td>\n",
       "    </tr>\n",
       "    <tr>\n",
       "      <th>11</th>\n",
       "      <td>doc-sprint</td>\n",
       "      <td>0.875688</td>\n",
       "      <td>41.0</td>\n",
       "    </tr>\n",
       "    <tr>\n",
       "      <th>81</th>\n",
       "      <td>feature</td>\n",
       "      <td>0.678555</td>\n",
       "      <td>19.0</td>\n",
       "    </tr>\n",
       "    <tr>\n",
       "      <th>57</th>\n",
       "      <td>feature_request</td>\n",
       "      <td>0.702508</td>\n",
       "      <td>14.0</td>\n",
       "    </tr>\n",
       "    <tr>\n",
       "      <th>43</th>\n",
       "      <td>good first issue</td>\n",
       "      <td>0.657903</td>\n",
       "      <td>48.0</td>\n",
       "    </tr>\n",
       "    <tr>\n",
       "      <th>7</th>\n",
       "      <td>help wanted</td>\n",
       "      <td>0.713199</td>\n",
       "      <td>102.0</td>\n",
       "    </tr>\n",
       "    <tr>\n",
       "      <th>22</th>\n",
       "      <td>improvement/enhancement</td>\n",
       "      <td>0.670356</td>\n",
       "      <td>81.0</td>\n",
       "    </tr>\n",
       "    <tr>\n",
       "      <th>181</th>\n",
       "      <td>kind/bug</td>\n",
       "      <td>0.875297</td>\n",
       "      <td>480.0</td>\n",
       "    </tr>\n",
       "    <tr>\n",
       "      <th>26</th>\n",
       "      <td>kind/discussion</td>\n",
       "      <td>0.545338</td>\n",
       "      <td>17.0</td>\n",
       "    </tr>\n",
       "    <tr>\n",
       "      <th>38</th>\n",
       "      <td>kind/enhancement</td>\n",
       "      <td>0.724563</td>\n",
       "      <td>10.0</td>\n",
       "    </tr>\n",
       "    <tr>\n",
       "      <th>108</th>\n",
       "      <td>kind/feature</td>\n",
       "      <td>0.803830</td>\n",
       "      <td>363.0</td>\n",
       "    </tr>\n",
       "    <tr>\n",
       "      <th>234</th>\n",
       "      <td>kind/process</td>\n",
       "      <td>0.767716</td>\n",
       "      <td>16.0</td>\n",
       "    </tr>\n",
       "    <tr>\n",
       "      <th>27</th>\n",
       "      <td>kind/question</td>\n",
       "      <td>0.830156</td>\n",
       "      <td>87.0</td>\n",
       "    </tr>\n",
       "    <tr>\n",
       "      <th>96</th>\n",
       "      <td>platform/aws</td>\n",
       "      <td>0.576086</td>\n",
       "      <td>19.0</td>\n",
       "    </tr>\n",
       "    <tr>\n",
       "      <th>72</th>\n",
       "      <td>platform/gcp</td>\n",
       "      <td>0.873200</td>\n",
       "      <td>85.0</td>\n",
       "    </tr>\n",
       "    <tr>\n",
       "      <th>84</th>\n",
       "      <td>platform/minikube</td>\n",
       "      <td>0.747617</td>\n",
       "      <td>12.0</td>\n",
       "    </tr>\n",
       "    <tr>\n",
       "      <th>73</th>\n",
       "      <td>priority/p0</td>\n",
       "      <td>0.726644</td>\n",
       "      <td>180.0</td>\n",
       "    </tr>\n",
       "    <tr>\n",
       "      <th>85</th>\n",
       "      <td>priority/p1</td>\n",
       "      <td>0.686845</td>\n",
       "      <td>500.0</td>\n",
       "    </tr>\n",
       "    <tr>\n",
       "      <th>179</th>\n",
       "      <td>priority/p2</td>\n",
       "      <td>0.631954</td>\n",
       "      <td>307.0</td>\n",
       "    </tr>\n",
       "    <tr>\n",
       "      <th>148</th>\n",
       "      <td>priority/p3</td>\n",
       "      <td>0.634069</td>\n",
       "      <td>20.0</td>\n",
       "    </tr>\n",
       "    <tr>\n",
       "      <th>114</th>\n",
       "      <td>release/0.2.0</td>\n",
       "      <td>0.574587</td>\n",
       "      <td>15.0</td>\n",
       "    </tr>\n",
       "    <tr>\n",
       "      <th>45</th>\n",
       "      <td>release/0.3.0</td>\n",
       "      <td>0.694674</td>\n",
       "      <td>54.0</td>\n",
       "    </tr>\n",
       "    <tr>\n",
       "      <th>180</th>\n",
       "      <td>testing</td>\n",
       "      <td>0.937556</td>\n",
       "      <td>22.0</td>\n",
       "    </tr>\n",
       "  </tbody>\n",
       "</table>\n",
       "<p>64 rows × 3 columns</p>\n",
       "</div>"
      ],
      "text/plain": [
       "                                label       auc  count\n",
       "1                    addition/feature  0.721142   16.0\n",
       "6                        api/v1alpha2  0.746764   25.0\n",
       "13                         area/0.3.0  0.518209   18.0\n",
       "2                          area/0.4.0  0.687899   58.0\n",
       "20                         area/0.5.0  0.682154    9.0\n",
       "36                         area/1.0.0  0.658661   15.0\n",
       "19                           area/api  0.735178   18.0\n",
       "31                      area/back-end  0.525537   12.0\n",
       "0                        area/backend  0.520193   20.0\n",
       "51                     area/bootstrap  0.746872   24.0\n",
       "34                 area/build-release  0.809440   17.0\n",
       "59              area/centraldashboard  0.664688   19.0\n",
       "24                    area/components  0.645988   22.0\n",
       "8                           area/docs  0.836248   95.0\n",
       "3                        area/engprod  0.586436   34.0\n",
       "9           area/enterprise_readiness  0.708824   14.0\n",
       "12           area/example/code_search  0.711029   13.0\n",
       "5    area/example/issue_summarization  0.508188   10.0\n",
       "33                     area/front-end  0.873642   78.0\n",
       "186                     area/frontend  0.843582   41.0\n",
       "23                     area/inference  0.812361   29.0\n",
       "10                         area/istio  0.678056   11.0\n",
       "66                       area/jupyter  0.942235  110.0\n",
       "109                        area/katib  0.506560   14.0\n",
       "243                        area/kfctl  0.829178  124.0\n",
       "156                      area/ksonnet  0.750000    8.0\n",
       "53                     area/kustomize  0.664620   17.0\n",
       "194                     area/metadata  0.906886    9.0\n",
       "65                      area/operator  0.713259   12.0\n",
       "177                    area/pipelines  0.524112   25.0\n",
       "..                                ...       ...    ...\n",
       "40                       area/sdk/dsl  0.734925   20.0\n",
       "29              area/sdk/dsl/compiler  0.857899   16.0\n",
       "183                      area/testing  0.923907   91.0\n",
       "192                        area/tfjob  0.608080   18.0\n",
       "182              community/discussion  0.797142   11.0\n",
       "30                 community/question  0.880685   69.0\n",
       "146            cuj/build-train-deploy  0.753476   15.0\n",
       "88                     cuj/multi-user  0.600059   19.0\n",
       "11                         doc-sprint  0.875688   41.0\n",
       "81                            feature  0.678555   19.0\n",
       "57                    feature_request  0.702508   14.0\n",
       "43                   good first issue  0.657903   48.0\n",
       "7                         help wanted  0.713199  102.0\n",
       "22            improvement/enhancement  0.670356   81.0\n",
       "181                          kind/bug  0.875297  480.0\n",
       "26                    kind/discussion  0.545338   17.0\n",
       "38                   kind/enhancement  0.724563   10.0\n",
       "108                      kind/feature  0.803830  363.0\n",
       "234                      kind/process  0.767716   16.0\n",
       "27                      kind/question  0.830156   87.0\n",
       "96                       platform/aws  0.576086   19.0\n",
       "72                       platform/gcp  0.873200   85.0\n",
       "84                  platform/minikube  0.747617   12.0\n",
       "73                        priority/p0  0.726644  180.0\n",
       "85                        priority/p1  0.686845  500.0\n",
       "179                       priority/p2  0.631954  307.0\n",
       "148                       priority/p3  0.634069   20.0\n",
       "114                     release/0.2.0  0.574587   15.0\n",
       "45                      release/0.3.0  0.694674   54.0\n",
       "180                           testing  0.937556   22.0\n",
       "\n",
       "[64 rows x 3 columns]"
      ]
     },
     "metadata": {},
     "output_type": "display_data"
    },
    {
     "name": "stdout",
     "output_type": "stream",
     "text": [
      "Weighted Average AUC: 0.7596734653267538\n"
     ]
    }
   ],
   "source": [
    "mlp_predictions = clf.predict_proba(X_test)\n",
    "mlp_df, mlp_auc = mlp.calculate_auc(mlp_predictions, y_test, target_labels)"
   ]
  },
  {
   "cell_type": "markdown",
   "metadata": {},
   "source": [
    "## Qualitative Analysis of the Model\n",
    "\n",
    "* To evaluate the model we can fetch some issues and generate predictions for them"
   ]
  },
  {
   "cell_type": "code",
   "execution_count": 49,
   "metadata": {},
   "outputs": [],
   "source": [
    "from code_intelligence import util as code_intelligence_util\n",
    "from code_intelligence import embeddings\n",
    "from code_intelligence import graphql\n",
    "from code_intelligence import inference"
   ]
  },
  {
   "cell_type": "code",
   "execution_count": 310,
   "metadata": {},
   "outputs": [
    {
     "data": {
      "text/plain": [
       "<module 'code_intelligence.embeddings' from '/home/jovyan/git_kubeflow-code-intelligence/py/code_intelligence/embeddings.py'>"
      ]
     },
     "execution_count": 310,
     "metadata": {},
     "output_type": "execute_result"
    }
   ],
   "source": [
    "reload(embeddings)"
   ]
  },
  {
   "cell_type": "code",
   "execution_count": 29,
   "metadata": {},
   "outputs": [
    {
     "data": {
      "text/plain": [
       "'/home/jovyan/data'"
      ]
     },
     "execution_count": 29,
     "metadata": {},
     "output_type": "execute_result"
    }
   ],
   "source": [
    "data_dir"
   ]
  },
  {
   "cell_type": "code",
   "execution_count": 31,
   "metadata": {},
   "outputs": [
    {
     "data": {
      "text/plain": [
       "'https://storage.googleapis.com/issue_label_bot/model/lang_model/models_22zkdqlr/trained_model_22zkdqlr.pkl'"
      ]
     },
     "execution_count": 31,
     "metadata": {},
     "output_type": "execute_result"
    }
   ],
   "source": [
    "LANGUAGE_MODEL_URL"
   ]
  },
  {
   "cell_type": "code",
   "execution_count": 36,
   "metadata": {},
   "outputs": [],
   "source": [
    "def pass_through(x):\n",
    "    return x\n",
    "\n",
    "# TODO(jlewi): We should download the file if the local file doesn't exist\n",
    "local_model_file = os.path.basename(LANGUAGE_MODEL_URL)\n",
    "\n",
    "# model_url = 'https://storage.googleapis.com/issue_label_bot/model/lang_model/models_22zkdqlr/trained_model_22zkdqlr.pkl'\n",
    "local_model_dir = os.path.join(data_dir, \"language_model\")\n",
    "\n",
    "if not os.path.exists(os.path.join(local_model_dir, local_model_file)):\n",
    "    if not os.path.exists(local_model_dir):\n",
    "        os.makedirs(local_model_dir)\n",
    "    gcs_util.copy_from_gcs(LANGUAGE_MODEL_URL, os.path.join(local_model_dir, local_model_file))\n",
    "\n",
    "inference_wrapper = inference.InferenceWrapper(model_path=local_model_dir, model_file_name=local_model_file)"
   ]
  },
  {
   "cell_type": "code",
   "execution_count": 37,
   "metadata": {},
   "outputs": [
    {
     "name": "stderr",
     "output_type": "stream",
     "text": [
      "GraphQLClient is defaulting to FixedAccessTokenGenerator based on environment variables. This is deprecated. Caller should explicitly pass in a instance via header_generator. Traceback:\n",
      "<function extract_stack at 0x7f18e59c76a8>\n"
     ]
    }
   ],
   "source": [
    "if not os.getenv(\"GITHUB_TOKEN\"):\n",
    "    raise ValueError(f\"No GitHub token specified\")   \n",
    "else:\n",
    "    gh_client = graphql.GraphQLClient()"
   ]
  },
  {
   "cell_type": "code",
   "execution_count": 53,
   "metadata": {},
   "outputs": [
    {
     "data": {
      "text/html": [
       "<div>\n",
       "<style scoped>\n",
       "    .dataframe tbody tr th:only-of-type {\n",
       "        vertical-align: middle;\n",
       "    }\n",
       "\n",
       "    .dataframe tbody tr th {\n",
       "        vertical-align: top;\n",
       "    }\n",
       "\n",
       "    .dataframe thead th {\n",
       "        text-align: right;\n",
       "    }\n",
       "</style>\n",
       "<table border=\"1\" class=\"dataframe\">\n",
       "  <thead>\n",
       "    <tr style=\"text-align: right;\">\n",
       "      <th></th>\n",
       "      <th>probabilities</th>\n",
       "      <th>labels</th>\n",
       "    </tr>\n",
       "  </thead>\n",
       "  <tbody>\n",
       "    <tr>\n",
       "      <th>181</th>\n",
       "      <td>0.958053</td>\n",
       "      <td>kind/bug</td>\n",
       "    </tr>\n",
       "    <tr>\n",
       "      <th>243</th>\n",
       "      <td>0.154085</td>\n",
       "      <td>area/kfctl</td>\n",
       "    </tr>\n",
       "    <tr>\n",
       "      <th>85</th>\n",
       "      <td>0.142676</td>\n",
       "      <td>priority/p1</td>\n",
       "    </tr>\n",
       "    <tr>\n",
       "      <th>72</th>\n",
       "      <td>0.114866</td>\n",
       "      <td>platform/gcp</td>\n",
       "    </tr>\n",
       "    <tr>\n",
       "      <th>179</th>\n",
       "      <td>0.113417</td>\n",
       "      <td>priority/p2</td>\n",
       "    </tr>\n",
       "    <tr>\n",
       "      <th>73</th>\n",
       "      <td>0.087836</td>\n",
       "      <td>priority/p0</td>\n",
       "    </tr>\n",
       "    <tr>\n",
       "      <th>30</th>\n",
       "      <td>0.056801</td>\n",
       "      <td>community/question</td>\n",
       "    </tr>\n",
       "    <tr>\n",
       "      <th>27</th>\n",
       "      <td>0.037530</td>\n",
       "      <td>kind/question</td>\n",
       "    </tr>\n",
       "    <tr>\n",
       "      <th>51</th>\n",
       "      <td>0.015242</td>\n",
       "      <td>area/bootstrap</td>\n",
       "    </tr>\n",
       "    <tr>\n",
       "      <th>108</th>\n",
       "      <td>0.013784</td>\n",
       "      <td>kind/feature</td>\n",
       "    </tr>\n",
       "    <tr>\n",
       "      <th>43</th>\n",
       "      <td>0.013541</td>\n",
       "      <td>good first issue</td>\n",
       "    </tr>\n",
       "    <tr>\n",
       "      <th>8</th>\n",
       "      <td>0.013455</td>\n",
       "      <td>area/docs</td>\n",
       "    </tr>\n",
       "    <tr>\n",
       "      <th>109</th>\n",
       "      <td>0.012552</td>\n",
       "      <td>area/katib</td>\n",
       "    </tr>\n",
       "    <tr>\n",
       "      <th>177</th>\n",
       "      <td>0.011179</td>\n",
       "      <td>area/pipelines</td>\n",
       "    </tr>\n",
       "    <tr>\n",
       "      <th>53</th>\n",
       "      <td>0.009116</td>\n",
       "      <td>area/kustomize</td>\n",
       "    </tr>\n",
       "    <tr>\n",
       "      <th>66</th>\n",
       "      <td>0.007146</td>\n",
       "      <td>area/jupyter</td>\n",
       "    </tr>\n",
       "    <tr>\n",
       "      <th>22</th>\n",
       "      <td>0.006907</td>\n",
       "      <td>improvement/enhancement</td>\n",
       "    </tr>\n",
       "    <tr>\n",
       "      <th>0</th>\n",
       "      <td>0.006834</td>\n",
       "      <td>area/backend</td>\n",
       "    </tr>\n",
       "    <tr>\n",
       "      <th>10</th>\n",
       "      <td>0.006017</td>\n",
       "      <td>area/istio</td>\n",
       "    </tr>\n",
       "    <tr>\n",
       "      <th>186</th>\n",
       "      <td>0.005850</td>\n",
       "      <td>area/frontend</td>\n",
       "    </tr>\n",
       "    <tr>\n",
       "      <th>11</th>\n",
       "      <td>0.005842</td>\n",
       "      <td>doc-sprint</td>\n",
       "    </tr>\n",
       "    <tr>\n",
       "      <th>137</th>\n",
       "      <td>0.005688</td>\n",
       "      <td>area/sdk</td>\n",
       "    </tr>\n",
       "    <tr>\n",
       "      <th>192</th>\n",
       "      <td>0.004366</td>\n",
       "      <td>area/tfjob</td>\n",
       "    </tr>\n",
       "    <tr>\n",
       "      <th>7</th>\n",
       "      <td>0.004256</td>\n",
       "      <td>help wanted</td>\n",
       "    </tr>\n",
       "    <tr>\n",
       "      <th>180</th>\n",
       "      <td>0.003859</td>\n",
       "      <td>testing</td>\n",
       "    </tr>\n",
       "    <tr>\n",
       "      <th>23</th>\n",
       "      <td>0.003487</td>\n",
       "      <td>area/inference</td>\n",
       "    </tr>\n",
       "    <tr>\n",
       "      <th>45</th>\n",
       "      <td>0.003437</td>\n",
       "      <td>release/0.3.0</td>\n",
       "    </tr>\n",
       "    <tr>\n",
       "      <th>84</th>\n",
       "      <td>0.003216</td>\n",
       "      <td>platform/minikube</td>\n",
       "    </tr>\n",
       "    <tr>\n",
       "      <th>96</th>\n",
       "      <td>0.003182</td>\n",
       "      <td>platform/aws</td>\n",
       "    </tr>\n",
       "    <tr>\n",
       "      <th>3</th>\n",
       "      <td>0.003166</td>\n",
       "      <td>area/engprod</td>\n",
       "    </tr>\n",
       "    <tr>\n",
       "      <th>...</th>\n",
       "      <td>...</td>\n",
       "      <td>...</td>\n",
       "    </tr>\n",
       "    <tr>\n",
       "      <th>2</th>\n",
       "      <td>0.002620</td>\n",
       "      <td>area/0.4.0</td>\n",
       "    </tr>\n",
       "    <tr>\n",
       "      <th>183</th>\n",
       "      <td>0.002547</td>\n",
       "      <td>area/testing</td>\n",
       "    </tr>\n",
       "    <tr>\n",
       "      <th>234</th>\n",
       "      <td>0.002250</td>\n",
       "      <td>kind/process</td>\n",
       "    </tr>\n",
       "    <tr>\n",
       "      <th>114</th>\n",
       "      <td>0.002228</td>\n",
       "      <td>release/0.2.0</td>\n",
       "    </tr>\n",
       "    <tr>\n",
       "      <th>40</th>\n",
       "      <td>0.002095</td>\n",
       "      <td>area/sdk/dsl</td>\n",
       "    </tr>\n",
       "    <tr>\n",
       "      <th>194</th>\n",
       "      <td>0.002001</td>\n",
       "      <td>area/metadata</td>\n",
       "    </tr>\n",
       "    <tr>\n",
       "      <th>57</th>\n",
       "      <td>0.001837</td>\n",
       "      <td>feature_request</td>\n",
       "    </tr>\n",
       "    <tr>\n",
       "      <th>20</th>\n",
       "      <td>0.001555</td>\n",
       "      <td>area/0.5.0</td>\n",
       "    </tr>\n",
       "    <tr>\n",
       "      <th>59</th>\n",
       "      <td>0.001475</td>\n",
       "      <td>area/centraldashboard</td>\n",
       "    </tr>\n",
       "    <tr>\n",
       "      <th>9</th>\n",
       "      <td>0.001471</td>\n",
       "      <td>area/enterprise_readiness</td>\n",
       "    </tr>\n",
       "    <tr>\n",
       "      <th>26</th>\n",
       "      <td>0.001466</td>\n",
       "      <td>kind/discussion</td>\n",
       "    </tr>\n",
       "    <tr>\n",
       "      <th>156</th>\n",
       "      <td>0.001275</td>\n",
       "      <td>area/ksonnet</td>\n",
       "    </tr>\n",
       "    <tr>\n",
       "      <th>12</th>\n",
       "      <td>0.001224</td>\n",
       "      <td>area/example/code_search</td>\n",
       "    </tr>\n",
       "    <tr>\n",
       "      <th>65</th>\n",
       "      <td>0.001171</td>\n",
       "      <td>area/operator</td>\n",
       "    </tr>\n",
       "    <tr>\n",
       "      <th>148</th>\n",
       "      <td>0.001167</td>\n",
       "      <td>priority/p3</td>\n",
       "    </tr>\n",
       "    <tr>\n",
       "      <th>36</th>\n",
       "      <td>0.001126</td>\n",
       "      <td>area/1.0.0</td>\n",
       "    </tr>\n",
       "    <tr>\n",
       "      <th>28</th>\n",
       "      <td>0.001069</td>\n",
       "      <td>area/sdk/components</td>\n",
       "    </tr>\n",
       "    <tr>\n",
       "      <th>38</th>\n",
       "      <td>0.001063</td>\n",
       "      <td>kind/enhancement</td>\n",
       "    </tr>\n",
       "    <tr>\n",
       "      <th>24</th>\n",
       "      <td>0.000859</td>\n",
       "      <td>area/components</td>\n",
       "    </tr>\n",
       "    <tr>\n",
       "      <th>146</th>\n",
       "      <td>0.000858</td>\n",
       "      <td>cuj/build-train-deploy</td>\n",
       "    </tr>\n",
       "    <tr>\n",
       "      <th>34</th>\n",
       "      <td>0.000857</td>\n",
       "      <td>area/build-release</td>\n",
       "    </tr>\n",
       "    <tr>\n",
       "      <th>81</th>\n",
       "      <td>0.000812</td>\n",
       "      <td>feature</td>\n",
       "    </tr>\n",
       "    <tr>\n",
       "      <th>13</th>\n",
       "      <td>0.000799</td>\n",
       "      <td>area/0.3.0</td>\n",
       "    </tr>\n",
       "    <tr>\n",
       "      <th>19</th>\n",
       "      <td>0.000752</td>\n",
       "      <td>area/api</td>\n",
       "    </tr>\n",
       "    <tr>\n",
       "      <th>16</th>\n",
       "      <td>0.000713</td>\n",
       "      <td>area/samples</td>\n",
       "    </tr>\n",
       "    <tr>\n",
       "      <th>70</th>\n",
       "      <td>0.000630</td>\n",
       "      <td>area/sdk/client</td>\n",
       "    </tr>\n",
       "    <tr>\n",
       "      <th>182</th>\n",
       "      <td>0.000528</td>\n",
       "      <td>community/discussion</td>\n",
       "    </tr>\n",
       "    <tr>\n",
       "      <th>5</th>\n",
       "      <td>0.000408</td>\n",
       "      <td>area/example/issue_summarization</td>\n",
       "    </tr>\n",
       "    <tr>\n",
       "      <th>1</th>\n",
       "      <td>0.000259</td>\n",
       "      <td>addition/feature</td>\n",
       "    </tr>\n",
       "    <tr>\n",
       "      <th>88</th>\n",
       "      <td>0.000199</td>\n",
       "      <td>cuj/multi-user</td>\n",
       "    </tr>\n",
       "  </tbody>\n",
       "</table>\n",
       "<p>64 rows × 2 columns</p>\n",
       "</div>"
      ],
      "text/plain": [
       "     probabilities                            labels\n",
       "181       0.958053                          kind/bug\n",
       "243       0.154085                        area/kfctl\n",
       "85        0.142676                       priority/p1\n",
       "72        0.114866                      platform/gcp\n",
       "179       0.113417                       priority/p2\n",
       "73        0.087836                       priority/p0\n",
       "30        0.056801                community/question\n",
       "27        0.037530                     kind/question\n",
       "51        0.015242                    area/bootstrap\n",
       "108       0.013784                      kind/feature\n",
       "43        0.013541                  good first issue\n",
       "8         0.013455                         area/docs\n",
       "109       0.012552                        area/katib\n",
       "177       0.011179                    area/pipelines\n",
       "53        0.009116                    area/kustomize\n",
       "66        0.007146                      area/jupyter\n",
       "22        0.006907           improvement/enhancement\n",
       "0         0.006834                      area/backend\n",
       "10        0.006017                        area/istio\n",
       "186       0.005850                     area/frontend\n",
       "11        0.005842                        doc-sprint\n",
       "137       0.005688                          area/sdk\n",
       "192       0.004366                        area/tfjob\n",
       "7         0.004256                       help wanted\n",
       "180       0.003859                           testing\n",
       "23        0.003487                    area/inference\n",
       "45        0.003437                     release/0.3.0\n",
       "84        0.003216                 platform/minikube\n",
       "96        0.003182                      platform/aws\n",
       "3         0.003166                      area/engprod\n",
       "..             ...                               ...\n",
       "2         0.002620                        area/0.4.0\n",
       "183       0.002547                      area/testing\n",
       "234       0.002250                      kind/process\n",
       "114       0.002228                     release/0.2.0\n",
       "40        0.002095                      area/sdk/dsl\n",
       "194       0.002001                     area/metadata\n",
       "57        0.001837                   feature_request\n",
       "20        0.001555                        area/0.5.0\n",
       "59        0.001475             area/centraldashboard\n",
       "9         0.001471         area/enterprise_readiness\n",
       "26        0.001466                   kind/discussion\n",
       "156       0.001275                      area/ksonnet\n",
       "12        0.001224          area/example/code_search\n",
       "65        0.001171                     area/operator\n",
       "148       0.001167                       priority/p3\n",
       "36        0.001126                        area/1.0.0\n",
       "28        0.001069               area/sdk/components\n",
       "38        0.001063                  kind/enhancement\n",
       "24        0.000859                   area/components\n",
       "146       0.000858            cuj/build-train-deploy\n",
       "34        0.000857                area/build-release\n",
       "81        0.000812                           feature\n",
       "13        0.000799                        area/0.3.0\n",
       "19        0.000752                          area/api\n",
       "16        0.000713                      area/samples\n",
       "70        0.000630                   area/sdk/client\n",
       "182       0.000528              community/discussion\n",
       "5         0.000408  area/example/issue_summarization\n",
       "1         0.000259                  addition/feature\n",
       "88        0.000199                    cuj/multi-user\n",
       "\n",
       "[64 rows x 2 columns]"
      ]
     },
     "execution_count": 53,
     "metadata": {},
     "output_type": "execute_result"
    }
   ],
   "source": [
    "issue_url = \"https://github.com/kubeflow/kubeflow/issues/4972\"\n",
    "issue_dict= embeddings.get_issue(issue_url, gh_client)\n",
    "dict_for_embeddings = inference_wrapper.process_dict(issue_dict)\n",
    "embedding_data = inference_wrapper.get_pooled_features(dict_for_embeddings['text']).detach().cpu().numpy()\n",
    "predictions = clf.predict_proba(embedding_data)\n",
    "p = pd.DataFrame({\"probabilities\": predictions[0, :], \"labels\": target_labels})\n",
    "p.sort_values(\"probabilities\", ascending=False)"
   ]
  },
  {
   "cell_type": "markdown",
   "metadata": {},
   "source": [
    "## Compute Best Thresholds\n",
    "\n",
    "* TODO(jlewi): This code is based on copied/duplicated from label_microservice.mlp"
   ]
  },
  {
   "cell_type": "code",
   "execution_count": 124,
   "metadata": {},
   "outputs": [],
   "source": [
    "from sklearn.metrics import precision_recall_curve"
   ]
  },
  {
   "cell_type": "code",
   "execution_count": 350,
   "metadata": {},
   "outputs": [],
   "source": [
    "# Lets select those points in the test set that have one of the labels of interest\n",
    "label_indexes = []\n",
    "\n",
    "for i in range(target_labels.size):\n",
    "    name = target_labels.iloc[i]\n",
    "    \n",
    "    keep_label = False\n",
    "    for p in [\"area\", \"platform\"]:                         \n",
    "        if name.startswith(p):\n",
    "            keep_label = True\n",
    "    \n",
    "    if keep_label:\n",
    "        label_indexes.append(i)\n",
    "        \n"
   ]
  },
  {
   "cell_type": "markdown",
   "metadata": {},
   "source": [
    "* Select which points to use to evaluate the ROC\n",
    "* * One problem is that our test/train set is probably underreporting true positives;\n",
    "  * i.e. if an issue has a label applied; that is a high degree of confidence that the label is correct (as it was probably added by a human)\n",
    "  * The converse is not true; if an issue lacks labels that is not a strong signal the label doesn't apply because not all issues are properly labeled; e.g. if an issue is closed before being triaged it may not have had labels applied.\n",
    "* To address this we only look at an issue with at least one area, kind or platform label\n",
    "   "
   ]
  },
  {
   "cell_type": "code",
   "execution_count": 351,
   "metadata": {},
   "outputs": [],
   "source": [
    "has_label_of_interest = np.sum(y_test[:, label_indexes], axis=1) > 0\n",
    "\n",
    "X_test_of_interest = X_test[has_label_of_interest, :]\n",
    "y_test_of_interest = y_test[has_label_of_interest, :]"
   ]
  },
  {
   "cell_type": "code",
   "execution_count": 356,
   "metadata": {},
   "outputs": [],
   "source": [
    "#y_pred = clf.predict_proba(X_test)\n",
    "y_pred = clf.predict_proba(X_test_of_interest)\n",
    "\n",
    "# Choose a ridiculously low precision_threshold otherwise most labels will end up not having a threshold and we will never generate predictions for that \n",
    "# label. Arguably if we erroneously start applying labels to issues; those will hopefully get corrected by humans and we can eventually use that\n",
    "# to improve the model.\n",
    "precision_threshold = .3\n",
    "recall_threshold = .25\n",
    "probability_thresholds = {}\n",
    "precisions = {}\n",
    "recalls = {}\n",
    "\n",
    "results = pd.DataFrame({\"label\":  target_labels, \"precision\":[None] * target_labels.size,\n",
    "                        \"recall\":[None] * target_labels.size})\n",
    "\n",
    "# Default to a threshold of 1 so that the label will never be applied\n",
    "label_thresholds = np.ones(target_labels.size)\n",
    "\n",
    "for label in range(target_labels.size):\n",
    "    # find the probability for each label\n",
    "    best_precision, best_recall, best_threshold = 0.0, 0.0, 1\n",
    "    #precision, recall, threshold = precision_recall_curve(y_test[:, label], y_pred[:, label])\n",
    "    precision, recall, threshold = precision_recall_curve(y_test_of_interest[:, label], y_pred[:, label])\n",
    "    \n",
    "    results[\"precision\"].iloc[label] = precision\n",
    "    results[\"recall\"].iloc[label] = recall\n",
    "    \n",
    "    for prec, reca, thre in zip(precision[:-1], recall[:-1], threshold):\n",
    "        # precision, recall must meet two thresholds respecitively\n",
    "        if prec >= precision_threshold and reca >= recall_threshold:\n",
    "            # choose the threshold with the higher precision\n",
    "            if prec > best_precision:\n",
    "                best_precision = prec\n",
    "                best_recall = reca\n",
    "                best_threshold = thre\n",
    "    # self.probability_thresholds is a dict {label_index: probability_threshold}\n",
    "    # If probability_thresholds[label] is None, do not predict this label always, which\n",
    "    # means this label is in the excluded list because it does not satisfy\n",
    "    # both of the precision and recall thresholds\n",
    "    label_thresholds[label]=best_threshold\n",
    "    probability_thresholds[label] = best_threshold\n",
    "    precisions[label] = best_precision\n",
    "    recalls[label] = best_recall\n"
   ]
  },
  {
   "cell_type": "code",
   "execution_count": null,
   "metadata": {},
   "outputs": [],
   "source": [
    "## Plot Precision and recall for various labels"
   ]
  },
  {
   "cell_type": "code",
   "execution_count": 353,
   "metadata": {},
   "outputs": [
    {
     "data": {
      "text/html": [
       "\n",
       "<div id=\"altair-viz-554c04d1a323440eb3167ad0b1b1bf3d\"></div>\n",
       "<script type=\"text/javascript\">\n",
       "  (function(spec, embedOpt){\n",
       "    const outputDiv = document.getElementById(\"altair-viz-554c04d1a323440eb3167ad0b1b1bf3d\");\n",
       "    const paths = {\n",
       "      \"vega\": \"https://cdn.jsdelivr.net/npm//vega@5?noext\",\n",
       "      \"vega-lib\": \"https://cdn.jsdelivr.net/npm//vega-lib?noext\",\n",
       "      \"vega-lite\": \"https://cdn.jsdelivr.net/npm//vega-lite@4.0.2?noext\",\n",
       "      \"vega-embed\": \"https://cdn.jsdelivr.net/npm//vega-embed@6?noext\",\n",
       "    };\n",
       "\n",
       "    function loadScript(lib) {\n",
       "      return new Promise(function(resolve, reject) {\n",
       "        var s = document.createElement('script');\n",
       "        s.src = paths[lib];\n",
       "        s.async = true;\n",
       "        s.onload = () => resolve(paths[lib]);\n",
       "        s.onerror = () => reject(`Error loading script: ${paths[lib]}`);\n",
       "        document.getElementsByTagName(\"head\")[0].appendChild(s);\n",
       "      });\n",
       "    }\n",
       "\n",
       "    function showError(err) {\n",
       "      outputDiv.innerHTML = `<div class=\"error\" style=\"color:red;\">${err}</div>`;\n",
       "      throw err;\n",
       "    }\n",
       "\n",
       "    function displayChart(vegaEmbed) {\n",
       "      vegaEmbed(outputDiv, spec, embedOpt)\n",
       "        .catch(err => showError(`Javascript Error: ${err.message}<br>This usually means there's a typo in your chart specification. See the javascript console for the full traceback.`));\n",
       "    }\n",
       "\n",
       "    if(typeof define === \"function\" && define.amd) {\n",
       "      requirejs.config({paths});\n",
       "      require([\"vega-embed\"], displayChart, err => showError(`Error loading script: ${err.message}`));\n",
       "    } else if (typeof vegaEmbed === \"function\") {\n",
       "      displayChart(vegaEmbed);\n",
       "    } else {\n",
       "      loadScript(\"vega\")\n",
       "        .then(() => loadScript(\"vega-lite\"))\n",
       "        .then(() => loadScript(\"vega-embed\"))\n",
       "        .catch(showError)\n",
       "        .then(() => displayChart(vegaEmbed));\n",
       "    }\n",
       "  })({\"config\": {\"view\": {\"continuousWidth\": 400, \"continuousHeight\": 300}}, \"data\": {\"name\": \"data-b5b31c0bdeca353d67aea9afe9484417\"}, \"mark\": \"line\", \"encoding\": {\"color\": {\"type\": \"nominal\", \"field\": \"label\"}, \"x\": {\"type\": \"quantitative\", \"field\": \"recall\"}, \"y\": {\"type\": \"quantitative\", \"field\": \"precision\"}}, \"selection\": {\"selector028\": {\"type\": \"interval\", \"bind\": \"scales\", \"encodings\": [\"x\", \"y\"]}}, \"$schema\": \"https://vega.github.io/schema/vega-lite/v4.0.2.json\", \"datasets\": {\"data-b5b31c0bdeca353d67aea9afe9484417\": [{\"precision\": 0.1193058568329718, \"recall\": 1.0, \"label\": \"area/jupyter\"}, {\"precision\": 0.11951754385964912, \"recall\": 0.990909090909091, \"label\": \"area/jupyter\"}, {\"precision\": 0.12084257206208426, \"recall\": 0.990909090909091, \"label\": \"area/jupyter\"}, {\"precision\": 0.12219730941704036, \"recall\": 0.990909090909091, \"label\": \"area/jupyter\"}, {\"precision\": 0.1235827664399093, \"recall\": 0.990909090909091, \"label\": \"area/jupyter\"}, {\"precision\": 0.125, \"recall\": 0.990909090909091, \"label\": \"area/jupyter\"}, {\"precision\": 0.12529002320185614, \"recall\": 0.9818181818181818, \"label\": \"area/jupyter\"}, {\"precision\": 0.1267605633802817, \"recall\": 0.9818181818181818, \"label\": \"area/jupyter\"}, {\"precision\": 0.12826603325415678, \"recall\": 0.9818181818181818, \"label\": \"area/jupyter\"}, {\"precision\": 0.12980769230769232, \"recall\": 0.9818181818181818, \"label\": \"area/jupyter\"}, {\"precision\": 0.13138686131386862, \"recall\": 0.9818181818181818, \"label\": \"area/jupyter\"}, {\"precision\": 0.1330049261083744, \"recall\": 0.9818181818181818, \"label\": \"area/jupyter\"}, {\"precision\": 0.13466334164588528, \"recall\": 0.9818181818181818, \"label\": \"area/jupyter\"}, {\"precision\": 0.13636363636363635, \"recall\": 0.9818181818181818, \"label\": \"area/jupyter\"}, {\"precision\": 0.13810741687979539, \"recall\": 0.9818181818181818, \"label\": \"area/jupyter\"}, {\"precision\": 0.13989637305699482, \"recall\": 0.9818181818181818, \"label\": \"area/jupyter\"}, {\"precision\": 0.14173228346456693, \"recall\": 0.9818181818181818, \"label\": \"area/jupyter\"}, {\"precision\": 0.14361702127659576, \"recall\": 0.9818181818181818, \"label\": \"area/jupyter\"}, {\"precision\": 0.14555256064690028, \"recall\": 0.9818181818181818, \"label\": \"area/jupyter\"}, {\"precision\": 0.14754098360655737, \"recall\": 0.9818181818181818, \"label\": \"area/jupyter\"}, {\"precision\": 0.14958448753462603, \"recall\": 0.9818181818181818, \"label\": \"area/jupyter\"}, {\"precision\": 0.15168539325842698, \"recall\": 0.9818181818181818, \"label\": \"area/jupyter\"}, {\"precision\": 0.15384615384615385, \"recall\": 0.9818181818181818, \"label\": \"area/jupyter\"}, {\"precision\": 0.15606936416184972, \"recall\": 0.9818181818181818, \"label\": \"area/jupyter\"}, {\"precision\": 0.15835777126099707, \"recall\": 0.9818181818181818, \"label\": \"area/jupyter\"}, {\"precision\": 0.16071428571428573, \"recall\": 0.9818181818181818, \"label\": \"area/jupyter\"}, {\"precision\": 0.16314199395770393, \"recall\": 0.9818181818181818, \"label\": \"area/jupyter\"}, {\"precision\": 0.1656441717791411, \"recall\": 0.9818181818181818, \"label\": \"area/jupyter\"}, {\"precision\": 0.16822429906542055, \"recall\": 0.9818181818181818, \"label\": \"area/jupyter\"}, {\"precision\": 0.17088607594936708, \"recall\": 0.9818181818181818, \"label\": \"area/jupyter\"}, {\"precision\": 0.17363344051446947, \"recall\": 0.9818181818181818, \"label\": \"area/jupyter\"}, {\"precision\": 0.17647058823529413, \"recall\": 0.9818181818181818, \"label\": \"area/jupyter\"}, {\"precision\": 0.17940199335548174, \"recall\": 0.9818181818181818, \"label\": \"area/jupyter\"}, {\"precision\": 0.18243243243243243, \"recall\": 0.9818181818181818, \"label\": \"area/jupyter\"}, {\"precision\": 0.18556701030927836, \"recall\": 0.9818181818181818, \"label\": \"area/jupyter\"}, {\"precision\": 0.1888111888111888, \"recall\": 0.9818181818181818, \"label\": \"area/jupyter\"}, {\"precision\": 0.19217081850533807, \"recall\": 0.9818181818181818, \"label\": \"area/jupyter\"}, {\"precision\": 0.1956521739130435, \"recall\": 0.9818181818181818, \"label\": \"area/jupyter\"}, {\"precision\": 0.1992619926199262, \"recall\": 0.9818181818181818, \"label\": \"area/jupyter\"}, {\"precision\": 0.20300751879699247, \"recall\": 0.9818181818181818, \"label\": \"area/jupyter\"}, {\"precision\": 0.20689655172413793, \"recall\": 0.9818181818181818, \"label\": \"area/jupyter\"}, {\"precision\": 0.2109375, \"recall\": 0.9818181818181818, \"label\": \"area/jupyter\"}, {\"precision\": 0.21314741035856574, \"recall\": 0.9727272727272728, \"label\": \"area/jupyter\"}, {\"precision\": 0.21747967479674796, \"recall\": 0.9727272727272728, \"label\": \"area/jupyter\"}, {\"precision\": 0.22199170124481327, \"recall\": 0.9727272727272728, \"label\": \"area/jupyter\"}, {\"precision\": 0.2266949152542373, \"recall\": 0.9727272727272728, \"label\": \"area/jupyter\"}, {\"precision\": 0.23160173160173161, \"recall\": 0.9727272727272728, \"label\": \"area/jupyter\"}, {\"precision\": 0.23672566371681417, \"recall\": 0.9727272727272728, \"label\": \"area/jupyter\"}, {\"precision\": 0.2420814479638009, \"recall\": 0.9727272727272728, \"label\": \"area/jupyter\"}, {\"precision\": 0.24768518518518517, \"recall\": 0.9727272727272728, \"label\": \"area/jupyter\"}, {\"precision\": 0.25355450236966826, \"recall\": 0.9727272727272728, \"label\": \"area/jupyter\"}, {\"precision\": 0.25970873786407767, \"recall\": 0.9727272727272728, \"label\": \"area/jupyter\"}, {\"precision\": 0.26616915422885573, \"recall\": 0.9727272727272728, \"label\": \"area/jupyter\"}, {\"precision\": 0.2729591836734694, \"recall\": 0.9727272727272728, \"label\": \"area/jupyter\"}, {\"precision\": 0.27486910994764396, \"recall\": 0.9545454545454546, \"label\": \"area/jupyter\"}, {\"precision\": 0.28225806451612906, \"recall\": 0.9545454545454546, \"label\": \"area/jupyter\"}, {\"precision\": 0.2900552486187845, \"recall\": 0.9545454545454546, \"label\": \"area/jupyter\"}, {\"precision\": 0.29829545454545453, \"recall\": 0.9545454545454546, \"label\": \"area/jupyter\"}, {\"precision\": 0.30701754385964913, \"recall\": 0.9545454545454546, \"label\": \"area/jupyter\"}, {\"precision\": 0.31626506024096385, \"recall\": 0.9545454545454546, \"label\": \"area/jupyter\"}, {\"precision\": 0.32608695652173914, \"recall\": 0.9545454545454546, \"label\": \"area/jupyter\"}, {\"precision\": 0.33653846153846156, \"recall\": 0.9545454545454546, \"label\": \"area/jupyter\"}, {\"precision\": 0.3443708609271523, \"recall\": 0.9454545454545454, \"label\": \"area/jupyter\"}, {\"precision\": 0.3493150684931507, \"recall\": 0.9272727272727272, \"label\": \"area/jupyter\"}, {\"precision\": 0.3617021276595745, \"recall\": 0.9272727272727272, \"label\": \"area/jupyter\"}, {\"precision\": 0.375, \"recall\": 0.9272727272727272, \"label\": \"area/jupyter\"}, {\"precision\": 0.38549618320610685, \"recall\": 0.9181818181818182, \"label\": \"area/jupyter\"}, {\"precision\": 0.4007936507936508, \"recall\": 0.9181818181818182, \"label\": \"area/jupyter\"}, {\"precision\": 0.4132231404958678, \"recall\": 0.9090909090909091, \"label\": \"area/jupyter\"}, {\"precision\": 0.43103448275862066, \"recall\": 0.9090909090909091, \"label\": \"area/jupyter\"}, {\"precision\": 0.44594594594594594, \"recall\": 0.9, \"label\": \"area/jupyter\"}, {\"precision\": 0.4669811320754717, \"recall\": 0.9, \"label\": \"area/jupyter\"}, {\"precision\": 0.48514851485148514, \"recall\": 0.8909090909090909, \"label\": \"area/jupyter\"}, {\"precision\": 0.5052083333333334, \"recall\": 0.8818181818181818, \"label\": \"area/jupyter\"}, {\"precision\": 0.532967032967033, \"recall\": 0.8818181818181818, \"label\": \"area/jupyter\"}, {\"precision\": 0.563953488372093, \"recall\": 0.8818181818181818, \"label\": \"area/jupyter\"}, {\"precision\": 0.5864197530864198, \"recall\": 0.8636363636363636, \"label\": \"area/jupyter\"}, {\"precision\": 0.618421052631579, \"recall\": 0.8545454545454545, \"label\": \"area/jupyter\"}, {\"precision\": 0.6549295774647887, \"recall\": 0.8454545454545455, \"label\": \"area/jupyter\"}, {\"precision\": 0.6818181818181818, \"recall\": 0.8181818181818182, \"label\": \"area/jupyter\"}, {\"precision\": 0.7213114754098361, \"recall\": 0.8, \"label\": \"area/jupyter\"}, {\"precision\": 0.7589285714285714, \"recall\": 0.7727272727272727, \"label\": \"area/jupyter\"}, {\"precision\": 0.803921568627451, \"recall\": 0.7454545454545455, \"label\": \"area/jupyter\"}, {\"precision\": 0.8260869565217391, \"recall\": 0.6909090909090909, \"label\": \"area/jupyter\"}, {\"precision\": 0.8658536585365854, \"recall\": 0.6454545454545455, \"label\": \"area/jupyter\"}, {\"precision\": 0.875, \"recall\": 0.5727272727272728, \"label\": \"area/jupyter\"}, {\"precision\": 0.8870967741935484, \"recall\": 0.5, \"label\": \"area/jupyter\"}, {\"precision\": 0.9038461538461539, \"recall\": 0.42727272727272725, \"label\": \"area/jupyter\"}, {\"precision\": 0.9523809523809523, \"recall\": 0.36363636363636365, \"label\": \"area/jupyter\"}, {\"precision\": 0.96875, \"recall\": 0.2818181818181818, \"label\": \"area/jupyter\"}, {\"precision\": 1.0, \"recall\": 0.2, \"label\": \"area/jupyter\"}, {\"precision\": 1.0, \"recall\": 0.10909090909090909, \"label\": \"area/jupyter\"}, {\"precision\": 1.0, \"recall\": 0.01818181818181818, \"label\": \"area/jupyter\"}, {\"precision\": 0.17391304347826086, \"recall\": 1.0, \"label\": \"area/kfctl\"}, {\"precision\": 0.17496443812233287, \"recall\": 0.9919354838709677, \"label\": \"area/kfctl\"}, {\"precision\": 0.1774891774891775, \"recall\": 0.9919354838709677, \"label\": \"area/kfctl\"}, {\"precision\": 0.17862371888726208, \"recall\": 0.9838709677419355, \"label\": \"area/kfctl\"}, {\"precision\": 0.17979197622585438, \"recall\": 0.9758064516129032, \"label\": \"area/kfctl\"}, {\"precision\": 0.18250377073906485, \"recall\": 0.9758064516129032, \"label\": \"area/kfctl\"}, {\"precision\": 0.18529862174578868, \"recall\": 0.9758064516129032, \"label\": \"area/kfctl\"}, {\"precision\": 0.18662519440124417, \"recall\": 0.967741935483871, \"label\": \"area/kfctl\"}, {\"precision\": 0.18799368088467613, \"recall\": 0.9596774193548387, \"label\": \"area/kfctl\"}, {\"precision\": 0.18940609951845908, \"recall\": 0.9516129032258065, \"label\": \"area/kfctl\"}, {\"precision\": 0.19249592169657423, \"recall\": 0.9516129032258065, \"label\": \"area/kfctl\"}, {\"precision\": 0.1956882255389718, \"recall\": 0.9516129032258065, \"label\": \"area/kfctl\"}, {\"precision\": 0.19898819561551434, \"recall\": 0.9516129032258065, \"label\": \"area/kfctl\"}, {\"precision\": 0.2006861063464837, \"recall\": 0.9435483870967742, \"label\": \"area/kfctl\"}, {\"precision\": 0.2006980802792321, \"recall\": 0.9274193548387096, \"label\": \"area/kfctl\"}, {\"precision\": 0.20426287744227353, \"recall\": 0.9274193548387096, \"label\": \"area/kfctl\"}, {\"precision\": 0.20795660036166366, \"recall\": 0.9274193548387096, \"label\": \"area/kfctl\"}, {\"precision\": 0.20994475138121546, \"recall\": 0.9193548387096774, \"label\": \"area/kfctl\"}, {\"precision\": 0.21388367729831145, \"recall\": 0.9193548387096774, \"label\": \"area/kfctl\"}, {\"precision\": 0.21606118546845124, \"recall\": 0.9112903225806451, \"label\": \"area/kfctl\"}, {\"precision\": 0.21832358674463936, \"recall\": 0.9032258064516129, \"label\": \"area/kfctl\"}, {\"precision\": 0.22266401590457258, \"recall\": 0.9032258064516129, \"label\": \"area/kfctl\"}, {\"precision\": 0.22718052738336714, \"recall\": 0.9032258064516129, \"label\": \"area/kfctl\"}, {\"precision\": 0.2318840579710145, \"recall\": 0.9032258064516129, \"label\": \"area/kfctl\"}, {\"precision\": 0.23678646934460887, \"recall\": 0.9032258064516129, \"label\": \"area/kfctl\"}, {\"precision\": 0.23974082073434125, \"recall\": 0.8951612903225806, \"label\": \"area/kfctl\"}, {\"precision\": 0.24503311258278146, \"recall\": 0.8951612903225806, \"label\": \"area/kfctl\"}, {\"precision\": 0.24830699774266365, \"recall\": 0.8870967741935484, \"label\": \"area/kfctl\"}, {\"precision\": 0.2540415704387991, \"recall\": 0.8870967741935484, \"label\": \"area/kfctl\"}, {\"precision\": 0.2576832151300236, \"recall\": 0.8790322580645161, \"label\": \"area/kfctl\"}, {\"precision\": 0.25907990314769974, \"recall\": 0.8629032258064516, \"label\": \"area/kfctl\"}, {\"precision\": 0.2655086848635236, \"recall\": 0.8629032258064516, \"label\": \"area/kfctl\"}, {\"precision\": 0.272264631043257, \"recall\": 0.8629032258064516, \"label\": \"area/kfctl\"}, {\"precision\": 0.2793733681462141, \"recall\": 0.8629032258064516, \"label\": \"area/kfctl\"}, {\"precision\": 0.27882037533512066, \"recall\": 0.8387096774193549, \"label\": \"area/kfctl\"}, {\"precision\": 0.2837465564738292, \"recall\": 0.8306451612903226, \"label\": \"area/kfctl\"}, {\"precision\": 0.29178470254957506, \"recall\": 0.8306451612903226, \"label\": \"area/kfctl\"}, {\"precision\": 0.29737609329446063, \"recall\": 0.8225806451612904, \"label\": \"area/kfctl\"}, {\"precision\": 0.3003003003003003, \"recall\": 0.8064516129032258, \"label\": \"area/kfctl\"}, {\"precision\": 0.30030959752321984, \"recall\": 0.782258064516129, \"label\": \"area/kfctl\"}, {\"precision\": 0.3035143769968051, \"recall\": 0.7661290322580645, \"label\": \"area/kfctl\"}, {\"precision\": 0.30033003300330036, \"recall\": 0.7338709677419355, \"label\": \"area/kfctl\"}, {\"precision\": 0.30716723549488056, \"recall\": 0.7258064516129032, \"label\": \"area/kfctl\"}, {\"precision\": 0.31095406360424027, \"recall\": 0.7096774193548387, \"label\": \"area/kfctl\"}, {\"precision\": 0.31868131868131866, \"recall\": 0.7016129032258065, \"label\": \"area/kfctl\"}, {\"precision\": 0.3155893536121673, \"recall\": 0.6693548387096774, \"label\": \"area/kfctl\"}, {\"precision\": 0.31620553359683795, \"recall\": 0.6451612903225806, \"label\": \"area/kfctl\"}, {\"precision\": 0.3292181069958848, \"recall\": 0.6451612903225806, \"label\": \"area/kfctl\"}, {\"precision\": 0.33476394849785407, \"recall\": 0.6290322580645161, \"label\": \"area/kfctl\"}, {\"precision\": 0.33183856502242154, \"recall\": 0.5967741935483871, \"label\": \"area/kfctl\"}, {\"precision\": 0.3333333333333333, \"recall\": 0.5725806451612904, \"label\": \"area/kfctl\"}, {\"precision\": 0.33497536945812806, \"recall\": 0.5483870967741935, \"label\": \"area/kfctl\"}, {\"precision\": 0.33678756476683935, \"recall\": 0.5241935483870968, \"label\": \"area/kfctl\"}, {\"precision\": 0.3333333333333333, \"recall\": 0.49193548387096775, \"label\": \"area/kfctl\"}, {\"precision\": 0.35260115606936415, \"recall\": 0.49193548387096775, \"label\": \"area/kfctl\"}, {\"precision\": 0.3558282208588957, \"recall\": 0.46774193548387094, \"label\": \"area/kfctl\"}, {\"precision\": 0.35294117647058826, \"recall\": 0.43548387096774194, \"label\": \"area/kfctl\"}, {\"precision\": 0.3776223776223776, \"recall\": 0.43548387096774194, \"label\": \"area/kfctl\"}, {\"precision\": 0.39849624060150374, \"recall\": 0.4274193548387097, \"label\": \"area/kfctl\"}, {\"precision\": 0.4146341463414634, \"recall\": 0.4112903225806452, \"label\": \"area/kfctl\"}, {\"precision\": 0.4247787610619469, \"recall\": 0.3870967741935484, \"label\": \"area/kfctl\"}, {\"precision\": 0.4077669902912621, \"recall\": 0.3387096774193548, \"label\": \"area/kfctl\"}, {\"precision\": 0.41935483870967744, \"recall\": 0.31451612903225806, \"label\": \"area/kfctl\"}, {\"precision\": 0.4578313253012048, \"recall\": 0.3064516129032258, \"label\": \"area/kfctl\"}, {\"precision\": 0.4520547945205479, \"recall\": 0.2661290322580645, \"label\": \"area/kfctl\"}, {\"precision\": 0.5079365079365079, \"recall\": 0.25806451612903225, \"label\": \"area/kfctl\"}, {\"precision\": 0.5660377358490566, \"recall\": 0.24193548387096775, \"label\": \"area/kfctl\"}, {\"precision\": 0.5813953488372093, \"recall\": 0.20161290322580644, \"label\": \"area/kfctl\"}, {\"precision\": 0.5454545454545454, \"recall\": 0.14516129032258066, \"label\": \"area/kfctl\"}, {\"precision\": 0.5217391304347826, \"recall\": 0.0967741935483871, \"label\": \"area/kfctl\"}, {\"precision\": 0.6153846153846154, \"recall\": 0.06451612903225806, \"label\": \"area/kfctl\"}, {\"precision\": 0.6666666666666666, \"recall\": 0.016129032258064516, \"label\": \"area/kfctl\"}, {\"precision\": 0.036016949152542374, \"recall\": 1.0, \"label\": \"area/engprod\"}, {\"precision\": 0.035331905781584586, \"recall\": 0.9705882352941176, \"label\": \"area/engprod\"}, {\"precision\": 0.03571428571428571, \"recall\": 0.9705882352941176, \"label\": \"area/engprod\"}, {\"precision\": 0.0350109409190372, \"recall\": 0.9411764705882353, \"label\": \"area/engprod\"}, {\"precision\": 0.034292035398230086, \"recall\": 0.9117647058823529, \"label\": \"area/engprod\"}, {\"precision\": 0.03243847874720358, \"recall\": 0.8529411764705882, \"label\": \"area/engprod\"}, {\"precision\": 0.03167420814479638, \"recall\": 0.8235294117647058, \"label\": \"area/engprod\"}, {\"precision\": 0.032036613272311214, \"recall\": 0.8235294117647058, \"label\": \"area/engprod\"}, {\"precision\": 0.032407407407407406, \"recall\": 0.8235294117647058, \"label\": \"area/engprod\"}, {\"precision\": 0.03278688524590164, \"recall\": 0.8235294117647058, \"label\": \"area/engprod\"}, {\"precision\": 0.031990521327014215, \"recall\": 0.7941176470588235, \"label\": \"area/engprod\"}, {\"precision\": 0.03237410071942446, \"recall\": 0.7941176470588235, \"label\": \"area/engprod\"}, {\"precision\": 0.03155339805825243, \"recall\": 0.7647058823529411, \"label\": \"area/engprod\"}, {\"precision\": 0.03194103194103194, \"recall\": 0.7647058823529411, \"label\": \"area/engprod\"}, {\"precision\": 0.03233830845771144, \"recall\": 0.7647058823529411, \"label\": \"area/engprod\"}, {\"precision\": 0.0327455919395466, \"recall\": 0.7647058823529411, \"label\": \"area/engprod\"}, {\"precision\": 0.03316326530612245, \"recall\": 0.7647058823529411, \"label\": \"area/engprod\"}, {\"precision\": 0.03229974160206718, \"recall\": 0.7352941176470589, \"label\": \"area/engprod\"}, {\"precision\": 0.032722513089005235, \"recall\": 0.7352941176470589, \"label\": \"area/engprod\"}, {\"precision\": 0.033156498673740056, \"recall\": 0.7352941176470589, \"label\": \"area/engprod\"}, {\"precision\": 0.033602150537634407, \"recall\": 0.7352941176470589, \"label\": \"area/engprod\"}, {\"precision\": 0.0340599455040872, \"recall\": 0.7352941176470589, \"label\": \"area/engprod\"}, {\"precision\": 0.03314917127071823, \"recall\": 0.7058823529411765, \"label\": \"area/engprod\"}, {\"precision\": 0.03221288515406162, \"recall\": 0.6764705882352942, \"label\": \"area/engprod\"}, {\"precision\": 0.03125, \"recall\": 0.6470588235294118, \"label\": \"area/engprod\"}, {\"precision\": 0.03170028818443804, \"recall\": 0.6470588235294118, \"label\": \"area/engprod\"}, {\"precision\": 0.03216374269005848, \"recall\": 0.6470588235294118, \"label\": \"area/engprod\"}, {\"precision\": 0.032640949554896145, \"recall\": 0.6470588235294118, \"label\": \"area/engprod\"}, {\"precision\": 0.03313253012048193, \"recall\": 0.6470588235294118, \"label\": \"area/engprod\"}, {\"precision\": 0.03363914373088685, \"recall\": 0.6470588235294118, \"label\": \"area/engprod\"}, {\"precision\": 0.034161490683229816, \"recall\": 0.6470588235294118, \"label\": \"area/engprod\"}, {\"precision\": 0.03470031545741325, \"recall\": 0.6470588235294118, \"label\": \"area/engprod\"}, {\"precision\": 0.035256410256410256, \"recall\": 0.6470588235294118, \"label\": \"area/engprod\"}, {\"precision\": 0.035830618892508145, \"recall\": 0.6470588235294118, \"label\": \"area/engprod\"}, {\"precision\": 0.03642384105960265, \"recall\": 0.6470588235294118, \"label\": \"area/engprod\"}, {\"precision\": 0.037037037037037035, \"recall\": 0.6470588235294118, \"label\": \"area/engprod\"}, {\"precision\": 0.03767123287671233, \"recall\": 0.6470588235294118, \"label\": \"area/engprod\"}, {\"precision\": 0.03832752613240418, \"recall\": 0.6470588235294118, \"label\": \"area/engprod\"}, {\"precision\": 0.03900709219858156, \"recall\": 0.6470588235294118, \"label\": \"area/engprod\"}, {\"precision\": 0.039711191335740074, \"recall\": 0.6470588235294118, \"label\": \"area/engprod\"}, {\"precision\": 0.03860294117647059, \"recall\": 0.6176470588235294, \"label\": \"area/engprod\"}, {\"precision\": 0.03932584269662921, \"recall\": 0.6176470588235294, \"label\": \"area/engprod\"}, {\"precision\": 0.04007633587786259, \"recall\": 0.6176470588235294, \"label\": \"area/engprod\"}, {\"precision\": 0.04085603112840467, \"recall\": 0.6176470588235294, \"label\": \"area/engprod\"}, {\"precision\": 0.041666666666666664, \"recall\": 0.6176470588235294, \"label\": \"area/engprod\"}, {\"precision\": 0.04251012145748988, \"recall\": 0.6176470588235294, \"label\": \"area/engprod\"}, {\"precision\": 0.04338842975206612, \"recall\": 0.6176470588235294, \"label\": \"area/engprod\"}, {\"precision\": 0.04430379746835443, \"recall\": 0.6176470588235294, \"label\": \"area/engprod\"}, {\"precision\": 0.04525862068965517, \"recall\": 0.6176470588235294, \"label\": \"area/engprod\"}, {\"precision\": 0.046255506607929514, \"recall\": 0.6176470588235294, \"label\": \"area/engprod\"}, {\"precision\": 0.04504504504504504, \"recall\": 0.5882352941176471, \"label\": \"area/engprod\"}, {\"precision\": 0.04608294930875576, \"recall\": 0.5882352941176471, \"label\": \"area/engprod\"}, {\"precision\": 0.04716981132075472, \"recall\": 0.5882352941176471, \"label\": \"area/engprod\"}, {\"precision\": 0.04830917874396135, \"recall\": 0.5882352941176471, \"label\": \"area/engprod\"}, {\"precision\": 0.04950495049504951, \"recall\": 0.5882352941176471, \"label\": \"area/engprod\"}, {\"precision\": 0.048223350253807105, \"recall\": 0.5588235294117647, \"label\": \"area/engprod\"}, {\"precision\": 0.049479166666666664, \"recall\": 0.5588235294117647, \"label\": \"area/engprod\"}, {\"precision\": 0.05080213903743316, \"recall\": 0.5588235294117647, \"label\": \"area/engprod\"}, {\"precision\": 0.0521978021978022, \"recall\": 0.5588235294117647, \"label\": \"area/engprod\"}, {\"precision\": 0.05367231638418079, \"recall\": 0.5588235294117647, \"label\": \"area/engprod\"}, {\"precision\": 0.055232558139534885, \"recall\": 0.5588235294117647, \"label\": \"area/engprod\"}, {\"precision\": 0.05389221556886228, \"recall\": 0.5294117647058824, \"label\": \"area/engprod\"}, {\"precision\": 0.05555555555555555, \"recall\": 0.5294117647058824, \"label\": \"area/engprod\"}, {\"precision\": 0.05732484076433121, \"recall\": 0.5294117647058824, \"label\": \"area/engprod\"}, {\"precision\": 0.05921052631578947, \"recall\": 0.5294117647058824, \"label\": \"area/engprod\"}, {\"precision\": 0.05782312925170068, \"recall\": 0.5, \"label\": \"area/engprod\"}, {\"precision\": 0.056338028169014086, \"recall\": 0.47058823529411764, \"label\": \"area/engprod\"}, {\"precision\": 0.05474452554744526, \"recall\": 0.4411764705882353, \"label\": \"area/engprod\"}, {\"precision\": 0.05303030303030303, \"recall\": 0.4117647058823529, \"label\": \"area/engprod\"}, {\"precision\": 0.05511811023622047, \"recall\": 0.4117647058823529, \"label\": \"area/engprod\"}, {\"precision\": 0.05737704918032787, \"recall\": 0.4117647058823529, \"label\": \"area/engprod\"}, {\"precision\": 0.05982905982905983, \"recall\": 0.4117647058823529, \"label\": \"area/engprod\"}, {\"precision\": 0.05803571428571429, \"recall\": 0.38235294117647056, \"label\": \"area/engprod\"}, {\"precision\": 0.06074766355140187, \"recall\": 0.38235294117647056, \"label\": \"area/engprod\"}, {\"precision\": 0.058823529411764705, \"recall\": 0.35294117647058826, \"label\": \"area/engprod\"}, {\"precision\": 0.061855670103092786, \"recall\": 0.35294117647058826, \"label\": \"area/engprod\"}, {\"precision\": 0.05434782608695652, \"recall\": 0.29411764705882354, \"label\": \"area/engprod\"}, {\"precision\": 0.05747126436781609, \"recall\": 0.29411764705882354, \"label\": \"area/engprod\"}, {\"precision\": 0.054878048780487805, \"recall\": 0.2647058823529412, \"label\": \"area/engprod\"}, {\"precision\": 0.05844155844155844, \"recall\": 0.2647058823529412, \"label\": \"area/engprod\"}, {\"precision\": 0.0625, \"recall\": 0.2647058823529412, \"label\": \"area/engprod\"}, {\"precision\": 0.05970149253731343, \"recall\": 0.23529411764705882, \"label\": \"area/engprod\"}, {\"precision\": 0.06451612903225806, \"recall\": 0.23529411764705882, \"label\": \"area/engprod\"}, {\"precision\": 0.07017543859649122, \"recall\": 0.23529411764705882, \"label\": \"area/engprod\"}, {\"precision\": 0.0673076923076923, \"recall\": 0.20588235294117646, \"label\": \"area/engprod\"}, {\"precision\": 0.06382978723404255, \"recall\": 0.17647058823529413, \"label\": \"area/engprod\"}, {\"precision\": 0.07142857142857142, \"recall\": 0.17647058823529413, \"label\": \"area/engprod\"}, {\"precision\": 0.08108108108108109, \"recall\": 0.17647058823529413, \"label\": \"area/engprod\"}, {\"precision\": 0.078125, \"recall\": 0.14705882352941177, \"label\": \"area/engprod\"}, {\"precision\": 0.07407407407407407, \"recall\": 0.11764705882352941, \"label\": \"area/engprod\"}, {\"precision\": 0.045454545454545456, \"recall\": 0.058823529411764705, \"label\": \"area/engprod\"}, {\"precision\": 0.029411764705882353, \"recall\": 0.029411764705882353, \"label\": \"area/engprod\"}, {\"precision\": 0.0, \"recall\": 0.0, \"label\": \"area/engprod\"}, {\"precision\": 0.0, \"recall\": 0.0, \"label\": \"area/engprod\"}, {\"precision\": 0.0, \"recall\": 0.0, \"label\": \"area/engprod\"}, {\"precision\": 0.1093210586881473, \"recall\": 1.0, \"label\": \"area/docs\"}, {\"precision\": 0.10826542491268917, \"recall\": 0.9789473684210527, \"label\": \"area/docs\"}, {\"precision\": 0.10954063604240283, \"recall\": 0.9789473684210527, \"label\": \"area/docs\"}, {\"precision\": 0.11084624553039332, \"recall\": 0.9789473684210527, \"label\": \"area/docs\"}, {\"precision\": 0.11218335343787696, \"recall\": 0.9789473684210527, \"label\": \"area/docs\"}, {\"precision\": 0.11355311355311355, \"recall\": 0.9789473684210527, \"label\": \"area/docs\"}, {\"precision\": 0.11495673671199011, \"recall\": 0.9789473684210527, \"label\": \"area/docs\"}, {\"precision\": 0.11639549436795996, \"recall\": 0.9789473684210527, \"label\": \"area/docs\"}, {\"precision\": 0.11787072243346007, \"recall\": 0.9789473684210527, \"label\": \"area/docs\"}, {\"precision\": 0.11810012836970475, \"recall\": 0.968421052631579, \"label\": \"area/docs\"}, {\"precision\": 0.11963589076723016, \"recall\": 0.968421052631579, \"label\": \"area/docs\"}, {\"precision\": 0.12121212121212122, \"recall\": 0.968421052631579, \"label\": \"area/docs\"}, {\"precision\": 0.12283044058744993, \"recall\": 0.968421052631579, \"label\": \"area/docs\"}, {\"precision\": 0.12449255751014884, \"recall\": 0.968421052631579, \"label\": \"area/docs\"}, {\"precision\": 0.1262002743484225, \"recall\": 0.968421052631579, \"label\": \"area/docs\"}, {\"precision\": 0.12795549374130738, \"recall\": 0.968421052631579, \"label\": \"area/docs\"}, {\"precision\": 0.12834978843441466, \"recall\": 0.9578947368421052, \"label\": \"area/docs\"}, {\"precision\": 0.1301859799713877, \"recall\": 0.9578947368421052, \"label\": \"area/docs\"}, {\"precision\": 0.1320754716981132, \"recall\": 0.9578947368421052, \"label\": \"area/docs\"}, {\"precision\": 0.1325478645066274, \"recall\": 0.9473684210526315, \"label\": \"area/docs\"}, {\"precision\": 0.13452914798206278, \"recall\": 0.9473684210526315, \"label\": \"area/docs\"}, {\"precision\": 0.13657056145675264, \"recall\": 0.9473684210526315, \"label\": \"area/docs\"}, {\"precision\": 0.1386748844375963, \"recall\": 0.9473684210526315, \"label\": \"area/docs\"}, {\"precision\": 0.14084507042253522, \"recall\": 0.9473684210526315, \"label\": \"area/docs\"}, {\"precision\": 0.14308426073131955, \"recall\": 0.9473684210526315, \"label\": \"area/docs\"}, {\"precision\": 0.14539579967689822, \"recall\": 0.9473684210526315, \"label\": \"area/docs\"}, {\"precision\": 0.1477832512315271, \"recall\": 0.9473684210526315, \"label\": \"area/docs\"}, {\"precision\": 0.15025041736227046, \"recall\": 0.9473684210526315, \"label\": \"area/docs\"}, {\"precision\": 0.15280135823429541, \"recall\": 0.9473684210526315, \"label\": \"area/docs\"}, {\"precision\": 0.15544041450777202, \"recall\": 0.9473684210526315, \"label\": \"area/docs\"}, {\"precision\": 0.15817223198594024, \"recall\": 0.9473684210526315, \"label\": \"area/docs\"}, {\"precision\": 0.16100178890876565, \"recall\": 0.9473684210526315, \"label\": \"area/docs\"}, {\"precision\": 0.16393442622950818, \"recall\": 0.9473684210526315, \"label\": \"area/docs\"}, {\"precision\": 0.16697588126159554, \"recall\": 0.9473684210526315, \"label\": \"area/docs\"}, {\"precision\": 0.16824196597353497, \"recall\": 0.9368421052631579, \"label\": \"area/docs\"}, {\"precision\": 0.16955684007707128, \"recall\": 0.9263157894736842, \"label\": \"area/docs\"}, {\"precision\": 0.17288801571709234, \"recall\": 0.9263157894736842, \"label\": \"area/docs\"}, {\"precision\": 0.17635270541082165, \"recall\": 0.9263157894736842, \"label\": \"area/docs\"}, {\"precision\": 0.17791411042944785, \"recall\": 0.9157894736842105, \"label\": \"area/docs\"}, {\"precision\": 0.18162839248434237, \"recall\": 0.9157894736842105, \"label\": \"area/docs\"}, {\"precision\": 0.18336886993603413, \"recall\": 0.9052631578947369, \"label\": \"area/docs\"}, {\"precision\": 0.18518518518518517, \"recall\": 0.8947368421052632, \"label\": \"area/docs\"}, {\"precision\": 0.1870824053452116, \"recall\": 0.8842105263157894, \"label\": \"area/docs\"}, {\"precision\": 0.18906605922551253, \"recall\": 0.8736842105263158, \"label\": \"area/docs\"}, {\"precision\": 0.19114219114219114, \"recall\": 0.8631578947368421, \"label\": \"area/docs\"}, {\"precision\": 0.1957040572792363, \"recall\": 0.8631578947368421, \"label\": \"area/docs\"}, {\"precision\": 0.20048899755501223, \"recall\": 0.8631578947368421, \"label\": \"area/docs\"}, {\"precision\": 0.20551378446115287, \"recall\": 0.8631578947368421, \"label\": \"area/docs\"}, {\"precision\": 0.21079691516709512, \"recall\": 0.8631578947368421, \"label\": \"area/docs\"}, {\"precision\": 0.21635883905013192, \"recall\": 0.8631578947368421, \"label\": \"area/docs\"}, {\"precision\": 0.21951219512195122, \"recall\": 0.8526315789473684, \"label\": \"area/docs\"}, {\"precision\": 0.22562674094707522, \"recall\": 0.8526315789473684, \"label\": \"area/docs\"}, {\"precision\": 0.22922636103151864, \"recall\": 0.8421052631578947, \"label\": \"area/docs\"}, {\"precision\": 0.2359882005899705, \"recall\": 0.8421052631578947, \"label\": \"area/docs\"}, {\"precision\": 0.24012158054711247, \"recall\": 0.8315789473684211, \"label\": \"area/docs\"}, {\"precision\": 0.2476489028213166, \"recall\": 0.8315789473684211, \"label\": \"area/docs\"}, {\"precision\": 0.255663430420712, \"recall\": 0.8315789473684211, \"label\": \"area/docs\"}, {\"precision\": 0.2608695652173913, \"recall\": 0.8210526315789474, \"label\": \"area/docs\"}, {\"precision\": 0.2698961937716263, \"recall\": 0.8210526315789474, \"label\": \"area/docs\"}, {\"precision\": 0.26881720430107525, \"recall\": 0.7894736842105263, \"label\": \"area/docs\"}, {\"precision\": 0.27137546468401486, \"recall\": 0.7684210526315789, \"label\": \"area/docs\"}, {\"precision\": 0.28185328185328185, \"recall\": 0.7684210526315789, \"label\": \"area/docs\"}, {\"precision\": 0.2931726907630522, \"recall\": 0.7684210526315789, \"label\": \"area/docs\"}, {\"precision\": 0.301255230125523, \"recall\": 0.7578947368421053, \"label\": \"area/docs\"}, {\"precision\": 0.31004366812227074, \"recall\": 0.7473684210526316, \"label\": \"area/docs\"}, {\"precision\": 0.3150684931506849, \"recall\": 0.7263157894736842, \"label\": \"area/docs\"}, {\"precision\": 0.33014354066985646, \"recall\": 0.7263157894736842, \"label\": \"area/docs\"}, {\"precision\": 0.3417085427135678, \"recall\": 0.7157894736842105, \"label\": \"area/docs\"}, {\"precision\": 0.35978835978835977, \"recall\": 0.7157894736842105, \"label\": \"area/docs\"}, {\"precision\": 0.3743016759776536, \"recall\": 0.7052631578947368, \"label\": \"area/docs\"}, {\"precision\": 0.378698224852071, \"recall\": 0.6736842105263158, \"label\": \"area/docs\"}, {\"precision\": 0.4025157232704403, \"recall\": 0.6736842105263158, \"label\": \"area/docs\"}, {\"precision\": 0.42953020134228187, \"recall\": 0.6736842105263158, \"label\": \"area/docs\"}, {\"precision\": 0.45323741007194246, \"recall\": 0.6631578947368421, \"label\": \"area/docs\"}, {\"precision\": 0.4728682170542636, \"recall\": 0.6421052631578947, \"label\": \"area/docs\"}, {\"precision\": 0.4957983193277311, \"recall\": 0.6210526315789474, \"label\": \"area/docs\"}, {\"precision\": 0.5229357798165137, \"recall\": 0.6, \"label\": \"area/docs\"}, {\"precision\": 0.5555555555555556, \"recall\": 0.5789473684210527, \"label\": \"area/docs\"}, {\"precision\": 0.5730337078651685, \"recall\": 0.5368421052631579, \"label\": \"area/docs\"}, {\"precision\": 0.6075949367088608, \"recall\": 0.5052631578947369, \"label\": \"area/docs\"}, {\"precision\": 0.6521739130434783, \"recall\": 0.47368421052631576, \"label\": \"area/docs\"}, {\"precision\": 0.6949152542372882, \"recall\": 0.43157894736842106, \"label\": \"area/docs\"}, {\"precision\": 0.7346938775510204, \"recall\": 0.37894736842105264, \"label\": \"area/docs\"}, {\"precision\": 0.8205128205128205, \"recall\": 0.3368421052631579, \"label\": \"area/docs\"}, {\"precision\": 0.8620689655172413, \"recall\": 0.2631578947368421, \"label\": \"area/docs\"}, {\"precision\": 0.8947368421052632, \"recall\": 0.17894736842105263, \"label\": \"area/docs\"}, {\"precision\": 0.8888888888888888, \"recall\": 0.08421052631578947, \"label\": \"area/docs\"}, {\"precision\": 0.019079685746352413, \"recall\": 1.0, \"label\": \"area/kustomize\"}, {\"precision\": 0.0170261066969353, \"recall\": 0.8823529411764706, \"label\": \"area/kustomize\"}, {\"precision\": 0.01722158438576349, \"recall\": 0.8823529411764706, \"label\": \"area/kustomize\"}, {\"precision\": 0.017421602787456445, \"recall\": 0.8823529411764706, \"label\": \"area/kustomize\"}, {\"precision\": 0.01762632197414806, \"recall\": 0.8823529411764706, \"label\": \"area/kustomize\"}, {\"precision\": 0.0178359096313912, \"recall\": 0.8823529411764706, \"label\": \"area/kustomize\"}, {\"precision\": 0.018050541516245487, \"recall\": 0.8823529411764706, \"label\": \"area/kustomize\"}, {\"precision\": 0.018270401948842874, \"recall\": 0.8823529411764706, \"label\": \"area/kustomize\"}, {\"precision\": 0.018495684340320593, \"recall\": 0.8823529411764706, \"label\": \"area/kustomize\"}, {\"precision\": 0.018726591760299626, \"recall\": 0.8823529411764706, \"label\": \"area/kustomize\"}, {\"precision\": 0.018963337547408345, \"recall\": 0.8823529411764706, \"label\": \"area/kustomize\"}, {\"precision\": 0.019206145966709345, \"recall\": 0.8823529411764706, \"label\": \"area/kustomize\"}, {\"precision\": 0.019455252918287938, \"recall\": 0.8823529411764706, \"label\": \"area/kustomize\"}, {\"precision\": 0.01971090670170828, \"recall\": 0.8823529411764706, \"label\": \"area/kustomize\"}, {\"precision\": 0.019973368841544607, \"recall\": 0.8823529411764706, \"label\": \"area/kustomize\"}, {\"precision\": 0.020242914979757085, \"recall\": 0.8823529411764706, \"label\": \"area/kustomize\"}, {\"precision\": 0.02051983584131327, \"recall\": 0.8823529411764706, \"label\": \"area/kustomize\"}, {\"precision\": 0.019417475728155338, \"recall\": 0.8235294117647058, \"label\": \"area/kustomize\"}, {\"precision\": 0.01969057665260197, \"recall\": 0.8235294117647058, \"label\": \"area/kustomize\"}, {\"precision\": 0.019971469329529243, \"recall\": 0.8235294117647058, \"label\": \"area/kustomize\"}, {\"precision\": 0.020260492040520984, \"recall\": 0.8235294117647058, \"label\": \"area/kustomize\"}, {\"precision\": 0.020558002936857563, \"recall\": 0.8235294117647058, \"label\": \"area/kustomize\"}, {\"precision\": 0.020864381520119227, \"recall\": 0.8235294117647058, \"label\": \"area/kustomize\"}, {\"precision\": 0.02118003025718608, \"recall\": 0.8235294117647058, \"label\": \"area/kustomize\"}, {\"precision\": 0.019969278033794162, \"recall\": 0.7647058823529411, \"label\": \"area/kustomize\"}, {\"precision\": 0.0202808112324493, \"recall\": 0.7647058823529411, \"label\": \"area/kustomize\"}, {\"precision\": 0.020602218700475437, \"recall\": 0.7647058823529411, \"label\": \"area/kustomize\"}, {\"precision\": 0.020933977455716585, \"recall\": 0.7647058823529411, \"label\": \"area/kustomize\"}, {\"precision\": 0.02127659574468085, \"recall\": 0.7647058823529411, \"label\": \"area/kustomize\"}, {\"precision\": 0.021630615640599003, \"recall\": 0.7647058823529411, \"label\": \"area/kustomize\"}, {\"precision\": 0.021996615905245348, \"recall\": 0.7647058823529411, \"label\": \"area/kustomize\"}, {\"precision\": 0.022375215146299483, \"recall\": 0.7647058823529411, \"label\": \"area/kustomize\"}, {\"precision\": 0.02276707530647986, \"recall\": 0.7647058823529411, \"label\": \"area/kustomize\"}, {\"precision\": 0.023172905525846704, \"recall\": 0.7647058823529411, \"label\": \"area/kustomize\"}, {\"precision\": 0.023593466424682397, \"recall\": 0.7647058823529411, \"label\": \"area/kustomize\"}, {\"precision\": 0.024029574861367836, \"recall\": 0.7647058823529411, \"label\": \"area/kustomize\"}, {\"precision\": 0.02448210922787194, \"recall\": 0.7647058823529411, \"label\": \"area/kustomize\"}, {\"precision\": 0.02495201535508637, \"recall\": 0.7647058823529411, \"label\": \"area/kustomize\"}, {\"precision\": 0.025440313111545987, \"recall\": 0.7647058823529411, \"label\": \"area/kustomize\"}, {\"precision\": 0.023952095808383235, \"recall\": 0.7058823529411765, \"label\": \"area/kustomize\"}, {\"precision\": 0.024439918533604887, \"recall\": 0.7058823529411765, \"label\": \"area/kustomize\"}, {\"precision\": 0.02494802494802495, \"recall\": 0.7058823529411765, \"label\": \"area/kustomize\"}, {\"precision\": 0.025477707006369428, \"recall\": 0.7058823529411765, \"label\": \"area/kustomize\"}, {\"precision\": 0.026030368763557483, \"recall\": 0.7058823529411765, \"label\": \"area/kustomize\"}, {\"precision\": 0.026607538802660754, \"recall\": 0.7058823529411765, \"label\": \"area/kustomize\"}, {\"precision\": 0.027210884353741496, \"recall\": 0.7058823529411765, \"label\": \"area/kustomize\"}, {\"precision\": 0.027842227378190254, \"recall\": 0.7058823529411765, \"label\": \"area/kustomize\"}, {\"precision\": 0.028503562945368172, \"recall\": 0.7058823529411765, \"label\": \"area/kustomize\"}, {\"precision\": 0.029197080291970802, \"recall\": 0.7058823529411765, \"label\": \"area/kustomize\"}, {\"precision\": 0.029925187032418952, \"recall\": 0.7058823529411765, \"label\": \"area/kustomize\"}, {\"precision\": 0.030690537084398978, \"recall\": 0.7058823529411765, \"label\": \"area/kustomize\"}, {\"precision\": 0.028871391076115485, \"recall\": 0.6470588235294118, \"label\": \"area/kustomize\"}, {\"precision\": 0.029649595687331536, \"recall\": 0.6470588235294118, \"label\": \"area/kustomize\"}, {\"precision\": 0.030470914127423823, \"recall\": 0.6470588235294118, \"label\": \"area/kustomize\"}, {\"precision\": 0.02849002849002849, \"recall\": 0.5882352941176471, \"label\": \"area/kustomize\"}, {\"precision\": 0.02932551319648094, \"recall\": 0.5882352941176471, \"label\": \"area/kustomize\"}, {\"precision\": 0.027190332326283987, \"recall\": 0.5294117647058824, \"label\": \"area/kustomize\"}, {\"precision\": 0.028037383177570093, \"recall\": 0.5294117647058824, \"label\": \"area/kustomize\"}, {\"precision\": 0.028938906752411574, \"recall\": 0.5294117647058824, \"label\": \"area/kustomize\"}, {\"precision\": 0.026578073089700997, \"recall\": 0.47058823529411764, \"label\": \"area/kustomize\"}, {\"precision\": 0.027491408934707903, \"recall\": 0.47058823529411764, \"label\": \"area/kustomize\"}, {\"precision\": 0.028469750889679714, \"recall\": 0.47058823529411764, \"label\": \"area/kustomize\"}, {\"precision\": 0.02952029520295203, \"recall\": 0.47058823529411764, \"label\": \"area/kustomize\"}, {\"precision\": 0.03065134099616858, \"recall\": 0.47058823529411764, \"label\": \"area/kustomize\"}, {\"precision\": 0.027888446215139442, \"recall\": 0.4117647058823529, \"label\": \"area/kustomize\"}, {\"precision\": 0.029045643153526972, \"recall\": 0.4117647058823529, \"label\": \"area/kustomize\"}, {\"precision\": 0.030303030303030304, \"recall\": 0.4117647058823529, \"label\": \"area/kustomize\"}, {\"precision\": 0.03167420814479638, \"recall\": 0.4117647058823529, \"label\": \"area/kustomize\"}, {\"precision\": 0.03317535545023697, \"recall\": 0.4117647058823529, \"label\": \"area/kustomize\"}, {\"precision\": 0.03482587064676617, \"recall\": 0.4117647058823529, \"label\": \"area/kustomize\"}, {\"precision\": 0.03664921465968586, \"recall\": 0.4117647058823529, \"label\": \"area/kustomize\"}, {\"precision\": 0.03314917127071823, \"recall\": 0.35294117647058826, \"label\": \"area/kustomize\"}, {\"precision\": 0.03508771929824561, \"recall\": 0.35294117647058826, \"label\": \"area/kustomize\"}, {\"precision\": 0.037267080745341616, \"recall\": 0.35294117647058826, \"label\": \"area/kustomize\"}, {\"precision\": 0.039735099337748346, \"recall\": 0.35294117647058826, \"label\": \"area/kustomize\"}, {\"precision\": 0.0425531914893617, \"recall\": 0.35294117647058826, \"label\": \"area/kustomize\"}, {\"precision\": 0.03816793893129771, \"recall\": 0.29411764705882354, \"label\": \"area/kustomize\"}, {\"precision\": 0.04132231404958678, \"recall\": 0.29411764705882354, \"label\": \"area/kustomize\"}, {\"precision\": 0.04504504504504504, \"recall\": 0.29411764705882354, \"label\": \"area/kustomize\"}, {\"precision\": 0.04950495049504951, \"recall\": 0.29411764705882354, \"label\": \"area/kustomize\"}, {\"precision\": 0.054945054945054944, \"recall\": 0.29411764705882354, \"label\": \"area/kustomize\"}, {\"precision\": 0.04938271604938271, \"recall\": 0.23529411764705882, \"label\": \"area/kustomize\"}, {\"precision\": 0.04225352112676056, \"recall\": 0.17647058823529413, \"label\": \"area/kustomize\"}, {\"precision\": 0.03278688524590164, \"recall\": 0.11764705882352941, \"label\": \"area/kustomize\"}, {\"precision\": 0.0392156862745098, \"recall\": 0.11764705882352941, \"label\": \"area/kustomize\"}, {\"precision\": 0.024390243902439025, \"recall\": 0.058823529411764705, \"label\": \"area/kustomize\"}, {\"precision\": 0.03225806451612903, \"recall\": 0.058823529411764705, \"label\": \"area/kustomize\"}, {\"precision\": 0.0, \"recall\": 0.0, \"label\": \"area/kustomize\"}, {\"precision\": 0.0, \"recall\": 0.0, \"label\": \"area/kustomize\"}, {\"precision\": 0.0, \"recall\": 0.0, \"label\": \"area/kustomize\"}, {\"precision\": 0.09371554575523705, \"recall\": 1.0, \"label\": \"platform/gcp\"}, {\"precision\": 0.09364548494983277, \"recall\": 0.9882352941176471, \"label\": \"platform/gcp\"}, {\"precision\": 0.09470124013528748, \"recall\": 0.9882352941176471, \"label\": \"platform/gcp\"}, {\"precision\": 0.09578107183580388, \"recall\": 0.9882352941176471, \"label\": \"platform/gcp\"}, {\"precision\": 0.09688581314878893, \"recall\": 0.9882352941176471, \"label\": \"platform/gcp\"}, {\"precision\": 0.09801633605600933, \"recall\": 0.9882352941176471, \"label\": \"platform/gcp\"}, {\"precision\": 0.09917355371900827, \"recall\": 0.9882352941176471, \"label\": \"platform/gcp\"}, {\"precision\": 0.1003584229390681, \"recall\": 0.9882352941176471, \"label\": \"platform/gcp\"}, {\"precision\": 0.10157194679564692, \"recall\": 0.9882352941176471, \"label\": \"platform/gcp\"}, {\"precision\": 0.10281517747858017, \"recall\": 0.9882352941176471, \"label\": \"platform/gcp\"}, {\"precision\": 0.10408921933085502, \"recall\": 0.9882352941176471, \"label\": \"platform/gcp\"}, {\"precision\": 0.10414052697616061, \"recall\": 0.9764705882352941, \"label\": \"platform/gcp\"}, {\"precision\": 0.10546378653113088, \"recall\": 0.9764705882352941, \"label\": \"platform/gcp\"}, {\"precision\": 0.10682110682110682, \"recall\": 0.9764705882352941, \"label\": \"platform/gcp\"}, {\"precision\": 0.10821382007822686, \"recall\": 0.9764705882352941, \"label\": \"platform/gcp\"}, {\"precision\": 0.1096433289299868, \"recall\": 0.9764705882352941, \"label\": \"platform/gcp\"}, {\"precision\": 0.1111111111111111, \"recall\": 0.9764705882352941, \"label\": \"platform/gcp\"}, {\"precision\": 0.11261872455902307, \"recall\": 0.9764705882352941, \"label\": \"platform/gcp\"}, {\"precision\": 0.11416781292984869, \"recall\": 0.9764705882352941, \"label\": \"platform/gcp\"}, {\"precision\": 0.11436541143654114, \"recall\": 0.9647058823529412, \"label\": \"platform/gcp\"}, {\"precision\": 0.11598302687411598, \"recall\": 0.9647058823529412, \"label\": \"platform/gcp\"}, {\"precision\": 0.11764705882352941, \"recall\": 0.9647058823529412, \"label\": \"platform/gcp\"}, {\"precision\": 0.11935953420669577, \"recall\": 0.9647058823529412, \"label\": \"platform/gcp\"}, {\"precision\": 0.12112259970457903, \"recall\": 0.9647058823529412, \"label\": \"platform/gcp\"}, {\"precision\": 0.12293853073463268, \"recall\": 0.9647058823529412, \"label\": \"platform/gcp\"}, {\"precision\": 0.1232876712328767, \"recall\": 0.9529411764705882, \"label\": \"platform/gcp\"}, {\"precision\": 0.125193199381762, \"recall\": 0.9529411764705882, \"label\": \"platform/gcp\"}, {\"precision\": 0.1271585557299843, \"recall\": 0.9529411764705882, \"label\": \"platform/gcp\"}, {\"precision\": 0.1291866028708134, \"recall\": 0.9529411764705882, \"label\": \"platform/gcp\"}, {\"precision\": 0.12965964343598055, \"recall\": 0.9411764705882353, \"label\": \"platform/gcp\"}, {\"precision\": 0.1301482701812191, \"recall\": 0.9294117647058824, \"label\": \"platform/gcp\"}, {\"precision\": 0.1323283082077052, \"recall\": 0.9294117647058824, \"label\": \"platform/gcp\"}, {\"precision\": 0.13458262350936967, \"recall\": 0.9294117647058824, \"label\": \"platform/gcp\"}, {\"precision\": 0.1369150779896014, \"recall\": 0.9294117647058824, \"label\": \"platform/gcp\"}, {\"precision\": 0.13932980599647266, \"recall\": 0.9294117647058824, \"label\": \"platform/gcp\"}, {\"precision\": 0.14183123877917414, \"recall\": 0.9294117647058824, \"label\": \"platform/gcp\"}, {\"precision\": 0.14442413162705667, \"recall\": 0.9294117647058824, \"label\": \"platform/gcp\"}, {\"precision\": 0.14711359404096835, \"recall\": 0.9294117647058824, \"label\": \"platform/gcp\"}, {\"precision\": 0.14990512333965844, \"recall\": 0.9294117647058824, \"label\": \"platform/gcp\"}, {\"precision\": 0.1528046421663443, \"recall\": 0.9294117647058824, \"label\": \"platform/gcp\"}, {\"precision\": 0.15384615384615385, \"recall\": 0.9176470588235294, \"label\": \"platform/gcp\"}, {\"precision\": 0.15694164989939638, \"recall\": 0.9176470588235294, \"label\": \"platform/gcp\"}, {\"precision\": 0.1601642710472279, \"recall\": 0.9176470588235294, \"label\": \"platform/gcp\"}, {\"precision\": 0.16352201257861634, \"recall\": 0.9176470588235294, \"label\": \"platform/gcp\"}, {\"precision\": 0.1670235546038544, \"recall\": 0.9176470588235294, \"label\": \"platform/gcp\"}, {\"precision\": 0.17067833698030635, \"recall\": 0.9176470588235294, \"label\": \"platform/gcp\"}, {\"precision\": 0.174496644295302, \"recall\": 0.9176470588235294, \"label\": \"platform/gcp\"}, {\"precision\": 0.17620137299771166, \"recall\": 0.9058823529411765, \"label\": \"platform/gcp\"}, {\"precision\": 0.18032786885245902, \"recall\": 0.9058823529411765, \"label\": \"platform/gcp\"}, {\"precision\": 0.18465227817745802, \"recall\": 0.9058823529411765, \"label\": \"platform/gcp\"}, {\"precision\": 0.1891891891891892, \"recall\": 0.9058823529411765, \"label\": \"platform/gcp\"}, {\"precision\": 0.19395465994962216, \"recall\": 0.9058823529411765, \"label\": \"platform/gcp\"}, {\"precision\": 0.19638242894056848, \"recall\": 0.8941176470588236, \"label\": \"platform/gcp\"}, {\"precision\": 0.20159151193633953, \"recall\": 0.8941176470588236, \"label\": \"platform/gcp\"}, {\"precision\": 0.20435967302452315, \"recall\": 0.8823529411764706, \"label\": \"platform/gcp\"}, {\"precision\": 0.21008403361344538, \"recall\": 0.8823529411764706, \"label\": \"platform/gcp\"}, {\"precision\": 0.2132564841498559, \"recall\": 0.8705882352941177, \"label\": \"platform/gcp\"}, {\"precision\": 0.2166172106824926, \"recall\": 0.8588235294117647, \"label\": \"platform/gcp\"}, {\"precision\": 0.22018348623853212, \"recall\": 0.8470588235294118, \"label\": \"platform/gcp\"}, {\"precision\": 0.22712933753943218, \"recall\": 0.8470588235294118, \"label\": \"platform/gcp\"}, {\"precision\": 0.23452768729641693, \"recall\": 0.8470588235294118, \"label\": \"platform/gcp\"}, {\"precision\": 0.24242424242424243, \"recall\": 0.8470588235294118, \"label\": \"platform/gcp\"}, {\"precision\": 0.2508710801393728, \"recall\": 0.8470588235294118, \"label\": \"platform/gcp\"}, {\"precision\": 0.259927797833935, \"recall\": 0.8470588235294118, \"label\": \"platform/gcp\"}, {\"precision\": 0.2696629213483146, \"recall\": 0.8470588235294118, \"label\": \"platform/gcp\"}, {\"precision\": 0.27626459143968873, \"recall\": 0.8352941176470589, \"label\": \"platform/gcp\"}, {\"precision\": 0.2793522267206478, \"recall\": 0.8117647058823529, \"label\": \"platform/gcp\"}, {\"precision\": 0.2869198312236287, \"recall\": 0.8, \"label\": \"platform/gcp\"}, {\"precision\": 0.29515418502202645, \"recall\": 0.788235294117647, \"label\": \"platform/gcp\"}, {\"precision\": 0.3087557603686636, \"recall\": 0.788235294117647, \"label\": \"platform/gcp\"}, {\"precision\": 0.3188405797101449, \"recall\": 0.7764705882352941, \"label\": \"platform/gcp\"}, {\"precision\": 0.3248730964467005, \"recall\": 0.7529411764705882, \"label\": \"platform/gcp\"}, {\"precision\": 0.33689839572192515, \"recall\": 0.7411764705882353, \"label\": \"platform/gcp\"}, {\"precision\": 0.3559322033898305, \"recall\": 0.7411764705882353, \"label\": \"platform/gcp\"}, {\"precision\": 0.3712574850299401, \"recall\": 0.7294117647058823, \"label\": \"platform/gcp\"}, {\"precision\": 0.3821656050955414, \"recall\": 0.7058823529411765, \"label\": \"platform/gcp\"}, {\"precision\": 0.4013605442176871, \"recall\": 0.6941176470588235, \"label\": \"platform/gcp\"}, {\"precision\": 0.4233576642335766, \"recall\": 0.6823529411764706, \"label\": \"platform/gcp\"}, {\"precision\": 0.4330708661417323, \"recall\": 0.6470588235294118, \"label\": \"platform/gcp\"}, {\"precision\": 0.452991452991453, \"recall\": 0.6235294117647059, \"label\": \"platform/gcp\"}, {\"precision\": 0.45794392523364486, \"recall\": 0.5764705882352941, \"label\": \"platform/gcp\"}, {\"precision\": 0.4742268041237113, \"recall\": 0.5411764705882353, \"label\": \"platform/gcp\"}, {\"precision\": 0.4827586206896552, \"recall\": 0.49411764705882355, \"label\": \"platform/gcp\"}, {\"precision\": 0.5194805194805194, \"recall\": 0.47058823529411764, \"label\": \"platform/gcp\"}, {\"precision\": 0.5373134328358209, \"recall\": 0.4235294117647059, \"label\": \"platform/gcp\"}, {\"precision\": 0.543859649122807, \"recall\": 0.36470588235294116, \"label\": \"platform/gcp\"}, {\"precision\": 0.5531914893617021, \"recall\": 0.3058823529411765, \"label\": \"platform/gcp\"}, {\"precision\": 0.5945945945945946, \"recall\": 0.25882352941176473, \"label\": \"platform/gcp\"}, {\"precision\": 0.5555555555555556, \"recall\": 0.17647058823529413, \"label\": \"platform/gcp\"}, {\"precision\": 0.5294117647058824, \"recall\": 0.10588235294117647, \"label\": \"platform/gcp\"}, {\"precision\": 0.42857142857142855, \"recall\": 0.03529411764705882, \"label\": \"platform/gcp\"}, {\"precision\": 0.020518358531317494, \"recall\": 1.0, \"label\": \"platform/aws\"}, {\"precision\": 0.019650655021834062, \"recall\": 0.9473684210526315, \"label\": \"platform/aws\"}, {\"precision\": 0.018763796909492272, \"recall\": 0.8947368421052632, \"label\": \"platform/aws\"}, {\"precision\": 0.017857142857142856, \"recall\": 0.8421052631578947, \"label\": \"platform/aws\"}, {\"precision\": 0.01805869074492099, \"recall\": 0.8421052631578947, \"label\": \"platform/aws\"}, {\"precision\": 0.0182648401826484, \"recall\": 0.8421052631578947, \"label\": \"platform/aws\"}, {\"precision\": 0.018475750577367205, \"recall\": 0.8421052631578947, \"label\": \"platform/aws\"}, {\"precision\": 0.018691588785046728, \"recall\": 0.8421052631578947, \"label\": \"platform/aws\"}, {\"precision\": 0.018912529550827423, \"recall\": 0.8421052631578947, \"label\": \"platform/aws\"}, {\"precision\": 0.019138755980861243, \"recall\": 0.8421052631578947, \"label\": \"platform/aws\"}, {\"precision\": 0.01937046004842615, \"recall\": 0.8421052631578947, \"label\": \"platform/aws\"}, {\"precision\": 0.01838235294117647, \"recall\": 0.7894736842105263, \"label\": \"platform/aws\"}, {\"precision\": 0.018610421836228287, \"recall\": 0.7894736842105263, \"label\": \"platform/aws\"}, {\"precision\": 0.018844221105527637, \"recall\": 0.7894736842105263, \"label\": \"platform/aws\"}, {\"precision\": 0.017811704834605598, \"recall\": 0.7368421052631579, \"label\": \"platform/aws\"}, {\"precision\": 0.01804123711340206, \"recall\": 0.7368421052631579, \"label\": \"platform/aws\"}, {\"precision\": 0.016971279373368148, \"recall\": 0.6842105263157895, \"label\": \"platform/aws\"}, {\"precision\": 0.017195767195767195, \"recall\": 0.6842105263157895, \"label\": \"platform/aws\"}, {\"precision\": 0.01742627345844504, \"recall\": 0.6842105263157895, \"label\": \"platform/aws\"}, {\"precision\": 0.017663043478260868, \"recall\": 0.6842105263157895, \"label\": \"platform/aws\"}, {\"precision\": 0.01790633608815427, \"recall\": 0.6842105263157895, \"label\": \"platform/aws\"}, {\"precision\": 0.018156424581005588, \"recall\": 0.6842105263157895, \"label\": \"platform/aws\"}, {\"precision\": 0.018413597733711047, \"recall\": 0.6842105263157895, \"label\": \"platform/aws\"}, {\"precision\": 0.01867816091954023, \"recall\": 0.6842105263157895, \"label\": \"platform/aws\"}, {\"precision\": 0.018950437317784258, \"recall\": 0.6842105263157895, \"label\": \"platform/aws\"}, {\"precision\": 0.019230769230769232, \"recall\": 0.6842105263157895, \"label\": \"platform/aws\"}, {\"precision\": 0.01951951951951952, \"recall\": 0.6842105263157895, \"label\": \"platform/aws\"}, {\"precision\": 0.019817073170731708, \"recall\": 0.6842105263157895, \"label\": \"platform/aws\"}, {\"precision\": 0.020123839009287926, \"recall\": 0.6842105263157895, \"label\": \"platform/aws\"}, {\"precision\": 0.020440251572327043, \"recall\": 0.6842105263157895, \"label\": \"platform/aws\"}, {\"precision\": 0.020766773162939296, \"recall\": 0.6842105263157895, \"label\": \"platform/aws\"}, {\"precision\": 0.021103896103896104, \"recall\": 0.6842105263157895, \"label\": \"platform/aws\"}, {\"precision\": 0.02145214521452145, \"recall\": 0.6842105263157895, \"label\": \"platform/aws\"}, {\"precision\": 0.02181208053691275, \"recall\": 0.6842105263157895, \"label\": \"platform/aws\"}, {\"precision\": 0.02218430034129693, \"recall\": 0.6842105263157895, \"label\": \"platform/aws\"}, {\"precision\": 0.022569444444444444, \"recall\": 0.6842105263157895, \"label\": \"platform/aws\"}, {\"precision\": 0.022968197879858657, \"recall\": 0.6842105263157895, \"label\": \"platform/aws\"}, {\"precision\": 0.023381294964028777, \"recall\": 0.6842105263157895, \"label\": \"platform/aws\"}, {\"precision\": 0.023809523809523808, \"recall\": 0.6842105263157895, \"label\": \"platform/aws\"}, {\"precision\": 0.024253731343283583, \"recall\": 0.6842105263157895, \"label\": \"platform/aws\"}, {\"precision\": 0.022813688212927757, \"recall\": 0.631578947368421, \"label\": \"platform/aws\"}, {\"precision\": 0.023255813953488372, \"recall\": 0.631578947368421, \"label\": \"platform/aws\"}, {\"precision\": 0.023715415019762844, \"recall\": 0.631578947368421, \"label\": \"platform/aws\"}, {\"precision\": 0.024193548387096774, \"recall\": 0.631578947368421, \"label\": \"platform/aws\"}, {\"precision\": 0.024691358024691357, \"recall\": 0.631578947368421, \"label\": \"platform/aws\"}, {\"precision\": 0.025210084033613446, \"recall\": 0.631578947368421, \"label\": \"platform/aws\"}, {\"precision\": 0.02575107296137339, \"recall\": 0.631578947368421, \"label\": \"platform/aws\"}, {\"precision\": 0.02631578947368421, \"recall\": 0.631578947368421, \"label\": \"platform/aws\"}, {\"precision\": 0.02466367713004484, \"recall\": 0.5789473684210527, \"label\": \"platform/aws\"}, {\"precision\": 0.022935779816513763, \"recall\": 0.5263157894736842, \"label\": \"platform/aws\"}, {\"precision\": 0.023474178403755867, \"recall\": 0.5263157894736842, \"label\": \"platform/aws\"}, {\"precision\": 0.02403846153846154, \"recall\": 0.5263157894736842, \"label\": \"platform/aws\"}, {\"precision\": 0.024630541871921183, \"recall\": 0.5263157894736842, \"label\": \"platform/aws\"}, {\"precision\": 0.025252525252525252, \"recall\": 0.5263157894736842, \"label\": \"platform/aws\"}, {\"precision\": 0.025906735751295335, \"recall\": 0.5263157894736842, \"label\": \"platform/aws\"}, {\"precision\": 0.026595744680851064, \"recall\": 0.5263157894736842, \"label\": \"platform/aws\"}, {\"precision\": 0.0273224043715847, \"recall\": 0.5263157894736842, \"label\": \"platform/aws\"}, {\"precision\": 0.028089887640449437, \"recall\": 0.5263157894736842, \"label\": \"platform/aws\"}, {\"precision\": 0.023121387283236993, \"recall\": 0.42105263157894735, \"label\": \"platform/aws\"}, {\"precision\": 0.023809523809523808, \"recall\": 0.42105263157894735, \"label\": \"platform/aws\"}, {\"precision\": 0.024539877300613498, \"recall\": 0.42105263157894735, \"label\": \"platform/aws\"}, {\"precision\": 0.02531645569620253, \"recall\": 0.42105263157894735, \"label\": \"platform/aws\"}, {\"precision\": 0.026143790849673203, \"recall\": 0.42105263157894735, \"label\": \"platform/aws\"}, {\"precision\": 0.02702702702702703, \"recall\": 0.42105263157894735, \"label\": \"platform/aws\"}, {\"precision\": 0.027972027972027972, \"recall\": 0.42105263157894735, \"label\": \"platform/aws\"}, {\"precision\": 0.028985507246376812, \"recall\": 0.42105263157894735, \"label\": \"platform/aws\"}, {\"precision\": 0.03007518796992481, \"recall\": 0.42105263157894735, \"label\": \"platform/aws\"}, {\"precision\": 0.03125, \"recall\": 0.42105263157894735, \"label\": \"platform/aws\"}, {\"precision\": 0.032520325203252036, \"recall\": 0.42105263157894735, \"label\": \"platform/aws\"}, {\"precision\": 0.03389830508474576, \"recall\": 0.42105263157894735, \"label\": \"platform/aws\"}, {\"precision\": 0.030973451327433628, \"recall\": 0.3684210526315789, \"label\": \"platform/aws\"}, {\"precision\": 0.027777777777777776, \"recall\": 0.3157894736842105, \"label\": \"platform/aws\"}, {\"precision\": 0.02912621359223301, \"recall\": 0.3157894736842105, \"label\": \"platform/aws\"}, {\"precision\": 0.030612244897959183, \"recall\": 0.3157894736842105, \"label\": \"platform/aws\"}, {\"precision\": 0.03225806451612903, \"recall\": 0.3157894736842105, \"label\": \"platform/aws\"}, {\"precision\": 0.028409090909090908, \"recall\": 0.2631578947368421, \"label\": \"platform/aws\"}, {\"precision\": 0.030120481927710843, \"recall\": 0.2631578947368421, \"label\": \"platform/aws\"}, {\"precision\": 0.02564102564102564, \"recall\": 0.21052631578947367, \"label\": \"platform/aws\"}, {\"precision\": 0.02054794520547945, \"recall\": 0.15789473684210525, \"label\": \"platform/aws\"}, {\"precision\": 0.022058823529411766, \"recall\": 0.15789473684210525, \"label\": \"platform/aws\"}, {\"precision\": 0.015873015873015872, \"recall\": 0.10526315789473684, \"label\": \"platform/aws\"}, {\"precision\": 0.017241379310344827, \"recall\": 0.10526315789473684, \"label\": \"platform/aws\"}, {\"precision\": 0.018867924528301886, \"recall\": 0.10526315789473684, \"label\": \"platform/aws\"}, {\"precision\": 0.020833333333333332, \"recall\": 0.10526315789473684, \"label\": \"platform/aws\"}, {\"precision\": 0.023255813953488372, \"recall\": 0.10526315789473684, \"label\": \"platform/aws\"}, {\"precision\": 0.02631578947368421, \"recall\": 0.10526315789473684, \"label\": \"platform/aws\"}, {\"precision\": 0.015151515151515152, \"recall\": 0.05263157894736842, \"label\": \"platform/aws\"}, {\"precision\": 0.017857142857142856, \"recall\": 0.05263157894736842, \"label\": \"platform/aws\"}, {\"precision\": 0.021739130434782608, \"recall\": 0.05263157894736842, \"label\": \"platform/aws\"}, {\"precision\": 0.0, \"recall\": 0.0, \"label\": \"platform/aws\"}, {\"precision\": 0.0, \"recall\": 0.0, \"label\": \"platform/aws\"}, {\"precision\": 0.0, \"recall\": 0.0, \"label\": \"platform/aws\"}, {\"precision\": 0.0, \"recall\": 0.0, \"label\": \"platform/aws\"}]}}, {\"mode\": \"vega-lite\"});\n",
       "</script>"
      ],
      "text/plain": [
       "alt.Chart(...)"
      ]
     },
     "execution_count": 353,
     "metadata": {},
     "output_type": "execute_result"
    }
   ],
   "source": [
    "# TODO(jlewi): How to do multiple labels on the same graph\n",
    "\n",
    "# Susample otherwise we get too many points to plot\n",
    "subsample = 10\n",
    "\n",
    "rows = []\n",
    "labels_of_interest = [\"area/jupyter\", \"area/kfctl\", \"area/engprod\", \"area/docs\", \"area/kustomize\", \"platform/gcp\", \"platform/aws\"]\n",
    "for l in  [\"area/jupyter\", \"area/kfctl\", \"area/engprod\", \"area/docs\", \"area/kustomize\", \"platform/gcp\", \"platform/aws\"]:        \n",
    "#l = \"area/jupyter\"\n",
    "    selector = results[\"label\"]== l\n",
    "    index = np.where(selector.values)[0][0]\n",
    "    row = pd.DataFrame({\"precision\": results.iloc[index][\"precision\"][::subsample], \"recall\":  results.iloc[index][\"recall\"][::subsample], \"label\": l})\n",
    "    rows.append(row)\n",
    "    #row = pd.DataFrame({\"precision\": results.iloc[index].precision, \"recall\":  results.iloc[index].recall})\n",
    "    #row = results.loc[results[\"label\"] == \"area/jupyter\"]\n",
    "\n",
    "\n",
    "roc_points = pd.concat(rows)    \n",
    "\n",
    "\n",
    "alt.Chart(roc_points).mark_line().encode(x=\"recall\", y=\"precision\", color=\"label\").interactive()\n"
   ]
  },
  {
   "cell_type": "code",
   "execution_count": 354,
   "metadata": {},
   "outputs": [
    {
     "data": {
      "text/plain": [
       "{0: None,\n",
       " 1: None,\n",
       " 2: None,\n",
       " 3: None,\n",
       " 4: None,\n",
       " 5: None,\n",
       " 6: None,\n",
       " 7: None,\n",
       " 8: None,\n",
       " 9: None,\n",
       " 10: None,\n",
       " 11: None,\n",
       " 12: None,\n",
       " 13: 0.14807147197201903,\n",
       " 14: None,\n",
       " 15: None,\n",
       " 16: None,\n",
       " 17: None,\n",
       " 18: 0.19385336438401296,\n",
       " 19: None,\n",
       " 20: None,\n",
       " 21: None,\n",
       " 22: 0.25581560403170517,\n",
       " 23: None,\n",
       " 24: 0.13234397075965143,\n",
       " 25: None,\n",
       " 26: None,\n",
       " 27: None,\n",
       " 28: None,\n",
       " 29: None,\n",
       " 30: None,\n",
       " 31: None,\n",
       " 32: None,\n",
       " 33: None,\n",
       " 34: None,\n",
       " 35: None,\n",
       " 36: 0.12184644305077198,\n",
       " 37: None,\n",
       " 38: None,\n",
       " 39: None,\n",
       " 40: None,\n",
       " 41: None,\n",
       " 42: None,\n",
       " 43: None,\n",
       " 44: None,\n",
       " 45: None,\n",
       " 46: None,\n",
       " 47: None,\n",
       " 48: 0.6735544101390423,\n",
       " 49: None,\n",
       " 50: None,\n",
       " 51: 0.28143440559124105,\n",
       " 52: None,\n",
       " 53: 0.09544697370402178,\n",
       " 54: None,\n",
       " 55: 0.15795212963724892,\n",
       " 56: None,\n",
       " 57: 0.16912464568117452,\n",
       " 58: 0.3507302772068746,\n",
       " 59: 0.1790282622758851,\n",
       " 60: None,\n",
       " 61: None,\n",
       " 62: None,\n",
       " 63: 0.06242248102002665}"
      ]
     },
     "execution_count": 354,
     "metadata": {},
     "output_type": "execute_result"
    }
   ],
   "source": [
    "probability_thresholds"
   ]
  },
  {
   "cell_type": "code",
   "execution_count": 300,
   "metadata": {},
   "outputs": [
    {
     "data": {
      "text/plain": [
       "label\n",
       "area/jupyter      110.0\n",
       "area/kfctl        124.0\n",
       "area/engprod       34.0\n",
       "area/docs          95.0\n",
       "area/kustomize     17.0\n",
       "platform/gcp       85.0\n",
       "platform/aws       19.0\n",
       "dtype: float64"
      ]
     },
     "execution_count": 300,
     "metadata": {},
     "output_type": "execute_result"
    }
   ],
   "source": [
    "# Comment how many examples we have in the test set for the above labels\n",
    "y_label_counts = pd.Series(y_test.sum(axis=0), index=target_labels)\n",
    "\n",
    "y_label_counts.loc[labels_of_interest] "
   ]
  },
  {
   "cell_type": "markdown",
   "metadata": {},
   "source": [
    "* As shown below by computing the fraction of issues in the test set with a given label the fractions are very low\n",
    "* One problem is that our test/train set is probably underreporting true positives;\n",
    "  * i.e. if an issue has a label applied; that is a high degree of confidence that the label is correct (as it was probably added by a human)\n",
    "  * The converse is not true; if an issue lacks labels that is not a strong signal the label doesn't apply because not all issues are properly labeled; e.g. if an issue is closed before being triaged it may not have had labels applied."
   ]
  },
  {
   "cell_type": "code",
   "execution_count": 308,
   "metadata": {},
   "outputs": [
    {
     "data": {
      "text/plain": [
       "label\n",
       "area/jupyter      0.046709\n",
       "area/kfctl        0.052654\n",
       "area/engprod      0.014437\n",
       "area/docs         0.040340\n",
       "area/kustomize    0.007219\n",
       "platform/gcp      0.036093\n",
       "platform/aws      0.008068\n",
       "dtype: float64"
      ]
     },
     "execution_count": 308,
     "metadata": {},
     "output_type": "execute_result"
    }
   ],
   "source": [
    "# Compute fraction of issues with the labels\n",
    "y_label_counts.loc[labels_of_interest] / y_test.shape[0]"
   ]
  },
  {
   "cell_type": "markdown",
   "metadata": {},
   "source": [
    "## Generate Predictions for Recently Created issues\n",
    "\n",
    "* Use BigQuery to bulk fetch recent issues and compute predictions for them"
   ]
  },
  {
   "cell_type": "code",
   "execution_count": 54,
   "metadata": {},
   "outputs": [],
   "source": [
    "from code_intelligence import github_bigquery\n",
    "\n",
    "import subprocess \n",
    "# TODO(jlewi): Get the project using fairing?\n",
    "PROJECT = subprocess.check_output([\"gcloud\", \"config\", \"get-value\", \"project\"]).strip().decode()"
   ]
  },
  {
   "cell_type": "code",
   "execution_count": 103,
   "metadata": {},
   "outputs": [
    {
     "name": "stderr",
     "output_type": "stream",
     "text": [
      "  Elapsed 6.23 s. Waiting...\n",
      "  Elapsed 7.35 s. Waiting...\n",
      "Downloading: 100%|██████████| 2593/2593 [00:00<00:00, 3016.77rows/s]\n",
      "Total time taken 9.17 s.\n",
      "Finished at 2020-04-27 15:41:02.\n"
     ]
    }
   ],
   "source": [
    "reload(github_bigquery)\n",
    "\n",
    "# Fetch recent issues\n",
    "recent_issues = github_bigquery.get_issues(\"kubeflow\", PROJECT, max_age_days=14)"
   ]
  },
  {
   "cell_type": "code",
   "execution_count": 106,
   "metadata": {},
   "outputs": [
    {
     "name": "stderr",
     "output_type": "stream",
     "text": [
      "Model inference: 0 / 179\n",
      "Model inference: 9 / 179\n",
      "Model inference: 18 / 179\n",
      "Model inference: 27 / 179\n",
      "Model inference: 36 / 179\n",
      "Model inference: 45 / 179\n",
      "Model inference: 54 / 179\n",
      "Model inference: 63 / 179\n",
      "Model inference: 72 / 179\n",
      "Model inference: 81 / 179\n",
      "Model inference: 90 / 179\n",
      "Model inference: 99 / 179\n",
      "Model inference: 108 / 179\n",
      "Model inference: 117 / 179\n",
      "Model inference: 126 / 179\n",
      "Model inference: 135 / 179\n",
      "Model inference: 144 / 179\n",
      "Model inference: 153 / 179\n",
      "Model inference: 162 / 179\n",
      "Model inference: 171 / 179\n"
     ]
    }
   ],
   "source": [
    "input_data = recent_issues[[\"title\", \"body\"]]\n",
    "recent_embeddings = inference_wrapper.df_to_embedding(input_data)"
   ]
  },
  {
   "cell_type": "code",
   "execution_count": 114,
   "metadata": {},
   "outputs": [],
   "source": [
    "recent_predictions = clf.predict_proba(recent_embeddings)\n",
    "#p = pd.DataFrame({\"probabilities\": predictions[0, :], \"labels\": target_labels})\n",
    "#p.sort_values(\"probabilities\", ascending=False)"
   ]
  },
  {
   "cell_type": "code",
   "execution_count": 365,
   "metadata": {},
   "outputs": [
    {
     "data": {
      "text/plain": [
       "array([[1.      , 1.      , 1.      , 1.      , ..., 1.      , 1.      , 1.      , 0.062422],\n",
       "       [1.      , 1.      , 1.      , 1.      , ..., 1.      , 1.      , 1.      , 0.062422],\n",
       "       [1.      , 1.      , 1.      , 1.      , ..., 1.      , 1.      , 1.      , 0.062422],\n",
       "       [1.      , 1.      , 1.      , 1.      , ..., 1.      , 1.      , 1.      , 0.062422],\n",
       "       ...,\n",
       "       [1.      , 1.      , 1.      , 1.      , ..., 1.      , 1.      , 1.      , 0.062422],\n",
       "       [1.      , 1.      , 1.      , 1.      , ..., 1.      , 1.      , 1.      , 0.062422],\n",
       "       [1.      , 1.      , 1.      , 1.      , ..., 1.      , 1.      , 1.      , 0.062422],\n",
       "       [1.      , 1.      , 1.      , 1.      , ..., 1.      , 1.      , 1.      , 0.062422]])"
      ]
     },
     "execution_count": 365,
     "metadata": {},
     "output_type": "execute_result"
    }
   ],
   "source": []
  },
  {
   "cell_type": "code",
   "execution_count": 370,
   "metadata": {},
   "outputs": [
    {
     "data": {
      "text/plain": [
       "array([ 1,  0, -1])"
      ]
     },
     "execution_count": 370,
     "metadata": {},
     "output_type": "execute_result"
    }
   ],
   "source": [
    "np.sign([2, 0, -1])"
   ]
  },
  {
   "cell_type": "markdown",
   "metadata": {},
   "source": [
    "* To compute recent labels we subtract the threshold and then look at the sign of the result"
   ]
  },
  {
   "cell_type": "code",
   "execution_count": 378,
   "metadata": {},
   "outputs": [],
   "source": [
    "recent_labels = (np.sign(recent_predictions - np.tile(label_thresholds, [recent_predictions.shape[0], 1]))+1) / 2"
   ]
  },
  {
   "cell_type": "markdown",
   "metadata": {},
   "source": [
    "* Compute how many issues are labeled with each label"
   ]
  },
  {
   "cell_type": "code",
   "execution_count": 397,
   "metadata": {},
   "outputs": [],
   "source": [
    "recent_labels_df=pd.DataFrame(recent_labels, columns=target_labels)\n",
    "predicted_label_counts = recent_labels_df.sum(axis=0)"
   ]
  },
  {
   "cell_type": "code",
   "execution_count": 411,
   "metadata": {},
   "outputs": [
    {
     "data": {
      "text/plain": [
       "label\n",
       "kind/bug                            43.0\n",
       "kind/feature                        22.0\n",
       "priority/p2                         15.0\n",
       "priority/p1                         14.0\n",
       "area/testing                         8.0\n",
       "area/kfctl                           7.0\n",
       "priority/p0                          7.0\n",
       "kind/question                        4.0\n",
       "area/jupyter                         3.0\n",
       "platform/gcp                         2.0\n",
       "area/frontend                        0.0\n",
       "area/example/code_search             0.0\n",
       "area/example/issue_summarization     0.0\n",
       "area/front-end                       0.0\n",
       "testing                              0.0\n",
       "area/inference                       0.0\n",
       "area/istio                           0.0\n",
       "area/engprod                         0.0\n",
       "area/katib                           0.0\n",
       "area/ksonnet                         0.0\n",
       "area/enterprise_readiness            0.0\n",
       "area/build-release                   0.0\n",
       "area/docs                            0.0\n",
       "area/components                      0.0\n",
       "area/centraldashboard                0.0\n",
       "area/metadata                        0.0\n",
       "area/bootstrap                       0.0\n",
       "area/backend                         0.0\n",
       "area/back-end                        0.0\n",
       "area/api                             0.0\n",
       "                                    ... \n",
       "api/v1alpha2                         0.0\n",
       "area/kustomize                       0.0\n",
       "area/sdk                             0.0\n",
       "area/operator                        0.0\n",
       "feature                              0.0\n",
       "release/0.2.0                        0.0\n",
       "priority/p3                          0.0\n",
       "platform/minikube                    0.0\n",
       "platform/aws                         0.0\n",
       "kind/process                         0.0\n",
       "kind/enhancement                     0.0\n",
       "kind/discussion                      0.0\n",
       "improvement/enhancement              0.0\n",
       "help wanted                          0.0\n",
       "good first issue                     0.0\n",
       "feature_request                      0.0\n",
       "doc-sprint                           0.0\n",
       "area/pipelines                       0.0\n",
       "cuj/multi-user                       0.0\n",
       "cuj/build-train-deploy               0.0\n",
       "community/question                   0.0\n",
       "community/discussion                 0.0\n",
       "area/tfjob                           0.0\n",
       "area/sdk/dsl/compiler                0.0\n",
       "area/sdk/dsl                         0.0\n",
       "area/sdk/components                  0.0\n",
       "area/sdk/client                      0.0\n",
       "release/0.3.0                        0.0\n",
       "area/samples                         0.0\n",
       "addition/feature                     0.0\n",
       "Length: 64, dtype: float64"
      ]
     },
     "execution_count": 411,
     "metadata": {},
     "output_type": "execute_result"
    }
   ],
   "source": [
    "predicted_label_counts.sort_values(ascending=False)"
   ]
  },
  {
   "cell_type": "markdown",
   "metadata": {},
   "source": [
    "## Compute fraction of issues with an area or platform label"
   ]
  },
  {
   "cell_type": "code",
   "execution_count": 414,
   "metadata": {},
   "outputs": [
    {
     "data": {
      "text/plain": [
       "(179, 64)"
      ]
     },
     "execution_count": 414,
     "metadata": {},
     "output_type": "execute_result"
    }
   ],
   "source": [
    "recent_labels_df.shape"
   ]
  },
  {
   "cell_type": "code",
   "execution_count": null,
   "metadata": {},
   "outputs": [],
   "source": [
    "* Print out issue titles and labels\n",
    "  * This is for qualitative analysis"
   ]
  },
  {
   "cell_type": "code",
   "execution_count": 408,
   "metadata": {},
   "outputs": [
    {
     "data": {
      "text/html": [
       "Issue: <a href='https://github.com/kubeflow/code-intelligence/issues/127'> https://embeddings.gh-issue-labeler.com is down.</a> "
      ],
      "text/plain": [
       "<IPython.core.display.HTML object>"
      ]
     },
     "metadata": {},
     "output_type": "display_data"
    },
    {
     "data": {
      "text/html": [
       "Issue: <a href='https://github.com/kubeflow/common/issues/70'>Failed to fetch common module</a> "
      ],
      "text/plain": [
       "<IPython.core.display.HTML object>"
      ]
     },
     "metadata": {},
     "output_type": "display_data"
    },
    {
     "data": {
      "text/html": [
       "Issue: <a href='https://github.com/kubeflow/common/issues/71'>Difference between kubeflow/common and kubeflow/tf-operator/pkg/common</a> "
      ],
      "text/plain": [
       "<IPython.core.display.HTML object>"
      ]
     },
     "metadata": {},
     "output_type": "display_data"
    },
    {
     "data": {
      "text/html": [
       "Issue: <a href='https://github.com/kubeflow/community/issues/326'>[Slack] Process for channel creation</a> "
      ],
      "text/plain": [
       "<IPython.core.display.HTML object>"
      ]
     },
     "metadata": {},
     "output_type": "display_data"
    },
    {
     "data": {
      "text/html": [
       "Issue: <a href='https://github.com/kubeflow/community/issues/327'>[Guidelines] Add guideline on Authorization</a> kind/feature"
      ],
      "text/plain": [
       "<IPython.core.display.HTML object>"
      ]
     },
     "metadata": {},
     "output_type": "display_data"
    },
    {
     "data": {
      "text/html": [
       "Issue: <a href='https://github.com/kubeflow/community/issues/328'>CentralDashboard: When should a namespace be shown in the selector?</a> priority/p1"
      ],
      "text/plain": [
       "<IPython.core.display.HTML object>"
      ]
     },
     "metadata": {},
     "output_type": "display_data"
    },
    {
     "data": {
      "text/html": [
       "Issue: <a href='https://github.com/kubeflow/community/issues/331'>Create a repo for Kubeflow GCP Blueprints</a> priority/p1, priority/p2"
      ],
      "text/plain": [
       "<IPython.core.display.HTML object>"
      ]
     },
     "metadata": {},
     "output_type": "display_data"
    },
    {
     "data": {
      "text/html": [
       "Issue: <a href='https://github.com/kubeflow/examples/issues/789'>No working example for kfctl_istio_dex (no GKE) deployments</a> priority/p2"
      ],
      "text/plain": [
       "<IPython.core.display.HTML object>"
      ]
     },
     "metadata": {},
     "output_type": "display_data"
    },
    {
     "data": {
      "text/html": [
       "Issue: <a href='https://github.com/kubeflow/examples/issues/790'>mnist_vanilla_k8s.ipynb on-prem air-gapped </a> "
      ],
      "text/plain": [
       "<IPython.core.display.HTML object>"
      ]
     },
     "metadata": {},
     "output_type": "display_data"
    },
    {
     "data": {
      "text/html": [
       "Issue: <a href='https://github.com/kubeflow/examples/issues/792'>Periodic example tests are failing</a> kind/bug, priority/p0, priority/p1"
      ],
      "text/plain": [
       "<IPython.core.display.HTML object>"
      ]
     },
     "metadata": {},
     "output_type": "display_data"
    },
    {
     "data": {
      "text/html": [
       "Issue: <a href='https://github.com/kubeflow/examples/issues/793'>MNIST demo produces No such file or directory: '/var/run/secrets/kubernetes.io/serviceaccount/namespace'</a> "
      ],
      "text/plain": [
       "<IPython.core.display.HTML object>"
      ]
     },
     "metadata": {},
     "output_type": "display_data"
    },
    {
     "data": {
      "text/html": [
       "Issue: <a href='https://github.com/kubeflow/fairing/issues/486'>Kubeflow fairing on-prem air-gapped with private registry</a> "
      ],
      "text/plain": [
       "<IPython.core.display.HTML object>"
      ]
     },
     "metadata": {},
     "output_type": "display_data"
    },
    {
     "data": {
      "text/html": [
       "Issue: <a href='https://github.com/kubeflow/fairing/issues/487'>Support specifying GPU resource</a> kind/feature"
      ],
      "text/plain": [
       "<IPython.core.display.HTML object>"
      ]
     },
     "metadata": {},
     "output_type": "display_data"
    },
    {
     "data": {
      "text/html": [
       "Issue: <a href='https://github.com/kubeflow/fairing/issues/489'>Cannot run MNIST example because packages cannot be installed</a> "
      ],
      "text/plain": [
       "<IPython.core.display.HTML object>"
      ]
     },
     "metadata": {},
     "output_type": "display_data"
    },
    {
     "data": {
      "text/html": [
       "Issue: <a href='https://github.com/kubeflow/katib/issues/1144'>Suggestion services folder structure</a> "
      ],
      "text/plain": [
       "<IPython.core.display.HTML object>"
      ]
     },
     "metadata": {},
     "output_type": "display_data"
    },
    {
     "data": {
      "text/html": [
       "Issue: <a href='https://github.com/kubeflow/katib/issues/1147'>Update docs to tell which suggestion service supports for which algorithm.</a> kind/feature"
      ],
      "text/plain": [
       "<IPython.core.display.HTML object>"
      ]
     },
     "metadata": {},
     "output_type": "display_data"
    },
    {
     "data": {
      "text/html": [
       "Issue: <a href='https://github.com/kubeflow/katib/issues/1148'>[UI Feature] Show Suggestion information in Experiment page</a> kind/feature"
      ],
      "text/plain": [
       "<IPython.core.display.HTML object>"
      ]
     },
     "metadata": {},
     "output_type": "display_data"
    },
    {
     "data": {
      "text/html": [
       "Issue: <a href='https://github.com/kubeflow/katib/issues/1151'>Add max running time as an optional stop criteria</a> kind/feature"
      ],
      "text/plain": [
       "<IPython.core.display.HTML object>"
      ]
     },
     "metadata": {},
     "output_type": "display_data"
    },
    {
     "data": {
      "text/html": [
       "Issue: <a href='https://github.com/kubeflow/katib/issues/1152'>Goptuna Suggestion Katib integration</a> "
      ],
      "text/plain": [
       "<IPython.core.display.HTML object>"
      ]
     },
     "metadata": {},
     "output_type": "display_data"
    },
    {
     "data": {
      "text/html": [
       "Issue: <a href='https://github.com/kubeflow/katib/issues/1156'>katib-mysql does not work</a> kind/bug"
      ],
      "text/plain": [
       "<IPython.core.display.HTML object>"
      ]
     },
     "metadata": {},
     "output_type": "display_data"
    },
    {
     "data": {
      "text/html": [
       "Issue: <a href='https://github.com/kubeflow/katib/issues/1159'>[Installation does not working]deploy.sh is failed </a> kind/bug"
      ],
      "text/plain": [
       "<IPython.core.display.HTML object>"
      ]
     },
     "metadata": {},
     "output_type": "display_data"
    },
    {
     "data": {
      "text/html": [
       "Issue: <a href='https://github.com/kubeflow/katib/issues/1160'>Failed calling webhook when running random example experiment</a> kind/bug"
      ],
      "text/plain": [
       "<IPython.core.display.HTML object>"
      ]
     },
     "metadata": {},
     "output_type": "display_data"
    },
    {
     "data": {
      "text/html": [
       "Issue: <a href='https://github.com/kubeflow/katib/issues/1163'>Rename Chocolate algorithm names</a> "
      ],
      "text/plain": [
       "<IPython.core.display.HTML object>"
      ]
     },
     "metadata": {},
     "output_type": "display_data"
    },
    {
     "data": {
      "text/html": [
       "Issue: <a href='https://github.com/kubeflow/katib/issues/1165'>Add new permission to Katib UI RBAC to view suggestions</a> kind/feature"
      ],
      "text/plain": [
       "<IPython.core.display.HTML object>"
      ]
     },
     "metadata": {},
     "output_type": "display_data"
    },
    {
     "data": {
      "text/html": [
       "Issue: <a href='https://github.com/kubeflow/katib/issues/1167'>[Feature] Support DARTS in Katib</a> "
      ],
      "text/plain": [
       "<IPython.core.display.HTML object>"
      ]
     },
     "metadata": {},
     "output_type": "display_data"
    },
    {
     "data": {
      "text/html": [
       "Issue: <a href='https://github.com/kubeflow/katib/issues/1168'>Suggestion stuck for HyperBand when `len(response.ParameterAssignments) < requestNum`</a> kind/bug"
      ],
      "text/plain": [
       "<IPython.core.display.HTML object>"
      ]
     },
     "metadata": {},
     "output_type": "display_data"
    },
    {
     "data": {
      "text/html": [
       "Issue: <a href='https://github.com/kubeflow/katib/issues/1169'>Experiments are created but are not resulting in deployments</a> kind/bug"
      ],
      "text/plain": [
       "<IPython.core.display.HTML object>"
      ]
     },
     "metadata": {},
     "output_type": "display_data"
    },
    {
     "data": {
      "text/html": [
       "Issue: <a href='https://github.com/kubeflow/katib/issues/1170'>OpenAPI validation for Katib CRs - prevent invalid specs</a> priority/p1"
      ],
      "text/plain": [
       "<IPython.core.display.HTML object>"
      ]
     },
     "metadata": {},
     "output_type": "display_data"
    },
    {
     "data": {
      "text/html": [
       "Issue: <a href='https://github.com/kubeflow/kfctl/issues/306'>kfctl not building breaking unittests - error fetching modules</a> area/testing, priority/p0"
      ],
      "text/plain": [
       "<IPython.core.display.HTML object>"
      ]
     },
     "metadata": {},
     "output_type": "display_data"
    },
    {
     "data": {
      "text/html": [
       "Issue: <a href='https://github.com/kubeflow/kfctl/issues/308'>creating secrets from kfDef during installation</a> "
      ],
      "text/plain": [
       "<IPython.core.display.HTML object>"
      ]
     },
     "metadata": {},
     "output_type": "display_data"
    },
    {
     "data": {
      "text/html": [
       "Issue: <a href='https://github.com/kubeflow/kfctl/issues/317'>zsh completions can't be sourced</a> "
      ],
      "text/plain": [
       "<IPython.core.display.HTML object>"
      ]
     },
     "metadata": {},
     "output_type": "display_data"
    },
    {
     "data": {
      "text/html": [
       "Issue: <a href='https://github.com/kubeflow/kfctl/issues/320'>gcp apply could not update deployment manager - service account does not exist</a> area/kfctl, platform/gcp"
      ],
      "text/plain": [
       "<IPython.core.display.HTML object>"
      ]
     },
     "metadata": {},
     "output_type": "display_data"
    },
    {
     "data": {
      "text/html": [
       "Issue: <a href='https://github.com/kubeflow/kfp-tekton/issues/100'>Make the CI tests for repo </a> kind/feature"
      ],
      "text/plain": [
       "<IPython.core.display.HTML object>"
      ]
     },
     "metadata": {},
     "output_type": "display_data"
    },
    {
     "data": {
      "text/html": [
       "Issue: <a href='https://github.com/kubeflow/kfp-tekton/issues/101'>Publish kfp-tekton SDK in Pypi </a> kind/feature"
      ],
      "text/plain": [
       "<IPython.core.display.HTML object>"
      ]
     },
     "metadata": {},
     "output_type": "display_data"
    },
    {
     "data": {
      "text/html": [
       "Issue: <a href='https://github.com/kubeflow/kfp-tekton/issues/102'>Found more official repo for \"kubectl-wrapper\"</a> "
      ],
      "text/plain": [
       "<IPython.core.display.HTML object>"
      ]
     },
     "metadata": {},
     "output_type": "display_data"
    },
    {
     "data": {
      "text/html": [
       "Issue: <a href='https://github.com/kubeflow/kfp-tekton/issues/107'>Add unit tests for 'basic_no_decorator.py' and 'compose.py'</a> area/testing"
      ],
      "text/plain": [
       "<IPython.core.display.HTML object>"
      ]
     },
     "metadata": {},
     "output_type": "display_data"
    },
    {
     "data": {
      "text/html": [
       "Issue: <a href='https://github.com/kubeflow/kfp-tekton/issues/109'>Clarify building from Tekton master in sdk/README</a> "
      ],
      "text/plain": [
       "<IPython.core.display.HTML object>"
      ]
     },
     "metadata": {},
     "output_type": "display_data"
    },
    {
     "data": {
      "text/html": [
       "Issue: <a href='https://github.com/kubeflow/kfp-tekton/issues/114'>Docs for deploying tekton pipeline on kfp user namespaces.</a> kind/feature"
      ],
      "text/plain": [
       "<IPython.core.display.HTML object>"
      ]
     },
     "metadata": {},
     "output_type": "display_data"
    },
    {
     "data": {
      "text/html": [
       "Issue: <a href='https://github.com/kubeflow/kfp-tekton/issues/118'>Add list of sample kfp pipelines for Tekton</a> kind/feature"
      ],
      "text/plain": [
       "<IPython.core.display.HTML object>"
      ]
     },
     "metadata": {},
     "output_type": "display_data"
    },
    {
     "data": {
      "text/html": [
       "Issue: <a href='https://github.com/kubeflow/kfp-tekton/issues/94'>Extend resourceOp warpper image to have multiple outputs</a> kind/feature"
      ],
      "text/plain": [
       "<IPython.core.display.HTML object>"
      ]
     },
     "metadata": {},
     "output_type": "display_data"
    },
    {
     "data": {
      "text/html": [
       "Issue: <a href='https://github.com/kubeflow/kfp-tekton/issues/96'>Refactor compiler and op to template function.</a> kind/feature"
      ],
      "text/plain": [
       "<IPython.core.display.HTML object>"
      ]
     },
     "metadata": {},
     "output_type": "display_data"
    },
    {
     "data": {
      "text/html": [
       "Issue: <a href='https://github.com/kubeflow/kfp-tekton/issues/97'>Create makefile for sdk/python</a> kind/feature"
      ],
      "text/plain": [
       "<IPython.core.display.HTML object>"
      ]
     },
     "metadata": {},
     "output_type": "display_data"
    },
    {
     "data": {
      "text/html": [
       "Issue: <a href='https://github.com/kubeflow/kfserving/issues/775'>SDK promote method miss annotations</a> "
      ],
      "text/plain": [
       "<IPython.core.display.HTML object>"
      ]
     },
     "metadata": {},
     "output_type": "display_data"
    },
    {
     "data": {
      "text/html": [
       "Issue: <a href='https://github.com/kubeflow/kfserving/issues/778'>Error Response Logging </a> kind/feature"
      ],
      "text/plain": [
       "<IPython.core.display.HTML object>"
      ]
     },
     "metadata": {},
     "output_type": "display_data"
    },
    {
     "data": {
      "text/html": [
       "Issue: <a href='https://github.com/kubeflow/kfserving/issues/779'>Development build missing kustomize patch</a> area/kfctl, kind/bug"
      ],
      "text/plain": [
       "<IPython.core.display.HTML object>"
      ]
     },
     "metadata": {},
     "output_type": "display_data"
    },
    {
     "data": {
      "text/html": [
       "Issue: <a href='https://github.com/kubeflow/kfserving/issues/784'>TFServing supports for general collections of metrics.</a> kind/feature"
      ],
      "text/plain": [
       "<IPython.core.display.HTML object>"
      ]
     },
     "metadata": {},
     "output_type": "display_data"
    },
    {
     "data": {
      "text/html": [
       "Issue: <a href='https://github.com/kubeflow/kfserving/issues/785'>InferenceService with Kafka Event Source </a> kind/bug"
      ],
      "text/plain": [
       "<IPython.core.display.HTML object>"
      ]
     },
     "metadata": {},
     "output_type": "display_data"
    },
    {
     "data": {
      "text/html": [
       "Issue: <a href='https://github.com/kubeflow/kfserving/issues/786'>the state of my kservice is \"IngressNotConfigured\"</a> kind/bug"
      ],
      "text/plain": [
       "<IPython.core.display.HTML object>"
      ]
     },
     "metadata": {},
     "output_type": "display_data"
    },
    {
     "data": {
      "text/html": [
       "Issue: <a href='https://github.com/kubeflow/kfserving/issues/789'>Transformer request to Predictor should be Non Blocking</a> "
      ],
      "text/plain": [
       "<IPython.core.display.HTML object>"
      ]
     },
     "metadata": {},
     "output_type": "display_data"
    },
    {
     "data": {
      "text/html": [
       "Issue: <a href='https://github.com/kubeflow/kfserving/issues/790'>Investigate integration of TorchServe in KFServing</a> "
      ],
      "text/plain": [
       "<IPython.core.display.HTML object>"
      ]
     },
     "metadata": {},
     "output_type": "display_data"
    },
    {
     "data": {
      "text/html": [
       "Issue: <a href='https://github.com/kubeflow/kfserving/issues/792'>Update Alibi Explainer Library to 0.4.0</a> "
      ],
      "text/plain": [
       "<IPython.core.display.HTML object>"
      ]
     },
     "metadata": {},
     "output_type": "display_data"
    },
    {
     "data": {
      "text/html": [
       "Issue: <a href='https://github.com/kubeflow/kfserving/issues/793'>Unable to connect to port : Operation timed out</a> kind/bug"
      ],
      "text/plain": [
       "<IPython.core.display.HTML object>"
      ]
     },
     "metadata": {},
     "output_type": "display_data"
    },
    {
     "data": {
      "text/html": [
       "Issue: <a href='https://github.com/kubeflow/kfserving/issues/794'>Serving custom model over GPU node.</a> "
      ],
      "text/plain": [
       "<IPython.core.display.HTML object>"
      ]
     },
     "metadata": {},
     "output_type": "display_data"
    },
    {
     "data": {
      "text/html": [
       "Issue: <a href='https://github.com/kubeflow/kubeflow/issues/4947'>GKE Deploy fails in Australia as no NVIDIA GPUs available unless we modify cluster.jinja</a> kind/bug"
      ],
      "text/plain": [
       "<IPython.core.display.HTML object>"
      ]
     },
     "metadata": {},
     "output_type": "display_data"
    },
    {
     "data": {
      "text/html": [
       "Issue: <a href='https://github.com/kubeflow/kubeflow/issues/4949'>Issue with installing 1.0.1 on on-premiss</a> kind/bug"
      ],
      "text/plain": [
       "<IPython.core.display.HTML object>"
      ]
     },
     "metadata": {},
     "output_type": "display_data"
    },
    {
     "data": {
      "text/html": [
       "Issue: <a href='https://github.com/kubeflow/kubeflow/issues/4950'>PVC discovery</a> kind/feature, priority/p2"
      ],
      "text/plain": [
       "<IPython.core.display.HTML object>"
      ]
     },
     "metadata": {},
     "output_type": "display_data"
    },
    {
     "data": {
      "text/html": [
       "Issue: <a href='https://github.com/kubeflow/kubeflow/issues/4951'>Stop/Pause Notebook Servers</a> area/jupyter, kind/feature, priority/p2"
      ],
      "text/plain": [
       "<IPython.core.display.HTML object>"
      ]
     },
     "metadata": {},
     "output_type": "display_data"
    },
    {
     "data": {
      "text/html": [
       "Issue: <a href='https://github.com/kubeflow/kubeflow/issues/4952'>Allow creation of profiles within dashboard</a> kind/feature, priority/p1, priority/p2"
      ],
      "text/plain": [
       "<IPython.core.display.HTML object>"
      ]
     },
     "metadata": {},
     "output_type": "display_data"
    },
    {
     "data": {
      "text/html": [
       "Issue: <a href='https://github.com/kubeflow/kubeflow/issues/4953'>Enforce Profile/Namespace naming in registration flow</a> kind/feature"
      ],
      "text/plain": [
       "<IPython.core.display.HTML object>"
      ]
     },
     "metadata": {},
     "output_type": "display_data"
    },
    {
     "data": {
      "text/html": [
       "Issue: <a href='https://github.com/kubeflow/kubeflow/issues/4954'>Kubernetes GPU pods /Kubeflow</a> kind/question, priority/p2"
      ],
      "text/plain": [
       "<IPython.core.display.HTML object>"
      ]
     },
     "metadata": {},
     "output_type": "display_data"
    },
    {
     "data": {
      "text/html": [
       "Issue: <a href='https://github.com/kubeflow/kubeflow/issues/4955'>Generic experiment, run for training job, notebook run</a> kind/feature"
      ],
      "text/plain": [
       "<IPython.core.display.HTML object>"
      ]
     },
     "metadata": {},
     "output_type": "display_data"
    },
    {
     "data": {
      "text/html": [
       "Issue: <a href='https://github.com/kubeflow/kubeflow/issues/4956'>Errors on reconfiguration of Jupyter Notebook Web App on existing Kubernetes cluster using Kustomization</a> kind/bug"
      ],
      "text/plain": [
       "<IPython.core.display.HTML object>"
      ]
     },
     "metadata": {},
     "output_type": "display_data"
    },
    {
     "data": {
      "text/html": [
       "Issue: <a href='https://github.com/kubeflow/kubeflow/issues/4957'>katib-mysql Table 'mysql.plugin' doesn't exist</a> kind/bug"
      ],
      "text/plain": [
       "<IPython.core.display.HTML object>"
      ]
     },
     "metadata": {},
     "output_type": "display_data"
    },
    {
     "data": {
      "text/html": [
       "Issue: <a href='https://github.com/kubeflow/kubeflow/issues/4958'>Seldon-Core Quickstart is not working</a> kind/bug"
      ],
      "text/plain": [
       "<IPython.core.display.HTML object>"
      ]
     },
     "metadata": {},
     "output_type": "display_data"
    },
    {
     "data": {
      "text/html": [
       "Issue: <a href='https://github.com/kubeflow/kubeflow/issues/4959'>Seldon Serving with Cognito</a> kind/bug"
      ],
      "text/plain": [
       "<IPython.core.display.HTML object>"
      ]
     },
     "metadata": {},
     "output_type": "display_data"
    },
    {
     "data": {
      "text/html": [
       "Issue: <a href='https://github.com/kubeflow/kubeflow/issues/4960'>Design Doc: Evaluate and Improve our Multi-User model</a> kind/feature"
      ],
      "text/plain": [
       "<IPython.core.display.HTML object>"
      ]
     },
     "metadata": {},
     "output_type": "display_data"
    },
    {
     "data": {
      "text/html": [
       "Issue: <a href='https://github.com/kubeflow/kubeflow/issues/4961'>Missing Deployments in 1.0.1 using kfctl_istio_dex_v1.0.1</a> "
      ],
      "text/plain": [
       "<IPython.core.display.HTML object>"
      ]
     },
     "metadata": {},
     "output_type": "display_data"
    },
    {
     "data": {
      "text/html": [
       "Issue: <a href='https://github.com/kubeflow/kubeflow/issues/4962'>Notebook with EBS volume - creation failure</a> kind/bug"
      ],
      "text/plain": [
       "<IPython.core.display.HTML object>"
      ]
     },
     "metadata": {},
     "output_type": "display_data"
    },
    {
     "data": {
      "text/html": [
       "Issue: <a href='https://github.com/kubeflow/kubeflow/issues/4963'>MiniKF dashboard external IP address not connecting</a> kind/question"
      ],
      "text/plain": [
       "<IPython.core.display.HTML object>"
      ]
     },
     "metadata": {},
     "output_type": "display_data"
    },
    {
     "data": {
      "text/html": [
       "Issue: <a href='https://github.com/kubeflow/kubeflow/issues/4965'>Profile creation through central dashboard vs kubectl YAML does not have the same behavior</a> kind/bug"
      ],
      "text/plain": [
       "<IPython.core.display.HTML object>"
      ]
     },
     "metadata": {},
     "output_type": "display_data"
    },
    {
     "data": {
      "text/html": [
       "Issue: <a href='https://github.com/kubeflow/kubeflow/issues/4966'>exposing host docker in jupyterlab custom container</a> area/jupyter, kind/question"
      ],
      "text/plain": [
       "<IPython.core.display.HTML object>"
      ]
     },
     "metadata": {},
     "output_type": "display_data"
    },
    {
     "data": {
      "text/html": [
       "Issue: <a href='https://github.com/kubeflow/kubeflow/issues/4968'>Pipelines sample error - Uniform Bucket Level Access required</a> "
      ],
      "text/plain": [
       "<IPython.core.display.HTML object>"
      ]
     },
     "metadata": {},
     "output_type": "display_data"
    },
    {
     "data": {
      "text/html": [
       "Issue: <a href='https://github.com/kubeflow/kubeflow/issues/4969'>GRPC Auth problem with GCP IAP </a> kind/bug, platform/gcp"
      ],
      "text/plain": [
       "<IPython.core.display.HTML object>"
      ]
     },
     "metadata": {},
     "output_type": "display_data"
    },
    {
     "data": {
      "text/html": [
       "Issue: <a href='https://github.com/kubeflow/kubeflow/issues/4970'>Manage contributor add failure - rolebinding unique name issue</a> kind/bug"
      ],
      "text/plain": [
       "<IPython.core.display.HTML object>"
      ]
     },
     "metadata": {},
     "output_type": "display_data"
    },
    {
     "data": {
      "text/html": [
       "Issue: <a href='https://github.com/kubeflow/kubeflow/issues/4971'>katib-mysql startup brittle</a> "
      ],
      "text/plain": [
       "<IPython.core.display.HTML object>"
      ]
     },
     "metadata": {},
     "output_type": "display_data"
    },
    {
     "data": {
      "text/html": [
       "Issue: <a href='https://github.com/kubeflow/kubeflow/issues/4972'>Kubeflow Deployment on AWS EKS fails due to \"webhook.cert-manager.io\"</a> area/kfctl, kind/bug"
      ],
      "text/plain": [
       "<IPython.core.display.HTML object>"
      ]
     },
     "metadata": {},
     "output_type": "display_data"
    },
    {
     "data": {
      "text/html": [
       "Issue: <a href='https://github.com/kubeflow/kubeflow/issues/4973'>Cannot access kubeflow dashboard as admin</a> kind/bug"
      ],
      "text/plain": [
       "<IPython.core.display.HTML object>"
      ]
     },
     "metadata": {},
     "output_type": "display_data"
    },
    {
     "data": {
      "text/html": [
       "Issue: <a href='https://github.com/kubeflow/kubeflow/issues/4974'>Issues with executor image and executor runtime - Kubeflow 0.5 on OCP 3.11</a> "
      ],
      "text/plain": [
       "<IPython.core.display.HTML object>"
      ]
     },
     "metadata": {},
     "output_type": "display_data"
    },
    {
     "data": {
      "text/html": [
       "Issue: <a href='https://github.com/kubeflow/kubeflow/issues/4975'>Dashboard deployed on eks does not show manage contributors in navigation</a> kind/bug"
      ],
      "text/plain": [
       "<IPython.core.display.HTML object>"
      ]
     },
     "metadata": {},
     "output_type": "display_data"
    },
    {
     "data": {
      "text/html": [
       "Issue: <a href='https://github.com/kubeflow/kubeflow/issues/4976'>Cannot access notebook servers: Sorry, /jupyter/ is not a valid page</a> kind/bug"
      ],
      "text/plain": [
       "<IPython.core.display.HTML object>"
      ]
     },
     "metadata": {},
     "output_type": "display_data"
    },
    {
     "data": {
      "text/html": [
       "Issue: <a href='https://github.com/kubeflow/kubeflow/issues/4977'>kfserving_sdk_sample.ipynb triggers error</a> "
      ],
      "text/plain": [
       "<IPython.core.display.HTML object>"
      ]
     },
     "metadata": {},
     "output_type": "display_data"
    },
    {
     "data": {
      "text/html": [
       "Issue: <a href='https://github.com/kubeflow/kubeflow/issues/4978'>KFServing SDK sample notebook `kfserving_sdk_sample.ipynb` triggers error</a> kind/bug"
      ],
      "text/plain": [
       "<IPython.core.display.HTML object>"
      ]
     },
     "metadata": {},
     "output_type": "display_data"
    },
    {
     "data": {
      "text/html": [
       "Issue: <a href='https://github.com/kubeflow/manifests/issues/1103'>kubeflow manifests presubmits are broken due to go modules problems</a> area/kfctl, area/testing, priority/p1"
      ],
      "text/plain": [
       "<IPython.core.display.HTML object>"
      ]
     },
     "metadata": {},
     "output_type": "display_data"
    },
    {
     "data": {
      "text/html": [
       "Issue: <a href='https://github.com/kubeflow/manifests/issues/1107'>Add aggregated rule for MPI-Operator and MXNet-operator</a> "
      ],
      "text/plain": [
       "<IPython.core.display.HTML object>"
      ]
     },
     "metadata": {},
     "output_type": "display_data"
    },
    {
     "data": {
      "text/html": [
       "Issue: <a href='https://github.com/kubeflow/manifests/issues/1112'>Add manifests for XGBoostJob</a> "
      ],
      "text/plain": [
       "<IPython.core.display.HTML object>"
      ]
     },
     "metadata": {},
     "output_type": "display_data"
    },
    {
     "data": {
      "text/html": [
       "Issue: <a href='https://github.com/kubeflow/manifests/issues/1115'>OIDC EnvoyFilter not working with Istio 1.3.1</a> kind/bug"
      ],
      "text/plain": [
       "<IPython.core.display.HTML object>"
      ]
     },
     "metadata": {},
     "output_type": "display_data"
    },
    {
     "data": {
      "text/html": [
       "Issue: <a href='https://github.com/kubeflow/manifests/issues/1117'>Update SparkApplication CRD</a> area/kfctl"
      ],
      "text/plain": [
       "<IPython.core.display.HTML object>"
      ]
     },
     "metadata": {},
     "output_type": "display_data"
    },
    {
     "data": {
      "text/html": [
       "Issue: <a href='https://github.com/kubeflow/manifests/issues/1118'>In-compatibility with Kustomize Go API version</a> area/kfctl"
      ],
      "text/plain": [
       "<IPython.core.display.HTML object>"
      ]
     },
     "metadata": {},
     "output_type": "display_data"
    },
    {
     "data": {
      "text/html": [
       "Issue: <a href='https://github.com/kubeflow/manifests/issues/1121'>certmanager install has race condition - try to create KF certmanager resources before cert manager is available</a> kind/bug"
      ],
      "text/plain": [
       "<IPython.core.display.HTML object>"
      ]
     },
     "metadata": {},
     "output_type": "display_data"
    },
    {
     "data": {
      "text/html": [
       "Issue: <a href='https://github.com/kubeflow/manifests/issues/1125'>Add AWS specific Container Image into jupyter-web-app configMap</a> priority/p1"
      ],
      "text/plain": [
       "<IPython.core.display.HTML object>"
      ]
     },
     "metadata": {},
     "output_type": "display_data"
    },
    {
     "data": {
      "text/html": [
       "Issue: <a href='https://github.com/kubeflow/manifests/issues/1127'>Deploying manifest 1.0.2 on top of 1.0.1 creates a lot of errors with patch</a> "
      ],
      "text/plain": [
       "<IPython.core.display.HTML object>"
      ]
     },
     "metadata": {},
     "output_type": "display_data"
    },
    {
     "data": {
      "text/html": [
       "Issue: <a href='https://github.com/kubeflow/manifests/issues/1131'>commonLabels need to be immutable for upgrades - remove version from commonLabels</a> priority/p1"
      ],
      "text/plain": [
       "<IPython.core.display.HTML object>"
      ]
     },
     "metadata": {},
     "output_type": "display_data"
    },
    {
     "data": {
      "text/html": [
       "Issue: <a href='https://github.com/kubeflow/manifests/issues/1136'>kustomize package to setup a namespace for using Kubeflow (alternative to profile controller)</a> kind/feature, priority/p1, priority/p2"
      ],
      "text/plain": [
       "<IPython.core.display.HTML object>"
      ]
     },
     "metadata": {},
     "output_type": "display_data"
    },
    {
     "data": {
      "text/html": [
       "Issue: <a href='https://github.com/kubeflow/mpi-operator/issues/217'>Graduate MPI Operator to v1</a> "
      ],
      "text/plain": [
       "<IPython.core.display.HTML object>"
      ]
     },
     "metadata": {},
     "output_type": "display_data"
    },
    {
     "data": {
      "text/html": [
       "Issue: <a href='https://github.com/kubeflow/mpi-operator/issues/219'>mpijob using hostnetwork error</a> "
      ],
      "text/plain": [
       "<IPython.core.display.HTML object>"
      ]
     },
     "metadata": {},
     "output_type": "display_data"
    },
    {
     "data": {
      "text/html": [
       "Issue: <a href='https://github.com/kubeflow/mpi-operator/issues/223'>Add support for MPICH </a> "
      ],
      "text/plain": [
       "<IPython.core.display.HTML object>"
      ]
     },
     "metadata": {},
     "output_type": "display_data"
    },
    {
     "data": {
      "text/html": [
       "Issue: <a href='https://github.com/kubeflow/mpi-operator/issues/224'>When worker's spec add mounting  a pvc, the satefuleset will be build without mountPath </a> "
      ],
      "text/plain": [
       "<IPython.core.display.HTML object>"
      ]
     },
     "metadata": {},
     "output_type": "display_data"
    },
    {
     "data": {
      "text/html": [
       "Issue: <a href='https://github.com/kubeflow/mpi-operator/issues/226'>Launcher should not collect all the workers' logs </a> "
      ],
      "text/plain": [
       "<IPython.core.display.HTML object>"
      ]
     },
     "metadata": {},
     "output_type": "display_data"
    },
    {
     "data": {
      "text/html": [
       "Issue: <a href='https://github.com/kubeflow/mpi-operator/issues/227'>Upgrade MPI Operator manifests to v1 in kubeflow/manifests</a> "
      ],
      "text/plain": [
       "<IPython.core.display.HTML object>"
      ]
     },
     "metadata": {},
     "output_type": "display_data"
    },
    {
     "data": {
      "text/html": [
       "Issue: <a href='https://github.com/kubeflow/mpi-operator/issues/228'>Perform scalability and load testing for v1 controller</a> "
      ],
      "text/plain": [
       "<IPython.core.display.HTML object>"
      ]
     },
     "metadata": {},
     "output_type": "display_data"
    },
    {
     "data": {
      "text/html": [
       "Issue: <a href='https://github.com/kubeflow/mpi-operator/issues/229'>Add API reference docs to the website</a> "
      ],
      "text/plain": [
       "<IPython.core.display.HTML object>"
      ]
     },
     "metadata": {},
     "output_type": "display_data"
    },
    {
     "data": {
      "text/html": [
       "Issue: <a href='https://github.com/kubeflow/mpi-operator/issues/230'>Add CRD schema validation</a> "
      ],
      "text/plain": [
       "<IPython.core.display.HTML object>"
      ]
     },
     "metadata": {},
     "output_type": "display_data"
    },
    {
     "data": {
      "text/html": [
       "Issue: <a href='https://github.com/kubeflow/mpi-operator/issues/231'>Vulnerability scanning for docker images</a> "
      ],
      "text/plain": [
       "<IPython.core.display.HTML object>"
      ]
     },
     "metadata": {},
     "output_type": "display_data"
    },
    {
     "data": {
      "text/html": [
       "Issue: <a href='https://github.com/kubeflow/mpi-operator/issues/232'>Provide list of licenses used the dependencies</a> "
      ],
      "text/plain": [
       "<IPython.core.display.HTML object>"
      ]
     },
     "metadata": {},
     "output_type": "display_data"
    },
    {
     "data": {
      "text/html": [
       "Issue: <a href='https://github.com/kubeflow/mpi-operator/issues/233'>Add E2E tests</a> area/testing, priority/p1"
      ],
      "text/plain": [
       "<IPython.core.display.HTML object>"
      ]
     },
     "metadata": {},
     "output_type": "display_data"
    },
    {
     "data": {
      "text/html": [
       "Issue: <a href='https://github.com/kubeflow/mpi-operator/issues/234'>Multi version support</a> "
      ],
      "text/plain": [
       "<IPython.core.display.HTML object>"
      ]
     },
     "metadata": {},
     "output_type": "display_data"
    },
    {
     "data": {
      "text/html": [
       "Issue: <a href='https://github.com/kubeflow/mpi-operator/issues/235'>Add JSON logging</a> "
      ],
      "text/plain": [
       "<IPython.core.display.HTML object>"
      ]
     },
     "metadata": {},
     "output_type": "display_data"
    },
    {
     "data": {
      "text/html": [
       "Issue: <a href='https://github.com/kubeflow/mpi-operator/issues/236'>Continuous updating of Kustomize manifests</a> priority/p1"
      ],
      "text/plain": [
       "<IPython.core.display.HTML object>"
      ]
     },
     "metadata": {},
     "output_type": "display_data"
    },
    {
     "data": {
      "text/html": [
       "Issue: <a href='https://github.com/kubeflow/mxnet-operator/issues/72'>Change to follow kubeflow/common convention and reuse implementation</a> "
      ],
      "text/plain": [
       "<IPython.core.display.HTML object>"
      ]
     },
     "metadata": {},
     "output_type": "display_data"
    },
    {
     "data": {
      "text/html": [
       "Issue: <a href='https://github.com/kubeflow/pipelines/issues/3497'>[Deployment] Separate cluster scoped and namespace scoped resources</a> priority/p1, priority/p2"
      ],
      "text/plain": [
       "<IPython.core.display.HTML object>"
      ]
     },
     "metadata": {},
     "output_type": "display_data"
    },
    {
     "data": {
      "text/html": [
       "Issue: <a href='https://github.com/kubeflow/pipelines/issues/3499'>[Front end] [FR] Better error message for custom metric viz.</a> "
      ],
      "text/plain": [
       "<IPython.core.display.HTML object>"
      ]
     },
     "metadata": {},
     "output_type": "display_data"
    },
    {
     "data": {
      "text/html": [
       "Issue: <a href='https://github.com/kubeflow/pipelines/issues/3500'>[UX, MLMD] - Artifacts - grpc-message: no healthy upstream on Windows</a> kind/bug"
      ],
      "text/plain": [
       "<IPython.core.display.HTML object>"
      ]
     },
     "metadata": {},
     "output_type": "display_data"
    },
    {
     "data": {
      "text/html": [
       "Issue: <a href='https://github.com/kubeflow/pipelines/issues/3503'>Better local dev/test experience</a> priority/p2"
      ],
      "text/plain": [
       "<IPython.core.display.HTML object>"
      ]
     },
     "metadata": {},
     "output_type": "display_data"
    },
    {
     "data": {
      "text/html": [
       "Issue: <a href='https://github.com/kubeflow/pipelines/issues/3505'>TestInfra - Use KFP to test KFP</a> area/testing, priority/p2"
      ],
      "text/plain": [
       "<IPython.core.display.HTML object>"
      ]
     },
     "metadata": {},
     "output_type": "display_data"
    },
    {
     "data": {
      "text/html": [
       "Issue: <a href='https://github.com/kubeflow/pipelines/issues/3507'>Execution Cache does not cache executions that have no outputs</a> "
      ],
      "text/plain": [
       "<IPython.core.display.HTML object>"
      ]
     },
     "metadata": {},
     "output_type": "display_data"
    },
    {
     "data": {
      "text/html": [
       "Issue: <a href='https://github.com/kubeflow/pipelines/issues/3510'>Visualizations as components</a> "
      ],
      "text/plain": [
       "<IPython.core.display.HTML object>"
      ]
     },
     "metadata": {},
     "output_type": "display_data"
    },
    {
     "data": {
      "text/html": [
       "Issue: <a href='https://github.com/kubeflow/pipelines/issues/3513'>Multi-User Authorization: Add support for K8s RBAC via SubjectAccessReview</a> priority/p0, priority/p1"
      ],
      "text/plain": [
       "<IPython.core.display.HTML object>"
      ]
     },
     "metadata": {},
     "output_type": "display_data"
    },
    {
     "data": {
      "text/html": [
       "Issue: <a href='https://github.com/kubeflow/pipelines/issues/3515'>Tensorboard not working with k8s secrets</a> kind/bug"
      ],
      "text/plain": [
       "<IPython.core.display.HTML object>"
      ]
     },
     "metadata": {},
     "output_type": "display_data"
    },
    {
     "data": {
      "text/html": [
       "Issue: <a href='https://github.com/kubeflow/pipelines/issues/3516'>Support notification after a pipeline run done</a> "
      ],
      "text/plain": [
       "<IPython.core.display.HTML object>"
      ]
     },
     "metadata": {},
     "output_type": "display_data"
    },
    {
     "data": {
      "text/html": [
       "Issue: <a href='https://github.com/kubeflow/pipelines/issues/3519'>YAML serialization and deserialization seems to be _not completely awesome_</a> "
      ],
      "text/plain": [
       "<IPython.core.display.HTML object>"
      ]
     },
     "metadata": {},
     "output_type": "display_data"
    },
    {
     "data": {
      "text/html": [
       "Issue: <a href='https://github.com/kubeflow/pipelines/issues/3523'>client.schedule_pipeline not working with cron</a> kind/bug"
      ],
      "text/plain": [
       "<IPython.core.display.HTML object>"
      ]
     },
     "metadata": {},
     "output_type": "display_data"
    },
    {
     "data": {
      "text/html": [
       "Issue: <a href='https://github.com/kubeflow/pipelines/issues/3524'>Add `ExperimentUUID` to `jobs` table</a> "
      ],
      "text/plain": [
       "<IPython.core.display.HTML object>"
      ]
     },
     "metadata": {},
     "output_type": "display_data"
    },
    {
     "data": {
      "text/html": [
       "Issue: <a href='https://github.com/kubeflow/pipelines/issues/3525'>UX+Backend - Error messages might be pretty long and repetitive</a> "
      ],
      "text/plain": [
       "<IPython.core.display.HTML object>"
      ]
     },
     "metadata": {},
     "output_type": "display_data"
    },
    {
     "data": {
      "text/html": [
       "Issue: <a href='https://github.com/kubeflow/pipelines/issues/3526'>Backend - Reject invalid pipelines</a> "
      ],
      "text/plain": [
       "<IPython.core.display.HTML object>"
      ]
     },
     "metadata": {},
     "output_type": "display_data"
    },
    {
     "data": {
      "text/html": [
       "Issue: <a href='https://github.com/kubeflow/pipelines/issues/3532'>Presubmit e2e test moves forward even when api-server image fails to build</a> area/testing, priority/p0"
      ],
      "text/plain": [
       "<IPython.core.display.HTML object>"
      ]
     },
     "metadata": {},
     "output_type": "display_data"
    },
    {
     "data": {
      "text/html": [
       "Issue: <a href='https://github.com/kubeflow/pipelines/issues/3538'>Failing api-integration-tests</a> area/testing"
      ],
      "text/plain": [
       "<IPython.core.display.HTML object>"
      ]
     },
     "metadata": {},
     "output_type": "display_data"
    },
    {
     "data": {
      "text/html": [
       "Issue: <a href='https://github.com/kubeflow/pipelines/issues/3541'>AWS SageMaker component improvement</a> "
      ],
      "text/plain": [
       "<IPython.core.display.HTML object>"
      ]
     },
     "metadata": {},
     "output_type": "display_data"
    },
    {
     "data": {
      "text/html": [
       "Issue: <a href='https://github.com/kubeflow/pipelines/issues/3542'>ml-pipeline pod crashes when run pipeline called with empty parameters list and has_default_bucket = true</a> kind/bug"
      ],
      "text/plain": [
       "<IPython.core.display.HTML object>"
      ]
     },
     "metadata": {},
     "output_type": "display_data"
    },
    {
     "data": {
      "text/html": [
       "Issue: <a href='https://github.com/kubeflow/pipelines/issues/3545'>RBAC error for ml-pipeline-scheduledworkflow</a> kind/bug"
      ],
      "text/plain": [
       "<IPython.core.display.HTML object>"
      ]
     },
     "metadata": {},
     "output_type": "display_data"
    },
    {
     "data": {
      "text/html": [
       "Issue: <a href='https://github.com/kubeflow/pipelines/issues/3548'>GCS Path as input artifact</a> kind/bug"
      ],
      "text/plain": [
       "<IPython.core.display.HTML object>"
      ]
     },
     "metadata": {},
     "output_type": "display_data"
    },
    {
     "data": {
      "text/html": [
       "Issue: <a href='https://github.com/kubeflow/pipelines/issues/3550'>ml-pipeline memory leak and no HPA support</a> "
      ],
      "text/plain": [
       "<IPython.core.display.HTML object>"
      ]
     },
     "metadata": {},
     "output_type": "display_data"
    },
    {
     "data": {
      "text/html": [
       "Issue: <a href='https://github.com/kubeflow/pipelines/issues/3551'>Always show GettingStart page for Standalone</a> "
      ],
      "text/plain": [
       "<IPython.core.display.HTML object>"
      ]
     },
     "metadata": {},
     "output_type": "display_data"
    },
    {
     "data": {
      "text/html": [
       "Issue: <a href='https://github.com/kubeflow/pipelines/issues/3552'>[Metadata Writer] TypeError: create_new_execution_in_existing_context() got an unexpected keyword argument 'custom_properties'</a> kind/bug, priority/p0"
      ],
      "text/plain": [
       "<IPython.core.display.HTML object>"
      ]
     },
     "metadata": {},
     "output_type": "display_data"
    },
    {
     "data": {
      "text/html": [
       "Issue: <a href='https://github.com/kubeflow/pipelines/issues/3554'>[Multi-User] Deploy UI artifact service for each namespace</a> "
      ],
      "text/plain": [
       "<IPython.core.display.HTML object>"
      ]
     },
     "metadata": {},
     "output_type": "display_data"
    },
    {
     "data": {
      "text/html": [
       "Issue: <a href='https://github.com/kubeflow/pipelines/issues/3555'>While building the Frontend Dockerfile, it fails with compilation error</a> "
      ],
      "text/plain": [
       "<IPython.core.display.HTML object>"
      ]
     },
     "metadata": {},
     "output_type": "display_data"
    },
    {
     "data": {
      "text/html": [
       "Issue: <a href='https://github.com/kubeflow/pipelines/issues/3562'>Flaky integration test - StorageState mismatch</a> area/testing, priority/p0, priority/p1"
      ],
      "text/plain": [
       "<IPython.core.display.HTML object>"
      ]
     },
     "metadata": {},
     "output_type": "display_data"
    },
    {
     "data": {
      "text/html": [
       "Issue: <a href='https://github.com/kubeflow/pipelines/issues/3569'>pods running in kubeflow namespace</a> kind/bug"
      ],
      "text/plain": [
       "<IPython.core.display.HTML object>"
      ]
     },
     "metadata": {},
     "output_type": "display_data"
    },
    {
     "data": {
      "text/html": [
       "Issue: <a href='https://github.com/kubeflow/pipelines/issues/3570'>Example hello_world.py keeps pending.</a> kind/bug"
      ],
      "text/plain": [
       "<IPython.core.display.HTML object>"
      ]
     },
     "metadata": {},
     "output_type": "display_data"
    },
    {
     "data": {
      "text/html": [
       "Issue: <a href='https://github.com/kubeflow/pipelines/issues/3571'>pipeline visualization image build process is not moving further when try  \"RUN /usr/local/gcloud/google-cloud-sdk/install.sh\" instruction in docker file</a> "
      ],
      "text/plain": [
       "<IPython.core.display.HTML object>"
      ]
     },
     "metadata": {},
     "output_type": "display_data"
    },
    {
     "data": {
      "text/html": [
       "Issue: <a href='https://github.com/kubeflow/pipelines/issues/3575'>Support launching TensorBoard before Trainer done</a> "
      ],
      "text/plain": [
       "<IPython.core.display.HTML object>"
      ]
     },
     "metadata": {},
     "output_type": "display_data"
    },
    {
     "data": {
      "text/html": [
       "Issue: <a href='https://github.com/kubeflow/pipelines/issues/3576'>Client.wait_for_run_completion and \"Terminate\" in the UI</a> kind/bug, priority/p0"
      ],
      "text/plain": [
       "<IPython.core.display.HTML object>"
      ]
     },
     "metadata": {},
     "output_type": "display_data"
    },
    {
     "data": {
      "text/html": [
       "Issue: <a href='https://github.com/kubeflow/pipelines/issues/3577'>run-frontend-integration-tests failure</a> kind/bug"
      ],
      "text/plain": [
       "<IPython.core.display.HTML object>"
      ]
     },
     "metadata": {},
     "output_type": "display_data"
    },
    {
     "data": {
      "text/html": [
       "Issue: <a href='https://github.com/kubeflow/pipelines/issues/3579'>Request Jupyter Server Start/Stop</a> area/jupyter, priority/p2"
      ],
      "text/plain": [
       "<IPython.core.display.HTML object>"
      ]
     },
     "metadata": {},
     "output_type": "display_data"
    },
    {
     "data": {
      "text/html": [
       "Issue: <a href='https://github.com/kubeflow/pipelines/issues/3580'>MetadataWriter should stop recording non-KFP Argo pods</a> "
      ],
      "text/plain": [
       "<IPython.core.display.HTML object>"
      ]
     },
     "metadata": {},
     "output_type": "display_data"
    },
    {
     "data": {
      "text/html": [
       "Issue: <a href='https://github.com/kubeflow/pipelines/issues/3584'>Error when using KFP with argo workflow</a> "
      ],
      "text/plain": [
       "<IPython.core.display.HTML object>"
      ]
     },
     "metadata": {},
     "output_type": "display_data"
    },
    {
     "data": {
      "text/html": [
       "Issue: <a href='https://github.com/kubeflow/pipelines/issues/3589'>Generate release notes failed</a> "
      ],
      "text/plain": [
       "<IPython.core.display.HTML object>"
      ]
     },
     "metadata": {},
     "output_type": "display_data"
    },
    {
     "data": {
      "text/html": [
       "Issue: <a href='https://github.com/kubeflow/pipelines/issues/3590'>[FR] Exponential backoff support </a> "
      ],
      "text/plain": [
       "<IPython.core.display.HTML object>"
      ]
     },
     "metadata": {},
     "output_type": "display_data"
    },
    {
     "data": {
      "text/html": [
       "Issue: <a href='https://github.com/kubeflow/pipelines/issues/3591'>Feature Request : Allow runs to be filtered on run attributes like metrics, time, duration etc[UI]</a> "
      ],
      "text/plain": [
       "<IPython.core.display.HTML object>"
      ]
     },
     "metadata": {},
     "output_type": "display_data"
    },
    {
     "data": {
      "text/html": [
       "Issue: <a href='https://github.com/kubeflow/pipelines/issues/3594'>[Question] can we set priorityClassName or priority to pods in kubeflow pipeline?</a> "
      ],
      "text/plain": [
       "<IPython.core.display.HTML object>"
      ]
     },
     "metadata": {},
     "output_type": "display_data"
    },
    {
     "data": {
      "text/html": [
       "Issue: <a href='https://github.com/kubeflow/pipelines/issues/3595'>Metadata Writer should log ComponentSpec as execution custom property</a> "
      ],
      "text/plain": [
       "<IPython.core.display.HTML object>"
      ]
     },
     "metadata": {},
     "output_type": "display_data"
    },
    {
     "data": {
      "text/html": [
       "Issue: <a href='https://github.com/kubeflow/pipelines/issues/3596'>SDK: outputs appear to be getting truncated, at least when used in conditional tests</a> kind/bug"
      ],
      "text/plain": [
       "<IPython.core.display.HTML object>"
      ]
     },
     "metadata": {},
     "output_type": "display_data"
    },
    {
     "data": {
      "text/html": [
       "Issue: <a href='https://github.com/kubeflow/pipelines/issues/3597'>with standalone KFP 0.4 install, artifacts and executions not showing in UI</a> "
      ],
      "text/plain": [
       "<IPython.core.display.HTML object>"
      ]
     },
     "metadata": {},
     "output_type": "display_data"
    },
    {
     "data": {
      "text/html": [
       "Issue: <a href='https://github.com/kubeflow/pipelines/issues/3599'>[FR] Expose Argo retryStrategy</a> priority/p2"
      ],
      "text/plain": [
       "<IPython.core.display.HTML object>"
      ]
     },
     "metadata": {},
     "output_type": "display_data"
    },
    {
     "data": {
      "text/html": [
       "Issue: <a href='https://github.com/kubeflow/pipelines/issues/3600'>[Frontend pH] document how to run frontend-integration tests locally</a> "
      ],
      "text/plain": [
       "<IPython.core.display.HTML object>"
      ]
     },
     "metadata": {},
     "output_type": "display_data"
    },
    {
     "data": {
      "text/html": [
       "Issue: <a href='https://github.com/kubeflow/pipelines/issues/3601'>[Frontend pH] Inconsistency between building UI server locally and in docker</a> "
      ],
      "text/plain": [
       "<IPython.core.display.HTML object>"
      ]
     },
     "metadata": {},
     "output_type": "display_data"
    },
    {
     "data": {
      "text/html": [
       "Issue: <a href='https://github.com/kubeflow/pipelines/issues/3604'>TFX-KFP SDK: Rename KubeflowDagRunner as KubeflowDagCompiler</a> "
      ],
      "text/plain": [
       "<IPython.core.display.HTML object>"
      ]
     },
     "metadata": {},
     "output_type": "display_data"
    },
    {
     "data": {
      "text/html": [
       "Issue: <a href='https://github.com/kubeflow/pipelines/issues/3606'>TFX-KFP: created experiement which can't be deleted and stop upload another one</a> kind/bug"
      ],
      "text/plain": [
       "<IPython.core.display.HTML object>"
      ]
     },
     "metadata": {},
     "output_type": "display_data"
    },
    {
     "data": {
      "text/html": [
       "Issue: <a href='https://github.com/kubeflow/pipelines/issues/3607'>Getting pipeline run metrics from SDK</a> "
      ],
      "text/plain": [
       "<IPython.core.display.HTML object>"
      ]
     },
     "metadata": {},
     "output_type": "display_data"
    },
    {
     "data": {
      "text/html": [
       "Issue: <a href='https://github.com/kubeflow/pipelines/issues/3608'>FR: record time consuming data for profiling</a> priority/p2"
      ],
      "text/plain": [
       "<IPython.core.display.HTML object>"
      ]
     },
     "metadata": {},
     "output_type": "display_data"
    },
    {
     "data": {
      "text/html": [
       "Issue: <a href='https://github.com/kubeflow/pipelines/issues/3609'>cache-server in KFP 0.4: gets 'TLS handshake error', does not work properly</a> kind/bug"
      ],
      "text/plain": [
       "<IPython.core.display.HTML object>"
      ]
     },
     "metadata": {},
     "output_type": "display_data"
    },
    {
     "data": {
      "text/html": [
       "Issue: <a href='https://github.com/kubeflow/pipelines/issues/3611'>Connect to minikf via sdk</a> kind/bug"
      ],
      "text/plain": [
       "<IPython.core.display.HTML object>"
      ]
     },
     "metadata": {},
     "output_type": "display_data"
    },
    {
     "data": {
      "text/html": [
       "Issue: <a href='https://github.com/kubeflow/pipelines/issues/3612'>Multiple run termination option</a> "
      ],
      "text/plain": [
       "<IPython.core.display.HTML object>"
      ]
     },
     "metadata": {},
     "output_type": "display_data"
    },
    {
     "data": {
      "text/html": [
       "Issue: <a href='https://github.com/kubeflow/pipelines/issues/3613'>Support execution id placeholder in component.yaml</a> "
      ],
      "text/plain": [
       "<IPython.core.display.HTML object>"
      ]
     },
     "metadata": {},
     "output_type": "display_data"
    },
    {
     "data": {
      "text/html": [
       "Issue: <a href='https://github.com/kubeflow/pipelines/issues/3617'>Alibaba Cloud OSS storage support to save artifacts</a> "
      ],
      "text/plain": [
       "<IPython.core.display.HTML object>"
      ]
     },
     "metadata": {},
     "output_type": "display_data"
    },
    {
     "data": {
      "text/html": [
       "Issue: <a href='https://github.com/kubeflow/pipelines/issues/3618'>cache-deployer-deployment crashes due to missing role permissions</a> kind/bug"
      ],
      "text/plain": [
       "<IPython.core.display.HTML object>"
      ]
     },
     "metadata": {},
     "output_type": "display_data"
    },
    {
     "data": {
      "text/html": [
       "Issue: <a href='https://github.com/kubeflow/pytorch-operator/issues/267'>PyTorch Operator recognizes kubernetes cluster like single machine?</a> kind/question"
      ],
      "text/plain": [
       "<IPython.core.display.HTML object>"
      ]
     },
     "metadata": {},
     "output_type": "display_data"
    },
    {
     "data": {
      "text/html": [
       "Issue: <a href='https://github.com/kubeflow/pytorch-operator/issues/268'>[examples/smoke_dist] pytorch_job_sendrecv.yaml does not exist in the directory</a> "
      ],
      "text/plain": [
       "<IPython.core.display.HTML object>"
      ]
     },
     "metadata": {},
     "output_type": "display_data"
    },
    {
     "data": {
      "text/html": [
       "Issue: <a href='https://github.com/kubeflow/pytorch-operator/issues/269'>[examples/mnist]README.md instruction should be modify</a> "
      ],
      "text/plain": [
       "<IPython.core.display.HTML object>"
      ]
     },
     "metadata": {},
     "output_type": "display_data"
    },
    {
     "data": {
      "text/html": [
       "Issue: <a href='https://github.com/kubeflow/pytorch-operator/issues/270'>Rethink distributed Pytorch backoff retry</a> priority/p2"
      ],
      "text/plain": [
       "<IPython.core.display.HTML object>"
      ]
     },
     "metadata": {},
     "output_type": "display_data"
    },
    {
     "data": {
      "text/html": [
       "Issue: <a href='https://github.com/kubeflow/website/issues/1900'>Component Specification: How to produce output by value with a reusable component?</a> "
      ],
      "text/plain": [
       "<IPython.core.display.HTML object>"
      ]
     },
     "metadata": {},
     "output_type": "display_data"
    },
    {
     "data": {
      "text/html": [
       "Issue: <a href='https://github.com/kubeflow/website/issues/1903'>Istio in Kubeflow diagram is not accurate</a> "
      ],
      "text/plain": [
       "<IPython.core.display.HTML object>"
      ]
     },
     "metadata": {},
     "output_type": "display_data"
    },
    {
     "data": {
      "text/html": [
       "Issue: <a href='https://github.com/kubeflow/website/issues/1906'>Update docs to use v1.0.2</a> "
      ],
      "text/plain": [
       "<IPython.core.display.HTML object>"
      ]
     },
     "metadata": {},
     "output_type": "display_data"
    },
    {
     "data": {
      "text/html": [
       "Issue: <a href='https://github.com/kubeflow/website/issues/1911'>[PyTorchJob] Example document should be modified</a> "
      ],
      "text/plain": [
       "<IPython.core.display.HTML object>"
      ]
     },
     "metadata": {},
     "output_type": "display_data"
    },
    {
     "data": {
      "text/html": [
       "Issue: <a href='https://github.com/kubeflow/website/issues/1915'>[KFP] kubeflow stand alone deployment with vpc </a> priority/p2"
      ],
      "text/plain": [
       "<IPython.core.display.HTML object>"
      ]
     },
     "metadata": {},
     "output_type": "display_data"
    },
    {
     "data": {
      "text/html": [
       "Issue: <a href='https://github.com/kubeflow/website/issues/1917'>Step in Installing kustomize throws an error</a> area/kfctl"
      ],
      "text/plain": [
       "<IPython.core.display.HTML object>"
      ]
     },
     "metadata": {},
     "output_type": "display_data"
    },
    {
     "data": {
      "text/html": [
       "Issue: <a href='https://github.com/kubeflow/website/issues/1918'>Facing Issue while running mnist_gcp.ipynb</a> "
      ],
      "text/plain": [
       "<IPython.core.display.HTML object>"
      ]
     },
     "metadata": {},
     "output_type": "display_data"
    },
    {
     "data": {
      "text/html": [
       "Issue: <a href='https://github.com/kubeflow/website/issues/1922'>deploy.kubeflow.cloud not working</a> "
      ],
      "text/plain": [
       "<IPython.core.display.HTML object>"
      ]
     },
     "metadata": {},
     "output_type": "display_data"
    },
    {
     "data": {
      "text/html": [
       "Issue: <a href='https://github.com/kubeflow/website/issues/1924'>The current tool for API docs generation is unusable</a> "
      ],
      "text/plain": [
       "<IPython.core.display.HTML object>"
      ]
     },
     "metadata": {},
     "output_type": "display_data"
    },
    {
     "data": {
      "text/html": [
       "Issue: <a href='https://github.com/kubeflow/xgboost-operator/issues/44'>Graduate XGBoost Operator to v1</a> "
      ],
      "text/plain": [
       "<IPython.core.display.HTML object>"
      ]
     },
     "metadata": {},
     "output_type": "display_data"
    }
   ],
   "source": [
    "from IPython.core.display import display, HTML\n",
    "\n",
    "for i in range(recent_issues.shape[0]):\n",
    "    title = recent_issues.iloc[i][\"title\"]\n",
    "    url = recent_issues.iloc[i][\"html_url\"]\n",
    "    predicted_labels = target_labels[recent_labels[i,:]>0]\n",
    "    names = \", \".join(predicted_labels)\n",
    "    display(HTML(f\"Issue: <a href='{url}'>{title}</a> {names}\"))"
   ]
  },
  {
   "cell_type": "markdown",
   "metadata": {},
   "source": [
    "## Old Code\n",
    "\n",
    "* TODO(jlewi): Below is some of the original code for training with a pipeline and using fairing. I'm not sure whether that is worth keeping at this point\n",
    "  * It might be easier to just iterate on and train the model directly using a notebook.\n",
    "  * Model quality still doesn't seem good enough that it seems worth it to try to periodically retarin the model.\n",
    "  * Need to figure out to do with the class RepoMLP; I think the only code in RepoMLP not in the cells above is\n",
    "     1. Code to save the model\n",
    "     1. Code to log to metadata server\n"
   ]
  },
  {
   "cell_type": "code",
   "execution_count": 5,
   "metadata": {},
   "outputs": [],
   "source": [
    "# fairing:include-cell\n",
    "class RepoMLP(object):\n",
    "    \"\"\"RepoMLP is a helper class to work with scklearn multi-layer perceptron. \n",
    "    \n",
    "    The RepoMLP provides some wrapper code to help train the sklearn multi-layer perceptron in this case.\n",
    "    \n",
    "    TODO(jlewi): This is a wrapper around MLPWrapper which is a wrapper around \n",
    "    \"\"\"\n",
    "    def __init__(self,\n",
    "                 owner=None,\n",
    "                 repo=None,\n",
    "                 precision_threshold=0.7,\n",
    "                 recall_threshold=0.5,\n",
    "                 workspace_name='train',\n",
    "                 min_freq=25,\n",
    "                 activation='relu',\n",
    "                 alpha=0.0001,\n",
    "                 early_stopping=True,\n",
    "                 epsilon=1e-08,\n",
    "                 hidden_layer_sizes=(600,600),\n",
    "                 learning_rate='adaptive',\n",
    "                 learning_rate_init=0.001,\n",
    "                 max_iter=3000,\n",
    "                 momentum=0.9,\n",
    "                 n_iter_no_change=5,\n",
    "                 random_state=1234,\n",
    "                 solver='adam',\n",
    "                 validation_fraction=0.1):\n",
    "        self.precision_threshold = precision_threshold\n",
    "        self.recall_threshold = recall_threshold\n",
    "        self.min_freq = min_freq # for filtering labels\n",
    "        self.mlp_wrapper = None\n",
    "        self.clf = MLPClassifier(activation=activation,\n",
    "                                 alpha=alpha,\n",
    "                                 early_stopping=early_stopping,\n",
    "                                 epsilon=epsilon,\n",
    "                                 hidden_layer_sizes=hidden_layer_sizes,\n",
    "                                 learning_rate=learning_rate,\n",
    "                                 learning_rate_init=learning_rate_init,\n",
    "                                 max_iter=max_iter,\n",
    "                                 momentum=momentum,\n",
    "                                 n_iter_no_change=n_iter_no_change,\n",
    "                                 random_state=random_state,\n",
    "                                 solver=solver,\n",
    "                                 validation_fraction=validation_fraction)\n",
    "        self.all_labels = None\n",
    "        self.probability_thresholds = None\n",
    "        self.load_yaml(owner, repo)\n",
    "        self.exec = self.create_execution(workspace_name=workspace_name)\n",
    "\n",
    "    def load_yaml(self, owner, repo):\n",
    "        config = RepoConfig(owner, repo)\n",
    "        self.repo_owner = config.repo_owner\n",
    "        self.repo_name = config.repo_name\n",
    "\n",
    "        self.model_bucket_name = config.model_bucket_name\n",
    "        self.model_file = config.model_local_path\n",
    "        self.model_dest = config.model_gcs_path\n",
    "\n",
    "        self.labels_file = config.labels_local_path\n",
    "        self.labels_dest = config.labels_gcs_path\n",
    "\n",
    "        self.embeddings_bucket_name = config.embeddings_bucket_name\n",
    "        self.embeddings_file = config.embeddings_local_path\n",
    "        self.embeddings_dest = config.embeddings_gcs_path\n",
    "        \n",
    "        # TODO(chunhsiang): need to be able to train on multiple repos which\n",
    "        # should be defined in the yaml config\n",
    "        # for now, only train model on the repo installed\n",
    "        self.trained_repos = [f'{self.repo_owner}/{self.repo_name}']\n",
    "\n",
    "    # TODO(jlewi): Delete this code?\n",
    "    def download_embeddings_from_gcs(self):\n",
    "        storage_client = storage.Client()\n",
    "        bucket = storage_client.get_bucket(self.embeddings_bucket_name)\n",
    "        blob = bucket.get_blob(self.embeddings_dest)\n",
    "        with open(self.embeddings_file, 'wb') as f:\n",
    "            blob.download_to_file(f)\n",
    "\n",
    "    def load_training_data(self):\n",
    "        self.download_embeddings_from_gcs()\n",
    "        with open(self.embeddings_file, 'rb') as f:\n",
    "            data = dpickle.load(f)\n",
    "\n",
    "        # filter labels\n",
    "        c = Counter()\n",
    "        for lbls in data['labels']:\n",
    "            c.update(lbls)\n",
    "        self.all_labels = [x for x in c if c[x] >= self.min_freq]\n",
    "\n",
    "        X = []\n",
    "        y = []\n",
    "        for emb, lbls in zip(data['features'], data['labels']):\n",
    "            mask = [self.all_labels.index(x) for x in lbls if c[x] >= self.min_freq]\n",
    "            if mask == []:\n",
    "                continue\n",
    "            zer = np.zeros(len(self.all_labels))\n",
    "            zer[mask] = 1\n",
    "            y.append(zer)\n",
    "            X.append(emb)\n",
    "        return X, y\n",
    "\n",
    "    def train(self):\n",
    "        X, y = self.load_training_data()\n",
    "        self.mlp_wrapper = MLPWrapper(clf=self.clf,\n",
    "                                      precision_threshold=self.precision_threshold,\n",
    "                                      recall_threshold=self.recall_threshold)\n",
    "        # TODO(jlewi): find_probability_thresholds; splits the data into test and\n",
    "        # training sets and then calls fit. Why are we then calling fit again?\n",
    "        # Is this just because its using the whole dataset?\n",
    "        # get probability thresholds before `fit` because it overwrites classifier\n",
    "        self.mlp_wrapper.find_probability_thresholds(X, y)\n",
    "        self.probability_thresholds = self.mlp_wrapper.probability_thresholds\n",
    "        # train model using the whole data\n",
    "        self.mlp_wrapper.fit(X, y)\n",
    "        self.save_model()\n",
    "\n",
    "        # store model artifacts using kubeflow metadata\n",
    "        model_name = ','.join(sorted(self.trained_repos))\n",
    "        model_uri = f'gs://{self.model_bucket_name}/{self.model_dest}'\n",
    "        # put all the repo names as the label keys\n",
    "        model_labels = {r:'' for r in self.trained_repos}\n",
    "        self.exec.log_output(metadata.Model(\n",
    "            name=model_name,\n",
    "            uri=model_uri,\n",
    "            labels=model_labels))\n",
    "\n",
    "    def save_model(self):\n",
    "        self.mlp_wrapper.save_model(model_file=self.model_file)\n",
    "        # dump label columns for prediction\n",
    "        thresholds = {}\n",
    "        for i in self.probability_thresholds:\n",
    "            if self.probability_thresholds[i]:\n",
    "                thresholds[i] = float(self.probability_thresholds[i])\n",
    "            else:\n",
    "                thresholds[i] = None\n",
    "        label_dict = {\n",
    "            'labels': self.all_labels,\n",
    "            'probability_thresholds': thresholds\n",
    "        }\n",
    "        with open(self.labels_file, 'w') as f:\n",
    "            yaml.dump(label_dict, f)\n",
    "\n",
    "        self.upload_model_to_gcs()\n",
    "\n",
    "    def upload_model_to_gcs(self):\n",
    "        # upload model\n",
    "        storage_client = storage.Client()\n",
    "        bucket = storage_client.get_bucket(self.model_bucket_name)\n",
    "        blob = bucket.blob(self.model_dest)\n",
    "        blob.upload_from_filename(self.model_file)\n",
    "\n",
    "        # upload label columns\n",
    "        storage_client = storage.Client()\n",
    "        bucket = storage_client.get_bucket(self.model_bucket_name)\n",
    "        blob = bucket.blob(self.labels_dest)\n",
    "        blob.upload_from_filename(self.labels_file)\n",
    "\n",
    "    def create_execution(self, workspace_name):\n",
    "        \"\"\"\n",
    "        Return a metatdata execution object in a workspace and\n",
    "        a run for logging.\n",
    "        Args:\n",
    "          workspace_name: workspace name, str\n",
    "        \"\"\"\n",
    "        workspace = metadata.Workspace(\n",
    "            # connect to metadata-service in namesapce kubeflow in k8s cluster.\n",
    "            backend_url_prefix='metadata-service.kubeflow:8080',\n",
    "            name=workspace_name,\n",
    "            description='workspace for model training artifacts and executions')\n",
    "        \n",
    "        run = metadata.Run(\n",
    "            workspace=workspace,\n",
    "            name='run-' + datetime.utcnow().isoformat('T'))\n",
    "\n",
    "        return metadata.Execution(\n",
    "            name = 'execution-' + datetime.utcnow().isoformat('T'),\n",
    "            workspace=workspace,\n",
    "            run=run)"
   ]
  },
  {
   "cell_type": "markdown",
   "metadata": {},
   "source": [
    "## Run locally to test the code"
   ]
  },
  {
   "cell_type": "code",
   "execution_count": 3,
   "metadata": {},
   "outputs": [],
   "source": [
    "r = RepoMLP(workspace_name='ws1', owner='kubeflow', repo='examples')"
   ]
  },
  {
   "cell_type": "code",
   "execution_count": 4,
   "metadata": {},
   "outputs": [],
   "source": [
    "r.train()"
   ]
  },
  {
   "cell_type": "markdown",
   "metadata": {},
   "source": [
    "## Create entry point using fairing\n",
    "Kubeflow [Fairing](https://www.kubeflow.org/docs/fairing/) is a Python package that makes training and deploying machine learning models on Kubeflow easier.\n",
    "\n",
    "Here, we use the preprocessor in Kubeflow Fairing to convert a notebook to be a Python script and create an entry point for that script. After preprocessing the notebook, we can call the command in the command line like the following to run\n",
    "```\n",
    "$ python repo_mlp.py train\n",
    "```"
   ]
  },
  {
   "cell_type": "code",
   "execution_count": 5,
   "metadata": {},
   "outputs": [],
   "source": [
    "from fairing.preprocessors.converted_notebook import ConvertNotebookPreprocessorWithFire"
   ]
  },
  {
   "cell_type": "code",
   "execution_count": 6,
   "metadata": {},
   "outputs": [
    {
     "data": {
      "text/plain": [
       "[PosixPath('repo_mlp.py'), 'repo_config.py', 'mlp.py']"
      ]
     },
     "execution_count": 6,
     "metadata": {},
     "output_type": "execute_result"
    }
   ],
   "source": [
    "preprocessor = ConvertNotebookPreprocessorWithFire('RepoMLP')\n",
    "\n",
    "if not preprocessor.input_files:\n",
    "    preprocessor.input_files = set()\n",
    "input_files = ['mlp.py', 'repo_config.py']\n",
    "preprocessor.input_files =  set([os.path.normpath(f) for f in input_files])\n",
    "preprocessor.preprocess()"
   ]
  },
  {
   "cell_type": "code",
   "execution_count": null,
   "metadata": {},
   "outputs": [],
   "source": []
  }
 ],
 "metadata": {
  "kernelspec": {
   "display_name": "Python 3",
   "language": "python",
   "name": "python3"
  },
  "language_info": {
   "codemirror_mode": {
    "name": "ipython",
    "version": 3
   },
   "file_extension": ".py",
   "mimetype": "text/x-python",
   "name": "python",
   "nbconvert_exporter": "python",
   "pygments_lexer": "ipython3",
   "version": "3.6.9"
  }
 },
 "nbformat": 4,
 "nbformat_minor": 4
}
